{
  "nbformat": 4,
  "nbformat_minor": 2,
  "metadata": {
    "accelerator": "GPU",
    "colab": {
      "name": "DeepHSIClassification.ipynb",
      "provenance": [],
      "collapsed_sections": [
        "tAxf4dEgakM1"
      ],
      "toc_visible": true
    },
    "kernelspec": {
      "name": "python3",
      "display_name": "Python 3.8.10 64-bit ('.venv': venv)"
    },
    "language_info": {
      "codemirror_mode": {
        "name": "ipython",
        "version": 3
      },
      "file_extension": ".py",
      "mimetype": "text/x-python",
      "name": "python",
      "nbconvert_exporter": "python",
      "pygments_lexer": "ipython3",
      "version": "3.8.10"
    },
    "interpreter": {
      "hash": "4ceb193afc32d6373bcd90208dd4e2f53a134ecba4f4a2a17c3a709dde462eeb"
    }
  },
  "cells": [
    {
      "cell_type": "markdown",
      "source": [
        "# MULTIPLE - Hybrid Spectral Net"
      ],
      "metadata": {
        "id": "VNJ5YSjlipuZ"
      }
    },
    {
      "cell_type": "code",
      "execution_count": 1,
      "source": [
        "%%capture\n",
        "!python -m pip install -U abraia\n",
        "!python -m pip install wget\n",
        "\n",
        "import os\n",
        "\n",
        "if not os.getenv('ABRAIA_KEY'):\n",
        "   #@markdown <a href=\"https://abraia.me/console/settings\" target=\"_blank\">Get your ABRAIA_KEY</a>\n",
        "   abraia_key = ''  #@param {type: \"string\"}\n",
        "   %env ABRAIA_KEY=$abraia_key\n",
        "\n",
        "import numpy as np\n",
        "import pandas as pd\n",
        "import matplotlib.pyplot as plt\n",
        "from abraia import Multiple, hsi\n",
        "\n",
        "plt.rcParams['figure.figsize'] = [12, 6]\n",
        "plt.rcParams['figure.dpi'] = 100\n",
        " \n",
        "multiple = Multiple()"
      ],
      "outputs": [],
      "metadata": {
        "id": "U3pgl9pajiZZ",
        "cellView": "form"
      }
    },
    {
      "cell_type": "markdown",
      "source": [
        "## Data loading"
      ],
      "metadata": {
        "id": "qz4Fyz4QakMl"
      }
    },
    {
      "cell_type": "code",
      "execution_count": 2,
      "source": [
        "dataset = 'IP'\n",
        "X, y, class_names = hsi.load_dataset(dataset)\n",
        "X.shape, y.shape"
      ],
      "outputs": [
        {
          "output_type": "execute_result",
          "data": {
            "text/plain": [
              "((145, 145, 200), (145, 145))"
            ]
          },
          "metadata": {},
          "execution_count": 2
        }
      ],
      "metadata": {
        "id": "dZXbSukVakMm",
        "outputId": "97b82544-4919-4592-d5d9-a733e3baa4bd",
        "colab": {
          "base_uri": "https://localhost:8080/"
        }
      }
    },
    {
      "cell_type": "code",
      "execution_count": 3,
      "source": [
        "def padWithZeros(X, margin=2):\n",
        "    newX = np.zeros((X.shape[0] + 2 * margin, X.shape[1] + 2* margin, X.shape[2]))\n",
        "    newX[margin:X.shape[0] + margin, margin:X.shape[1] + margin, :] = X\n",
        "    return newX\n",
        "\n",
        "def createImageCubes(X, y, windowSize=5, removeZeroLabels=True):\n",
        "    margin = int((windowSize - 1) / 2)\n",
        "    zeroPaddedX = padWithZeros(X, margin=margin)\n",
        "    # split patches\n",
        "    patchesData = np.zeros((X.shape[0] * X.shape[1], windowSize, windowSize, X.shape[2]))\n",
        "    patchesLabels = np.zeros((X.shape[0] * X.shape[1]))\n",
        "    patchIndex = 0\n",
        "    for r in range(margin, zeroPaddedX.shape[0] - margin):\n",
        "        for c in range(margin, zeroPaddedX.shape[1] - margin):\n",
        "            patch = zeroPaddedX[r - margin:r + margin + 1, c - margin:c + margin + 1]   \n",
        "            patchesData[patchIndex, :, :, :] = patch\n",
        "            patchesLabels[patchIndex] = y[r-margin, c-margin]\n",
        "            patchIndex = patchIndex + 1\n",
        "    if removeZeroLabels:\n",
        "        patchesData = patchesData[patchesLabels>0,:,:,:]\n",
        "        patchesLabels = patchesLabels[patchesLabels>0]\n",
        "        patchesLabels -= 1\n",
        "    return patchesData, patchesLabels"
      ],
      "outputs": [],
      "metadata": {
        "id": "1OajF09gakMq"
      }
    },
    {
      "cell_type": "code",
      "execution_count": 4,
      "source": [
        "windowSize = 25\n",
        "K = 30 if dataset == 'IP' else 15\n",
        "X = hsi.principal_components(X, n_components=K)\n",
        "X, y = createImageCubes(X, y, windowSize=windowSize)\n",
        "X.shape, y.shape"
      ],
      "outputs": [
        {
          "output_type": "execute_result",
          "data": {
            "text/plain": [
              "((10249, 25, 25, 30), (10249,))"
            ]
          },
          "metadata": {},
          "execution_count": 4
        }
      ],
      "metadata": {
        "colab": {
          "base_uri": "https://localhost:8080/"
        },
        "id": "jYxRpY76akMs",
        "outputId": "c0eb1387-bf93-4a07-87da-145892160b1c"
      }
    },
    {
      "cell_type": "code",
      "execution_count": 5,
      "source": [
        "X_train, X_test, y_train, y_test = hsi.split_train_test(X, y, train_ratio=0.3)\n",
        "\n",
        "X_train = X_train.reshape(-1, windowSize, windowSize, K, 1)\n",
        "X_test = X_test.reshape(-1, windowSize, windowSize, K, 1)\n",
        "X_train.shape, y_train.shape"
      ],
      "outputs": [
        {
          "output_type": "execute_result",
          "data": {
            "text/plain": [
              "((3074, 25, 25, 30, 1), (3074,))"
            ]
          },
          "metadata": {},
          "execution_count": 5
        }
      ],
      "metadata": {
        "colab": {
          "base_uri": "https://localhost:8080/"
        },
        "id": "Z1V2RDJ_akMv",
        "outputId": "262d04da-b8aa-44e0-8278-3ac8dc7bd661"
      }
    },
    {
      "cell_type": "markdown",
      "source": [
        "## Model training and validation"
      ],
      "metadata": {
        "id": "UgylPCysakMw"
      }
    },
    {
      "cell_type": "code",
      "execution_count": 6,
      "source": [
        "from tensorflow import keras\n",
        "from keras.models import Model\n",
        "from keras.utils import np_utils\n",
        "from keras.layers import Input, Conv2D, Conv3D, Flatten, Dense, Reshape, Dropout\n",
        "\n",
        "def create_model(window_size, n_bands, output_units):\n",
        "    ## input layer\n",
        "    input_layer = Input((window_size, window_size, n_bands, 1))\n",
        "    ## convolutional layers\n",
        "    conv_layer1 = Conv3D(filters=8, kernel_size=(3, 3, 7), activation='relu')(input_layer)\n",
        "    conv_layer2 = Conv3D(filters=16, kernel_size=(3, 3, 5), activation='relu')(conv_layer1)\n",
        "    conv_layer3 = Conv3D(filters=32, kernel_size=(3, 3, 3), activation='relu')(conv_layer2)\n",
        "    conv_layer3 = Reshape((conv_layer3.shape[1], conv_layer3.shape[2], conv_layer3.shape[3] * conv_layer3.shape[4]))(conv_layer3)\n",
        "    conv_layer4 = Conv2D(filters=64, kernel_size=(3,3), activation='relu')(conv_layer3)\n",
        "    flatten_layer = Flatten()(conv_layer4)\n",
        "    ## fully connected layers\n",
        "    dense_layer1 = Dense(units=256, activation='relu')(flatten_layer)\n",
        "    dense_layer1 = Dropout(0.4)(dense_layer1)\n",
        "    dense_layer2 = Dense(units=128, activation='relu')(dense_layer1)\n",
        "    dense_layer2 = Dropout(0.4)(dense_layer2)\n",
        "    output_layer = Dense(units=output_units, activation='softmax')(dense_layer2)\n",
        "    # define the model with input layer and output layer\n",
        "    model = Model(inputs=input_layer, outputs=output_layer)\n",
        "    # compiling the model\n",
        "    adam = keras.optimizers.Adam(learning_rate=0.001, decay=1e-06)\n",
        "    model.compile(loss='categorical_crossentropy', optimizer=adam, metrics=['accuracy'])\n",
        "    return model\n",
        "\n",
        "def train_model(model, X_train, y_train, batch_size=256, epochs=50):\n",
        "    history = model.fit(x=X_train, y=np_utils.to_categorical(y_train), batch_size=batch_size, epochs=epochs)\n",
        "    return history\n",
        "\n",
        "def evaluate_model(model, X_test, y_test):\n",
        "    return np.argmax(model.predict(X_test), axis=1)\n",
        "\n",
        "def predict_model(model, X_pred):\n",
        "    return np.argmax(model.predict(X_pred), axis=1)\n",
        "\n",
        "def plot_train_history(history):\n",
        "    plt.ylim(0, 1.01)\n",
        "    plt.grid()\n",
        "    plt.plot(history.history['loss'])\n",
        "    plt.plot(history.history['accuracy'])\n",
        "    plt.ylabel('Loss')\n",
        "    plt.xlabel('Epochs')\n",
        "    plt.legend(['Training loss','Test accuracy'], loc='upper right')"
      ],
      "outputs": [],
      "metadata": {
        "id": "aQrD4-NsakMy"
      }
    },
    {
      "cell_type": "code",
      "execution_count": 7,
      "source": [
        "output_units = len(class_names) - 1\n",
        "model = create_model(windowSize, K, output_units)\n",
        "history = train_model(model, X_train, y_train)\n",
        "plot_train_history(history)"
      ],
      "outputs": [
        {
          "output_type": "stream",
          "name": "stdout",
          "text": [
            "Epoch 1/50\n",
            "13/13 [==============================] - 39s 519ms/step - loss: 2.6689 - accuracy: 0.1490\n",
            "Epoch 2/50\n",
            "13/13 [==============================] - 7s 505ms/step - loss: 2.4599 - accuracy: 0.2004\n",
            "Epoch 3/50\n",
            "13/13 [==============================] - 7s 505ms/step - loss: 2.2386 - accuracy: 0.2755\n",
            "Epoch 4/50\n",
            "13/13 [==============================] - 7s 508ms/step - loss: 1.9339 - accuracy: 0.3445\n",
            "Epoch 5/50\n",
            "13/13 [==============================] - 7s 507ms/step - loss: 1.6139 - accuracy: 0.4564\n",
            "Epoch 6/50\n",
            "13/13 [==============================] - 7s 513ms/step - loss: 1.2903 - accuracy: 0.5537\n",
            "Epoch 7/50\n",
            "13/13 [==============================] - 7s 513ms/step - loss: 0.9296 - accuracy: 0.6890\n",
            "Epoch 8/50\n",
            "13/13 [==============================] - 7s 515ms/step - loss: 0.6042 - accuracy: 0.7892\n",
            "Epoch 9/50\n",
            "13/13 [==============================] - 7s 511ms/step - loss: 0.4500 - accuracy: 0.8565\n",
            "Epoch 10/50\n",
            "13/13 [==============================] - 7s 513ms/step - loss: 0.2979 - accuracy: 0.9021\n",
            "Epoch 11/50\n",
            "13/13 [==============================] - 7s 514ms/step - loss: 0.2234 - accuracy: 0.9320\n",
            "Epoch 12/50\n",
            "13/13 [==============================] - 7s 514ms/step - loss: 0.1737 - accuracy: 0.9535\n",
            "Epoch 13/50\n",
            "13/13 [==============================] - 7s 512ms/step - loss: 0.1167 - accuracy: 0.9684\n",
            "Epoch 14/50\n",
            "13/13 [==============================] - 7s 514ms/step - loss: 0.0721 - accuracy: 0.9769\n",
            "Epoch 15/50\n",
            "13/13 [==============================] - 7s 511ms/step - loss: 0.0688 - accuracy: 0.9824\n",
            "Epoch 16/50\n",
            "13/13 [==============================] - 7s 512ms/step - loss: 0.0517 - accuracy: 0.9857\n",
            "Epoch 17/50\n",
            "13/13 [==============================] - 7s 511ms/step - loss: 0.0437 - accuracy: 0.9886\n",
            "Epoch 18/50\n",
            "13/13 [==============================] - 7s 511ms/step - loss: 0.0381 - accuracy: 0.9928\n",
            "Epoch 19/50\n",
            "13/13 [==============================] - 7s 511ms/step - loss: 0.0286 - accuracy: 0.9938\n",
            "Epoch 20/50\n",
            "13/13 [==============================] - 7s 514ms/step - loss: 0.0342 - accuracy: 0.9896\n",
            "Epoch 21/50\n",
            "13/13 [==============================] - 7s 512ms/step - loss: 0.0314 - accuracy: 0.9899\n",
            "Epoch 22/50\n",
            "13/13 [==============================] - 7s 515ms/step - loss: 0.0252 - accuracy: 0.9919\n",
            "Epoch 23/50\n",
            "13/13 [==============================] - 7s 512ms/step - loss: 0.0243 - accuracy: 0.9932\n",
            "Epoch 24/50\n",
            "13/13 [==============================] - 7s 513ms/step - loss: 0.0227 - accuracy: 0.9951\n",
            "Epoch 25/50\n",
            "13/13 [==============================] - 7s 512ms/step - loss: 0.0290 - accuracy: 0.9912\n",
            "Epoch 26/50\n",
            "13/13 [==============================] - 7s 513ms/step - loss: 0.0389 - accuracy: 0.9893\n",
            "Epoch 27/50\n",
            "13/13 [==============================] - 7s 511ms/step - loss: 0.0195 - accuracy: 0.9941\n",
            "Epoch 28/50\n",
            "13/13 [==============================] - 7s 511ms/step - loss: 0.0163 - accuracy: 0.9967\n",
            "Epoch 29/50\n",
            "13/13 [==============================] - 7s 511ms/step - loss: 0.0191 - accuracy: 0.9945\n",
            "Epoch 30/50\n",
            "13/13 [==============================] - 7s 513ms/step - loss: 0.0095 - accuracy: 0.9967\n",
            "Epoch 31/50\n",
            "13/13 [==============================] - 7s 512ms/step - loss: 0.0122 - accuracy: 0.9967\n",
            "Epoch 32/50\n",
            "13/13 [==============================] - 7s 512ms/step - loss: 0.0144 - accuracy: 0.9961\n",
            "Epoch 33/50\n",
            "13/13 [==============================] - 7s 511ms/step - loss: 0.0148 - accuracy: 0.9958\n",
            "Epoch 34/50\n",
            "13/13 [==============================] - 7s 509ms/step - loss: 0.0240 - accuracy: 0.9948\n",
            "Epoch 35/50\n",
            "13/13 [==============================] - 7s 514ms/step - loss: 0.0142 - accuracy: 0.9954\n",
            "Epoch 36/50\n",
            "13/13 [==============================] - 7s 513ms/step - loss: 0.0139 - accuracy: 0.9971\n",
            "Epoch 37/50\n",
            "13/13 [==============================] - 7s 511ms/step - loss: 0.0173 - accuracy: 0.9958\n",
            "Epoch 38/50\n",
            "13/13 [==============================] - 7s 511ms/step - loss: 0.0198 - accuracy: 0.9948\n",
            "Epoch 39/50\n",
            "13/13 [==============================] - 7s 511ms/step - loss: 0.0189 - accuracy: 0.9948\n",
            "Epoch 40/50\n",
            "13/13 [==============================] - 7s 513ms/step - loss: 0.0099 - accuracy: 0.9971\n",
            "Epoch 41/50\n",
            "13/13 [==============================] - 7s 510ms/step - loss: 0.0086 - accuracy: 0.9967\n",
            "Epoch 42/50\n",
            "13/13 [==============================] - 7s 513ms/step - loss: 0.0110 - accuracy: 0.9967\n",
            "Epoch 43/50\n",
            "13/13 [==============================] - 7s 513ms/step - loss: 0.0213 - accuracy: 0.9958\n",
            "Epoch 44/50\n",
            "13/13 [==============================] - 7s 511ms/step - loss: 0.0119 - accuracy: 0.9977\n",
            "Epoch 45/50\n",
            "13/13 [==============================] - 7s 511ms/step - loss: 0.0058 - accuracy: 0.9984\n",
            "Epoch 46/50\n",
            "13/13 [==============================] - 7s 513ms/step - loss: 0.0090 - accuracy: 0.9977\n",
            "Epoch 47/50\n",
            "13/13 [==============================] - 7s 511ms/step - loss: 0.0070 - accuracy: 0.9980\n",
            "Epoch 48/50\n",
            "13/13 [==============================] - 7s 513ms/step - loss: 0.0084 - accuracy: 0.9977\n",
            "Epoch 49/50\n",
            "13/13 [==============================] - 7s 509ms/step - loss: 0.0077 - accuracy: 0.9977\n",
            "Epoch 50/50\n",
            "13/13 [==============================] - 7s 510ms/step - loss: 0.0067 - accuracy: 0.9980\n"
          ]
        },
        {
          "output_type": "display_data",
          "data": {
            "text/plain": [
              "<Figure size 720x360 with 1 Axes>"
            ],
            "image/png": "[encoded data removed]"
          },
          "metadata": {
            "needs_background": "light"
          }
        }
      ],
      "metadata": {
        "id": "lG5pqEMyy4Wl",
        "outputId": "c8b37b55-3ee2-4220-aece-8bdfc03be2e1",
        "colab": {
          "base_uri": "https://localhost:8080/",
          "height": 1000
        }
      }
    },
    {
      "cell_type": "code",
      "execution_count": null,
      "source": [
        "from sklearn.metrics import classification_report, confusion_matrix, accuracy_score\n",
        "\n",
        "y_pred = evaluate_model(model, X_test, y_test)\n",
        "\n",
        "print('Overall accuracy', accuracy_score(y_test, y_pred))\n",
        "print(classification_report(y_test, y_pred, target_names=class_names[1:]))\n",
        "print(confusion_matrix(y_test, y_pred))"
      ],
      "outputs": [],
      "metadata": {}
    },
    {
      "cell_type": "markdown",
      "source": [
        "## Classification results"
      ],
      "metadata": {
        "id": "AVGNYrtLy4Wp"
      }
    },
    {
      "cell_type": "code",
      "execution_count": 9,
      "source": [
        "def Patch(data, height_index, width_index):\n",
        "    height_slice = slice(height_index, height_index+PATCH_SIZE)\n",
        "    width_slice = slice(width_index, width_index+PATCH_SIZE)\n",
        "    return data[height_slice, width_slice, :]"
      ],
      "outputs": [],
      "metadata": {
        "id": "S-OX8FZMakM3"
      }
    },
    {
      "cell_type": "code",
      "execution_count": 10,
      "source": [
        "X, y, class_names = hsi.load_dataset(dataset)\n",
        "\n",
        "width, height = y.shape[1], y.shape[0]\n",
        "PATCH_SIZE = windowSize\n",
        "numComponents = K"
      ],
      "outputs": [],
      "metadata": {
        "id": "TTOAmZOqakM4"
      }
    },
    {
      "cell_type": "code",
      "execution_count": 11,
      "source": [
        "X = hsi.principal_components(X, n_components=numComponents)\n",
        "X = padWithZeros(X, PATCH_SIZE//2)"
      ],
      "outputs": [],
      "metadata": {
        "id": "fq_T0sQ7akM4"
      }
    },
    {
      "cell_type": "code",
      "execution_count": 12,
      "source": [
        "# calculate the predicted image\n",
        "outputs = np.zeros((height,width))\n",
        "for i in range(height):\n",
        "    for j in range(width):\n",
        "        target = int(y[i, j])\n",
        "        if target == 0:\n",
        "            continue\n",
        "        else:\n",
        "            image_patch = Patch(X, i, j)\n",
        "            X_test_image = image_patch.reshape(1, image_patch.shape[0], image_patch.shape[1], image_patch.shape[2], 1).astype('float32')                                   \n",
        "            prediction = predict_model(model, X_test_image)\n",
        "            outputs[i][j] = prediction + 1\n",
        "outputs = outputs.astype(int)"
      ],
      "outputs": [],
      "metadata": {
        "id": "VTpCC5BQakM4"
      }
    },
    {
      "cell_type": "code",
      "execution_count": 13,
      "source": [
        "plt.figure(figsize=(16, 8))\n",
        "plt.subplot(121)\n",
        "plt.title('Ground truth')\n",
        "plt.imshow(y, cmap='nipy_spectral')\n",
        "plt.axis('off')\n",
        "plt.subplot(122)\n",
        "plt.title('Classification')\n",
        "plt.imshow(outputs, cmap='nipy_spectral')\n",
        "plt.axis('off')\n",
        "plt.show()"
      ],
      "outputs": [
        {
          "output_type": "display_data",
          "data": {
            "text/plain": [
              "<Figure size 1152x576 with 2 Axes>"
            ],
            "image/png": "[encoded data removed]"
          },
          "metadata": {
            "needs_background": "light"
          }
        }
      ],
      "metadata": {
        "colab": {
          "base_uri": "https://localhost:8080/",
          "height": 453
        },
        "id": "69jjWgjQakM5",
        "outputId": "9dc36762-f282-4d37-f535-68117b608e89"
      }
    }
  ]
}