{
  "nbformat": 4,
  "nbformat_minor": 2,
  "metadata": {
    "accelerator": "GPU",
    "colab": {
      "name": "DeepHSIClassification.ipynb",
      "provenance": [],
      "collapsed_sections": [
        "tAxf4dEgakM1"
      ],
      "toc_visible": true
    },
    "kernelspec": {
      "name": "python3",
      "display_name": "Python 3.8.10 64-bit ('.venv': venv)"
    },
    "language_info": {
      "codemirror_mode": {
        "name": "ipython",
        "version": 3
      },
      "file_extension": ".py",
      "mimetype": "text/x-python",
      "name": "python",
      "nbconvert_exporter": "python",
      "pygments_lexer": "ipython3",
      "version": "3.8.10"
    },
    "interpreter": {
      "hash": "4ceb193afc32d6373bcd90208dd4e2f53a134ecba4f4a2a17c3a709dde462eeb"
    }
  },
  "cells": [
    {
      "cell_type": "markdown",
      "source": [
        "# MULTIPLE - Hybrid Spectral Net"
      ],
      "metadata": {
        "id": "VNJ5YSjlipuZ"
      }
    },
    {
      "cell_type": "code",
      "execution_count": 1,
      "source": [
        "%%capture\n",
        "!python -m pip install abraia\n",
        "!python -m pip install wget\n",
        "\n",
        "import os\n",
        "if not os.getenv('ABRAIA_KEY'):\n",
        "   #@markdown <a href=\"https://abraia.me/console/settings\" target=\"_blank\">Get your ABRAIA_KEY</a>\n",
        "   abraia_key = ''  #@param {type: \"string\"}\n",
        "   %env ABRAIA_KEY=$abraia_key\n",
        "\n",
        "import numpy as np\n",
        "import pandas as pd\n",
        "import matplotlib.pyplot as plt\n",
        "from abraia import Multiple, hsi\n",
        "\n",
        "plt.rcParams['figure.figsize'] = [12, 6]\n",
        "plt.rcParams['figure.dpi'] = 100\n",
        " \n",
        "multiple = Multiple()"
      ],
      "outputs": [
        {
          "output_type": "error",
          "ename": "ModuleNotFoundError",
          "evalue": "No module named 'abraia'",
          "traceback": [
            "\u001b[0;31m---------------------------------------------------------------------------\u001b[0m",
            "\u001b[0;31mModuleNotFoundError\u001b[0m                       Traceback (most recent call last)",
            "\u001b[0;32m/tmp/ipykernel_31814/1087269524.py\u001b[0m in \u001b[0;36m<module>\u001b[0;34m\u001b[0m\n\u001b[1;32m     11\u001b[0m \u001b[0;32mimport\u001b[0m \u001b[0mpandas\u001b[0m \u001b[0;32mas\u001b[0m \u001b[0mpd\u001b[0m\u001b[0;34m\u001b[0m\u001b[0;34m\u001b[0m\u001b[0m\n\u001b[1;32m     12\u001b[0m \u001b[0;32mimport\u001b[0m \u001b[0mmatplotlib\u001b[0m\u001b[0;34m.\u001b[0m\u001b[0mpyplot\u001b[0m \u001b[0;32mas\u001b[0m \u001b[0mplt\u001b[0m\u001b[0;34m\u001b[0m\u001b[0;34m\u001b[0m\u001b[0m\n\u001b[0;32m---> 13\u001b[0;31m \u001b[0;32mfrom\u001b[0m \u001b[0mabraia\u001b[0m \u001b[0;32mimport\u001b[0m \u001b[0mMultiple\u001b[0m\u001b[0;34m,\u001b[0m \u001b[0mhsi\u001b[0m\u001b[0;34m\u001b[0m\u001b[0;34m\u001b[0m\u001b[0m\n\u001b[0m\u001b[1;32m     14\u001b[0m \u001b[0;34m\u001b[0m\u001b[0m\n\u001b[1;32m     15\u001b[0m \u001b[0mplt\u001b[0m\u001b[0;34m.\u001b[0m\u001b[0mrcParams\u001b[0m\u001b[0;34m[\u001b[0m\u001b[0;34m'figure.figsize'\u001b[0m\u001b[0;34m]\u001b[0m \u001b[0;34m=\u001b[0m \u001b[0;34m[\u001b[0m\u001b[0;36m12\u001b[0m\u001b[0;34m,\u001b[0m \u001b[0;36m6\u001b[0m\u001b[0;34m]\u001b[0m\u001b[0;34m\u001b[0m\u001b[0;34m\u001b[0m\u001b[0m\n",
            "\u001b[0;31mModuleNotFoundError\u001b[0m: No module named 'abraia'"
          ]
        }
      ],
      "metadata": {
        "id": "U3pgl9pajiZZ",
        "cellView": "form"
      }
    },
    {
      "cell_type": "markdown",
      "source": [
        "## Data loading"
      ],
      "metadata": {
        "id": "qz4Fyz4QakMl"
      }
    },
    {
      "cell_type": "code",
      "execution_count": null,
      "source": [
        "dataset = 'IP'\n",
        "X, y, class_names = hsi.load_dataset(dataset)\n",
        "\n",
        "print(f'HSI image size (width, height, bands): {X.shape}')\n",
        "summary = pd.DataFrame([{'class_name': label, 'samples': np.sum(y == val)} for val, label in enumerate(class_names)])\n",
        "summary.iloc[1:]"
      ],
      "outputs": [
        {
          "output_type": "execute_result",
          "data": {
            "text/plain": [
              "((145, 145, 200), (145, 145))"
            ]
          },
          "metadata": {},
          "execution_count": 2
        }
      ],
      "metadata": {
        "id": "dZXbSukVakMm",
        "colab": {
          "base_uri": "https://localhost:8080/"
        },
        "outputId": "2c3b192c-6af7-4205-8f9b-03be1bb162e0"
      }
    },
    {
      "cell_type": "code",
      "execution_count": null,
      "source": [
        "patch_size = 25\n",
        "K = 30 if dataset == 'IP' else 15\n",
        "X_train, X_test, y_train, y_test = hsi.generate_training_data(X, y, patch_size, K, train_ratio=0.5)\n",
        "X_train.shape, y_train.shape"
      ],
      "outputs": [
        {
          "output_type": "execute_result",
          "data": {
            "text/plain": [
              "((10512, 25, 25, 30, 1), (10512,))"
            ]
          },
          "metadata": {},
          "execution_count": 3
        }
      ],
      "metadata": {
        "colab": {
          "base_uri": "https://localhost:8080/"
        },
        "id": "jYxRpY76akMs",
        "outputId": "8d256d59-0e5f-4a73-9953-1b539e424cb7"
      }
    },
    {
      "cell_type": "markdown",
      "source": [
        "## Model training and validation"
      ],
      "metadata": {
        "id": "UgylPCysakMw"
      }
    },
    {
      "cell_type": "code",
      "execution_count": null,
      "source": [
        "model = hsi.create_model(patch_size, K, len(class_names))\n",
        "history = hsi.train_model(model, X_train, y_train)\n",
        "hsi.plot_train_history(history)"
      ],
      "outputs": [
        {
          "output_type": "stream",
          "name": "stdout",
          "text": [
            "Epoch 1/50\n",
            "42/42 [==============================] - 42s 218ms/step - loss: 2.3439 - accuracy: 0.4150\n",
            "Epoch 2/50\n",
            "42/42 [==============================] - 9s 214ms/step - loss: 1.8105 - accuracy: 0.5118\n",
            "Epoch 3/50\n",
            "42/42 [==============================] - 9s 217ms/step - loss: 1.4868 - accuracy: 0.5416\n",
            "Epoch 4/50\n",
            "42/42 [==============================] - 9s 219ms/step - loss: 1.1586 - accuracy: 0.6184\n",
            "Epoch 5/50\n",
            "42/42 [==============================] - 9s 222ms/step - loss: 0.9183 - accuracy: 0.6940\n",
            "Epoch 6/50\n",
            "42/42 [==============================] - 9s 226ms/step - loss: 0.6112 - accuracy: 0.7979\n",
            "Epoch 7/50\n",
            "42/42 [==============================] - 10s 230ms/step - loss: 0.4786 - accuracy: 0.8465\n",
            "Epoch 8/50\n",
            "42/42 [==============================] - 10s 232ms/step - loss: 0.3783 - accuracy: 0.8769\n",
            "Epoch 9/50\n",
            "42/42 [==============================] - 10s 230ms/step - loss: 0.3102 - accuracy: 0.8949\n",
            "Epoch 10/50\n",
            "42/42 [==============================] - 9s 226ms/step - loss: 0.3114 - accuracy: 0.8991\n",
            "Epoch 11/50\n",
            "42/42 [==============================] - 9s 223ms/step - loss: 0.2515 - accuracy: 0.9176\n",
            "Epoch 12/50\n",
            "42/42 [==============================] - 9s 223ms/step - loss: 0.2169 - accuracy: 0.9229\n",
            "Epoch 13/50\n",
            "42/42 [==============================] - 9s 223ms/step - loss: 0.2034 - accuracy: 0.9311\n",
            "Epoch 14/50\n",
            "42/42 [==============================] - 9s 223ms/step - loss: 0.1832 - accuracy: 0.9348\n",
            "Epoch 15/50\n",
            "42/42 [==============================] - 9s 224ms/step - loss: 0.1732 - accuracy: 0.9387\n",
            "Epoch 16/50\n",
            "42/42 [==============================] - 9s 225ms/step - loss: 0.1656 - accuracy: 0.9423\n",
            "Epoch 17/50\n",
            "42/42 [==============================] - 9s 225ms/step - loss: 0.1515 - accuracy: 0.9466\n",
            "Epoch 18/50\n",
            "42/42 [==============================] - 10s 227ms/step - loss: 0.1257 - accuracy: 0.9557\n",
            "Epoch 19/50\n",
            "42/42 [==============================] - 9s 226ms/step - loss: 0.1208 - accuracy: 0.9566\n",
            "Epoch 20/50\n",
            "42/42 [==============================] - 9s 226ms/step - loss: 0.1568 - accuracy: 0.9469\n",
            "Epoch 21/50\n",
            "42/42 [==============================] - 9s 225ms/step - loss: 0.1116 - accuracy: 0.9605\n",
            "Epoch 22/50\n",
            "42/42 [==============================] - 9s 225ms/step - loss: 0.1043 - accuracy: 0.9629\n",
            "Epoch 23/50\n",
            "42/42 [==============================] - 9s 224ms/step - loss: 0.0968 - accuracy: 0.9660\n",
            "Epoch 24/50\n",
            "42/42 [==============================] - 9s 224ms/step - loss: 0.1087 - accuracy: 0.9641\n",
            "Epoch 25/50\n",
            "42/42 [==============================] - 9s 225ms/step - loss: 0.0877 - accuracy: 0.9683\n",
            "Epoch 26/50\n",
            "42/42 [==============================] - 9s 225ms/step - loss: 0.0993 - accuracy: 0.9678\n",
            "Epoch 27/50\n",
            "42/42 [==============================] - 9s 226ms/step - loss: 0.0755 - accuracy: 0.9753\n",
            "Epoch 28/50\n",
            "42/42 [==============================] - 10s 226ms/step - loss: 0.0862 - accuracy: 0.9719\n",
            "Epoch 29/50\n",
            "42/42 [==============================] - 10s 227ms/step - loss: 0.0701 - accuracy: 0.9758\n",
            "Epoch 30/50\n",
            "42/42 [==============================] - 9s 225ms/step - loss: 0.0736 - accuracy: 0.9756\n",
            "Epoch 31/50\n",
            "42/42 [==============================] - 9s 226ms/step - loss: 0.1083 - accuracy: 0.9651\n",
            "Epoch 32/50\n",
            "42/42 [==============================] - 9s 225ms/step - loss: 0.0720 - accuracy: 0.9767\n",
            "Epoch 33/50\n",
            "42/42 [==============================] - 9s 225ms/step - loss: 0.0664 - accuracy: 0.9788\n",
            "Epoch 34/50\n",
            "42/42 [==============================] - 9s 224ms/step - loss: 0.0726 - accuracy: 0.9765\n",
            "Epoch 35/50\n",
            "42/42 [==============================] - 9s 225ms/step - loss: 0.0581 - accuracy: 0.9800\n",
            "Epoch 36/50\n",
            "42/42 [==============================] - 9s 225ms/step - loss: 0.0565 - accuracy: 0.9802\n",
            "Epoch 37/50\n",
            "42/42 [==============================] - 9s 224ms/step - loss: 0.0718 - accuracy: 0.9775\n",
            "Epoch 38/50\n",
            "42/42 [==============================] - 9s 224ms/step - loss: 0.0589 - accuracy: 0.9800\n",
            "Epoch 39/50\n",
            "42/42 [==============================] - 9s 225ms/step - loss: 0.0618 - accuracy: 0.9799\n",
            "Epoch 40/50\n",
            "42/42 [==============================] - 9s 224ms/step - loss: 0.0842 - accuracy: 0.9727\n",
            "Epoch 41/50\n",
            "42/42 [==============================] - 9s 225ms/step - loss: 0.1057 - accuracy: 0.9684\n",
            "Epoch 42/50\n",
            "42/42 [==============================] - 9s 224ms/step - loss: 0.0506 - accuracy: 0.9838\n",
            "Epoch 43/50\n",
            "42/42 [==============================] - 9s 225ms/step - loss: 0.0429 - accuracy: 0.9862\n",
            "Epoch 44/50\n",
            "42/42 [==============================] - 9s 225ms/step - loss: 0.0406 - accuracy: 0.9875\n",
            "Epoch 45/50\n",
            "42/42 [==============================] - 9s 225ms/step - loss: 0.0438 - accuracy: 0.9861\n",
            "Epoch 46/50\n",
            "42/42 [==============================] - 9s 226ms/step - loss: 0.0384 - accuracy: 0.9869\n",
            "Epoch 47/50\n",
            "42/42 [==============================] - 9s 225ms/step - loss: 0.0451 - accuracy: 0.9862\n",
            "Epoch 48/50\n",
            "42/42 [==============================] - 9s 224ms/step - loss: 0.0362 - accuracy: 0.9886\n",
            "Epoch 49/50\n",
            "42/42 [==============================] - 9s 225ms/step - loss: 0.0400 - accuracy: 0.9862\n",
            "Epoch 50/50\n",
            "42/42 [==============================] - 9s 225ms/step - loss: 0.0396 - accuracy: 0.9866\n"
          ]
        },
        {
          "output_type": "display_data",
          "data": {
            "text/plain": [
              "<Figure size 720x360 with 1 Axes>"
            ],
            "image/png": "[encoded data removed]"
          },
          "metadata": {
            "needs_background": "light"
          }
        }
      ],
      "metadata": {
        "id": "lG5pqEMyy4Wl",
        "colab": {
          "base_uri": "https://localhost:8080/",
          "height": 1000
        },
        "outputId": "218299f5-f8ee-4464-dd9e-242c71c2e1e8"
      }
    },
    {
      "cell_type": "code",
      "execution_count": null,
      "source": [
        "y_pred = hsi.evaluate_model(model, X_test, y_test)\n",
        "\n",
        "print('Overall accuracy', hsi.accuracy_score(y_test, y_pred))\n",
        "print(hsi.classification_report(y_test, y_pred, target_names=class_names))\n",
        "print(hsi.confusion_matrix(y_test, y_pred))"
      ],
      "outputs": [
        {
          "output_type": "stream",
          "name": "stdout",
          "text": [
            "Overall accuracy 0.9730809473984591\n",
            "                              precision    recall  f1-score   support\n",
            "\n",
            "                                   0.97      0.98      0.97      5388\n",
            "                     Alfalfa       1.00      0.83      0.90        23\n",
            "                 Corn-notill       0.98      0.96      0.97       714\n",
            "                Corn-mintill       0.98      0.97      0.97       415\n",
            "                        Corn       0.92      0.92      0.92       118\n",
            "               Grass-pasture       0.95      0.94      0.95       242\n",
            "                 Grass-trees       0.98      0.96      0.97       365\n",
            "         Grass-pasture-mowed       1.00      0.71      0.83        14\n",
            "               Hay-windrowed       1.00      0.99      1.00       239\n",
            "                        Oats       1.00      0.70      0.82        10\n",
            "              Soybean-notill       0.96      0.98      0.97       486\n",
            "             Soybean-mintill       0.98      0.99      0.98      1228\n",
            "               Soybean-clean       0.97      0.96      0.96       297\n",
            "                       Wheat       0.99      0.97      0.98       102\n",
            "                       Woods       1.00      0.95      0.97       633\n",
            "Buildings Grass Trees Drives       1.00      0.97      0.98       193\n",
            "          Stone Steel Towers       0.93      0.89      0.91        46\n",
            "\n",
            "                    accuracy                           0.97     10513\n",
            "                   macro avg       0.98      0.92      0.95     10513\n",
            "                weighted avg       0.97      0.97      0.97     10513\n",
            "\n",
            "[[5285    0   13   10    8   11    6    0    0    0   18   20   10    1\n",
            "     3    0    3]\n",
            " [   4   19    0    0    0    0    0    0    0    0    0    0    0    0\n",
            "     0    0    0]\n",
            " [  26    0  682    0    0    0    0    0    0    0    0    6    0    0\n",
            "     0    0    0]\n",
            " [  13    0    0  402    0    0    0    0    0    0    0    0    0    0\n",
            "     0    0    0]\n",
            " [  10    0    0    0  108    0    0    0    0    0    0    0    0    0\n",
            "     0    0    0]\n",
            " [  15    0    0    0    0  227    0    0    0    0    0    0    0    0\n",
            "     0    0    0]\n",
            " [  15    0    0    0    0    0  350    0    0    0    0    0    0    0\n",
            "     0    0    0]\n",
            " [   2    0    0    0    2    0    0   10    0    0    0    0    0    0\n",
            "     0    0    0]\n",
            " [   2    0    0    0    0    0    0    0  237    0    0    0    0    0\n",
            "     0    0    0]\n",
            " [   3    0    0    0    0    0    0    0    0    7    0    0    0    0\n",
            "     0    0    0]\n",
            " [   9    0    0    0    0    0    0    0    0    0  477    0    0    0\n",
            "     0    0    0]\n",
            " [  17    0    0    0    0    0    0    0    0    0    0 1211    0    0\n",
            "     0    0    0]\n",
            " [  12    0    0    0    0    0    0    0    0    0    0    0  285    0\n",
            "     0    0    0]\n",
            " [   3    0    0    0    0    0    0    0    0    0    0    0    0   99\n",
            "     0    0    0]\n",
            " [  30    0    0    0    0    0    0    0    0    0    0    0    0    0\n",
            "   603    0    0]\n",
            " [   6    0    0    0    0    0    0    0    0    0    0    0    0    0\n",
            "     0  187    0]\n",
            " [   5    0    0    0    0    0    0    0    0    0    0    0    0    0\n",
            "     0    0   41]]\n"
          ]
        }
      ],
      "metadata": {
        "id": "zrZKjA7Z2DHp",
        "outputId": "86a34f82-1597-4af0-eb81-2a17fab72b36",
        "colab": {
          "base_uri": "https://localhost:8080/"
        }
      }
    },
    {
      "cell_type": "markdown",
      "source": [
        "## Classification results"
      ],
      "metadata": {
        "id": "AVGNYrtLy4Wp"
      }
    },
    {
      "cell_type": "code",
      "execution_count": null,
      "source": [
        "output = hsi.predict_model(model, X, patch_size, K)"
      ],
      "outputs": [],
      "metadata": {
        "id": "VTpCC5BQakM4"
      }
    },
    {
      "cell_type": "code",
      "execution_count": null,
      "source": [
        "plt.subplot(121)\n",
        "plt.title('Ground truth')\n",
        "plt.imshow(y, cmap='nipy_spectral')\n",
        "plt.axis('off')\n",
        "plt.subplot(122)\n",
        "plt.title('Classification')\n",
        "plt.imshow(output, cmap='nipy_spectral')\n",
        "plt.axis('off')"
      ],
      "outputs": [
        {
          "output_type": "execute_result",
          "data": {
            "text/plain": [
              "(-0.5, 144.5, 144.5, -0.5)"
            ]
          },
          "metadata": {},
          "execution_count": 10
        },
        {
          "output_type": "display_data",
          "data": {
            "text/plain": [
              "<Figure size 864x432 with 2 Axes>"
            ],
            "image/png": "[encoded data removed]"
          },
          "metadata": {
            "needs_background": "light"
          }
        }
      ],
      "metadata": {
        "colab": {
          "base_uri": "https://localhost:8080/",
          "height": 368
        },
        "id": "69jjWgjQakM5",
        "outputId": "dee13cb8-4e5d-40bf-f8f5-befe767c58a8"
      }
    }
  ]
}