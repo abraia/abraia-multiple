{
  "cells": [
    {
      "cell_type": "markdown",
      "metadata": {
        "id": "VNJ5YSjlipuZ"
      },
      "source": [
        "# MULTIPLE - Hybrid Spectral Net"
      ]
    },
    {
      "cell_type": "code",
      "execution_count": 1,
      "metadata": {
        "cellView": "form",
        "id": "U3pgl9pajiZZ"
      },
      "outputs": [],
      "source": [
        "%%capture\n",
        "!python -m pip install abraia\n",
        "\n",
        "import os\n",
        "if not os.getenv('ABRAIA_ID') and not os.getenv('ABRAIA_KEY'):\n",
        "    #@markdown <a href=\"https://abraia.me/console/\" target=\"_blank\">Get your Abraia Id and Key</a>\n",
        "    abraia_id = ''  #@param {type: \"string\"}\n",
        "    abraia_key = ''  #@param {type: \"string\"}\n",
        "    %env ABRAIA_ID=$abraia_id\n",
        "    %env ABRAIA_KEY=$abraia_key\n",
        "\n",
        "import numpy as np\n",
        "import pandas as pd\n",
        "import matplotlib.pyplot as plt\n",
        "from abraia import Multiple, hsi\n",
        "\n",
        "plt.rcParams['figure.figsize'] = [12, 6]\n",
        "plt.rcParams['figure.dpi'] = 100\n",
        " \n",
        "multiple = Multiple()"
      ]
    },
    {
      "cell_type": "markdown",
      "metadata": {
        "id": "qz4Fyz4QakMl"
      },
      "source": [
        "## Data loading"
      ]
    },
    {
      "cell_type": "code",
      "execution_count": 2,
      "metadata": {
        "colab": {
          "base_uri": "https://localhost:8080/",
          "height": 569
        },
        "id": "dZXbSukVakMm",
        "outputId": "bd5ea907-c18f-4fdd-93b4-806c751ba0bb"
      },
      "outputs": [
        {
          "name": "stdout",
          "output_type": "stream",
          "text": [
            "HSI image size (width, height, bands): (145, 145, 200)\n"
          ]
        },
        {
          "data": {
            "text/html": [
              "<div>\n",
              "<style scoped>\n",
              "    .dataframe tbody tr th:only-of-type {\n",
              "        vertical-align: middle;\n",
              "    }\n",
              "\n",
              "    .dataframe tbody tr th {\n",
              "        vertical-align: top;\n",
              "    }\n",
              "\n",
              "    .dataframe thead th {\n",
              "        text-align: right;\n",
              "    }\n",
              "</style>\n",
              "<table border=\"1\" class=\"dataframe\">\n",
              "  <thead>\n",
              "    <tr style=\"text-align: right;\">\n",
              "      <th></th>\n",
              "      <th>class_name</th>\n",
              "      <th>samples</th>\n",
              "    </tr>\n",
              "  </thead>\n",
              "  <tbody>\n",
              "    <tr>\n",
              "      <th>1</th>\n",
              "      <td>Alfalfa</td>\n",
              "      <td>46</td>\n",
              "    </tr>\n",
              "    <tr>\n",
              "      <th>2</th>\n",
              "      <td>Corn-notill</td>\n",
              "      <td>1428</td>\n",
              "    </tr>\n",
              "    <tr>\n",
              "      <th>3</th>\n",
              "      <td>Corn-mintill</td>\n",
              "      <td>830</td>\n",
              "    </tr>\n",
              "    <tr>\n",
              "      <th>4</th>\n",
              "      <td>Corn</td>\n",
              "      <td>237</td>\n",
              "    </tr>\n",
              "    <tr>\n",
              "      <th>5</th>\n",
              "      <td>Grass-pasture</td>\n",
              "      <td>483</td>\n",
              "    </tr>\n",
              "    <tr>\n",
              "      <th>6</th>\n",
              "      <td>Grass-trees</td>\n",
              "      <td>730</td>\n",
              "    </tr>\n",
              "    <tr>\n",
              "      <th>7</th>\n",
              "      <td>Grass-pasture-mowed</td>\n",
              "      <td>28</td>\n",
              "    </tr>\n",
              "    <tr>\n",
              "      <th>8</th>\n",
              "      <td>Hay-windrowed</td>\n",
              "      <td>478</td>\n",
              "    </tr>\n",
              "    <tr>\n",
              "      <th>9</th>\n",
              "      <td>Oats</td>\n",
              "      <td>20</td>\n",
              "    </tr>\n",
              "    <tr>\n",
              "      <th>10</th>\n",
              "      <td>Soybean-notill</td>\n",
              "      <td>972</td>\n",
              "    </tr>\n",
              "    <tr>\n",
              "      <th>11</th>\n",
              "      <td>Soybean-mintill</td>\n",
              "      <td>2455</td>\n",
              "    </tr>\n",
              "    <tr>\n",
              "      <th>12</th>\n",
              "      <td>Soybean-clean</td>\n",
              "      <td>593</td>\n",
              "    </tr>\n",
              "    <tr>\n",
              "      <th>13</th>\n",
              "      <td>Wheat</td>\n",
              "      <td>205</td>\n",
              "    </tr>\n",
              "    <tr>\n",
              "      <th>14</th>\n",
              "      <td>Woods</td>\n",
              "      <td>1265</td>\n",
              "    </tr>\n",
              "    <tr>\n",
              "      <th>15</th>\n",
              "      <td>Buildings Grass Trees Drives</td>\n",
              "      <td>386</td>\n",
              "    </tr>\n",
              "    <tr>\n",
              "      <th>16</th>\n",
              "      <td>Stone Steel Towers</td>\n",
              "      <td>93</td>\n",
              "    </tr>\n",
              "  </tbody>\n",
              "</table>\n",
              "</div>"
            ],
            "text/plain": [
              "                      class_name  samples\n",
              "1                        Alfalfa       46\n",
              "2                    Corn-notill     1428\n",
              "3                   Corn-mintill      830\n",
              "4                           Corn      237\n",
              "5                  Grass-pasture      483\n",
              "6                    Grass-trees      730\n",
              "7            Grass-pasture-mowed       28\n",
              "8                  Hay-windrowed      478\n",
              "9                           Oats       20\n",
              "10                Soybean-notill      972\n",
              "11               Soybean-mintill     2455\n",
              "12                 Soybean-clean      593\n",
              "13                         Wheat      205\n",
              "14                         Woods     1265\n",
              "15  Buildings Grass Trees Drives      386\n",
              "16            Stone Steel Towers       93"
            ]
          },
          "execution_count": 2,
          "metadata": {},
          "output_type": "execute_result"
        }
      ],
      "source": [
        "dataset = 'IP'\n",
        "X, y, class_names = hsi.load_dataset(dataset)\n",
        "\n",
        "print(f'HSI image size (width, height, bands): {X.shape}')\n",
        "summary = pd.DataFrame([{'class_name': label, 'samples': np.sum(y == val)} for val, label in enumerate(class_names)])\n",
        "summary.iloc[1:]"
      ]
    },
    {
      "cell_type": "markdown",
      "metadata": {
        "id": "UgylPCysakMw"
      },
      "source": [
        "## Model training and validation"
      ]
    },
    {
      "cell_type": "code",
      "execution_count": null,
      "metadata": {
        "id": "lG5pqEMyy4Wl"
      },
      "outputs": [],
      "source": [
        "patch_size = 25\n",
        "K = 30 if dataset == 'IP' else 15\n",
        "\n",
        "model = hsi.create_model('hsn', (patch_size, patch_size, K), len(class_names))\n",
        "y_test, y_pred = model.train(X, y, train_ratio=0.5, epochs=20)\n",
        "model.plot_history()\n",
        "\n",
        "print('Overall accuracy', hsi.accuracy_score(y_test, y_pred))\n",
        "print(hsi.classification_report(y_test, y_pred, target_names=class_names))\n",
        "print(hsi.confusion_matrix(y_test, y_pred))"
      ]
    },
    {
      "cell_type": "markdown",
      "metadata": {
        "id": "AVGNYrtLy4Wp"
      },
      "source": [
        "## Classification results"
      ]
    },
    {
      "cell_type": "code",
      "execution_count": 6,
      "metadata": {
        "id": "VTpCC5BQakM4"
      },
      "outputs": [],
      "source": [
        "output = model.predict(X)"
      ]
    },
    {
      "cell_type": "code",
      "execution_count": 7,
      "metadata": {
        "colab": {
          "base_uri": "https://localhost:8080/",
          "height": 216
        },
        "id": "69jjWgjQakM5",
        "outputId": "bfa85896-169a-4a21-b803-adfcc46e09d8"
      },
      "outputs": [
        {
          "data": {
            "text/plain": [
              "(-0.5, 144.5, 144.5, -0.5)"
            ]
          },
          "execution_count": 7,
          "metadata": {},
          "output_type": "execute_result"
        },
        {
          "data": {
            "image/png": "[encoded data removed]",
            "text/plain": [
              "<Figure size 432x288 with 2 Axes>"
            ]
          },
          "metadata": {
            "needs_background": "light"
          },
          "output_type": "display_data"
        }
      ],
      "source": [
        "hsi.plot_images([y, output], ['Ground truth', 'Classification'])"
      ]
    }
  ],
  "metadata": {
    "accelerator": "GPU",
    "colab": {
      "collapsed_sections": [
        "tAxf4dEgakM1"
      ],
      "name": "DeepHSIClassification.ipynb",
      "provenance": []
    },
    "interpreter": {
      "hash": "4ceb193afc32d6373bcd90208dd4e2f53a134ecba4f4a2a17c3a709dde462eeb"
    },
    "kernelspec": {
      "display_name": "Python 3.8.10 64-bit ('.venv': venv)",
      "name": "python3"
    },
    "language_info": {
      "codemirror_mode": {
        "name": "ipython",
        "version": 3
      },
      "file_extension": ".py",
      "mimetype": "text/x-python",
      "name": "python",
      "nbconvert_exporter": "python",
      "pygments_lexer": "ipython3",
      "version": "3.8.10"
    }
  },
  "nbformat": 4,
  "nbformat_minor": 0
}
