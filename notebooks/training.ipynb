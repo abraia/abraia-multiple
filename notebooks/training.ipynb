{
  "cells": [
    {
      "cell_type": "code",
      "execution_count": null,
      "metadata": {
        "cellView": "form",
        "id": "OTztNYjoEvTr"
      },
      "outputs": [],
      "source": [
        "%%capture\n",
        "#@markdown # DeepLab training\n",
        "!python -m pip install onnx\n",
        "!python -m pip install abraia\n",
        "!python -m pip install ultralytics\n",
        "\n",
        "import os\n",
        "if not os.getenv('ABRAIA_ID') and not os.getenv('ABRAIA_KEY'):\n",
        "    abraia_id = ''  #@param {type: \"string\"}\n",
        "    abraia_key = ''  #@param {type: \"string\"}\n",
        "    %env ABRAIA_ID=$abraia_id\n",
        "    %env ABRAIA_KEY=$abraia_key\n",
        "\n",
        "from abraia import Multiple\n",
        "\n",
        "multiple = Multiple()"
      ]
    },
    {
      "cell_type": "code",
      "execution_count": null,
      "metadata": {
        "cellView": "form",
        "colab": {
          "base_uri": "https://localhost:8080/",
          "height": 538,
          "referenced_widgets": [
            "7afbb96684bb429cab8cc2737fa0c54f",
            "5e271890a092421591008d15792c4082",
            "c2821b3980d2499fb30dde207505c939",
            "235868cbbf9049c3bfdbbde52fcf89e6",
            "ef895fa6ad9e4f91bee227feb37c6cef",
            "2464ce4d7c4643528367d74fe21aeb8b",
            "8301217d8eac4f1ba4b773a4ad76e97b",
            "569df428d0bd4287ac4345476c85bf17",
            "581181c8b60c410f8b4e4b14cfce3209",
            "a4b66399de18436692fe6073ea5b79af",
            "3caeddc2150c4d2089371b426879d4aa",
            "efbc0839b17341f7913bbd5b11fa8068",
            "cb354c258b534da2ad47df992f5d2c99",
            "58fc7775cb13417da7ef2ec6c56f6a66",
            "750cb6b5a7ce434382ce409866e2c15c",
            "0117c49614834b0089cd5730028d22f2",
            "a430d37032784975b55716bef88b8f6b",
            "550c6eadb20749e8ae1a8de956dc65d0",
            "9886a1dab10d4a80b10f329e93043971",
            "5adda18b96cd40be9b99187c43cd3a48",
            "7fd0876dca2846e594a996466b048124",
            "0ad82e36bd564a969f2d34bc52a18120",
            "3fd2a8d4d7dc411bb6ba808f2c0724c7",
            "0259c83606b845879db12d29d50051a7",
            "6a60fd8e6c64419ab7e6f6d8b2d30cd9"
          ]
        },
        "id": "LX2njgUxUxB-",
        "outputId": "30acae7c-b585-446d-e80a-5c64c6548784"
      },
      "outputs": [
        {
          "data": {
            "application/vnd.jupyter.widget-view+json": {
              "model_id": "7afbb96684bb429cab8cc2737fa0c54f",
              "version_major": 2,
              "version_minor": 0
            },
            "text/plain": [
              "VBox(children=(Dropdown(description='Project', options=('camera', 'circles', 'edge', 'final-demo', 'hymenopter…"
            ]
          },
          "metadata": {},
          "output_type": "display_data"
        }
      ],
      "source": [
        "from logging.config import valid_ident\n",
        "#@markdown ## Dashboard\n",
        "\n",
        "import json\n",
        "import glob\n",
        "import shutil\n",
        "import itertools\n",
        "from PIL import Image\n",
        "from tqdm.contrib.concurrent import process_map\n",
        "from sklearn.model_selection import train_test_split\n",
        "\n",
        "def load_projects():\n",
        "    folders = multiple.list_files()[1]\n",
        "    return [folder['name'] for folder in folders if folder['name'] not in ('export', '.export')]\n",
        "\n",
        "def load_annotations(dataset):\n",
        "    try:\n",
        "        annotations = multiple.load_json(f\"{dataset}/annotations.json\")\n",
        "        for annotation in annotations:\n",
        "            annotation['path'] = f\"{dataset}/{annotation['filename']}\"\n",
        "        return annotations\n",
        "    except:\n",
        "        return []\n",
        "\n",
        "def load_labels(annotations):\n",
        "    labels = []\n",
        "    for annotation in annotations:\n",
        "        for object in annotation.get('objects', []):\n",
        "            label = object.get('label')\n",
        "            if label and label not in labels:\n",
        "                labels.append(label)\n",
        "    return list(set(labels))\n",
        "\n",
        "def load_task(annotations):\n",
        "    label, box, polygon = False, False, False\n",
        "    for annotation in annotations:\n",
        "        for object in annotation.get('objects', []):\n",
        "            if 'polygon' in object:\n",
        "                polygon = True\n",
        "            elif 'box' in object:\n",
        "                box = True\n",
        "            elif 'label' in object:\n",
        "                label = True\n",
        "    if polygon:\n",
        "        return 'segment'\n",
        "    if box:\n",
        "        return 'detect'\n",
        "    if label:\n",
        "        return 'classify'\n",
        "\n",
        "def download_file(path, folder):\n",
        "    dest = os.path.join(folder, os.path.basename(path))\n",
        "    if not os.path.exists(dest):\n",
        "        multiple.download_file(path, dest)\n",
        "    return dest\n",
        "\n",
        "def save_annotation(annotation, folder, classes, task):\n",
        "    if task == 'classify':\n",
        "        for object in annotation.get('objects', []):\n",
        "            label = object.get('label')\n",
        "            if label:\n",
        "                src = os.path.join(folder, annotation['filename'])\n",
        "                dest = os.path.join(folder, label, annotation['filename'])\n",
        "                shutil.move(src, dest)\n",
        "    else:\n",
        "        im = Image.open(os.path.join(folder, 'images', annotation['filename']))\n",
        "        label_lines = []\n",
        "        for object in annotation.get('objects', []):\n",
        "            label, bbox, cords = object.get('label'), object.get('box'), object.get('polygon')\n",
        "            # Convert polygon or box to yolo format\n",
        "            label_line = ''\n",
        "            if task == 'segment' and cords:\n",
        "                label_line = f\"{classes.index(label)} \" + ' '.join([f\"{cord[0] / im.width} {cord[1] / im.height}\" for cord in cords])\n",
        "            elif task == 'detect' and bbox:\n",
        "                label_line = f\"{classes.index(label)} {(bbox[0] + bbox[2] / 2) / im.width} {(bbox[1] + bbox[3] / 2) / im.height} {bbox[2] / im.width} {bbox[3] / im.height}\"\n",
        "            elif task == 'classify':\n",
        "                label_line = f\"{classes.index(label)}\"\n",
        "            label_lines.append(label_line)\n",
        "        label_path = os.path.join(folder, 'labels',  f\"{os.path.splitext(annotation['filename'])[0]}.txt\")\n",
        "        with open(label_path, 'w') as f:\n",
        "            f.write('\\n'.join(label_lines))\n",
        "\n",
        "def save_data(annotations, folder, classes, task):\n",
        "    if (task == 'classify'):\n",
        "        os.makedirs(os.path.join(folder), exist_ok=True)\n",
        "        paths = [annotation['path'] for annotation in annotations]\n",
        "        process_map(download_file, paths, itertools.repeat(folder), max_workers=5)\n",
        "        for label in classes:\n",
        "            os.makedirs(os.path.join(folder, label), exist_ok=True)\n",
        "        for annotation in annotations:\n",
        "            save_annotation(annotation, folder, classes, task)\n",
        "    else:\n",
        "        os.makedirs(os.path.join(folder, 'images'), exist_ok=True)\n",
        "        paths = [annotation['path'] for annotation in annotations]\n",
        "        process_map(download_file, paths, itertools.repeat(os.path.join(folder, 'images')), max_workers=5)\n",
        "        os.makedirs(os.path.join(folder, 'labels'), exist_ok=True)\n",
        "        for annotation in annotations:\n",
        "            save_annotation(annotation, folder, classes, task)\n",
        "\n",
        "def save_config(dataset, classes):\n",
        "    yaml_content = f'''\n",
        "    train: {os.path.join(os.getcwd(), dataset, 'train/images')}\n",
        "    val: {os.path.join(os.getcwd(), dataset, 'val/images')}\n",
        "    test: {os.path.join(os.getcwd(), dataset, 'test/images')}\n",
        "    names: {classes}\n",
        "    '''\n",
        "    path = os.path.join(dataset, 'data.yaml')\n",
        "    with open(path, 'w') as f:\n",
        "        f.write(yaml_content)\n",
        "\n",
        "def split_dataset(annotations):\n",
        "    train, test = train_test_split(annotations, test_size=0.3)\n",
        "    val, test = train_test_split(test, test_size=0.5)\n",
        "    return train, val, test\n",
        "\n",
        "def create_dataset(dataset, task, classes):\n",
        "    annotations = load_annotations(dataset)\n",
        "    train, val, test = split_dataset(annotations)\n",
        "    data_annotations = {'train': train, 'val': val, 'test': test}\n",
        "    for x in ['train', 'val', 'test']:\n",
        "        save_data(data_annotations[x], f\"{dataset}/{x}\", classes, task)\n",
        "    save_config(dataset, classes)\n",
        "\n",
        "\n",
        "# TORCH model\n",
        "\n",
        "import torch\n",
        "from torchvision import transforms\n",
        "from abraia import torch as t\n",
        "\n",
        "def t_create_dataset(dataset):\n",
        "    imgsz = 224\n",
        "    # Data augmentation and normalization for training\n",
        "    # Just normalization for validation\n",
        "    data_transforms = {\n",
        "        'train': transforms.Compose([\n",
        "            transforms.RandomResizedCrop(imgsz),\n",
        "            transforms.RandomHorizontalFlip(),\n",
        "            transforms.ToTensor(),\n",
        "            transforms.Normalize([0.485, 0.456, 0.406], [0.229, 0.224, 0.225])\n",
        "        ]),\n",
        "        'val': transforms.Compose([\n",
        "            transforms.Resize(256),\n",
        "            transforms.CenterCrop(imgsz),\n",
        "            transforms.ToTensor(),\n",
        "            transforms.Normalize([0.485, 0.456, 0.406], [0.229, 0.224, 0.225])\n",
        "        ]),\n",
        "    }\n",
        "    image_datasets = {x: t.Dataset(os.path.join(dataset), data_transforms[x]) for x in ['train', 'val']}\n",
        "    # image_datasets = {x: t.Dataset(os.path.join(dataset, x), data_transforms[x]) for x in ['train', 'val']}\n",
        "    dataloaders = {x: torch.utils.data.DataLoader(image_datasets[x], batch_size=8, shuffle=True, num_workers=4) for x in ['train', 'val']}\n",
        "    class_names = image_datasets['train'].classes\n",
        "    return dataloaders, class_names\n",
        "\n",
        "def t_train_model(dataloaders, class_names):\n",
        "    model_conv = t.create_model(class_names)\n",
        "    model = t.train_model(model_conv, dataloaders, num_epochs=25)\n",
        "    return model\n",
        "\n",
        "def t_save_model(model, model_name, dataset, classes):\n",
        "    imgsz = 224\n",
        "    t.export_onnx(f\"{dataset}/{model_name}.onnx\", model)\n",
        "    multiple.save_json(f\"{dataset}/{model_name}.json\", {'inputShape': [1, 3, imgsz, imgsz], 'classes': classes})\n",
        "\n",
        "\n",
        "# YOLO model\n",
        "\n",
        "from ultralytics import YOLO\n",
        "from PIL import ImageDraw\n",
        "\n",
        "def build_model_name(model_name, task):\n",
        "    if task == 'segment':\n",
        "        model_name = f\"{model_name}-seg\"\n",
        "    if task == 'classify':\n",
        "        model_name = f\"{model_name}-cls\"\n",
        "    return model_name\n",
        "\n",
        "def train_model(dataset, task, batch=8, epochs=7, imgsz=640):\n",
        "    model_name = build_model_name('yolov8n', task)\n",
        "    model = YOLO(f\"{model_name}.pt\")\n",
        "    data = f\"{dataset}\" if task == 'classify' else f\"{dataset}/data.yaml\"\n",
        "    results = model.train(data=data, batch=batch, epochs=epochs, imgsz=imgsz, device=\"cpu\")\n",
        "    return model, model_name\n",
        "\n",
        "def save_model(model, model_name, dataset, task, classes, imgsz=640):\n",
        "    model_src = model.export(format=\"onnx\")\n",
        "    multiple.upload_file(model_src, f\"{dataset}/{model_name}.onnx\")\n",
        "    multiple.save_json(f\"{dataset}/{model_name}.json\", {'task': task, 'inputShape': [1, 3, imgsz, imgsz], 'classes': classes})\n",
        "\n",
        "def plot_results(src, results):\n",
        "    result = results[0]\n",
        "    img = Image.open(src).convert('RGB')\n",
        "    draw = ImageDraw.Draw(img)\n",
        "    if result.masks:\n",
        "        for mask in result.masks:\n",
        "            print('mask', mask)\n",
        "            polygon = mask.xy[0]\n",
        "            draw.polygon(polygon, outline=\"#ffff00\", width=2)\n",
        "    if result.boxes:\n",
        "        for box in result.boxes.data:\n",
        "            x1, y1, x2, y2, class_id, prob = box\n",
        "            draw.rectangle((x1, y1, x2, y2), None, \"#00ff00\", width=3)\n",
        "    if result.probs:\n",
        "        draw.text((0, 0), f\"{result.names[result.probs.top1]} {result.probs.data[result.probs.top1]}\")\n",
        "    display(img)\n",
        "\n",
        "\n",
        "import ipywidgets as widgets\n",
        "from IPython.display import display\n",
        "from IPython.display import Image as show_image\n",
        "\n",
        "projects = load_projects()\n",
        "\n",
        "dropdown_project = widgets.Dropdown(description='Project', options=projects, value=projects[0])\n",
        "text_classes = widgets.Text(description='Classes', value='')\n",
        "text_task = widgets.Text(description='Task', value='')\n",
        "label_status = widgets.Label(value='')\n",
        "\n",
        "def dropdown_project_eventhandler(change):\n",
        "    output_train.clear_output()\n",
        "    output_labels.clear_output()\n",
        "    output_pred.clear_output()\n",
        "    label_status.value = 'Loading annotations...'\n",
        "    dataset = dropdown_project.value\n",
        "    annotations = load_annotations(dataset)\n",
        "    classes = load_labels(annotations)\n",
        "    task = load_task(annotations)\n",
        "    text_classes.value = str(classes or '')\n",
        "    text_task.value = str(task or '')\n",
        "    if len(classes) and task:\n",
        "        label_status.value = 'Annotations loaded.'\n",
        "        button_train.disabled = False\n",
        "    else:\n",
        "        label_status.value = 'Not annotated.'\n",
        "        button_train.disabled = True\n",
        "\n",
        "dropdown_project.observe(dropdown_project_eventhandler, names='value')\n",
        "\n",
        "button_train = widgets.Button(description='Train', disabled=True)\n",
        "output_train = widgets.Output(layout={'border': '1px solid black', 'width': '50%', 'height': '360px', 'overflow': 'auto'})\n",
        "\n",
        "output_labels = widgets.Output()\n",
        "output_pred = widgets.Output()\n",
        "\n",
        "def button_train_eventhandler(obj):\n",
        "    output_train.clear_output()\n",
        "    with output_train:\n",
        "        button_train.disabled = True\n",
        "        dataset = dropdown_project.value\n",
        "        classes = eval(text_classes.value)\n",
        "        task = text_task.value\n",
        "        #model_path = f'{dataset}/{model_name}.onnx'\n",
        "        #model_type = dropdown_type.value\n",
        "        #batch_size = 32\n",
        "        #epochs = 50\n",
        "        if task == 'classify':\n",
        "            model_name = 'model_ft'\n",
        "            label_status.value = 'Creating dataset...'\n",
        "            dataloaders, classes = t_create_dataset(dataset)\n",
        "            t.visualize_data(dataloaders['train'])\n",
        "            label_status.value = 'Training model...'\n",
        "            model = t_train_model(dataloaders, classes)\n",
        "            t.visualize_model(model, dataloaders['val'])\n",
        "            t_save_model(model, model_name, dataset, classes)\n",
        "            label_status.value = 'Model saved.'\n",
        "        else:\n",
        "            image_size = 128\n",
        "            label_status.value = 'Creating dataset...'\n",
        "            create_dataset(dataset, task, classes)\n",
        "            label_status.value = 'Training model...'\n",
        "            model, model_name = train_model(dataset, task, imgsz=image_size)\n",
        "            save_model(model, model_name, dataset, task, classes, imgsz=image_size)\n",
        "            label_status.value = 'Model saved.'\n",
        "            src = glob.glob(f\"{dataset}/test/*/*.png\")[0]\n",
        "            results = model.predict(src)\n",
        "            plot_results(src, results)\n",
        "            with output_labels:\n",
        "                display(show_image(filename=f\"runs/{task}/train/val_batch0_labels.jpg\"))\n",
        "            with output_pred:\n",
        "                display(show_image(filename=f\"runs/{task}/train/val_batch0_pred.jpg\"))\n",
        "    button_train.disabled = False\n",
        "\n",
        "button_train.on_click(button_train_eventhandler)\n",
        "\n",
        "hbox_output = widgets.HBox([output_train, output_labels, output_pred])\n",
        "dashboard = widgets.VBox([dropdown_project, text_classes, text_task, label_status, button_train, hbox_output])\n",
        "display(dashboard)\n"
      ]
    }
  ],
  "metadata": {
    "accelerator": "GPU",
    "colab": {
      "gpuType": "T4",
      "provenance": []
    },
    "kernelspec": {
      "display_name": "Python 3",
      "name": "python3"
    },
    "language_info": {
      "name": "python"
    },
    "widgets": {
      "application/vnd.jupyter.widget-state+json": {
        "0117c49614834b0089cd5730028d22f2": {
          "model_module": "@jupyter-widgets/controls",
          "model_module_version": "1.5.0",
          "model_name": "DescriptionStyleModel",
          "state": {
            "_model_module": "@jupyter-widgets/controls",
            "_model_module_version": "1.5.0",
            "_model_name": "DescriptionStyleModel",
            "_view_count": null,
            "_view_module": "@jupyter-widgets/base",
            "_view_module_version": "1.2.0",
            "_view_name": "StyleView",
            "description_width": ""
          }
        },
        "0259c83606b845879db12d29d50051a7": {
          "model_module": "@jupyter-widgets/base",
          "model_module_version": "1.2.0",
          "model_name": "LayoutModel",
          "state": {
            "_model_module": "@jupyter-widgets/base",
            "_model_module_version": "1.2.0",
            "_model_name": "LayoutModel",
            "_view_count": null,
            "_view_module": "@jupyter-widgets/base",
            "_view_module_version": "1.2.0",
            "_view_name": "LayoutView",
            "align_content": null,
            "align_items": null,
            "align_self": null,
            "border": null,
            "bottom": null,
            "display": null,
            "flex": null,
            "flex_flow": null,
            "grid_area": null,
            "grid_auto_columns": null,
            "grid_auto_flow": null,
            "grid_auto_rows": null,
            "grid_column": null,
            "grid_gap": null,
            "grid_row": null,
            "grid_template_areas": null,
            "grid_template_columns": null,
            "grid_template_rows": null,
            "height": null,
            "justify_content": null,
            "justify_items": null,
            "left": null,
            "margin": null,
            "max_height": null,
            "max_width": null,
            "min_height": null,
            "min_width": null,
            "object_fit": null,
            "object_position": null,
            "order": null,
            "overflow": null,
            "overflow_x": null,
            "overflow_y": null,
            "padding": null,
            "right": null,
            "top": null,
            "visibility": null,
            "width": null
          }
        },
        "0ad82e36bd564a969f2d34bc52a18120": {
          "model_module": "@jupyter-widgets/base",
          "model_module_version": "1.2.0",
          "model_name": "LayoutModel",
          "state": {
            "_model_module": "@jupyter-widgets/base",
            "_model_module_version": "1.2.0",
            "_model_name": "LayoutModel",
            "_view_count": null,
            "_view_module": "@jupyter-widgets/base",
            "_view_module_version": "1.2.0",
            "_view_name": "LayoutView",
            "align_content": null,
            "align_items": null,
            "align_self": null,
            "border": null,
            "bottom": null,
            "display": null,
            "flex": null,
            "flex_flow": null,
            "grid_area": null,
            "grid_auto_columns": null,
            "grid_auto_flow": null,
            "grid_auto_rows": null,
            "grid_column": null,
            "grid_gap": null,
            "grid_row": null,
            "grid_template_areas": null,
            "grid_template_columns": null,
            "grid_template_rows": null,
            "height": null,
            "justify_content": null,
            "justify_items": null,
            "left": null,
            "margin": null,
            "max_height": null,
            "max_width": null,
            "min_height": null,
            "min_width": null,
            "object_fit": null,
            "object_position": null,
            "order": null,
            "overflow": null,
            "overflow_x": null,
            "overflow_y": null,
            "padding": null,
            "right": null,
            "top": null,
            "visibility": null,
            "width": null
          }
        },
        "235868cbbf9049c3bfdbbde52fcf89e6": {
          "model_module": "@jupyter-widgets/controls",
          "model_module_version": "1.5.0",
          "model_name": "TextModel",
          "state": {
            "_dom_classes": [],
            "_model_module": "@jupyter-widgets/controls",
            "_model_module_version": "1.5.0",
            "_model_name": "TextModel",
            "_view_count": null,
            "_view_module": "@jupyter-widgets/controls",
            "_view_module_version": "1.5.0",
            "_view_name": "TextView",
            "continuous_update": true,
            "description": "Task",
            "description_tooltip": null,
            "disabled": false,
            "layout": "IPY_MODEL_cb354c258b534da2ad47df992f5d2c99",
            "placeholder": "​",
            "style": "IPY_MODEL_58fc7775cb13417da7ef2ec6c56f6a66",
            "value": "classify"
          }
        },
        "2464ce4d7c4643528367d74fe21aeb8b": {
          "model_module": "@jupyter-widgets/controls",
          "model_module_version": "1.5.0",
          "model_name": "ButtonModel",
          "state": {
            "_dom_classes": [],
            "_model_module": "@jupyter-widgets/controls",
            "_model_module_version": "1.5.0",
            "_model_name": "ButtonModel",
            "_view_count": null,
            "_view_module": "@jupyter-widgets/controls",
            "_view_module_version": "1.5.0",
            "_view_name": "ButtonView",
            "button_style": "",
            "description": "Train",
            "disabled": false,
            "icon": "",
            "layout": "IPY_MODEL_a430d37032784975b55716bef88b8f6b",
            "style": "IPY_MODEL_550c6eadb20749e8ae1a8de956dc65d0",
            "tooltip": ""
          }
        },
        "3caeddc2150c4d2089371b426879d4aa": {
          "model_module": "@jupyter-widgets/base",
          "model_module_version": "1.2.0",
          "model_name": "LayoutModel",
          "state": {
            "_model_module": "@jupyter-widgets/base",
            "_model_module_version": "1.2.0",
            "_model_name": "LayoutModel",
            "_view_count": null,
            "_view_module": "@jupyter-widgets/base",
            "_view_module_version": "1.2.0",
            "_view_name": "LayoutView",
            "align_content": null,
            "align_items": null,
            "align_self": null,
            "border": null,
            "bottom": null,
            "display": null,
            "flex": null,
            "flex_flow": null,
            "grid_area": null,
            "grid_auto_columns": null,
            "grid_auto_flow": null,
            "grid_auto_rows": null,
            "grid_column": null,
            "grid_gap": null,
            "grid_row": null,
            "grid_template_areas": null,
            "grid_template_columns": null,
            "grid_template_rows": null,
            "height": null,
            "justify_content": null,
            "justify_items": null,
            "left": null,
            "margin": null,
            "max_height": null,
            "max_width": null,
            "min_height": null,
            "min_width": null,
            "object_fit": null,
            "object_position": null,
            "order": null,
            "overflow": null,
            "overflow_x": null,
            "overflow_y": null,
            "padding": null,
            "right": null,
            "top": null,
            "visibility": null,
            "width": null
          }
        },
        "3fd2a8d4d7dc411bb6ba808f2c0724c7": {
          "model_module": "@jupyter-widgets/base",
          "model_module_version": "1.2.0",
          "model_name": "LayoutModel",
          "state": {
            "_model_module": "@jupyter-widgets/base",
            "_model_module_version": "1.2.0",
            "_model_name": "LayoutModel",
            "_view_count": null,
            "_view_module": "@jupyter-widgets/base",
            "_view_module_version": "1.2.0",
            "_view_name": "LayoutView",
            "align_content": null,
            "align_items": null,
            "align_self": null,
            "border": "1px solid black",
            "bottom": null,
            "display": null,
            "flex": null,
            "flex_flow": null,
            "grid_area": null,
            "grid_auto_columns": null,
            "grid_auto_flow": null,
            "grid_auto_rows": null,
            "grid_column": null,
            "grid_gap": null,
            "grid_row": null,
            "grid_template_areas": null,
            "grid_template_columns": null,
            "grid_template_rows": null,
            "height": "360px",
            "justify_content": null,
            "justify_items": null,
            "left": null,
            "margin": null,
            "max_height": null,
            "max_width": null,
            "min_height": null,
            "min_width": null,
            "object_fit": null,
            "object_position": null,
            "order": null,
            "overflow": "auto",
            "overflow_x": null,
            "overflow_y": null,
            "padding": null,
            "right": null,
            "top": null,
            "visibility": null,
            "width": "50%"
          }
        },
        "550c6eadb20749e8ae1a8de956dc65d0": {
          "model_module": "@jupyter-widgets/controls",
          "model_module_version": "1.5.0",
          "model_name": "ButtonStyleModel",
          "state": {
            "_model_module": "@jupyter-widgets/controls",
            "_model_module_version": "1.5.0",
            "_model_name": "ButtonStyleModel",
            "_view_count": null,
            "_view_module": "@jupyter-widgets/base",
            "_view_module_version": "1.2.0",
            "_view_name": "StyleView",
            "button_color": null,
            "font_weight": ""
          }
        },
        "569df428d0bd4287ac4345476c85bf17": {
          "model_module": "@jupyter-widgets/base",
          "model_module_version": "1.2.0",
          "model_name": "LayoutModel",
          "state": {
            "_model_module": "@jupyter-widgets/base",
            "_model_module_version": "1.2.0",
            "_model_name": "LayoutModel",
            "_view_count": null,
            "_view_module": "@jupyter-widgets/base",
            "_view_module_version": "1.2.0",
            "_view_name": "LayoutView",
            "align_content": null,
            "align_items": null,
            "align_self": null,
            "border": null,
            "bottom": null,
            "display": null,
            "flex": null,
            "flex_flow": null,
            "grid_area": null,
            "grid_auto_columns": null,
            "grid_auto_flow": null,
            "grid_auto_rows": null,
            "grid_column": null,
            "grid_gap": null,
            "grid_row": null,
            "grid_template_areas": null,
            "grid_template_columns": null,
            "grid_template_rows": null,
            "height": null,
            "justify_content": null,
            "justify_items": null,
            "left": null,
            "margin": null,
            "max_height": null,
            "max_width": null,
            "min_height": null,
            "min_width": null,
            "object_fit": null,
            "object_position": null,
            "order": null,
            "overflow": null,
            "overflow_x": null,
            "overflow_y": null,
            "padding": null,
            "right": null,
            "top": null,
            "visibility": null,
            "width": null
          }
        },
        "581181c8b60c410f8b4e4b14cfce3209": {
          "model_module": "@jupyter-widgets/base",
          "model_module_version": "1.2.0",
          "model_name": "LayoutModel",
          "state": {
            "_model_module": "@jupyter-widgets/base",
            "_model_module_version": "1.2.0",
            "_model_name": "LayoutModel",
            "_view_count": null,
            "_view_module": "@jupyter-widgets/base",
            "_view_module_version": "1.2.0",
            "_view_name": "LayoutView",
            "align_content": null,
            "align_items": null,
            "align_self": null,
            "border": null,
            "bottom": null,
            "display": null,
            "flex": null,
            "flex_flow": null,
            "grid_area": null,
            "grid_auto_columns": null,
            "grid_auto_flow": null,
            "grid_auto_rows": null,
            "grid_column": null,
            "grid_gap": null,
            "grid_row": null,
            "grid_template_areas": null,
            "grid_template_columns": null,
            "grid_template_rows": null,
            "height": null,
            "justify_content": null,
            "justify_items": null,
            "left": null,
            "margin": null,
            "max_height": null,
            "max_width": null,
            "min_height": null,
            "min_width": null,
            "object_fit": null,
            "object_position": null,
            "order": null,
            "overflow": null,
            "overflow_x": null,
            "overflow_y": null,
            "padding": null,
            "right": null,
            "top": null,
            "visibility": null,
            "width": null
          }
        },
        "58fc7775cb13417da7ef2ec6c56f6a66": {
          "model_module": "@jupyter-widgets/controls",
          "model_module_version": "1.5.0",
          "model_name": "DescriptionStyleModel",
          "state": {
            "_model_module": "@jupyter-widgets/controls",
            "_model_module_version": "1.5.0",
            "_model_name": "DescriptionStyleModel",
            "_view_count": null,
            "_view_module": "@jupyter-widgets/base",
            "_view_module_version": "1.2.0",
            "_view_name": "StyleView",
            "description_width": ""
          }
        },
        "5adda18b96cd40be9b99187c43cd3a48": {
          "model_module": "@jupyter-widgets/output",
          "model_module_version": "1.0.0",
          "model_name": "OutputModel",
          "state": {
            "_dom_classes": [],
            "_model_module": "@jupyter-widgets/output",
            "_model_module_version": "1.0.0",
            "_model_name": "OutputModel",
            "_view_count": null,
            "_view_module": "@jupyter-widgets/output",
            "_view_module_version": "1.0.0",
            "_view_name": "OutputView",
            "layout": "IPY_MODEL_0259c83606b845879db12d29d50051a7",
            "msg_id": "",
            "outputs": []
          }
        },
        "5e271890a092421591008d15792c4082": {
          "model_module": "@jupyter-widgets/controls",
          "model_module_version": "1.5.0",
          "model_name": "DropdownModel",
          "state": {
            "_dom_classes": [],
            "_model_module": "@jupyter-widgets/controls",
            "_model_module_version": "1.5.0",
            "_model_name": "DropdownModel",
            "_options_labels": [
              "camera",
              "circles",
              "edge",
              "final-demo",
              "hymenoptera_data",
              "jotis_AIMEN_22",
              "jotis_AIMEN_22_8bits",
              "screws"
            ],
            "_view_count": null,
            "_view_module": "@jupyter-widgets/controls",
            "_view_module_version": "1.5.0",
            "_view_name": "DropdownView",
            "description": "Project",
            "description_tooltip": null,
            "disabled": false,
            "index": 7,
            "layout": "IPY_MODEL_581181c8b60c410f8b4e4b14cfce3209",
            "style": "IPY_MODEL_a4b66399de18436692fe6073ea5b79af"
          }
        },
        "6a60fd8e6c64419ab7e6f6d8b2d30cd9": {
          "model_module": "@jupyter-widgets/base",
          "model_module_version": "1.2.0",
          "model_name": "LayoutModel",
          "state": {
            "_model_module": "@jupyter-widgets/base",
            "_model_module_version": "1.2.0",
            "_model_name": "LayoutModel",
            "_view_count": null,
            "_view_module": "@jupyter-widgets/base",
            "_view_module_version": "1.2.0",
            "_view_name": "LayoutView",
            "align_content": null,
            "align_items": null,
            "align_self": null,
            "border": null,
            "bottom": null,
            "display": null,
            "flex": null,
            "flex_flow": null,
            "grid_area": null,
            "grid_auto_columns": null,
            "grid_auto_flow": null,
            "grid_auto_rows": null,
            "grid_column": null,
            "grid_gap": null,
            "grid_row": null,
            "grid_template_areas": null,
            "grid_template_columns": null,
            "grid_template_rows": null,
            "height": null,
            "justify_content": null,
            "justify_items": null,
            "left": null,
            "margin": null,
            "max_height": null,
            "max_width": null,
            "min_height": null,
            "min_width": null,
            "object_fit": null,
            "object_position": null,
            "order": null,
            "overflow": null,
            "overflow_x": null,
            "overflow_y": null,
            "padding": null,
            "right": null,
            "top": null,
            "visibility": null,
            "width": null
          }
        },
        "750cb6b5a7ce434382ce409866e2c15c": {
          "model_module": "@jupyter-widgets/base",
          "model_module_version": "1.2.0",
          "model_name": "LayoutModel",
          "state": {
            "_model_module": "@jupyter-widgets/base",
            "_model_module_version": "1.2.0",
            "_model_name": "LayoutModel",
            "_view_count": null,
            "_view_module": "@jupyter-widgets/base",
            "_view_module_version": "1.2.0",
            "_view_name": "LayoutView",
            "align_content": null,
            "align_items": null,
            "align_self": null,
            "border": null,
            "bottom": null,
            "display": null,
            "flex": null,
            "flex_flow": null,
            "grid_area": null,
            "grid_auto_columns": null,
            "grid_auto_flow": null,
            "grid_auto_rows": null,
            "grid_column": null,
            "grid_gap": null,
            "grid_row": null,
            "grid_template_areas": null,
            "grid_template_columns": null,
            "grid_template_rows": null,
            "height": null,
            "justify_content": null,
            "justify_items": null,
            "left": null,
            "margin": null,
            "max_height": null,
            "max_width": null,
            "min_height": null,
            "min_width": null,
            "object_fit": null,
            "object_position": null,
            "order": null,
            "overflow": null,
            "overflow_x": null,
            "overflow_y": null,
            "padding": null,
            "right": null,
            "top": null,
            "visibility": null,
            "width": null
          }
        },
        "7afbb96684bb429cab8cc2737fa0c54f": {
          "model_module": "@jupyter-widgets/controls",
          "model_module_version": "1.5.0",
          "model_name": "VBoxModel",
          "state": {
            "_dom_classes": [],
            "_model_module": "@jupyter-widgets/controls",
            "_model_module_version": "1.5.0",
            "_model_name": "VBoxModel",
            "_view_count": null,
            "_view_module": "@jupyter-widgets/controls",
            "_view_module_version": "1.5.0",
            "_view_name": "VBoxView",
            "box_style": "",
            "children": [
              "IPY_MODEL_5e271890a092421591008d15792c4082",
              "IPY_MODEL_c2821b3980d2499fb30dde207505c939",
              "IPY_MODEL_235868cbbf9049c3bfdbbde52fcf89e6",
              "IPY_MODEL_ef895fa6ad9e4f91bee227feb37c6cef",
              "IPY_MODEL_2464ce4d7c4643528367d74fe21aeb8b",
              "IPY_MODEL_8301217d8eac4f1ba4b773a4ad76e97b"
            ],
            "layout": "IPY_MODEL_569df428d0bd4287ac4345476c85bf17"
          }
        },
        "7fd0876dca2846e594a996466b048124": {
          "model_module": "@jupyter-widgets/output",
          "model_module_version": "1.0.0",
          "model_name": "OutputModel",
          "state": {
            "_dom_classes": [],
            "_model_module": "@jupyter-widgets/output",
            "_model_module_version": "1.0.0",
            "_model_name": "OutputModel",
            "_view_count": null,
            "_view_module": "@jupyter-widgets/output",
            "_view_module_version": "1.0.0",
            "_view_name": "OutputView",
            "layout": "IPY_MODEL_6a60fd8e6c64419ab7e6f6d8b2d30cd9",
            "msg_id": "",
            "outputs": []
          }
        },
        "8301217d8eac4f1ba4b773a4ad76e97b": {
          "model_module": "@jupyter-widgets/controls",
          "model_module_version": "1.5.0",
          "model_name": "HBoxModel",
          "state": {
            "_dom_classes": [],
            "_model_module": "@jupyter-widgets/controls",
            "_model_module_version": "1.5.0",
            "_model_name": "HBoxModel",
            "_view_count": null,
            "_view_module": "@jupyter-widgets/controls",
            "_view_module_version": "1.5.0",
            "_view_name": "HBoxView",
            "box_style": "",
            "children": [
              "IPY_MODEL_9886a1dab10d4a80b10f329e93043971",
              "IPY_MODEL_5adda18b96cd40be9b99187c43cd3a48",
              "IPY_MODEL_7fd0876dca2846e594a996466b048124"
            ],
            "layout": "IPY_MODEL_0ad82e36bd564a969f2d34bc52a18120"
          }
        },
        "9886a1dab10d4a80b10f329e93043971": {
          "model_module": "@jupyter-widgets/output",
          "model_module_version": "1.0.0",
          "model_name": "OutputModel",
          "state": {
            "_dom_classes": [],
            "_model_module": "@jupyter-widgets/output",
            "_model_module_version": "1.0.0",
            "_model_name": "OutputModel",
            "_view_count": null,
            "_view_module": "@jupyter-widgets/output",
            "_view_module_version": "1.0.0",
            "_view_name": "OutputView",
            "layout": "IPY_MODEL_3fd2a8d4d7dc411bb6ba808f2c0724c7",
            "msg_id": "",
            "outputs": [
              {
                "name": "stderr",
                "output_type": "stream",
                "text": [
                  "/usr/local/lib/python3.10/dist-packages/torch/utils/data/dataloader.py:557: UserWarning: This DataLoader will create 4 worker processes in total. Our suggested max number of worker in current system is 2, which is smaller than what this DataLoader is going to create. Please be aware that excessive worker creation might get DataLoader running slow or even freeze, lower the worker number to avoid potential slowness/freeze if necessary.\n",
                  "  warnings.warn(_create_warning_msg(\n"
                ]
              },
              {
                "data": {
                  "image/png": "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\n",
                  "text/plain": "<Figure size 640x480 with 1 Axes>"
                },
                "metadata": {},
                "output_type": "display_data"
              },
              {
                "name": "stderr",
                "output_type": "stream",
                "text": [
                  "/usr/local/lib/python3.10/dist-packages/torchvision/models/_utils.py:208: UserWarning: The parameter 'pretrained' is deprecated since 0.13 and may be removed in the future, please use 'weights' instead.\n",
                  "  warnings.warn(\n",
                  "/usr/local/lib/python3.10/dist-packages/torchvision/models/_utils.py:223: UserWarning: Arguments other than a weight enum or `None` for 'weights' are deprecated since 0.13 and may be removed in the future. The current behavior is equivalent to passing `weights=ResNet18_Weights.IMAGENET1K_V1`. You can also use `weights=ResNet18_Weights.DEFAULT` to get the most up-to-date weights.\n",
                  "  warnings.warn(msg)\n"
                ]
              },
              {
                "name": "stdout",
                "output_type": "stream",
                "text": [
                  "Epoch 0/24\n",
                  "----------\n"
                ]
              },
              {
                "name": "stdout",
                "output_type": "stream",
                "text": [
                  "train Loss: 0.8023 Acc: 0.5000\n"
                ]
              },
              {
                "name": "stdout",
                "output_type": "stream",
                "text": [
                  "val Loss: 0.7302 Acc: 0.4750\n",
                  "\n",
                  "Epoch 1/24\n",
                  "----------\n"
                ]
              },
              {
                "name": "stdout",
                "output_type": "stream",
                "text": [
                  "train Loss: 0.8418 Acc: 0.5000\n"
                ]
              },
              {
                "name": "stdout",
                "output_type": "stream",
                "text": [
                  "val Loss: 0.7280 Acc: 0.4750\n",
                  "\n",
                  "Epoch 2/24\n",
                  "----------\n"
                ]
              },
              {
                "name": "stdout",
                "output_type": "stream",
                "text": [
                  "train Loss: 0.8109 Acc: 0.5250\n"
                ]
              },
              {
                "name": "stdout",
                "output_type": "stream",
                "text": [
                  "val Loss: 0.7803 Acc: 0.5250\n",
                  "\n",
                  "Epoch 3/24\n",
                  "----------\n"
                ]
              },
              {
                "name": "stdout",
                "output_type": "stream",
                "text": [
                  "train Loss: 0.7039 Acc: 0.5500\n"
                ]
              },
              {
                "name": "stdout",
                "output_type": "stream",
                "text": [
                  "val Loss: 0.6240 Acc: 0.6000\n",
                  "\n",
                  "Epoch 4/24\n",
                  "----------\n"
                ]
              },
              {
                "name": "stdout",
                "output_type": "stream",
                "text": [
                  "train Loss: 0.6711 Acc: 0.5250\n"
                ]
              },
              {
                "name": "stdout",
                "output_type": "stream",
                "text": [
                  "val Loss: 0.5576 Acc: 0.8500\n",
                  "\n",
                  "Epoch 5/24\n",
                  "----------\n"
                ]
              },
              {
                "name": "stdout",
                "output_type": "stream",
                "text": [
                  "train Loss: 0.5534 Acc: 0.7250\n"
                ]
              },
              {
                "name": "stdout",
                "output_type": "stream",
                "text": [
                  "val Loss: 0.5410 Acc: 0.7000\n",
                  "\n",
                  "Epoch 6/24\n",
                  "----------\n"
                ]
              },
              {
                "name": "stdout",
                "output_type": "stream",
                "text": [
                  "train Loss: 0.5050 Acc: 0.8500\n"
                ]
              },
              {
                "name": "stdout",
                "output_type": "stream",
                "text": [
                  "val Loss: 0.4613 Acc: 0.9000\n",
                  "\n",
                  "Epoch 7/24\n",
                  "----------\n"
                ]
              },
              {
                "name": "stdout",
                "output_type": "stream",
                "text": [
                  "train Loss: 0.4564 Acc: 0.8250\n"
                ]
              },
              {
                "name": "stdout",
                "output_type": "stream",
                "text": [
                  "val Loss: 0.4464 Acc: 0.8500\n",
                  "\n",
                  "Epoch 8/24\n",
                  "----------\n"
                ]
              },
              {
                "name": "stdout",
                "output_type": "stream",
                "text": [
                  "train Loss: 0.4568 Acc: 0.8500\n"
                ]
              },
              {
                "name": "stdout",
                "output_type": "stream",
                "text": [
                  "val Loss: 0.4479 Acc: 0.8750\n",
                  "\n",
                  "Epoch 9/24\n",
                  "----------\n"
                ]
              },
              {
                "name": "stdout",
                "output_type": "stream",
                "text": [
                  "train Loss: 0.3933 Acc: 0.9500\n"
                ]
              },
              {
                "name": "stdout",
                "output_type": "stream",
                "text": [
                  "val Loss: 0.4391 Acc: 0.8750\n",
                  "\n",
                  "Epoch 10/24\n",
                  "----------\n"
                ]
              },
              {
                "name": "stdout",
                "output_type": "stream",
                "text": [
                  "train Loss: 0.4837 Acc: 0.8250\n"
                ]
              },
              {
                "name": "stdout",
                "output_type": "stream",
                "text": [
                  "val Loss: 0.4377 Acc: 0.8750\n",
                  "\n",
                  "Epoch 11/24\n",
                  "----------\n"
                ]
              },
              {
                "name": "stdout",
                "output_type": "stream",
                "text": [
                  "train Loss: 0.5271 Acc: 0.8000\n"
                ]
              },
              {
                "name": "stdout",
                "output_type": "stream",
                "text": [
                  "val Loss: 0.4535 Acc: 0.8500\n",
                  "\n",
                  "Epoch 12/24\n",
                  "----------\n"
                ]
              },
              {
                "name": "stdout",
                "output_type": "stream",
                "text": [
                  "train Loss: 0.4946 Acc: 0.8000\n"
                ]
              },
              {
                "name": "stdout",
                "output_type": "stream",
                "text": [
                  "val Loss: 0.4322 Acc: 0.9000\n",
                  "\n",
                  "Epoch 13/24\n",
                  "----------\n"
                ]
              },
              {
                "name": "stdout",
                "output_type": "stream",
                "text": [
                  "train Loss: 0.4823 Acc: 0.8250\n"
                ]
              },
              {
                "name": "stdout",
                "output_type": "stream",
                "text": [
                  "val Loss: 0.4328 Acc: 0.8250\n",
                  "\n",
                  "Epoch 14/24\n",
                  "----------\n"
                ]
              },
              {
                "name": "stdout",
                "output_type": "stream",
                "text": [
                  "train Loss: 0.4364 Acc: 0.8250\n"
                ]
              },
              {
                "name": "stdout",
                "output_type": "stream",
                "text": [
                  "val Loss: 0.4225 Acc: 0.8250\n",
                  "\n",
                  "Epoch 15/24\n",
                  "----------\n"
                ]
              },
              {
                "name": "stdout",
                "output_type": "stream",
                "text": [
                  "train Loss: 0.4439 Acc: 0.9000\n"
                ]
              },
              {
                "name": "stdout",
                "output_type": "stream",
                "text": [
                  "val Loss: 0.4079 Acc: 0.9000\n",
                  "\n",
                  "Epoch 16/24\n",
                  "----------\n"
                ]
              },
              {
                "name": "stdout",
                "output_type": "stream",
                "text": [
                  "train Loss: 0.4066 Acc: 0.9000\n"
                ]
              },
              {
                "name": "stdout",
                "output_type": "stream",
                "text": [
                  "val Loss: 0.4023 Acc: 0.9000\n",
                  "\n",
                  "Epoch 17/24\n",
                  "----------\n"
                ]
              },
              {
                "name": "stdout",
                "output_type": "stream",
                "text": [
                  "train Loss: 0.4192 Acc: 0.8250\n"
                ]
              },
              {
                "name": "stdout",
                "output_type": "stream",
                "text": [
                  "val Loss: 0.3919 Acc: 0.9250\n",
                  "\n",
                  "Epoch 18/24\n",
                  "----------\n"
                ]
              },
              {
                "name": "stdout",
                "output_type": "stream",
                "text": [
                  "train Loss: 0.4804 Acc: 0.7750\n"
                ]
              },
              {
                "name": "stdout",
                "output_type": "stream",
                "text": [
                  "val Loss: 0.3893 Acc: 0.9250\n",
                  "\n",
                  "Epoch 19/24\n",
                  "----------\n"
                ]
              },
              {
                "name": "stdout",
                "output_type": "stream",
                "text": [
                  "train Loss: 0.4960 Acc: 0.7750\n"
                ]
              },
              {
                "name": "stdout",
                "output_type": "stream",
                "text": [
                  "val Loss: 0.3856 Acc: 0.9250\n",
                  "\n",
                  "Epoch 20/24\n",
                  "----------\n"
                ]
              },
              {
                "name": "stdout",
                "output_type": "stream",
                "text": [
                  "train Loss: 0.4781 Acc: 0.8000\n"
                ]
              },
              {
                "name": "stdout",
                "output_type": "stream",
                "text": [
                  "val Loss: 0.3837 Acc: 0.9250\n",
                  "\n",
                  "Epoch 21/24\n",
                  "----------\n"
                ]
              },
              {
                "name": "stdout",
                "output_type": "stream",
                "text": [
                  "train Loss: 0.4493 Acc: 0.8500\n"
                ]
              },
              {
                "name": "stdout",
                "output_type": "stream",
                "text": [
                  "val Loss: 0.3898 Acc: 0.9250\n",
                  "\n",
                  "Epoch 22/24\n",
                  "----------\n"
                ]
              },
              {
                "name": "stdout",
                "output_type": "stream",
                "text": [
                  "train Loss: 0.4217 Acc: 0.9250\n"
                ]
              },
              {
                "name": "stdout",
                "output_type": "stream",
                "text": [
                  "val Loss: 0.3900 Acc: 0.9250\n",
                  "\n",
                  "Epoch 23/24\n",
                  "----------\n"
                ]
              },
              {
                "name": "stdout",
                "output_type": "stream",
                "text": [
                  "train Loss: 0.4622 Acc: 0.9000\n"
                ]
              },
              {
                "name": "stdout",
                "output_type": "stream",
                "text": [
                  "val Loss: 0.3910 Acc: 0.9250\n",
                  "\n",
                  "Epoch 24/24\n",
                  "----------\n"
                ]
              },
              {
                "name": "stdout",
                "output_type": "stream",
                "text": [
                  "train Loss: 0.4633 Acc: 0.7750\n"
                ]
              },
              {
                "name": "stdout",
                "output_type": "stream",
                "text": [
                  "val Loss: 0.3948 Acc: 0.9250\n",
                  "\n",
                  "Training complete in 1m 1s\n",
                  "Best val Acc: 0.925000\n"
                ]
              },
              {
                "data": {
                  "image/png": "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\n",
                  "text/plain": "<Figure size 640x480 with 1 Axes>"
                },
                "metadata": {},
                "output_type": "display_data"
              },
              {
                "data": {
                  "image/png": "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\n",
                  "text/plain": "<Figure size 640x480 with 1 Axes>"
                },
                "metadata": {},
                "output_type": "display_data"
              },
              {
                "data": {
                  "image/png": "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\n",
                  "text/plain": "<Figure size 640x480 with 1 Axes>"
                },
                "metadata": {},
                "output_type": "display_data"
              },
              {
                "data": {
                  "image/png": "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\n",
                  "text/plain": "<Figure size 640x480 with 1 Axes>"
                },
                "metadata": {},
                "output_type": "display_data"
              },
              {
                "data": {
                  "image/png": "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\n",
                  "text/plain": "<Figure size 640x480 with 1 Axes>"
                },
                "metadata": {},
                "output_type": "display_data"
              },
              {
                "data": {
                  "image/png": "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\n",
                  "text/plain": "<Figure size 640x480 with 1 Axes>"
                },
                "metadata": {},
                "output_type": "display_data"
              }
            ]
          }
        },
        "a430d37032784975b55716bef88b8f6b": {
          "model_module": "@jupyter-widgets/base",
          "model_module_version": "1.2.0",
          "model_name": "LayoutModel",
          "state": {
            "_model_module": "@jupyter-widgets/base",
            "_model_module_version": "1.2.0",
            "_model_name": "LayoutModel",
            "_view_count": null,
            "_view_module": "@jupyter-widgets/base",
            "_view_module_version": "1.2.0",
            "_view_name": "LayoutView",
            "align_content": null,
            "align_items": null,
            "align_self": null,
            "border": null,
            "bottom": null,
            "display": null,
            "flex": null,
            "flex_flow": null,
            "grid_area": null,
            "grid_auto_columns": null,
            "grid_auto_flow": null,
            "grid_auto_rows": null,
            "grid_column": null,
            "grid_gap": null,
            "grid_row": null,
            "grid_template_areas": null,
            "grid_template_columns": null,
            "grid_template_rows": null,
            "height": null,
            "justify_content": null,
            "justify_items": null,
            "left": null,
            "margin": null,
            "max_height": null,
            "max_width": null,
            "min_height": null,
            "min_width": null,
            "object_fit": null,
            "object_position": null,
            "order": null,
            "overflow": null,
            "overflow_x": null,
            "overflow_y": null,
            "padding": null,
            "right": null,
            "top": null,
            "visibility": null,
            "width": null
          }
        },
        "a4b66399de18436692fe6073ea5b79af": {
          "model_module": "@jupyter-widgets/controls",
          "model_module_version": "1.5.0",
          "model_name": "DescriptionStyleModel",
          "state": {
            "_model_module": "@jupyter-widgets/controls",
            "_model_module_version": "1.5.0",
            "_model_name": "DescriptionStyleModel",
            "_view_count": null,
            "_view_module": "@jupyter-widgets/base",
            "_view_module_version": "1.2.0",
            "_view_name": "StyleView",
            "description_width": ""
          }
        },
        "c2821b3980d2499fb30dde207505c939": {
          "model_module": "@jupyter-widgets/controls",
          "model_module_version": "1.5.0",
          "model_name": "TextModel",
          "state": {
            "_dom_classes": [],
            "_model_module": "@jupyter-widgets/controls",
            "_model_module_version": "1.5.0",
            "_model_name": "TextModel",
            "_view_count": null,
            "_view_module": "@jupyter-widgets/controls",
            "_view_module_version": "1.5.0",
            "_view_name": "TextView",
            "continuous_update": true,
            "description": "Classes",
            "description_tooltip": null,
            "disabled": false,
            "layout": "IPY_MODEL_3caeddc2150c4d2089371b426879d4aa",
            "placeholder": "​",
            "style": "IPY_MODEL_efbc0839b17341f7913bbd5b11fa8068",
            "value": "['good', 'bad']"
          }
        },
        "cb354c258b534da2ad47df992f5d2c99": {
          "model_module": "@jupyter-widgets/base",
          "model_module_version": "1.2.0",
          "model_name": "LayoutModel",
          "state": {
            "_model_module": "@jupyter-widgets/base",
            "_model_module_version": "1.2.0",
            "_model_name": "LayoutModel",
            "_view_count": null,
            "_view_module": "@jupyter-widgets/base",
            "_view_module_version": "1.2.0",
            "_view_name": "LayoutView",
            "align_content": null,
            "align_items": null,
            "align_self": null,
            "border": null,
            "bottom": null,
            "display": null,
            "flex": null,
            "flex_flow": null,
            "grid_area": null,
            "grid_auto_columns": null,
            "grid_auto_flow": null,
            "grid_auto_rows": null,
            "grid_column": null,
            "grid_gap": null,
            "grid_row": null,
            "grid_template_areas": null,
            "grid_template_columns": null,
            "grid_template_rows": null,
            "height": null,
            "justify_content": null,
            "justify_items": null,
            "left": null,
            "margin": null,
            "max_height": null,
            "max_width": null,
            "min_height": null,
            "min_width": null,
            "object_fit": null,
            "object_position": null,
            "order": null,
            "overflow": null,
            "overflow_x": null,
            "overflow_y": null,
            "padding": null,
            "right": null,
            "top": null,
            "visibility": null,
            "width": null
          }
        },
        "ef895fa6ad9e4f91bee227feb37c6cef": {
          "model_module": "@jupyter-widgets/controls",
          "model_module_version": "1.5.0",
          "model_name": "LabelModel",
          "state": {
            "_dom_classes": [],
            "_model_module": "@jupyter-widgets/controls",
            "_model_module_version": "1.5.0",
            "_model_name": "LabelModel",
            "_view_count": null,
            "_view_module": "@jupyter-widgets/controls",
            "_view_module_version": "1.5.0",
            "_view_name": "LabelView",
            "description": "",
            "description_tooltip": null,
            "layout": "IPY_MODEL_750cb6b5a7ce434382ce409866e2c15c",
            "placeholder": "​",
            "style": "IPY_MODEL_0117c49614834b0089cd5730028d22f2",
            "value": "Model saved."
          }
        },
        "efbc0839b17341f7913bbd5b11fa8068": {
          "model_module": "@jupyter-widgets/controls",
          "model_module_version": "1.5.0",
          "model_name": "DescriptionStyleModel",
          "state": {
            "_model_module": "@jupyter-widgets/controls",
            "_model_module_version": "1.5.0",
            "_model_name": "DescriptionStyleModel",
            "_view_count": null,
            "_view_module": "@jupyter-widgets/base",
            "_view_module_version": "1.2.0",
            "_view_name": "StyleView",
            "description_width": ""
          }
        }
      }
    }
  },
  "nbformat": 4,
  "nbformat_minor": 0
}
