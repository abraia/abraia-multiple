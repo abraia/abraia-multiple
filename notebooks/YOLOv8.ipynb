{
  "cells": [
    {
      "cell_type": "code",
      "execution_count": null,
      "metadata": {
        "cellView": "form",
        "id": "OTztNYjoEvTr"
      },
      "outputs": [],
      "source": [
        "%%capture\n",
        "#@markdown # YOLOv8 dataset training\n",
        "!python -m pip install onnx\n",
        "!python -m pip install abraia\n",
        "!python -m pip install ultralytics\n",
        "\n",
        "import os\n",
        "if not os.getenv('ABRAIA_ID') and not os.getenv('ABRAIA_KEY'):\n",
        "    abraia_id = ''  #@param {type: \"string\"}\n",
        "    abraia_key = ''  #@param {type: \"string\"}\n",
        "    %env ABRAIA_ID=$abraia_id\n",
        "    %env ABRAIA_KEY=$abraia_key\n",
        "\n",
        "from abraia import Multiple\n",
        "\n",
        "multiple = Multiple()"
      ]
    },
    {
      "cell_type": "code",
      "execution_count": null,
      "metadata": {
        "cellView": "form",
        "colab": {
          "base_uri": "https://localhost:8080/",
          "height": 645,
          "referenced_widgets": [
            "5f5088bd815e4524b036ceead39c657d",
            "c880bffe269841bea013b699d6496b72",
            "b198c3cacaef4f588985ed558dd2acc1",
            "c3bdb8f88db445c4bf8aa30a4e25bc54",
            "d42765b38862495c9f7f0ab295156983",
            "ed639b2077d2464c9e6b9b58ba6caa29",
            "eb2d449bb0864913b3a68cc6f7e29d94",
            "a6656b6cf6304a63b1693a38afe54948",
            "31eb7f56b1194ab19463fec9fda475ee",
            "850351fa02a44c4ba19b78f9ad8cbc36",
            "56b596090a7f4367b3bf043888e3c3cb",
            "84ecc9715d5843f099d96f8688168f27",
            "baa7e41aca0b4a4c96d801b9d9694c4d",
            "550dc2c1682040569d384b887071953e",
            "c2f7d7daf158467fb6f4f7f41c668a21",
            "c872a77305c5458c94cd1500308533cc",
            "104931c6f3d64067b21d03606361060f",
            "92f1460e266c42d3bc393e9ef7a1fc01",
            "e328189777e044b1bf0c3865a99ca43e",
            "17b9df8f825e4d6e92da34426a202f26",
            "8f70bbb541fe4c8a83d48c478976ba39",
            "2481cc0966614c43af1be307c317669b",
            "6f6efed3c703407c8c12dc41d0f78439",
            "c887c46ab1ad483bbc0d602a7c05978d",
            "45735799812449028a7e0adc2c0a5695",
            "ecef26d3982743c39a990b3ed01217a1",
            "4b79d192fe8440be8a99def6bb4d3dfc",
            "0448a70cab7846ad8a99ef12aa812409",
            "7a75b05bd6104cdea5f204630d3415f4",
            "c60313b8bd374d69bf22015e9d8d902f",
            "02edd14b8e27479ba01b843b825a3069",
            "255988c2134d4f95a150678e74b2ee3f",
            "1cb82e807e1d4fc98348bc8e03e49dd8",
            "254c44777abc4f35b8fde9d8c295c03b",
            "fbdb11a45a504e69b2b792b894325771",
            "dfaa48b28e19494087f7838d97471e69",
            "217b2c6627a341ac89ea894d33831960",
            "12ce5ed859d04c129eec58f8ea4a1c0f",
            "1b3a2c16205d40f390fbfd592225991e",
            "f45ac43e50804c66b110e43c7ae82697",
            "5c46cb2e2e10455c92e35ad27d27f069",
            "6f284d6270a54efcb9b11415fc73a5d7",
            "0b6f6cd0d7b5473db3b0c5628168bb02",
            "cc071342f0df404ba09045c7134e2821",
            "7afb538fa282472ba493a5e84cc1b1ca",
            "c3eb4187087742ba82bef40f98fc4b60",
            "2e4a90d0af424312a54a6fe56a554791",
            "0511487b04c34693a8247b5fe2ce575a",
            "9be35863efb241bbac7f0f09b240ec4a",
            "ffaf128fbd4f4d6caeb22c871ada12af",
            "ea673f95f4c54105894b29bf407062d0",
            "4b231be1f14947af83a62d06671dd847",
            "5c7c4f35482e4aa5a020337c40b7c3ad",
            "25eaefde854a4063a27b371e488cf2a6",
            "6bd55796f6ae402d959ae110f91a42e4",
            "b76c8b07ecd44fd3a49bef60e01897f0",
            "c1e8b1c83bc84246b3557658cf963e55",
            "8386c6100ac04e29b43d859236200c05"
          ]
        },
        "id": "LX2njgUxUxB-",
        "outputId": "6e49b8a1-9a3d-40fc-c52f-f96e0649c011"
      },
      "outputs": [
        {
          "data": {
            "application/vnd.jupyter.widget-view+json": {
              "model_id": "5f5088bd815e4524b036ceead39c657d",
              "version_major": 2,
              "version_minor": 0
            },
            "text/plain": [
              "VBox(children=(Dropdown(description='Project', options=('camera', 'circles', 'edge', 'final-demo', 'hymenopter…"
            ]
          },
          "metadata": {},
          "output_type": "display_data"
        }
      ],
      "source": [
        "from logging.config import valid_ident\n",
        "#@markdown ### Dataset\n",
        "\n",
        "import json\n",
        "import glob\n",
        "import shutil\n",
        "import itertools\n",
        "from PIL import Image\n",
        "from tqdm.contrib.concurrent import process_map\n",
        "from sklearn.model_selection import train_test_split\n",
        "\n",
        "\n",
        "def load_projects():\n",
        "    folders = multiple.list_files()[1]\n",
        "    return [folder['name'] for folder in folders if folder['name'] not in ('export', '.export')]\n",
        "\n",
        "\n",
        "def load_annotations(dataset):\n",
        "    annotations = json.loads(multiple.load_file(f\"{dataset}/annotations.json\"))\n",
        "    for annotation in annotations:\n",
        "        annotation['path'] = f\"{dataset}/{annotation['filename']}\"\n",
        "    return annotations\n",
        "\n",
        "\n",
        "def load_labels(annotations):\n",
        "    labels = []\n",
        "    for annotation in annotations:\n",
        "        for object in annotation.get('objects', []):\n",
        "            label = object.get('label')\n",
        "            if label and label not in labels:\n",
        "                labels.append(label)\n",
        "    return list(set(labels))\n",
        "\n",
        "\n",
        "def load_task(annotations):\n",
        "    label, box, polygon = False, False, False\n",
        "    for annotation in annotations:\n",
        "        for object in annotation.get('objects', []):\n",
        "            if 'polygon' in object:\n",
        "                polygon = True\n",
        "            elif 'box' in object:\n",
        "                box = True\n",
        "            elif 'label' in object:\n",
        "                label = True\n",
        "    if polygon:\n",
        "        return 'segment'\n",
        "    if box:\n",
        "        return 'detect'\n",
        "    if label:\n",
        "        return 'classify'\n",
        "\n",
        "\n",
        "def download_file(path, folder):\n",
        "    dest = os.path.join(folder, os.path.basename(path))\n",
        "    if not os.path.exists(dest):\n",
        "        multiple.download_file(path, dest)\n",
        "    return dest\n",
        "\n",
        "\n",
        "def save_annotation(annotation, folder, classes, task):\n",
        "    if task == 'classify':\n",
        "        for object in annotation.get('objects', []):\n",
        "            label = object.get('label')\n",
        "            if label:\n",
        "                src = os.path.join(folder, annotation['filename'])\n",
        "                dest = os.path.join(folder, label, annotation['filename'])\n",
        "                shutil.move(src, dest)\n",
        "    else:\n",
        "        im = Image.open(os.path.join(folder, 'images', annotation['filename']))\n",
        "        label_lines = []\n",
        "        for object in annotation.get('objects', []):\n",
        "            label, bbox, cords = object.get('label'), object.get('box'), object.get('polygon')\n",
        "            # Convert polygon or box to yolo format\n",
        "            label_line = ''\n",
        "            if task == 'segment' and cords:\n",
        "                label_line = f\"{classes.index(label)} \" + ' '.join([f\"{cord[0] / im.width} {cord[1] / im.height}\" for cord in cords])\n",
        "            elif task == 'detect' and bbox:\n",
        "                label_line = f\"{classes.index(label)} {(bbox[0] + bbox[2] / 2) / im.width} {(bbox[1] + bbox[3] / 2) / im.height} {bbox[2] / im.width} {bbox[3] / im.height}\"\n",
        "            elif task == 'classify':\n",
        "                label_line = f\"{classes.index(label)}\"\n",
        "            label_lines.append(label_line)\n",
        "        label_path = os.path.join(folder, 'labels',  f\"{os.path.splitext(annotation['filename'])[0]}.txt\")\n",
        "        with open(label_path, 'w') as f:\n",
        "            f.write('\\n'.join(label_lines))\n",
        "\n",
        "\n",
        "def save_data(annotations, folder, classes, task):\n",
        "    if (task == 'classify'):\n",
        "        os.makedirs(os.path.join(folder), exist_ok=True)\n",
        "        paths = [annotation['path'] for annotation in annotations]\n",
        "        process_map(download_file, paths, itertools.repeat(folder), max_workers=5)\n",
        "        for label in classes:\n",
        "            os.makedirs(os.path.join(folder, label), exist_ok=True)\n",
        "        for annotation in annotations:\n",
        "            save_annotation(annotation, folder, classes, task)\n",
        "    else:\n",
        "        os.makedirs(os.path.join(folder, 'images'), exist_ok=True)\n",
        "        paths = [annotation['path'] for annotation in annotations]\n",
        "        process_map(download_file, paths, itertools.repeat(os.path.join(folder, 'images')), max_workers=5)\n",
        "        os.makedirs(os.path.join(folder, 'labels'), exist_ok=True)\n",
        "        for annotation in annotations:\n",
        "            save_annotation(annotation, folder, classes, task)\n",
        "\n",
        "\n",
        "def save_config(dataset, classes):\n",
        "    yaml_content = f'''\n",
        "    train: {os.path.join(os.getcwd(), dataset, 'train/images')}\n",
        "    val: {os.path.join(os.getcwd(), dataset, 'val/images')}\n",
        "    test: {os.path.join(os.getcwd(), dataset, 'test/images')}\n",
        "    names: {classes}\n",
        "    '''\n",
        "    path = os.path.join(dataset, 'data.yaml')\n",
        "    with open(path, 'w') as f:\n",
        "        f.write(yaml_content)\n",
        "\n",
        "\n",
        "def split_dataset(annotations):\n",
        "    train, test = train_test_split(annotations, test_size=0.3)\n",
        "    val, test = train_test_split(test, test_size=0.5)\n",
        "    return train, val, test\n",
        "\n",
        "\n",
        "def create_dataset(dataset, task, classes):\n",
        "    annotations = load_annotations(dataset)\n",
        "    train, val, test = split_dataset(annotations)\n",
        "    data_annotations = {'train': train, 'val': val, 'test': test}\n",
        "    for x in ['train', 'val', 'test']:\n",
        "        save_data(data_annotations[x], f\"{dataset}/{x}\", classes, task)\n",
        "    save_config(dataset, classes)\n",
        "\n",
        "\n",
        "from ultralytics import YOLO\n",
        "from PIL import ImageDraw\n",
        "\n",
        "\n",
        "def build_model_name(model_name, task):\n",
        "    if task == 'segment':\n",
        "        model_name = f\"{model_name}-seg\"\n",
        "    if task == 'classify':\n",
        "        model_name = f\"{model_name}-cls\"\n",
        "    return model_name\n",
        "\n",
        "\n",
        "def train_model(dataset, task, batch=8, epochs=7, imgsz=640):\n",
        "    model_name = build_model_name('yolov8n', task)\n",
        "    model = YOLO(f\"{model_name}.pt\")\n",
        "    data = f\"{dataset}\" if task == 'classify' else f\"{dataset}/data.yaml\"\n",
        "    results = model.train(data=data, batch=batch, epochs=epochs, imgsz=imgsz, device=\"cpu\")\n",
        "    return model, model_name\n",
        "\n",
        "\n",
        "def save_model(model, model_name, dataset, task, classes, imgsz=640):\n",
        "    model_src = model.export(format=\"onnx\")\n",
        "    multiple.upload_file(model_src, f\"{dataset}/{model_name}.onnx\")\n",
        "    multiple.save_json(f\"{dataset}/{model_name}.json\", {'task': task, 'inputShape': [1, 3, imgsz, imgsz], 'classes': classes})\n",
        "\n",
        "\n",
        "def plot_results(src, results):\n",
        "    result = results[0]\n",
        "    img = Image.open(src).convert('RGB')\n",
        "    draw = ImageDraw.Draw(img)\n",
        "    if result.masks:\n",
        "        for mask in result.masks:\n",
        "            print('mask', mask)\n",
        "            polygon = mask.xy[0]\n",
        "            draw.polygon(polygon, outline=\"#ffff00\", width=2)\n",
        "    if result.boxes:\n",
        "        for box in result.boxes.data:\n",
        "            x1, y1, x2, y2, class_id, prob = box\n",
        "            draw.rectangle((x1, y1, x2, y2), None, \"#00ff00\", width=3)\n",
        "    if result.probs:\n",
        "        draw.text((0, 0), f\"{result.names[result.probs.top1]} {result.probs.data[result.probs.top1]}\")\n",
        "    display(img)\n",
        "\n",
        "\n",
        "import ipywidgets as widgets\n",
        "from IPython.display import display\n",
        "from IPython.display import Image as show_image\n",
        "\n",
        "projects = load_projects()\n",
        "\n",
        "dropdown_project = widgets.Dropdown(description='Project', options=projects, value=projects[0])\n",
        "text_classes = widgets.Text(description='Classes', value='')\n",
        "text_task = widgets.Text(description='Task', value='')\n",
        "label_status = widgets.Label(value='')\n",
        "\n",
        "def dropdown_project_eventhandler(change):\n",
        "    output_train.clear_output()\n",
        "    output_labels.clear_output()\n",
        "    output_pred.clear_output()\n",
        "\n",
        "    label_status.value = 'Loading annotations...'\n",
        "    dataset = dropdown_project.value\n",
        "    annotations = load_annotations(dataset)\n",
        "    classes = load_labels(annotations)\n",
        "    task = load_task(annotations)\n",
        "    text_classes.value = str(classes)\n",
        "    text_task.value = str(task)\n",
        "    label_status.value = 'Annotations loaded.'\n",
        "\n",
        "    button_train.disabled = False\n",
        "\n",
        "dropdown_project.observe(dropdown_project_eventhandler, names='value')\n",
        "\n",
        "button_train = widgets.Button(description='Train', disabled=True)\n",
        "output_train = widgets.Output(layout={'border': '1px solid black', 'width': '50%', 'height': '360px', 'overflow': 'auto'})\n",
        "\n",
        "output_labels = widgets.Output()\n",
        "output_pred = widgets.Output()\n",
        "\n",
        "def button_train_eventhandler(obj):\n",
        "    output_train.clear_output()\n",
        "    with output_train:\n",
        "        button_train.disabled = True\n",
        "        dataset = dropdown_project.value\n",
        "        classes = eval(text_classes.value)\n",
        "        task = text_task.value\n",
        "        #model_path = f'{dropdown_project.value}/{text_model.value}.hdf5'\n",
        "        #model_type = dropdown_type.value\n",
        "        #batch_size = 32\n",
        "        #epochs = 50\n",
        "\n",
        "        label_status.value = 'Downloading dataset...'\n",
        "        create_dataset(dataset, task, classes)\n",
        "\n",
        "        image_size = 128\n",
        "        label_status.value = 'Training model...'\n",
        "        model, model_name = train_model(dataset, task, imgsz=image_size)\n",
        "        save_model(model, model_name, dataset, task, classes, imgsz=image_size)\n",
        "        label_status.value = 'Model saved'\n",
        "\n",
        "        src = glob.glob(f\"{dataset}/test/*/*.png\")[0]\n",
        "        results = model.predict(src)\n",
        "        plot_results(src, results)\n",
        "    button_train.disabled = False\n",
        "\n",
        "    with output_labels:\n",
        "        display(show_image(filename=f\"runs/{task}/train/val_batch0_labels.jpg\"))\n",
        "    with output_pred:\n",
        "        display(show_image(filename=f\"runs/{task}/train/val_batch0_pred.jpg\"))\n",
        "\n",
        "button_train.on_click(button_train_eventhandler)\n",
        "\n",
        "hbox_output = widgets.HBox([output_train, output_labels, output_pred])\n",
        "dashboard = widgets.VBox([dropdown_project, text_classes, text_task, button_train, label_status, hbox_output])\n",
        "display(dashboard)\n"
      ]
    }
  ],
  "metadata": {
    "colab": {
      "provenance": []
    },
    "kernelspec": {
      "display_name": "Python 3",
      "name": "python3"
    },
    "language_info": {
      "name": "python"
    },
    "widgets": {
      "application/vnd.jupyter.widget-state+json": {
        "02edd14b8e27479ba01b843b825a3069": {
          "model_module": "@jupyter-widgets/base",
          "model_module_version": "1.2.0",
          "model_name": "LayoutModel",
          "state": {
            "_model_module": "@jupyter-widgets/base",
            "_model_module_version": "1.2.0",
            "_model_name": "LayoutModel",
            "_view_count": null,
            "_view_module": "@jupyter-widgets/base",
            "_view_module_version": "1.2.0",
            "_view_name": "LayoutView",
            "align_content": null,
            "align_items": null,
            "align_self": null,
            "border": null,
            "bottom": null,
            "display": null,
            "flex": null,
            "flex_flow": null,
            "grid_area": null,
            "grid_auto_columns": null,
            "grid_auto_flow": null,
            "grid_auto_rows": null,
            "grid_column": null,
            "grid_gap": null,
            "grid_row": null,
            "grid_template_areas": null,
            "grid_template_columns": null,
            "grid_template_rows": null,
            "height": null,
            "justify_content": null,
            "justify_items": null,
            "left": null,
            "margin": null,
            "max_height": null,
            "max_width": null,
            "min_height": null,
            "min_width": null,
            "object_fit": null,
            "object_position": null,
            "order": null,
            "overflow": null,
            "overflow_x": null,
            "overflow_y": null,
            "padding": null,
            "right": null,
            "top": null,
            "visibility": null,
            "width": null
          }
        },
        "0448a70cab7846ad8a99ef12aa812409": {
          "model_module": "@jupyter-widgets/controls",
          "model_module_version": "1.5.0",
          "model_name": "FloatProgressModel",
          "state": {
            "_dom_classes": [],
            "_model_module": "@jupyter-widgets/controls",
            "_model_module_version": "1.5.0",
            "_model_name": "FloatProgressModel",
            "_view_count": null,
            "_view_module": "@jupyter-widgets/controls",
            "_view_module_version": "1.5.0",
            "_view_name": "ProgressView",
            "bar_style": "success",
            "description": "",
            "description_tooltip": null,
            "layout": "IPY_MODEL_1cb82e807e1d4fc98348bc8e03e49dd8",
            "max": 140,
            "min": 0,
            "orientation": "horizontal",
            "style": "IPY_MODEL_254c44777abc4f35b8fde9d8c295c03b",
            "value": 140
          }
        },
        "0511487b04c34693a8247b5fe2ce575a": {
          "model_module": "@jupyter-widgets/controls",
          "model_module_version": "1.5.0",
          "model_name": "HBoxModel",
          "state": {
            "_dom_classes": [],
            "_model_module": "@jupyter-widgets/controls",
            "_model_module_version": "1.5.0",
            "_model_name": "HBoxModel",
            "_view_count": null,
            "_view_module": "@jupyter-widgets/controls",
            "_view_module_version": "1.5.0",
            "_view_name": "HBoxView",
            "box_style": "",
            "children": [
              "IPY_MODEL_9be35863efb241bbac7f0f09b240ec4a",
              "IPY_MODEL_ffaf128fbd4f4d6caeb22c871ada12af",
              "IPY_MODEL_ea673f95f4c54105894b29bf407062d0"
            ],
            "layout": "IPY_MODEL_4b231be1f14947af83a62d06671dd847"
          }
        },
        "0b6f6cd0d7b5473db3b0c5628168bb02": {
          "model_module": "@jupyter-widgets/controls",
          "model_module_version": "1.5.0",
          "model_name": "DescriptionStyleModel",
          "state": {
            "_model_module": "@jupyter-widgets/controls",
            "_model_module_version": "1.5.0",
            "_model_name": "DescriptionStyleModel",
            "_view_count": null,
            "_view_module": "@jupyter-widgets/base",
            "_view_module_version": "1.2.0",
            "_view_name": "StyleView",
            "description_width": ""
          }
        },
        "104931c6f3d64067b21d03606361060f": {
          "model_module": "@jupyter-widgets/base",
          "model_module_version": "1.2.0",
          "model_name": "LayoutModel",
          "state": {
            "_model_module": "@jupyter-widgets/base",
            "_model_module_version": "1.2.0",
            "_model_name": "LayoutModel",
            "_view_count": null,
            "_view_module": "@jupyter-widgets/base",
            "_view_module_version": "1.2.0",
            "_view_name": "LayoutView",
            "align_content": null,
            "align_items": null,
            "align_self": null,
            "border": null,
            "bottom": null,
            "display": null,
            "flex": null,
            "flex_flow": null,
            "grid_area": null,
            "grid_auto_columns": null,
            "grid_auto_flow": null,
            "grid_auto_rows": null,
            "grid_column": null,
            "grid_gap": null,
            "grid_row": null,
            "grid_template_areas": null,
            "grid_template_columns": null,
            "grid_template_rows": null,
            "height": null,
            "justify_content": null,
            "justify_items": null,
            "left": null,
            "margin": null,
            "max_height": null,
            "max_width": null,
            "min_height": null,
            "min_width": null,
            "object_fit": null,
            "object_position": null,
            "order": null,
            "overflow": null,
            "overflow_x": null,
            "overflow_y": null,
            "padding": null,
            "right": null,
            "top": null,
            "visibility": null,
            "width": null
          }
        },
        "12ce5ed859d04c129eec58f8ea4a1c0f": {
          "model_module": "@jupyter-widgets/controls",
          "model_module_version": "1.5.0",
          "model_name": "HTMLModel",
          "state": {
            "_dom_classes": [],
            "_model_module": "@jupyter-widgets/controls",
            "_model_module_version": "1.5.0",
            "_model_name": "HTMLModel",
            "_view_count": null,
            "_view_module": "@jupyter-widgets/controls",
            "_view_module_version": "1.5.0",
            "_view_name": "HTMLView",
            "description": "",
            "description_tooltip": null,
            "layout": "IPY_MODEL_6f284d6270a54efcb9b11415fc73a5d7",
            "placeholder": "​",
            "style": "IPY_MODEL_0b6f6cd0d7b5473db3b0c5628168bb02",
            "value": "100%"
          }
        },
        "17b9df8f825e4d6e92da34426a202f26": {
          "model_module": "@jupyter-widgets/output",
          "model_module_version": "1.0.0",
          "model_name": "OutputModel",
          "state": {
            "_dom_classes": [],
            "_model_module": "@jupyter-widgets/output",
            "_model_module_version": "1.0.0",
            "_model_name": "OutputModel",
            "_view_count": null,
            "_view_module": "@jupyter-widgets/output",
            "_view_module_version": "1.0.0",
            "_view_name": "OutputView",
            "layout": "IPY_MODEL_c887c46ab1ad483bbc0d602a7c05978d",
            "msg_id": "",
            "outputs": [
              {
                "data": {
                  "image/jpeg": "/9j/4AAQSkZJRgABAQAAAQABAAD/2wBDAAgGBgcGBQgHBwcJCQgKDBQNDAsLDBkSEw8UHRofHh0aHBwgJC4nICIsIxwcKDcpLDAxNDQ0Hyc5PTgyPC4zNDL/2wBDAQkJCQwLDBgNDRgyIRwhMjIyMjIyMjIyMjIyMjIyMjIyMjIyMjIyMjIyMjIyMjIyMjIyMjIyMjIyMjIyMjIyMjL/wAARCAKAAoADASIAAhEBAxEB/8QAHwAAAQUBAQEBAQEAAAAAAAAAAAECAwQFBgcICQoL/8QAtRAAAgEDAwIEAwUFBAQAAAF9AQIDAAQRBRIhMUEGE1FhByJxFDKBkaEII0KxwRVS0fAkM2JyggkKFhcYGRolJicoKSo0NTY3ODk6Q0RFRkdISUpTVFVWV1hZWmNkZWZnaGlqc3R1dnd4eXqDhIWGh4iJipKTlJWWl5iZmqKjpKWmp6ipqrKztLW2t7i5usLDxMXGx8jJytLT1NXW19jZ2uHi4+Tl5ufo6erx8vP09fb3+Pn6/8QAHwEAAwEBAQEBAQEBAQAAAAAAAAECAwQFBgcICQoL/8QAtREAAgECBAQDBAcFBAQAAQJ3AAECAxEEBSExBhJBUQdhcRMiMoEIFEKRobHBCSMzUvAVYnLRChYkNOEl8RcYGRomJygpKjU2Nzg5OkNERUZHSElKU1RVVldYWVpjZGVmZ2hpanN0dXZ3eHl6goOEhYaHiImKkpOUlZaXmJmaoqOkpaanqKmqsrO0tba3uLm6wsPExcbHyMnK0tPU1dbX2Nna4uPk5ebn6Onq8vP09fb3+Pn6/9oADAMBAAIRAxEAPwDsfFfirX9P8UXtlYXbLBEFZUEKNtHlqxOSpPcmsP8A4TzxL/0Ev/IEf/xNXfFSJJ471YOqsBblgCM4IgBBqhPJHDDc7LS1zBFAyEwqTllG4njnOe/FADv+E88S/wDQS/8AIEf/AMTR/wAJ54l/6CX/AJAj/wDiasxWca6ksdvZQSwG7dbjfGG2DI2jJ+6MdPXpzXJ0AdL/AMJx4oCqxv2w/wB0/Z4+fp8tT/8ACW+MjP5Ann84jd5f2RN2PXGzOKpRXJlm0aWd1GGYA4CquG49gAcVJDHdQaettJYtcXTCXMLsQwQtGQcA7jyrdPUmgB8vjfxVBK0U188ci9Ve2jBH4FaZ/wAJ54l/6CX/AJAj/wDiarRWUQ8RQRpDugEkQkQ/MqMwBKE/XI/CrCxBfLku7OBLkRXDeV5QAKqmUJX65574oAX/AITzxL/0Ev8AyBH/APE0f8J54l/6CX/kCP8A+JpixCVBPBawvePaq6xiIEE7yrEJjGcAdvU1nazGsWqOixpGAkZKR/dB2LnH40Aan/CeeJf+gl/5Aj/+Jo/4TzxL/wBBL/yBH/8AE1zlFAHR/wDCeeJf+gl/5Aj/APiaP+E88S/9BL/yBH/8TXOUUAdH/wAJ54l/6CX/AJAj/wDiaP8AhPPEv/QS/wDIEf8A8TXOUUAdH/wnniX/AKCX/kCP/wCJo/4TzxL/ANBL/wAgR/8AxNc5RQB0f/CeeJf+gl/5Aj/+Jq7o/jXxDda5p9vNqG6KW5jR18mMZUsARwvpXH1peHv+Rl0r/r8h/wDQxQB1vivxVr+n+KL2ysLtlgiCsqCFG2jy1YnJUnuTWH/wnniX/oJf+QI//iau+KkSTx3qwdVYC3LAEZwRACDVCeSOGG52WlrmCKBkJhUnLKNxPHOc9+KAHf8ACeeJf+gl/wCQI/8A4mj/AITzxL/0Ev8AyBH/APE1Zis411JY7eyglgN263G+MNsGRtGT90Y6evTmuUUZYD39cUAdVN4v8YW0ayT3E0SNwrPaIoP0JWq//CeeJf8AoJf+QI//AImoNVt2nWSeSwNtdS3AEaKxYyhs5x64O0ZHBzUq22NOg8y0iW2NpI0kxjG4SAvt+bqDkKMd6AHf8J54l/6CX/kCP/4mj/hPPEv/AEEv/IEf/wATUkMdrNdyW8ttbrFFFA6kIFJYhM5brgluaztVikSws2uLWO3uGklDBIwhIG3GQPx/n3oAu/8ACeeJf+gl/wCQI/8A4mj/AITzxL/0Ev8AyBH/APE1zlFAHR/8J54l/wCgl/5Aj/8AiaP+E88S/wDQS/8AIEf/AMTXOUUAdH/wnniX/oJf+QI//iaP+E88S/8AQS/8gR//ABNc5RQB0f8AwnniX/oJf+QI/wD4mj/hPPEv/QS/8gR//E1zlFAHR/8ACeeJf+gl/wCQI/8A4mj/AITzxL/0Ev8AyBH/APE1zlFAHR/8J54l/wCgl/5Aj/8Aiau6P418Q3WuafbzahuiluY0dfJjGVLAEcL6Vx9aXh7/AJGXSv8Ar8h/9DFAHW+K/FWv6f4ovbKwu2WCIKyoIUbaPLViclSe5NYf/CeeJf8AoJf+QI//AImrvipEk8d6sHVWAtywBGcEQAg1Qnkjhhudlpa5gigZCYVJyyjcTxznPfigB3/CeeJf+gl/5Aj/APiaP+E88S/9BL/yBH/8TVmKzjXUljt7KCWA3brcb4w2wZG0ZP3Rjp69Oa5Rc7hg4OeDnFAHTy+M/FsGzzbuWPeMpvtUG76fLzSTeNfFds+ye9kifGdr20anH4rTbdZLdLT7YskMovAxad93msQfnB9AQMnnORzWde29xHpltFPHJ58byyMpBJWM7ACfQbt35+9AF/8A4TzxL/0Ev/IEf/xNH/CeeJf+gl/5Aj/+JqzBaIbuJJ7G3W1225ibywN7nZuGe+QWyPaqNusd1FbTm2gNwROsaLGArsoUqCvQnk/XjrQBL/wnniX/AKCX/kCP/wCJo/4TzxL/ANBL/wAgR/8AxNZ+sxmN7PfBHDK1uGkVFC/NubqB0PSsygDo/wDhPPEv/QS/8gR//E0f8J54l/6CX/kCP/4mucooA6P/AITzxL/0Ev8AyBH/APE0f8J54l/6CX/kCP8A+JrnKKAOj/4TzxL/ANBL/wAgR/8AxNH/AAnniX/oJf8AkCP/AOJrnKKAOj/4TzxL/wBBL/yBH/8AE0f8J54l/wCgl/5Aj/8Aia5yigDo/wDhPPEv/QS/8gR//E1d0fxr4hutc0+3m1DdFLcxo6+TGMqWAI4X0rj60vD3/Iy6V/1+Q/8AoYoA63xX4q1/T/FF7ZWF2ywRBWVBCjbR5asTkqT3JrD/AOE88S/9BL/yBH/8TV3xUiSeO9WDqrAW5YAjOCIAQaoTyRww3Oy0tcwRQMhMKk5ZRuJ45znvxQA7/hPPEv8A0Ev/ACBH/wDE0f8ACeeJf+gl/wCQI/8A4mrMVnGupLHb2UEsBu3W43xhtgyNoyfujHT16c1ydAHTp418VyNGqXsjGQ4QLbRnd9Pl5qdvFPjVJEjeS5V3ztU2aAtjrgbOaxNQmkubDT2cgttdQAAABu4AAq9gtd3elxpK0UUQh/cAM+VYFiFyN2Wzn2x6UAPbx14nRiraiVYHBBt4wQf++aT/AITzxL/0Ev8AyBH/APE1E0SXHiiHERlhV4Y5d3zDdtAIY9M5B/I1IsQXy5LuzgS5EVw3leUACqplCV+uee+KAF/4TzxL/wBBL/yBH/8AE0f8J54l/wCgl/5Aj/8AiaYsQlQTwWsL3j2qusYiBBO8qxCYxnAHb1NZ2sxrFqjosaRgJGSkf3Qdi5x+NAGp/wAJ54l/6CX/AJAj/wDiaP8AhPPEv/QS/wDIEf8A8TXOUUAdH/wnniX/AKCX/kCP/wCJo/4TzxL/ANBL/wAgR/8AxNc5RQB0f/CeeJf+gl/5Aj/+Jo/4TzxL/wBBL/yBH/8AE1zlZt3pl7K8t1/alvZxOxWCOedkMpVVLBcDA6jliBk9a7svwX1yq6aly6X/ACM6tT2ava52v/CeeJf+gl/5Aj/+Jo/4TzxL/wBBL/yBH/8AE1xFxouoLHcTjURDHCsACSXDu0kksXmKq4TknB6gAdMnrU0Og3Yu57abWEuJoobgtDaXLF45Y4ywVgRyMjGVyO2a9V8PNK/tV9z9TD63/dOx/wCE88S/9BL/AMgR/wDxNXdH8a+IbrXNPt5tQ3RS3MaOvkxjKlgCOF9K8x1PTdT0uB5W1NLgRTeROIJ3YwS4JCtkAfwtyuR8p5rsPD3/ACMulf8AX5D/AOhivPzHLXglCXOpc19vK3+ZrSre0vpaxo+PP+R01D/tn/6LWucro/Hn/I6ah/2z/wDRa1zleYbHj1hrl9pkDxWbW8e7P737LE0q5GDtkKl149CKmn8S31zbyQPBpQSRSpMek2qMAfRljBB9wc1kUUAFFFFAE9leXGnXsN5ayeXcQOHjfAO1h0ODxUFFFAFqw1CbTpzNAlszEYxcW0c6/k6kZ96ZeXlxf3cl1dSmWeU5dz3/AMPpUFFABRRRQAUUUUAFFFFABRRRQB7lWl4e/wCRl0r/AK/If/QxWbWl4e/5GXSv+vyH/wBDFAGj48/5HTUP+2f/AKLWucro/Hn/ACOmof8AbP8A9FrXOUAePWGuX2mQPFZtbx7s/vfssTSrkYO2QqXXj0IqafxLfXNvJA8GlBJFKkx6TaowB9GWMEH3BzWRRQAVPcXlxdx26TybltovJiGANqbi2OOvLMefWoKKAHwytBMkqBCyEMA6B1/FSCCPYirWo6teaqYvtTx7YgVjjhhSFEBOThEAUZ7nHNUqKACiiigAooooAKKKKACiiigAooooA9yrS8Pf8jLpX/X5D/6GKza0vD3/ACMulf8AX5D/AOhigDR8ef8AI6ah/wBs/wD0Wtc5XR+PP+R01D/tn/6LWucoA8esNcvtMgeKza3j3Z/e/ZYmlXIwdshUuvHoRU0/iW+ubeSB4NKCSKVJj0m1RgD6MsYIPuDmsiigAooooAnvLy4v7jz7mTzJdiJuwB8qqFUcegUCi0upLK5WeJYWdegmhSVfxVwQfxFQUUAWtQ1G61S5+0XcgdwoRQqKiqo6BVUAKPYAVVoooAKKKKACiiigAooooAKKKKAPcq0vD3/Iy6V/1+Q/+his2tLw9/yMulf9fkP/AKGKANHx5/yOmof9s/8A0Wtc5XR+PP8AkdNQ/wC2f/ota5ygDx6w1y+0yB4rNrePdn979liaVcjB2yFS68ehFTT+Jb65t5IHg0oJIpUmPSbVGAPoyxgg+4OayKKACiiigCeyvLjTr2G8tZPLuIHDxvgHaw6HB4qCiigC1YahNp05mgS2ZiMYuLaOdfydSM+9MvLy4v7uS6upTLPKcu57/wCH0qCigAooooAKKKKACvRvCmoQ3nh+10qbSmv5rXzJYNs5jCh2wQ/HzLkZ4Knk815zXr/gWKMaGZdieYXKll9AAcD25Ne7kKtVnU7Lz6vumjmxXwpFq9fWLqFlj0zynMtrKr+ejbTDD5Y49+vt0561He6wNDuptYGhPaTT+cskxufMUSSRvwgAwFGGbByflxmuirF8WKreGb0lUJVAQX6DkV9K6t1yqK7ddtF37I4+Xrcj8Q6pquv23lPb3w3zec4n1Npo1ODxGhICryeu4+/XO34e/wCRl0r/AK/If/QxWbWl4e/5GXSv+vyH/wBDFfF4zHzxUYwlFJRva1+tu7fY9CnSUG2nuaPjz/kdNQ/7Z/8Aota5yuj8ef8AI6ah/wBs/wD0Wtc5XCanhtFFFABRRRQB0ek+F5tV0pr6K2vZY4wTNJDGWSMAnqcHHTvV9/A8oMvlQX06QxrJLJHE21FZA+Wygxwep44yCRzW34bvbWXwbpkB1d9NmspbiQhI3LS7yMFNvG7gqdxUYxzWzqOv2T2kqQTebuuLCQxbWAkWK3KODkdm49+ozX3WCwFCpQpydFNuK6Py1vs76vT5nmVKslJ+8cdF4BuGOJoLu2Bt5LlGuEKCREUsdpK88Cqtz4QeySJ7q3voEmXdE0qbQ49VyvI+leiR6xptrrd7qD6297BdfaZRamKQAF42Ch8jG85C8ZGM/NWf4l8RwapFdxW1vbJHc3v2rcomMpwGALb5GUHDchRjgc8Cuinl2HlUSdBWfWzVvvJdWaXxHkFFb58H6tg4tLgntmE1kyWFxDI0cojSRCVZWlUEEdQRmviauAxNK3PB6/P8j0Y1YS2ZWoqf7JJ/eh/7/J/jR9klwSDEcAkhZVJwOTwDWP1at/I/uZXPHuQUUUViUFFFFAHuVaXh7/kZdK/6/If/AEMVm1peHv8AkZdK/wCvyH/0MUAaPjz/AJHTUP8Atn/6LWucro/Hn/I6ah/2z/8ARa1zlAHhtFFFABRRRQAUUUUAFFFFABRRRQBLb20t1IUhTcwGSMgcfjVn+x7/AP54f+Pr/jW78P7O3vNfuftMJnSCxmnEAYjzSgyFyOcdzjnAPSvRdJ06x1JLXz9Lms7a51O0R7cTybHRklyy5OcHHBJJHODya+hy7LcJXw3tarlddmrfir/oclWtOM+WNjx3+x7/AP54f+Pr/jR/Y9//AM8P/H1/xr1MQ6e+l213F4e+0vfyyxiOCaXMGxVwE5OW53HduHPAFdLd6Fo9zNZTXzRNJfCGFiVuGkjC28OPKWJGUv8ANnD9eBgda7p5LgINJ8/XrFvTfRL1+7S5msRVfb8T5+uLaW1kCTJtYjIGQePwqKtXxAMaggzn92OfxNZVfOY/Dxw+JnRhsn1OulNzgpM9yrS8Pf8AIy6V/wBfkP8A6GKza0vD3/Iy6V/1+Q/+hiuM0NHx5/yOmof9s/8A0Wtc5XR+PP8AkdNQ/wC2f/ota5ygDw2iiigAooooAKKKKACiiigAooooAKKKKACiiigAooooA9yrS8Pf8jLpX/X5D/6GKza0vD3/ACMulf8AX5D/AOhigDR8ef8AI6ah/wBs/wD0Wtc5XR+PP+R01D/tn/6LWucoA8NooooAKKKKACiiigAooooAKKKKACiiigAr0rwP4gt4rcWFwY4d48xGJwCS23H6CvNalS6uI0CJPKqjoFcgV35fjPqs23s0ZVafOj6CrmPGWr2UOi3NiJ0e8kwPI6kLtZix9vkAx/tV5N9tuv8An5m/7+Gka7uWUq1xKQRgguea9Oec02vcTT+X+ZisO+p7ZWl4e/5GXSv+vyH/ANDFZtaXh7/kZdK/6/If/QxXzp1mj48/5HTUP+2f/ota5yuj8ef8jpqH/bP/ANFrXOUAeG0UUUAFFFFAE8/+ptf+uR/9Datzwt4Un1+5WWVZI9PVsSSrwWx1VSQRn35xnpTPD+jLrmqWNtISIRHvlCkBiods4/z3r2G0tILG2S3t4xHEgwFFe5hsv9vNVKnw2Xz938DmnV5VZblTTNDsNJQC2gUOBgyNyx/Ht9BxWjRRX0ByhVO/0uy1OLy7y3SQYwCRyPoetXKKAPKvFfgWbSIpdR0yOebS4yqyNIQ7REg43EADBwecVylp/rm/65Sf+gGvfpI0ljaORQyMMEHoa8q8YaBBoviBpbGB4dPuo5WhR33bCEO5c4GcZH518/iMv9hXhUp/DdfLVfedUKvNFp7nH0UUV4Z0hRRRQB7lWl4e/wCRl0r/AK/If/QxWbWl4e/5GXSv+vyH/wBDFAGj48/5HTUP+2f/AKLWucro/Hn/ACOmof8AbP8A9FrXOUAeG0UUUAFFFFABRRRQAUUUUAFFFFAGhpN9caZcSXlrI0c8SZR1YgqdyjII5rvfD0fivW3t9Xvrm4isZpw5uDK4klZBjcpJPIDYDHOM964rw3po1bUxZk/LIAGGcEqGBOPwB5r2q1torO1jtoECRRrtVR2FfS5ZGv7OElK0LPTvq/8AgHHWcbvTUyY/DNtFGyJd3iqwwwWQAN9RinDw5AoYLeXoDjDASjkdOeK2aK976xV7nLyROQ1fwPBcWbNYyt9sXGwzhGUjuD8uf8nrXA6lpuo6Lq9zpWq2iQ3EKuGQwqOikgggdOOte21yXjfRbe4sG1NVC3MKlWkLcFCrDBH1IOe2D615eLw9SrUVWMne6ur77edtvvN6c1FcrRsVpeHv+Rl0r/r8h/8AQxWbWl4e/wCRl0r/AK/If/QxXyB3mj48/wCR01D/ALZ/+i1rnK6Px5/yOmof9s//AEWtc5QB4bRW9oHhufXoZTbWt5cSRk7ltoy+1cDkgA+takfgeacwrawX1y8sXmhIYmYhdxX+5zyOoyO2c5A9ajkuJrU1Ujaz8zCWIhF2ZxtFdtZeALm+mslWC7hivJRFDcTIViZj/tbefwqpJ4QeGzjvJbe+S1lOI52TCOfQNtwa2XD+MbsuW/r/AF2J+tU/M5SipLiMRXMsa5IRyoz7Go68WcXCTi90dCd1cKKKKkYUUUUAFFFFABRRRQAUUUUAe5VpeHv+Rl0r/r8h/wDQxWbWl4e/5GXSv+vyH/0MUAaPjz/kdNQ/7Z/+i1rnK6Px5/yOmof9s/8A0Wtc5QB4bRRRQAUUUUAFFFFABRRRQAUUUUAFFFFABRRRQAUUUUAe5VpeHv8AkZdK/wCvyH/0MVm1peHv+Rl0r/r8h/8AQxQBo+PP+R01D/tn/wCi1rnK6Px5/wAjpqH/AGz/APRa1zlAHhtFFFABRRRQB638P7aKDQGkVczPIVeQOcMo5UY6cFm577q6yuZ8C/8AIvfw/wCtP3enReldNX3cIRhGMYrSy/I8xtt3YUUUUxBRRRQAVleLmhm8EX9tNEXZHWaBzKVWF8FGO3ocq2PwHpWrWN4r/wCRXv8A7v3B97p94daUoRnpJf0hptbHiNFFFfCHphRRRQB7lWl4e/5GXSv+vyH/ANDFZtaXh7/kZdK/6/If/QxQBo+PP+R01D/tn/6LWucro/Hn/I6ah/2z/wDRa1zlAHhtFFFABRRRQAUUUUAFFFFABRRRQB1fw9/5GiP7v3G+v3T/AJ/KvXK8f8CTJb+I45JGRV2lck4PPA/Dn+VewV9dln+6Q+f5s4K3xsKKKK7jIKxvFf8AyK9/937g+90+8OtbNYni6VE8NXaMyBpFwoc8E5z/ACBprcCatLw9/wAjLpX/AF+Q/wDoYrNrS8Pf8jLpX/X5D/6GK+CPUNHx5/yOmof9s/8A0Wtc5XR+PP8AkdNQ/wC2f/ota5ygDj/BN3at4WutPl1L+zZft6XKzFHYOFQjHyAncCcjtyeRXQX2v2/9mPb291LPJLpy2zyOCrbhdNKc9eSuCeSOeprmfh/okOpwT3dwjtHazAY2/KSwyAT2+5074PpXpYAAAAwB2r7jLqkI4emmr2s91v8Adf8AE82sm5swLHXbRvEVvqs+pS20CyWwa0VXYbUAHOONq7cjAJ5HHU1LrPiHTbzRrr7MbNZbq2ggMIjuDMuzZwSz+UoGzgqCcHGBk1sSRpLG0cihkYYIPQ15L480mz0jVxFYRPDazM00cTPuKA4G3OBkcVWKxcaH75QbUUvtJbNWXw6/8AUKbl7t9/I5u9/4/rj/AK6t/OoKKK+IqT55ufd3PSSsrBRRRUDCiiigAooooAKKKKACiiigD3KtLw9/yMulf9fkP/oYrNrS8Pf8jLpX/X5D/wChigDR8ef8jpqH/bP/ANFrXOV0fjz/AJHTUP8Atn/6LWucoA8NooooAKKKKACiiigAooooAKKKKACiiigAooooAKKKKAPcq0vD3/Iy6V/1+Q/+his2tLw9/wAjLpX/AF+Q/wDoYoA0fHn/ACOmof8AbP8A9FrXOV0fjz/kdNQ/7Z/+i1rnKAPDaKKKACiiigD2XwDEZPBaXoUhTdyRMAvyrhVxz788f7PeuirzDwNrMlhdxWUkxFpcRgshbADh3AbGcdyM+4r0+vtcLUlUoxlLey/JHnTSUmkFFFFbkBRRRQAVjeLDjwxffd5Qfe6dR19q2a4Xx5r5KrolvIdhDzXIB4JWNgg4/wB5iQf9n0rOrV9lFStfVL73YqMeZ2PMqKKK+HPSCiiigD3KtLw9/wAjLpX/AF+Q/wDoYrNrS8Pf8jLpX/X5D/6GKANHx5/yOmof9s//AEWtc5XR+PP+R01D/tn/AOi1rnKAPDaKKKACiiigAooooAKKKKACiiigCzaSPCJ5YnZJEQMrKcFSHXBBr1rwt4pstW022hmuiNTBKyROuN2MYZTnnPP5d815BDN5W/5FcOu0hs+oPYj0qWO7EMqyxW8aSIQysrOCpHcHdXp4TF+x5WpK1rNO+urfRPuYzhzX0PfqK8gg8eavbwrGjjaoA5wf5g1L/wALC1n++v8A3yv+Fe7/AGlhP+fn4S/yOb2NTt+R6rc3UFnbtPcyrFEvLMx4FeYeL/EiaxrUtpp91LLpcKyeWWXYJWCMN+3J9Tj6n1rF1PxLe6txd/vE/uF2C5+gIHf0rOFyq52W0SkqVyC3GRg9T7152Kx8Kk0oTXKmm99bWfb9TWFJparU9qrS8Pf8jLpX/X5D/wChis2tLw9/yMulf9fkP/oYrwDqNHx5/wAjpqH/AGz/APRa1zldH48/5HTUP+2f/ota5ygDnvhaR/YWqjM2TcwnA/1f3X+9/tenturtq8d8Ma/caHtMTI0Ekp8+IyKpIAGCASMkZbFekx+KtGeNW+2KuRnBUn+Qr7HL3z0VGPRL8jz6ukrs2a8x+Jx/4mtl/wBcT/6FXZXPizSYbd3juRK6jIUAjP4mvLfEGqz6vMlzcmMSFm+VJAwVflx0/GpzN8uFnGW7S/8ASkOjrNMxqKKK+QO8KKKKACiiigAooooAKKKKACiiigD3KtLw9/yMulf9fkP/AKGKza0vD3/Iy6V/1+Q/+higDR8ef8jpqH/bP/0Wtc5XR+PP+R01D/tn/wCi1rnKAPDaKKKACiiigAooooAKKKKACiiigAooooAKKKKACiiigD3KtLw9/wAjLpX/AF+Q/wDoYrNrS8Pf8jLpX/X5D/6GKANHx5/yOmof9s//AEWtc5XR+PP+R01D/tn/AOi1rnKAPDaKKKACiiigCef/AFNr/wBcj/6G1eieDvGP2gLp+oMFZQBHKT19jXnnnQtFGskUhKLtysgGeSfQ+tJvtf8AnjN/39H/AMTXq0MT7GopxmrNK616K3Z7MwlDmVmj39WDKGUgqRkEd6WvHdM8aajpUCW8UtxLbpnZFPNvVMgDj5eOFH5VqD4nX+P+PC2P/Amr2KeZ4ZxvOaT/AO3n+hzujO+i/I9OorzH/hZ1/wD9A+2/76aql78QtYvLWS1See1glx5qW0uzfg5GTjPH1oqZnhlG8Jpv/t5foCozvqvyOq8W+MItKgNrYuJLxx95TkIPXPrXmEMjzXcssrs8jpKzMxyWJVskmm77X/njN/39H/xNOWa3j3FIZdxVlG6UEcgj+77149bEqtXjUnNWT218r/ZOiMOWLSRWoooryjcKKKKAPcq0vD3/ACMulf8AX5D/AOhis2tLw9/yMulf9fkP/oYoA0fHn/I6ah/2z/8ARa1zldH48/5HTUP+2f8A6LWucoA8NooooAKKKKACiiigAooooAKKKKACiiigAooooAKKKKAPcq0vD3/Iy6V/1+Q/+his2tLw9/yMulf9fkP/AKGKANHx5/yOmof9s/8A0Wtc5XR+PP8AkdNQ/wC2f/ota5ygDw2iiigAooooAKKKKACiiigAooooAKKKKACiiigAooooA9yrS8Pf8jLpX/X5D/6GKza0vD3/ACMulf8AX5D/AOhigDR8ef8AI6ah/wBs/wD0Wtc5XR+PP+R01D/tn/6LWucoA8NooooAKKKKACiiigAooooAKKKKACiiigAooooAKKKKAPcq0vD3/Iy6V/1+Q/8AoYrNrS8Pf8jLpX/X5D/6GKANHx5/yOmof9s//Ra1zldH48/5HTUP+2f/AKLWucoA8NooooAKKKKACiiigAooooAKKKKACiiigAooooAKKKKAPcq0vD3/ACMulf8AX5D/AOhis2tLw9/yMulf9fkP/oYoA0fHn/I6ah/2z/8ARa1zldH48/5HTUP+2f8A6LWucoA8NooooAKKKKACiiigAooooAKKKKACiiigAooooAKKKKAPcq0vD3/Iy6V/1+Q/+his2tLw9/yMulf9fkP/AKGKANHx5/yOmof9s/8A0Wtc5XR+PP8AkdNQ/wC2f/ota5ygDw2iiigAooooAKKKKACiiigAooooAKKKKACiiigAooooA9yrS8Pf8jLpX/X5D/6GKza0vD3/ACMulf8AX5D/AOhigDR8ef8AI6ah/wBs/wD0Wtc5XR+PP+R01D/tn/6LWucoA8NooooAKKKKACiiigAooooAKKKKACiiigAooooAKKKKAPcq0vD3/Iy6V/1+Q/8AoYrNrS8Pf8jLpX/X5D/6GKANHx5/yOmof9s//Ra1zldH48/5HTUP+2f/AKLWucoA8NooooAKKKKACiiigAooooAKKKKACiiigAooooAKKKKAPcq0vD3/ACMulf8AX5D/AOhis2tLw9/yMulf9fkP/oYoA0fHn/I6ah/2z/8ARa1zldH48/5HTUP+2f8A6LWucoA8NooooAKKKKACiiigAooooAKKKKACiiigAooooAKKKKAPcq0vD3/Iy6V/1+Q/+his2tLw9/yMulf9fkP/AKGKANHx5/yOmof9s/8A0Wtc5XR+PP8AkdNQ/wC2f/ota5ygDw2iiigAooooAKKKKACiiigAooooAKKKKACiiigAooooA9yrS8Pf8jLpX/X5D/6GKza0vD3/ACMulf8AX5D/AOhigDR8ef8AI6ah/wBs/wD0Wtc5XR+PP+R01D/tn/6LWucoA8NooooAKKKKACiiigAooooAKKKKACiiigAooooAKKKKAPcq0vD3/Iy6V/1+Q/8AoYrNrS8Pf8jLpX/X5D/6GKANHx5/yOmof9s//Ra1zldh410fVLrxdfTW+m3k0TeXteOBmU4jUcED1rB/4R7Wv+gPqH/gM/8AhQBm0Vpf8I9rX/QH1D/wGf8Awo/4R7Wv+gPqH/gM/wDhQBm0Vpf8I9rX/QH1D/wGf/Cj/hHta/6A+of+Az/4UAZtFaX/AAj2tf8AQH1D/wABn/wo/wCEe1r/AKA+of8AgM/+FAGbRWl/wj2tf9AfUP8AwGf/AAo/4R7Wv+gPqH/gM/8AhQBm0Vpf8I9rX/QH1D/wGf8Awo/4R7Wv+gPqH/gM/wDhQBm0Vpf8I9rX/QH1D/wGf/Cj/hHta/6A+of+Az/4UAZtFaX/AAj2tf8AQH1D/wABn/wo/wCEe1r/AKA+of8AgM/+FAGbRWl/wj2tf9AfUP8AwGf/AAo/4R7Wv+gPqH/gM/8AhQBm1peHv+Rl0r/r8h/9DFH/AAj2tf8AQH1D/wABn/wq/oWhavD4g02WXSr5I0uomZmt3AUBxkk44FADvHn/ACOmof8AbP8A9FrXOV2HjXR9UuvF19Nb6beTRN5e144GZTiNRwQPWsH/AIR7Wv8AoD6h/wCAz/4UAZtFaX/CPa1/0B9Q/wDAZ/8ACj/hHta/6A+of+Az/wCFAGbRWl/wj2tf9AfUP/AZ/wDCj/hHta/6A+of+Az/AOFAGbRWl/wj2tf9AfUP/AZ/8KP+Ee1r/oD6h/4DP/hQBm0Vpf8ACPa1/wBAfUP/AAGf/Cj/AIR7Wv8AoD6h/wCAz/4UAZtFaX/CPa1/0B9Q/wDAZ/8ACj/hHta/6A+of+Az/wCFAGbRWl/wj2tf9AfUP/AZ/wDCj/hHta/6A+of+Az/AOFAGbRWl/wj2tf9AfUP/AZ/8KP+Ee1r/oD6h/4DP/hQBm0Vpf8ACPa1/wBAfUP/AAGf/Cj/AIR7Wv8AoD6h/wCAz/4UAZtaXh7/AJGXSv8Ar8h/9DFH/CPa1/0B9Q/8Bn/wq/oWhavD4g02WXSr5I0uomZmt3AUBxkk44FADvHn/I6ah/2z/wDRa1zldh410fVLrxdfTW+m3k0TeXteOBmU4jUcED1rB/4R7Wv+gPqH/gM/+FAGbRWl/wAI9rX/AEB9Q/8AAZ/8KP8AhHta/wCgPqH/AIDP/hQBm0Vpf8I9rX/QH1D/AMBn/wAKP+Ee1r/oD6h/4DP/AIUAZtFaX/CPa1/0B9Q/8Bn/AMKP+Ee1r/oD6h/4DP8A4UAZtFaX/CPa1/0B9Q/8Bn/wo/4R7Wv+gPqH/gM/+FAGbRWl/wAI9rX/AEB9Q/8AAZ/8KP8AhHta/wCgPqH/AIDP/hQBm0Vpf8I9rX/QH1D/AMBn/wAKP+Ee1r/oD6h/4DP/AIUAZtFaX/CPa1/0B9Q/8Bn/AMKP+Ee1r/oD6h/4DP8A4UAZtFaX/CPa1/0B9Q/8Bn/wo/4R7Wv+gPqH/gM/+FAGbWl4e/5GXSv+vyH/ANDFH/CPa1/0B9Q/8Bn/AMKv6FoWrw+INNll0q+SNLqJmZrdwFAcZJOOBQA7x5/yOmof9s//AEWtc5XYeNdH1S68XX01vpt5NE3l7XjgZlOI1HBA9awf+Ee1r/oD6h/4DP8A4UAZtFaX/CPa1/0B9Q/8Bn/wo/4R7Wv+gPqH/gM/+FAGbRWl/wAI9rX/AEB9Q/8AAZ/8KP8AhHta/wCgPqH/AIDP/hQBm0Vpf8I9rX/QH1D/AMBn/wAKP+Ee1r/oD6h/4DP/AIUAZtFaX/CPa1/0B9Q/8Bn/AMKP+Ee1r/oD6h/4DP8A4UAZtFaX/CPa1/0B9Q/8Bn/wo/4R7Wv+gPqH/gM/+FAGbRWl/wAI9rX/AEB9Q/8AAZ/8KP8AhHta/wCgPqH/AIDP/hQBm0Vpf8I9rX/QH1D/AMBn/wAKP+Ee1r/oD6h/4DP/AIUAZtFaX/CPa1/0B9Q/8Bn/AMKP+Ee1r/oD6h/4DP8A4UAZtaXh7/kZdK/6/If/AEMUf8I9rX/QH1D/AMBn/wAKv6FoWrw+INNll0q+SNLqJmZrdwFAcZJOOBQBveK/FWv6f4ovbKwu2WCIKyoIUbaPLViclSe5NYf/AAnniX/oJf8AkCP/AOJq74qRJPHerB1VgLcsARnBEAINUJ5I4YbnZaWuYIoGQmFScso3E8c5z34oAd/wnniX/oJf+QI//iaUeO/EzMFXUSSeABBHz/47ViKzjXUljt7KCWA3brcb4w2wZG0ZP3Rjp69Oa5OgDrJvFnjO2QNPNcRKTtBezRQT6cpUU3jXxXbPsnvZInxna9tGpx+K1SSU2V5pltGm4psmddwXc7gHqeBhSoHpSapb+VYW0CpcGSNpZH85MOqHaASATgZz/PvQBa/4TzxL/wBBL/yBH/8AE0f8J54l/wCgl/5Aj/8AiaswWiG7iSext1tdtuYm8sDe52bhnvkFsj2qjbrHdRW05toDcETrGixgK7KFKgr0J5P1460AS/8ACeeJf+gl/wCQI/8A4mj/AITzxL/0Ev8AyBH/APE1n6zGY3s98EcMrW4aRUUL825uoHQ9KzKAOj/4TzxL/wBBL/yBH/8AE0f8J54l/wCgl/5Aj/8Aia5yigDo/wDhPPEv/QS/8gR//E0f8J54l/6CX/kCP/4mucooA6P/AITzxL/0Ev8AyBH/APE0f8J54l/6CX/kCP8A+JrnKKAOj/4TzxL/ANBL/wAgR/8AxNH/AAnniX/oJf8AkCP/AOJrnKKAOj/4TzxL/wBBL/yBH/8AE1d0fxr4hutc0+3m1DdFLcxo6+TGMqWAI4X0rj60vD3/ACMulf8AX5D/AOhigDrfFfirX9P8UXtlYXbLBEFZUEKNtHlqxOSpPcmsP/hPPEv/AEEv/IEf/wATV3xUiSeO9WDqrAW5YAjOCIAQaoTyRww3Oy0tcwRQMhMKk5ZRuJ45znvxQA7/AITzxL/0Ev8AyBH/APE0f8J54l/6CX/kCP8A+JqzFZxrqSx29lBLAbt1uN8YbYMjaMn7ox09enNcrGqtKiu+xCwDMRnaPXFAHSf8Jv4pKowvm2uSqn7NHhiOw+XnqPzp0/jTxZbOEnvJImIyFkto1OPxWob2Mz2mnJp1wjstxJHbrFvDAYTuVHPcn/a+uKWp21zBBBam2ufLgDuZZImUMSRuIyPuj5fz96AL3/CeeJf+gl/5Aj/+Jo/4TzxL/wBBL/yBH/8AE1ZgtEN3Ek9jbra7bcxN5YG9zs3DPfILZHtVG3WO6itpzbQG4InWNFjAV2UKVBXoTyfrx1oAl/4TzxL/ANBL/wAgR/8AxNH/AAnniX/oJf8AkCP/AOJrP1mMxvZ74I4ZWtw0iooX5tzdQOh6VmUAdH/wnniX/oJf+QI//iaP+E88S/8AQS/8gR//ABNc5RQB0f8AwnniX/oJf+QI/wD4mj/hPPEv/QS/8gR//E1zlFAHR/8ACeeJf+gl/wCQI/8A4mj/AITzxL/0Ev8AyBH/APE1zlFAHR/8J54l/wCgl/5Aj/8AiaP+E88S/wDQS/8AIEf/AMTXOUUAdH/wnniX/oJf+QI//iau6P418Q3WuafbzahuiluY0dfJjGVLAEcL6Vx9aXh7/kZdK/6/If8A0MUAdb4r8Va/p/ii9srC7ZYIgrKghRto8tWJyVJ7k1h/8J54l/6CX/kCP/4mrvipEk8d6sHVWAtywBGcEQAg1Qnkjhhudlpa5gigZCYVJyyjcTxznPfigB3/AAnniX/oJf8AkCP/AOJo/wCE88S/9BL/AMgR/wDxNWYrONdSWO3soJYDdutxvjDbBkbRk/dGOnr05rlEDF1CZLE8Y65oA6ibxl4tt1Vp7uWIOMqXtUXd9MrUbeOfFCBS9+yhxuUm3jGR0yPl9jUM9nLaxx22oi4SOScSXFxIjbdwB+VTg5Jycnn8QM1FratOtlLHJHMBbEkQq2EUSMB1AwOQPw+mQCz/AMJ54l/6CX/kCP8A+Jo/4TzxL/0Ev/IEf/xNWYLRDdxJPY262u23MTeWBvc7Nwz3yC2R7VRt1juorac20BuCJ1jRYwFdlClQV6E8n68daAJf+E88S/8AQS/8gR//ABNH/CeeJf8AoJf+QI//AIms/WYzG9nvgjhla3DSKihfm3N1A6HpWZQB0f8AwnniX/oJf+QI/wD4mj/hPPEv/QS/8gR//E1zlFAHR/8ACeeJf+gl/wCQI/8A4mj/AITzxL/0Ev8AyBH/APE1zlFAHR/8J54l/wCgl/5Aj/8AiaP+E88S/wDQS/8AIEf/AMTXOUUAdH/wnniX/oJf+QI//iaP+E88S/8AQS/8gR//ABNc5RQB0f8AwnniX/oJf+QI/wD4mruj+NfEN1rmn282obopbmNHXyYxlSwBHC+lcfWl4e/5GXSv+vyH/wBDFAHW+K/FWv6f4ovbKwu2WCIKyoIUbaPLViclSe5NYf8AwnniX/oJf+QI/wD4mrvipEk8d6sHVWAtywBGcEQAg1Qnkjhhudlpa5gigZCYVJyyjcTxznPfigB3/CeeJf8AoJf+QI//AImj/hPPEv8A0Ev/ACBH/wDE1Zis411JY7eyglgN263G+MNsGRtGT90Y6evTmuToA6dPGviuRo1S9kYyHCBbaM7vp8vNWf8AhJfHG4Luu9xGQPsK5/8AQPesLUJpLmw09nILbXUAAAAbuAAKnkijfWksnGbayVgyj+LYCzn8SD+lAF2bxt4qt5TFPevFIOqPbRqR+BWo/wDhPPEv/QS/8gR//E1n6f5l/rkM08fmo86iTK/LyeAewHHT2q+sQXy5LuzgS5EVw3leUACqplCV+uee+KAF/wCE88S/9BL/AMgR/wDxNH/CeeJf+gl/5Aj/APiaYsQlQTwWsL3j2qusYiBBO8qxCYxnAHb1NZ2sxrFqjosaRgJGSkf3Qdi5x+NAGp/wnniX/oJf+QI//iaP+E88S/8AQS/8gR//ABNc5RQB0f8AwnniX/oJf+QI/wD4mj/hPPEv/QS/8gR//E1zlFAHR/8ACeeJf+gl/wCQI/8A4mj/AITzxL/0Ev8AyBH/APE1zlFAHR/8J54l/wCgl/5Aj/8AiaP+E88S/wDQS/8AIEf/AMTXOUUAdH/wnniX/oJf+QI//iau6P418Q3WuafbzahuiluY0dfJjGVLAEcL6Vx9aXh7/kZdK/6/If8A0MUAaPjz/kdNQ/7Z/wDota5yuj8ef8jpqH/bP/0Wtc5QB49Ya5faZA8Vm1vHuz+9+yxNKuRg7ZCpdePQipp/Et9c28kDwaUEkUqTHpNqjAH0ZYwQfcHNZFFABRRRQBPeXlxf3Hn3MnmS7ETdgD5VUKo49AoFFpdSWVys8Sws69BNCkq/irgg/iKgooAtahqN1qlz9ou5A7hQihUVFVR0CqoAUewAqrRRQAUUUUAFFFFABRRRQAUUUUAe5VpeHv8AkZdK/wCvyH/0MVm1peHv+Rl0r/r8h/8AQxQBo+PP+R01D/tn/wCi1rnK6Px5/wAjpqH/AGz/APRa1zlAHj1hrl9pkDxWbW8e7P737LE0q5GDtkKl149CKmn8S31zbyQPBpQSRSpMek2qMAfRljBB9wc1kUUAFFFFAE95eXF/cefcyeZLsRN2APlVQqjj0CgUWl1JZXKzxLCzr0E0KSr+KuCD+IqCigC1qGo3WqXP2i7kDuFCKFRUVVHQKqgBR7ACqtFFABRRRQAUUUUAFFFFABRRRQB7lWl4e/5GXSv+vyH/ANDFZtaXh7/kZdK/6/If/QxQBo+PP+R01D/tn/6LWucro/Hn/I6ah/2z/wDRa1zlAHj1hrl9pkDxWbW8e7P737LE0q5GDtkKl149CKmn8S31zbyQPBpQSRSpMek2qMAfRljBB9wc1lxxSSttjRnOM4UZqT7Fdf8APtN/37NaRo1Jq8Ytr0E5Jbsgoqf7Fdf8+03/AH7NH2K6/wCfab/v2ar6tW/kf3MXPHuF5eXF/cefcyeZLsRN2APlVQqjj0CgUWl1JZXKzxLCzr0E0KSr+KuCD+IqOSKSJtsiMhxnDDFMrKUXF2a1KvctahqN1qlz9ou5A7hQihUVFVR0CqoAUewAqrRRSAKKKKACiiigAooooAKKKKAPcq0vD3/Iy6V/1+Q/+his2tLw9/yMulf9fkP/AKGKANHx5/yOmof9s/8A0Wtc5XR+PP8AkdNQ/wC2f/ota5ygDx6w1y+0yB4rNrePdn979liaVcjB2yFS68ehFTT+Jb65t5IHg0oJIpUmPSbVGAPoyxgg+4OayKKACiiigCeyvLjTr2G8tZPLuIHDxvgHaw6HB4qCiigC1YahNp05mgS2ZiMYuLaOdfydSM+9MvLy4v7uS6upTLPKcu57/wCH0qCigAooooAKKKKACiiigAooooA9yrS8Pf8AIy6V/wBfkP8A6GKza0vD3/Iy6V/1+Q/+higDR8ef8jpqH/bP/wBFrXOV0fjz/kdNQ/7Z/wDota5ygDw2iiigAooooAKKKKACiiigAooooAKKKKACiiigAooooA9yrS8Pf8jLpX/X5D/6GKza0vD3/Iy6V/1+Q/8AoYoA0fHn/I6ah/2z/wDRa1zldH48/wCR01D/ALZ/+i1rnKAPDaKKKACiiigAooooAKKKKACiiigAooooAKKKKACiiigD3KtLw9/yMulf9fkP/oYrNrS8Pf8AIy6V/wBfkP8A6GKANHx5/wAjpqH/AGz/APRa1zldH48/5HTUP+2f/ota5ygDzTwLYQahrdwLp5Ft4LOW4kEWN7BMHaueAScDPbrzXf6Vo+kausKW7XcVtNqVtbsJRG0iB0k3YcLk42jHQHuvANeXeH9WuNEv5NQtWIliiIHTBDEKQQQQQQSCCMGt0/EjVzMko2qY5Y5kCqiqjIGC7VCYAG5uAMc9K+pyzH0sPhFCdTlb1W/fyTXTvc4q1JzndK508lloEOmxXsq6kqXjyLbhZY2MQQKMv8o35YngbcDua6K78I6ZNJbzzzw2i3aRIjfbILdIMQxZdkchpMsxJC49cknFcv4Wm8UXGkxzW0Is9Mmkk8meZVY7xgOYyV3KegLLjpjPHG7NpmpXChZdYLhcbQbdcKQioCOeDtVRkc8V7kcUq1qlKr7uuvvfLSy2t8/mzmcOXSUfyPJPEAxfoPSMdPqayq9iXwXZMM3M80j9imFGPpzVHUfh/azoWtZB5gACifJHXnJUivCzLK/b1516c1q9rP8AM6aNfliotHldFbGsaZNolwsN1YwqzDI5fn/x7FZ3nx/8+kP5v/8AFV4NXC+ym4Tmk16/5HUp8yukQUVLdIsd3MiDCq7AD2zUVc84OEnF9Ck7q4UUUVIwooooAKKKKAPcq0vD3/Iy6V/1+Q/+his2tLw9/wAjLpX/AF+Q/wDoYoA0fHn/ACOmof8AbP8A9FrXOV0fjz/kdNQ/7Z/+i1rnKAPDaKKKACiiigAooooAKKKKACiiigAooooAKKKKACiiigD3KtLw9/yMulf9fkP/AKGKza0vD3/Iy6V/1+Q/+higDR8ef8jpqH/bP/0Wtc5XR+PP+R01D/tn/wCi1rnKAPDaKKKACiiigAooooAKKKKACiiigAooooAKKKKACiiigD3KtLw9/wAjLpX/AF+Q/wDoYrNrS8Pf8jLpX/X5D/6GKANHx5/yOmof9s//AEWtc5XR+PP+R01D/tn/AOi1rnKAPDaKKKACiiigAooooAKKKKACiiigAooooAKKKKACiiigD3KtLw9/yMulf9fkP/oYrNrS8Pf8jLpX/X5D/wChigDR8ef8jpqH/bP/ANFrXOV0fjz/AJHTUP8Atn/6LWucoA8Ug/1N1/1yH/oa13XgrwnHMP7RuyskORsjxwxHr6j+dct4c05dU1MWjMAkm0MM4JG4E4/AfrXtkMSQQpFGMIgCgV9FlmHUlGtJbLT75XOStPeK/rYfRRRXtHMFFFFAFa/sLfUrR7a5jDxuO/b3FeNeJNAk0DUTAXLxPlonI6j0Pv0r26sbxjYw6n4PvLeRP30DC5glL4EZUHeMY53KfbkDrivPzLC+3pXiryW36m1GfLLXY8Yvf+P64/66t/OoKnvf+P64/wCurfzqCvmcT/Gn6v8AM7IfCgooorEoKKKKACiiigD3KtLw9/yMulf9fkP/AKGKza0vD3/Iy6V/1+Q/+higDR8ef8jpqH/bP/0Wtc5XR+PP+R01D/tn/wCi1rnKAPDaKKKACiiigAooooAKKKKACiiigAooooAKKKKACiiigD3KtLw9/wAjLpX/AF+Q/wDoYrNrS8Pf8jLpX/X5D/6GKANHx5/yOmof9s//AEWtc5XR+PP+R01D/tn/AOi1rnKAPDaKKKACiiigAq1p1qLy/itzuO8kYTqTjtVWug8EX0WmeNNLvZ93lQy7mKjLKMH5gPUdR9K6MJFSxEE1e7WnfXb5kTdos0pfA01v54uoL62kijWQxzRMrMGYKMfJxyepwO3XAKjwDfm4MA0zVTME8wx+Q24JnG7G3OMg8+1ddFeWVhYXtq2uG+MsKCMLHIEU+fG5A3AHJCsTwBx1NT3Or2ep3OsxnVzZGfVTexXLJIRIgL4HygsCNwIBAHJ5Ffdf2dhtbUFb0fl036v7jzfaz/mOMPgG4YW32eG7umnt/tIW3UuUTcy/MAvHKn9K5vVdPisfK8tnO/dncR2x7e9etjxdaf2VBYmCK4eIoxuLt5lLlXlYEiJgd37zPJI5PNcN4ktrrxDqF1qEMIAMsk0nlRkIm459TtHB7muTG5XGWFqKnQSkrWfzX6F06zU1eWhxlFT/AGSUdWh/7/J/jR9kk/vQ/wDf5P8AGvjvq1b+R/cz0OePcgop8kbROUcAHAPBB6jI5FMrKUXFtNWaKTuFFFFID3KtLw9/yMulf9fkP/oYrNrS8Pf8jLpX/X5D/wChigDR8ef8jpqH/bP/ANFrXOV0fjz/AJHTUP8Atn/6LWucoA8NooooAKKKKACiiigAooooAKKKKACiiigAooooAKKKKAPcq0vD3/Iy6V/1+Q/+his2tLw9/wAjLpX/AF+Q/wDoYoA0fHn/ACOmof8AbP8A9FrXOV0fjz/kdNQ/7Z/+i1rnKAPOPh7/AMjRH937jfX7p/z+VeuV5H8Pf+Roj+79xvr90/5/KvXK+uyz/dIfP82cFb42FFFFdxkFFFFABU9n/wAf1v8A67/WL/qP9Z1/h/2vT3qCp7P/AI/rf/Xf6xf9R/rOv8P+16e9Kfwsa3Pni9/4/rj/AK6t/OoKnvf+P64/66t/OoK+KxP8afq/zPRh8KCiiisSgooooAKKKKAPcq0vD3/Iy6V/1+Q/+his2tLw9/yMulf9fkP/AKGKANHx5/yOmof9s/8A0Wtc5XR+PP8AkdNQ/wC2f/ota5ygDw2iiigAooooAKKKKACiiigAooooAKKKKACiiigAooooA9yrS8Pf8jLpX/X5D/6GKza0vD3/ACMulf8AX5D/AOhigDR8ef8AI6ah/wBs/wD0Wtc5XR+PP+R01D/tn/6LWucoA8NooooAKKKKACp7T/XN/wBcpP8A0A1BU9pzOw/6Zyf+gGtsN/Gh6r8yZ/Cy5omiXOuXn2e34xgsxGQo9TXr+leH7DSY0MUKtMBgysMn8PT8KTw7pQ0nSIYnRFuGUGUqP4vT6DpWtX1WCwcMNDTd7s4alRzYUUUV2GZlar4fsNWjcywqsxGBKowfx9fxryDW9EudDvPs9xznJVgMBh6ivdKyfEWlDVtImiREa4VSYiw/i9PoelceNwcMTDXdbM1p1HBnit3/AK5f+uUf/oAqCp7vidR/0zj/APQBUFfK4n+NP1f5nbD4UFFFFYlHuVaXh7/kZdK/6/If/QxWbWl4e/5GXSv+vyH/ANDFAGj48/5HTUP+2f8A6LWucro/Hn/I6ah/2z/9FrXOUAeG0UUUAFFFFABRRRQAUVfttIuLq3WZHiCtnAYnPXHpVmXw1fwSeXMEjfAba+4HBAIOCO4IP416EMqxs4qUabaeq9DJ16admzHorYi8NX87MsQSQqpdgm44UDJPToBzmmf2Bdf89IfzP+FV/Y+O/wCfTF9YpdzKooorzTYKKKKACiiigD3KtLw9/wAjLpX/AF+Q/wDoYrNrS8Pf8jLpX/X5D/6GKANHx5/yOmof9s//AEWtc5XR+PP+R01D/tn/AOi1rnKAPJfDmorpepi7ZQUj2ljjJA3AHH4H9K9shlSeFJYzlHAYGvAoP9Tdf9ch/wChrXdeCvFkcI/s67Cxw5GyTPCk+voP5V9FlmIUVGjJ7rT75XOStDeS/rY9Gooor2jmCiiigArG8Y30OmeD7y4kf99OwtoIimRIWB3nOeNqj35I6ZrQv7+3020e5uZAkaDv39hXjXiTX5Nf1EzlCkSZWJCeg9T79K8/MsV7ClaLtJ7fqbUYc0tdjNvf+P64/wCurfzqCp73/j+uP+urfzqCvmcT/Gn6v8zsh8KCiiisSgooooAKKKKAPcq0vD3/ACMulf8AX5D/AOhis2tLw9/yMulf9fkP/oYoA0fHn/I6ah/2z/8ARa1zldH48/5HTUP+2f8A6LWucoA8NooooAKKKKACiiigAooooAKKKKACuyt/A00/2Vzb30cF1II4p2hYoxPoVQlvoATXG17fBrGnDxBY6u2tvHBvtfMsVikOwRhQQ3G3auCVxuPTgV9BkWHp1lV56fNa1tG++mnf9DlxMnG1nY8/TwVcSQwzJZai0U7BInWIlZGOcBTt5PB4HoamPgG4WCR3hu0mjuEtjbMpExd1Zh8u30U/mK6ldfhhTTUSZj5ekyWbMMjyZHeTkcc8MM47Gp9E8Tw6VaT2ty327zMKjytIFjXy5EwMENt+fsVPJxX0c8sopNxoL8ddf8jkVaV9ZHnOseHv7JimWeO5huIsBopl2kZI6ggHvWBXo3ju8g1G3hitHtGjt7ZIQ1usqR/6wtgGZizY3dTj0AwBnz9rWRUZ/wB2QoydsitjnHQH3r5rO8GqdWLo0+Vct3ZPu/u0OvDVLxfM76ntlaXh7/kZdK/6/If/AEMVm1peHv8AkZdK/wCvyH/0MV4J1Gj48/5HTUP+2f8A6LWucro/Hn/I6ah/2z/9FrXOUAeG0UUUAFFFFABW54TRZNetkdUZGkUMrDOQT0+nr+FYdbnhN1j162d2RUWRSzMcYAPX6ev4V6GVf75T9TKv/DZ7XRRRX1hwBRRRQAUUUUAeKeLEWPXrlEVFRZGCqoxgA9Pp6fjWHW54sdZNeuXRkZGkYqynOQT1+np+NYdfJ5r/AL5U9Tvofw0FFFFeeanuVaXh7/kZdK/6/If/AEMVm1peHv8AkZdK/wCvyH/0MUAaPjz/AJHTUP8Atn/6LWucro/Hn/I6ah/2z/8ARa1zlAHhtFFFABRRRQAUUUUAereE7WdvA1lJpulWl8zyXAvnniVvKUY25YkGJcEkMCuTnnjFbd/HZWNjdkWdoiyS6fC8ht0YxxvalpCuRwSecjnPPWuK8EaNJqTQTXXnDS4lO8R4UyvubKhypAIG0n6j1rth4c0oAD7MT7mRv8a+7wFaHsIKV9Eui12f83S1tkeZVi+Z2/r8C6lrPFrd2l7pdpY6aIbxLeeCJUZ4fKb7pH+sXbg7yDz35xVHxpY2Nrp7tFZSQkXm20k+xRW6NDhshWWRmmHCEOR65PzAUP4b0tkKi3KE/wASyNkfma8/8U2V9oFxIUmc20kg8h2QdMElc4wSPlrSeJhQlGq27Ja2S6a9ZXuxKDknH+vyOOooor4A9QKKKKACiiigD3KtLw9/yMulf9fkP/oYrNrS8Pf8jLpX/X5D/wChigDR8ef8jpqH/bP/ANFrXOV0fjz/AJHTUP8Atn/6LWucoA8Utym2ZHkVN6YBYHGdwPYH0o8iP/n7h/J//iagorZVlyqMop29fXoyeXXc67QvGWo6NaQ2DX8Vxp8TM0cEgf8AdliN207eM4zjpnmuxg8faLPCMfaPOyd6CMFQOMEEkE9+3HHXNeQUV3YfNJ0EoqK5V01/O7M50FLW+p7H/wAJtpX9y5/74H+NUNR+IFrAhW1jHmEAqZ8gdechQa8rorqqZ43G0KaT9WzNYbXVmxrGpza3cLNdX0LMowOH4/8AHcVneRH/AM/cP5P/APE1BRXl1cV7WbnOCbfr/mbqHKrJkt06yXczocqzsQfbNRUUVzzm5ycn1KSsrBRRRUjCiiigAooooA9yrS8Pf8jLpX/X5D/6GKza0vD3/Iy6V/1+Q/8AoYoA0fHn/I6ah/2z/wDRa1zldH48/wCR01D/ALZ/+i1rnKAPDaKKKACiiigAooooAKKKKACiiigArt/CfhWLWdblvtShkk0uG4YPErlDMQc7Q2OB0zjn6da4ivedGhWDR7VVx80YcnGOTz/WvXyzCwxEZc+ya076SMK03Bq39bFi0tILG2jtraNY4oxhVHapqKK+lOMpalpVpqtv5N3EHUZwehFeS67oEmgXd1AXLxPFuicjqN68H36V7PXNeP8AEvhJoDgH7SjK7HhOGyPx+XP+6K5MXh1Vg2leSTt80XTnyvyNCtLw9/yMulf9fkP/AKGKza0vD3/Iy6V/1+Q/+hivjj0DR8ef8jpqH/bP/wBFrXOV0fjz/kdNQ/7Z/wDota5ygDw2iiigAooooAKntOJ2P/TOT/0A1BU9p/rm/wCuUn/oBrbDfxoeq/Mmfws9q8O6qNW0iGV3RrhVAlCn+L1+h61rV4Xomt3Oh3n2i35zgMpOAw9DXr+leILDVo0EUyrMRkxMcH8PX8K+qwWMhiYabrdHDUpuDNWiiiuwzCsnxFqo0nSJpUdFuGUiIMf4vX6DrS6r4gsNJjcSzK0wGREpyfx9PxryDW9budcvPtFxxjIVQchR6CuPG4yGGhru9ka06bmynd8zqf8ApnH/AOgCoKnu/wDXL/1yj/8AQBUFfK4n+NP1f5nbD4UFFFFYlHuVaXh7/kZdK/6/If8A0MVm1peHv+Rl0r/r8h/9DFAGj48/5HTUP+2f/ota5yuj8ef8jpqH/bP/ANFrXOUAeG0UUUAFFFFABRRRQB7D4FA/4R7Py580/d6dB09q6auM+H+pwS6ebEkJPzME4AK528c5/h9OMiuzr7uE4zipRell+R5jTTswrifiiqjQ9KbbNuNzKCSP3ZAVOn+1yc+22u2rzz4lalFcQWtikjs1tKXddwKguvYdj8nP0Fc2O/gS9H+TLp/EjzuiiivjT0AooooAKKKKAPcq0vD3/Iy6V/1+Q/8AoYrNrS8Pf8jLpX/X5D/6GKANHx5/yOmof9s//Ra1zldH48/5HTUP+2f/AKLWucoA8NooooAKKKKACiiigAooooAKKKKACiiigAooooAKKKKAPcq0vD3/ACMulf8AX5D/AOhis2tLw9/yMulf9fkP/oYoA0fHn/I6ah/2z/8ARa1zldH48/5HTUP+2f8A6LWucoA8NooooAKKKKACiiigAooooAKKKKACvfNMIOlWeDn9yn8hXgdeteDvEEV4JtLlZEnt3YRrnl1z1r3slqRipxb1bVvukcuITdn/AF0Otooor3jlCuZ8df8AIvfw/wCtH3unQ9faumrzvx14i+1wT6RbmNrdNszuDkl1YKB9Bub6+2Oc61X2VOU7X0f5FRjzNI6+tLw9/wAjLpX/AF+Q/wDoYrNrS8Pf8jLpX/X5D/6GK+HPSNHx5/yOmof9s/8A0Wtc5XR+PP8AkdNQ/wC2f/ota5ygDw2iiigAooooAKfHI0Th0IBwRyAeoweDTKKcZOLTTs0DVyf7XJ/dh/78p/hR9rlHRYf+/Kf4VBRWv1mt/O/vZPJHsb0fi3U4o1jW4nVVAACykAfQdqJPFupyxtG1xOysCCGlJB+o71g0V1/2tjdvaP8AD/Iz9hT7E/2uU9Vh/wC/Kf4Ufa5P7sP/AH5T/CoKK5PrNb+d/ezTkj2HySNK5dyCcAcADoMDgUyiispScm23dspKwUUUUgPcq0vD3/Iy6V/1+Q/+his2tLw9/wAjLpX/AF+Q/wDoYoA0fHn/ACOmof8AbP8A9FrXOV0fjz/kdNQ/7Z/+i1rnKAPDaKKKACiiigAooooAv2WpyWE9tc2z3MF1bg+XNbz+Wy8k5BxkHn1rpoPiTqMMQRraKYj+KRuf0xXFUV2UsfiKXwNLboum3QzlSjLc7K7+Iuo3UXliFYAephfBP4kHH4Vy090syycSmSWQSO8km4sefYetVqKKuPr1vjae/Rdd+gRpRjsFFFFcZoFFFFABRRRQB7lWl4e/5GXSv+vyH/0MVm1peHv+Rl0r/r8h/wDQxQBo+PP+R01D/tn/AOi1rnK6Px5/yOmof9s//Ra1zlAHhtFFFABRRRQAUUUUAFFFFABRRRQAUUUUAFFFFABRRRQB7lWl4e/5GXSv+vyH/wBDFZtaXh7/AJGXSv8Ar8h/9DFAGj48/wCR01D/ALZ/+i1rnK6Px5/yOmof9s//AEWtc5QB4bRRRQAUUUUAFFFFABRRRQAUUUUAFX0u0h1EX1td3VvOkvmxyRoAyNnIIIbgj1qhRWsKnLFxaTT736ejXclq+p32n/EZ7WCOK5he52LguRtY/U5NXP8AhZ9r/wBA2b/v4P8ACvNaK9D+2MR2X9fMy+rwO11Tx9LqMRii822Qk/6teSPQndz+lcmGt44pgjyszqFG6MAfeB9T6VWorCtmFSt8aXVdeuj6lRpKOx7lWl4e/wCRl0r/AK/If/QxWbWl4e/5GXSv+vyH/wBDFcJqaPjz/kdNQ/7Z/wDota5yuw8a6Pql14uvprfTbyaJvL2vHAzKcRqOCB61g/8ACPa1/wBAfUP/AAGf/CgDNorS/wCEe1r/AKA+of8AgM/+FH/CPa1/0B9Q/wDAZ/8ACgDNorS/4R7Wv+gPqH/gM/8AhR/wj2tf9AfUP/AZ/wDCgDNorS/4R7Wv+gPqH/gM/wDhR/wj2tf9AfUP/AZ/8KAM2itL/hHta/6A+of+Az/4Uf8ACPa1/wBAfUP/AAGf/CgDNorS/wCEe1r/AKA+of8AgM/+FH/CPa1/0B9Q/wDAZ/8ACgDNorS/4R7Wv+gPqH/gM/8AhR/wj2tf9AfUP/AZ/wDCgDNorS/4R7Wv+gPqH/gM/wDhR/wj2tf9AfUP/AZ/8KAM2itL/hHta/6A+of+Az/4Uf8ACPa1/wBAfUP/AAGf/CgDNrS8Pf8AIy6V/wBfkP8A6GKP+Ee1r/oD6h/4DP8A4Vf0LQtXh8QabLLpV8kaXUTMzW7gKA4ySccCgB3jz/kdNQ/7Z/8Aota5yuw8a6Pql14uvprfTbyaJvL2vHAzKcRqOCB61g/8I9rX/QH1D/wGf/CgDNorS/4R7Wv+gPqH/gM/+FH/AAj2tf8AQH1D/wABn/woAzaK0v8AhHta/wCgPqH/AIDP/hR/wj2tf9AfUP8AwGf/AAoAzaK0v+Ee1r/oD6h/4DP/AIUf8I9rX/QH1D/wGf8AwoAzaK0v+Ee1r/oD6h/4DP8A4Uf8I9rX/QH1D/wGf/CgDNorS/4R7Wv+gPqH/gM/+FH/AAj2tf8AQH1D/wABn/woAzaK0v8AhHta/wCgPqH/AIDP/hR/wj2tf9AfUP8AwGf/AAoAzaK0v+Ee1r/oD6h/4DP/AIUf8I9rX/QH1D/wGf8AwoAzaK0v+Ee1r/oD6h/4DP8A4Uf8I9rX/QH1D/wGf/CgDNrS8Pf8jLpX/X5D/wChij/hHta/6A+of+Az/wCFX9C0LV4fEGmyy6VfJGl1EzM1u4CgOMknHAoAd48/5HTUP+2f/ota5yuw8a6Pql14uvprfTbyaJvL2vHAzKcRqOCB61g/8I9rX/QH1D/wGf8AwoAzaK0v+Ee1r/oD6h/4DP8A4Uf8I9rX/QH1D/wGf/CgDNorS/4R7Wv+gPqH/gM/+FH/AAj2tf8AQH1D/wABn/woAzaK0v8AhHta/wCgPqH/AIDP/hR/wj2tf9AfUP8AwGf/AAoAzaK0v+Ee1r/oD6h/4DP/AIUf8I9rX/QH1D/wGf8AwoAzaK0v+Ee1r/oD6h/4DP8A4Uf8I9rX/QH1D/wGf/CgDNorS/4R7Wv+gPqH/gM/+FH/AAj2tf8AQH1D/wABn/woAzaK0v8AhHta/wCgPqH/AIDP/hR/wj2tf9AfUP8AwGf/AAoAzaK0v+Ee1r/oD6h/4DP/AIUf8I9rX/QH1D/wGf8AwoAza0vD3/Iy6V/1+Q/+hij/AIR7Wv8AoD6h/wCAz/4Vf0LQtXh8QabLLpV8kaXUTMzW7gKA4ySccCgB3jz/AJHTUP8Atn/6LWucrsPGuj6pdeLr6a3028miby9rxwMynEajggetYP8Awj2tf9AfUP8AwGf/AAoAzaK0v+Ee1r/oD6h/4DP/AIUf8I9rX/QH1D/wGf8AwoAzaK0v+Ee1r/oD6h/4DP8A4Uf8I9rX/QH1D/wGf/CgDNorS/4R7Wv+gPqH/gM/+FH/AAj2tf8AQH1D/wABn/woAzaK0v8AhHta/wCgPqH/AIDP/hR/wj2tf9AfUP8AwGf/AAoAzaK0v+Ee1r/oD6h/4DP/AIUf8I9rX/QH1D/wGf8AwoAzaK0v+Ee1r/oD6h/4DP8A4Uf8I9rX/QH1D/wGf/CgDNorS/4R7Wv+gPqH/gM/+FH/AAj2tf8AQH1D/wABn/woAzaK0v8AhHta/wCgPqH/AIDP/hR/wj2tf9AfUP8AwGf/AAoAza0vD3/Iy6V/1+Q/+hij/hHta/6A+of+Az/4Vf0LQtXh8QabLLpV8kaXUTMzW7gKA4ySccCgDe8V+Ktf0/xRe2VhdssEQVlQQo20eWrE5Kk9yaw/+E88S/8AQS/8gR//ABNXfFSJJ471YOqsBblgCM4IgBBqhPJHDDc7LS1zBFAyEwqTllG4njnOe/FADv8AhPPEv/QS/wDIEf8A8TSjx34mZgq6iSTwAII+f/HasRWca6ksdvZQSwG7dbjfGG2DI2jJ+6MdPXpzXJ0AdZN4s8ZWyB55riJSdoMlmign05SopvGviu2fZPeyRPjO17aNTj8VrLh1KwtL/TrU3tsixESSsZVAErevPG3ge2DVO51GzOlWqPfW7yrLKTiZWIU7cZ59QxrZYes9oP7mTzx7m5/wnniX/oJf+QI//iaP+E88S/8AQS/8gR//ABNQwajozXqxzTaULdEgZSJIwSxKbsnOTwXyD0xVe1v9Ovfs7h7BrwiVUhQoA7YXYCo6nJOPUgDmh4estXB/cw549y9/wnniX/oJf+QI/wD4mj/hPPEv/QS/8gR//E1n6zGY3s98EcMrW4aRUUL825uoHQ9KzKxKOj/4TzxL/wBBL/yBH/8AE0f8J54l/wCgl/5Aj/8Aia5yigDo/wDhPPEv/QS/8gR//E0f8J54l/6CX/kCP/4mucooA6P/AITzxL/0Ev8AyBH/APE0f8J54l/6CX/kCP8A+JrnKKAOj/4TzxL/ANBL/wAgR/8AxNH/AAnniX/oJf8AkCP/AOJrnKKAOj/4TzxL/wBBL/yBH/8AE1d0fxr4hutc0+3m1DdFLcxo6+TGMqWAI4X0rj60vD3/ACMulf8AX5D/AOhigDrfFfirX9P8UXtlYXbLBEFZUEKNtHlqxOSpPcmsP/hPPEv/AEEv/IEf/wATV3xUiSeO9WDqrAW5YAjOCIAQaoTyRww3Oy0tcwRQMhMKk5ZRuJ45znvxQA7/AITzxL/0Ev8AyBH/APE0f8J54l/6CX/kCP8A+JqzFZxrqSx29lBLAbt1uN8YbYMjaMn7ox09enNcrGqtKiu+xCwDMRnaPXFAHRnxz4oEayG/YIxIVjbx4JHXB2+4/OhvHPihMb9QZcjIzbxjI9fu1X1Vohplk9vcQSRRTyLEiq33cJ13KM+p92/KrqpmupYZWDSN9lR3YDoPU+g5FAGh/wAJ54l/6CX/AJAj/wDiaP8AhPPEv/QS/wDIEf8A8TVmC0Q3cST2NutrttzE3lgb3OzcM98gtke1UbdY7qK2nNtAbgidY0WMBXZQpUFehPJ+vHWgCX/hPPEv/QS/8gR//E0f8J54l/6CX/kCP/4ms/WYzG9nvgjhla3DSKihfm3N1A6HpWZQB0f/AAnniX/oJf8AkCP/AOJo/wCE88S/9BL/AMgR/wDxNc5RQB0f/CeeJf8AoJf+QI//AImj/hPPEv8A0Ev/ACBH/wDE1zlFAHR/8J54l/6CX/kCP/4mj/hPPEv/AEEv/IEf/wATXOUUAdH/AMJ54l/6CX/kCP8A+Jo/4TzxL/0Ev/IEf/xNc5RQB0f/AAnniX/oJf8AkCP/AOJq7o/jXxDda5p9vNqG6KW5jR18mMZUsARwvpXH1peHv+Rl0r/r8h/9DFAHW+K/FWv6f4ovbKwu2WCIKyoIUbaPLViclSe5NYf/AAnniX/oJf8AkCP/AOJq74qRJPHerB1VgLcsARnBEAINUJ5I4YbnZaWuYIoGQmFScso3E8c5z34oAd/wnniX/oJf+QI//iaP+E88S/8AQS/8gR//ABNWYrONdSWO3soJYDdutxvjDbBkbRk/dGOnr05rlEDF1CZLE8Y65oA6ibxl4tt1Vp7uWIOMqXtUXd9MrUbeOfFCY36gy5GRm3jGR6/dqpqEF5p9mIriGdnacSyzSoSm8A4UE8N1OT3/AAzUGqma6lhlYNI32VHdgOg9T6DkUAaH/CeeJf8AoJf+QI//AImj/hPPEv8A0Ev/ACBH/wDE1ZgtEN3Ek9jbra7bcxN5YG9zs3DPfILZHtXJweKtPu5oAumTS3nzokcNuu12ONnyg8457c8da6cPg6+Ju6Mb23InUjD4mdH/AMJ54l/6CX/kCP8A+Jo/4TzxL/0Ev/IEf/xNche+KtPujA0drJEyxbZNkaqGbcTnAPoRUA1uEwGcW10YVYIZNg2hiCQM564B49jXT/Y+OX/LpkfWKX8x23/CeeJf+gl/5Aj/APiaP+E88S/9BL/yBH/8TXF22s293cLBGkoZs4LAY4GfWtGuTEYath5claNnuaQnGavFnR/8J54l/wCgl/5Aj/8AiaP+E88S/wDQS/8AIEf/AMTXOUVgUdH/AMJ54l/6CX/kCP8A+Jo/4TzxL/0Ev/IEf/xNc5RQB0f/AAnniX/oJf8AkCP/AOJo/wCE88S/9BL/AMgR/wDxNc5RQB0f/CeeJf8AoJf+QI//AImruj+NfEN1rmn282obopbmNHXyYxlSwBHC+lcfWl4e/wCRl0r/AK/If/QxQB1vivxVr+n+KL2ysLtlgiCsqCFG2jy1YnJUnuTWH/wnniX/AKCX/kCP/wCJq74qRJPHerB1VgLcsARnBEAINUJ5I4YbnZaWuYIoGQmFScso3E8c5z34oAd/wnniX/oJf+QI/wD4mj/hPPEv/QS/8gR//E1Zis411JY7eyglgN263G+MNsGRtGT90Y6evTmuToA6dPGviuRo1S9kYyHCBbaM7vp8vNTt4p8apIqNJch3ztU2S5OOuPkrE1CaS5sNPZyC211AAAAG7gACrUlnc3WoS6fbGUW9onlyeUpbOD8xwPvEt/TsKALD+OvE8blH1AqynBBt4wQf++ab/wAJ54l/6CX/AJAj/wDiarRxy3XiWI3FnIqCWON45lPAwAobPcgfjzVhYgvlyXdnAlyIrhvK8oAFVTKEr9c898UAL/wnniX/AKCX/kCP/wCJo/4TzxL/ANBL/wAgR/8AxNMWISoJ4LWF7x7VXWMRAgneVYhMYzgDt6ms7WY1i1R0WNIwEjJSP7oOxc4/GgDU/wCE88S/9BL/AMgR/wDxNH/CeeJf+gl/5Aj/APia5yigDo/+E88S/wDQS/8AIEf/AMTR/wAJ54l/6CX/AJAj/wDia5yigDo/+E88S/8AQS/8gR//ABNH/CeeJf8AoJf+QI//AImucooA6P8A4TzxL/0Ev/IEf/xNH/CeeJf+gl/5Aj/+JrnKKAOj/wCE88S/9BL/AMgR/wDxNXdH8a+IbrXNPt5tQ3RS3MaOvkxjKlgCOF9K4+tLw9/yMulf9fkP/oYoA0fHn/I6ah/2z/8ARa1zldH48/5HTUP+2f8A6LWucoA8esNcvtMgeKza3j3Z/e/ZYmlXIwdshUuvHoRU0/iW+ubeSB4NKCSKVJj0m1RgD6MsYIPuDmsiigD1C107SbPRNJS5N41/d2kdwkkZQxLk4ClSMngctngnocVu3HhnTH1L7M0l0Li61W5tVdNipHHEy5OwKMkhjgDaM47cVy3hrWdcvreLRLRgttBAimZkUtGjDcVDbdwUkn5QcHnjk10cvh26nm86XVWaXzGl3mLnexyTnPXIr9Fw1dSpx/eWtddd9u3R9NVoeTONm9CTw/pGja897aWCXEO+KIM12Y5Gi/foCyMAvVc8YHpkg1ieJ9OtNHsobywmhLsJN1s93b3hQoAQzeXlSrZ+6w/hIORXQRabqlqjC21kxZwQEgCgEMrgjB4O5FORzwK4jxVrWqSNLZamiAwxMUSNEjQbiAWCooHOQc9Tj2orYhU1OTqe7Z6at/D6f194RjeytqchqGo3WqXP2i7kDuFCKFRUVVHQKqgBR7ACqtFFfnR6wUUUUAFFFFABRRRQAUUUUAe5VpeHv+Rl0r/r8h/9DFZtaXh7/kZdK/6/If8A0MUAaPjz/kdNQ/7Z/wDota5yuj8ef8jpqH/bP/0Wtc5QB49Ya5faZA8Vm1vHuz+9+yxNKuRg7ZCpdePQipp/Et9c28kDwaUEkUqTHpNqjAH0ZYwQfcHNZFFABRRRQBPeXlxf3Hn3MnmS7ETdgD5VUKo49AoFFpdSWVys8Sws69BNCkq/irgg/iKgooAtahqN1qlz9ou5A7hQihUVFVR0CqoAUewAqrRRQAUUUUAFFFT2dv8Aa7pIN+3dnnGcYGaunTlVmqcFdt2XqxNpK7IKK308MtJHI4u0AjAZtwAJ5A4BbJ69Bn16Co/+Ee/6ev8AyH/9evW/1fzH/n3+Mf8AMw+tUu/5mJRXRXHhKe1S3eafatxH5sR2A7lyVzweOVPX0rL1HTvsHl/vfM35/hxjGPf3rCvlGMoUnWqQtFdbp9bdH3KjXpylyp6nslaXh7/kZdK/6/If/QxWbWl4e/5GXSv+vyH/ANDFeabGj48/5HTUP+2f/ota5yuj8ef8jpqH/bP/ANFrXOUAePWGuX2mQPFZtbx7s/vfssTSrkYO2QqXXj0IqafxLfXNvJA8GlBJFKkx6TaowB9GWMEH3BzWRRQAUUUUAT3l5cX9x59zJ5kuxE3YA+VVCqOPQKBXultp7NrWlQro1i+hNLa+VdNAuZSQu4b+shJLblO7HoMV4JWndarex3cyJNhVdgBtHTP0r2cqxdPCwqSqX1stFfvrujnr03NpI9cslt2TRrRLCyeV9MluY1eBC09wGlCBmIy3AGFzgkDg1qaPZ+da3UetafBa3PnxultFbp80ogm2Zh3Ku49dnygkDjnnyPQ7DXtebdA7JBuKmdohsDAAkZx15HHuK9DtPC1lDEv2jfPJtwxLbRn2xivpKeKpYqDlDmSfVpX3b09780cbhKDs7f18jn/iPbwW6IsdtLbzNbobhJbaO3JfeefKR2Efy7eOPXABFea17rHoOlxSB1tFJH95iw/InFWP7MsP+fK2/wC/S/4VxZjgIYycZ87Vlbbzb7+ZpSqummrHgVFe1X3hWxuUYwF7eTbhdrHbn3Fea65o2taC26eW4eDcFE6lthYgkDPrwePY142KyyOHhz8za66LT/yY6YVnN2t/X3HP0VdtLu5a9gVriUgyKCC555qlXnVKcFBTi73v0ttbzfc1Td7MKKKKxKPcq0vD3/Iy6V/1+Q/+his2tLw9/wAjLpX/AF+Q/wDoYoA0fHn/ACOmof8AbP8A9FrXOV0fjz/kdNQ/7Z/+i1rnKAPHrDXL7TIHis2t492f3v2WJpVyMHbIVLrx6EVNP4lvrm3kgeDSgkilSY9JtUYA+jLGCD7g5rIqezt/td0kG/buzzjOMDNXTpyqzVOCu27L1Ym0ldkFFb6eGWkjkcXaARgM24AE8gcAtk9egz69BUf/AAj3/T1/5D/+vXrf6v5j/wA+/wAY/wCZh9apd/zMuyvLjTr2G8tZPLuIHDxvgHaw6HB4qCuiuPCU9qlu80+1biPzYjsB3Lkrng8cqevpWXqOnfYPL/e+Zvz/AA4xjHv71hXyjGUKTrVIWiut0+tuj7lRr05S5U9SOw1CbTpzNAlszEYxcW0c6/k6kZ96ZeXlxf3cl1dSmWeU5dz3/wAPpUFFeabBRRRQAUUUUAFFFFABRRRQB7lWl4e/5GXSv+vyH/0MVm1peHv+Rl0r/r8h/wDQxQBo+PP+R01D/tn/AOi1rnK6Px5/yOmof9s//Ra1zlAHhtFFFAHtfhGJE8NWjqqBpFyxQcE5x/IVuVjeFD/xTFj937h+706npWzX3r3PLCuY8fxxS+FijRr5wnUpK38C4O4fQkLn/dHXt09cz46I/wCEex8ufNH3unQ9faonCM4OMlpZ/kNNp3R49RRRXwp6YUUUUAFFFFABRRRQAUUUUAe5VpeHv+Rl0r/r8h/9DFZtaXh7/kZdK/6/If8A0MUAaPjz/kdNQ/7Z/wDota5yuj8ef8jpqH/bP/0Wtc5QB4bRRRQAUUUUAFFFFABRRRQAUUUUAFdD4GmtbfxtpUt7sFuk2XLruVeDgkdwDgkVz1aWh2b32pxwxyiN3yisexYEA/hmurBQc8TTiu6IqO0Gz1t7y7FnqC6xrNnd3L28axlLlJXwLmJsFx14BIGSQAeBVy41y8vtQ1ptP1qCC9GonyppblY1NqC+FRmOCgJBKj72RwaZaaJY2tskTW8UrKoDO6AljjrzUzaXp7KVNlb4IxxGAfzr7rmpPp+Ct06fI8y0izZapYppVtFDexf2isSB5Le/iswUEsxI3OhG3kEpgEgrwcYryLxxJBNrMstrHHHbvPM0aRMSiqWGApIBI9MgfQVN42tJNH1KOOCd1jl3SKFYjAJHH4YNcpJNLNjzZXfHTcxOK8LNMdRhGrhoxd5W1+6X/DHVRpybjN9P+GPb60vD3/Iy6V/1+Q/+his2tLw9/wAjLpX/AF+Q/wDoYr5g7DR8ef8AI6ah/wBs/wD0Wtc5XR+PP+R01D/tn/6LWucoA8NooooAKKKKACug0bQ217xJLA27yEmLTlCAwTdzgkHB/A1z9e1eFbFLbTPPKp5k7ltw67c8CvXyzCwxEZc+ya076SMK03Bq39bGvaWkFjax21tGscUYwqjtU1FFfSnGFFFFAgqG7tIL61ktrmNZIpBhlPepqKBnjGs6G2g+JIoF3eQ8waAuQWKbuMkAZP4Cufr2rxVYpc6Z54VPMgcNuPXbnkV4rXzWZ4WGHjHk2benbSJ2UZubd/63CiiivINz3KtLw9/yMulf9fkP/oYrNrS8Pf8AIy6V/wBfkP8A6GKANHx5/wAjpqH/AGz/APRa1zldH48/5HTUP+2f/ota5ygDw2uh8DTWtv420qW92C3SbLl13KvBwSO4BwSK56rFkWFzlSQwjfBHUHYa3wtvbwv3X5kz+Fnsr3l2LPUF1jWbO7uXt41jKXKSvgXMTYLjrwCQMkgA8Crlxrl5fahrTafrUEF6NRPlTS3KxqbUF8KjMcFASCVH3sjg1keG/C0enWCvqObm9fl/MbeiDjCgHv1ye/4Vt/2ZYf8APlbf9+l/wr7qFSnOPNKFn2srdOnyPMaadkyxZapYppVtFDexf2isSB5Le/iswUEsxI3OhG3kEpgEgrwcYryLxxJBNrMstrHHHbvPM0aRMSiqWGApIBI9MgfQV6fdaLYXVs8X2aKIsOHjQKwP1FeS+JdLuNHnjtbmYzMGdkcnOVO3FcGZyhHC1VBP3ra9veX9LTQ1opucb9P8jCooor409AKKKKACiiigAooooAKKKKAPcq0vD3/Iy6V/1+Q/+his2tLw9/yMulf9fkP/AKGKANHx5/yOmof9s/8A0Wtc5XR+PP8AkdNQ/wC2f/ota5ygDw2iiigD0Pwj4qu7Kez0rUpLk6LhSjrEZPs5ZV3FRxwSORn1PrXcJqunuoYXtvg+sgB/I14JRXs0M2VK6cG09d1p1f2TnlQ5uv8AX3nvU2safDGXa8hYDsjhifwFeZ+J/EN7rLXcYSeHTUAMSOpUOQwAZh0zgn6ZNcjRRiM2VWPKotaPquq/w9AhQ5Xe4UUUV4x0BRRRQAUUUUAFFFFABRRRQB7lWl4e/wCRl0r/AK/If/QxWbWl4e/5GXSv+vyH/wBDFAGj48/5HTUP+2f/AKLWucro/Hn/ACOmof8AbP8A9FrXOUAeG0UUUAFFFFABRRRQAUUUUAFFFFABW34VkSHXLeWRlVEkVmY9QAefw/8ArViVJBIIpdzKWG1lIBx1BH9a6sFWVHEQqS2TIqR5oNI+glYMoZSCpGQR3pa8nsPiBfafbiBbdJUUAKJXztAGMDAFTy/ErUJYmQWcMZYY3oxyPpmvpv7Rwn/Pz8Jf5HH7Gp2/IPiVLHLq1qEcMY4ijY7HOcfqK4mrupajJqdxJczmR55pnmlkkYMXdsEngD0qlXzePrRrV3Uj1t+SXZHXSi4xsz3KtLw9/wAjLpX/AF+Q/wDoYrNrS8Pf8jLpX/X5D/6GK4zQ0fHn/I6ah/2z/wDRa1zldH48/wCR01D/ALZ/+i1rnKAPDaKKKACiiigAr33TP+QVZ/8AXBP/AEEV4FXvumf8gqz/AOuCf+givocj+Gp/27/7ccmJ3Xz/AELVFFFe2cwUUUUAFFFFAFXU/wDkFXn/AFwf/wBBNeBV77qf/IKvP+uD/wDoJrwKvEzz4Kf/AG9/7adOG3fy/UKKKK+eOs9yrS8Pf8jLpX/X5D/6GKza0vD3/Iy6V/1+Q/8AoYoA0fHn/I6ah/2z/wDRa1zldH48/wCR01D/ALZ/+i1rnKAPDa3vCH/Iw2n3f9an16/5/SsGtLQr7+z9TjuBGH8vMmCcfdBbGffFduWzjDF05S2uZ1k3BpHutFQ2l3BfWsdzbSLJFIMqy1NX15wBXmPxO/5Ctj/1wP8A6FXp1eVfES8hvNVtzC4dYkaMkdMggn+dceY/7pU+X/pSNKP8Rf10ONooor487wooooAKKKKACiiigAooooA9yrS8Pf8AIy6V/wBfkP8A6GKza0vD3/Iy6V/1+Q/+higDR8ef8jpqH/bP/wBFrXOV0fjz/kdNQ/7Z/wDota5ygDw2iiigAooooAKKKKACiiigAooooAKKKKACiiigAooooA9yrS8Pf8jLpX/X5D/6GKza0vD3/Iy6V/1+Q/8AoYoA0fHn/I6ah/2z/wDRa1zldH48/wCR01D/ALZ/+i1rnKAPDaKKKACiiigAooooAKKKKACiiigAooooAKKKKACiiigD3KtLw9/yMulf9fkP/oYrNrS8Pf8AIy6V/wBfkP8A6GKANHx5/wAjpqH/AGz/APRa1zldH48/5HTUP+2f/ota5ygDw2iiigAooooAK9q8K3yXOmeQWTzIHK7R1254NeK10Gja42g+JJZ23eQ8xWcIAWKbucAkZP4ivXyzFQw8Zc+za17aSMK0HNq39bHs9FQ2l3BfWsdzbSLJFIMqw71NX0pxhRRRQIKKKhu7uCxtZLm5kWOKMZZj2oGZHiq+S20zyAyeZO4Xaeu3PJrxWug1nXG17xJFOu7yEmCwBwAwTdxkAnB/E1z9fNZnioYiMeTZN699InZRg4N3/rcKKKK8g3Pcq0vD3/Iy6V/1+Q/+his2tLw9/wAjLpX/AF+Q/wDoYoA0fHn/ACOmof8AbP8A9FrXOV0fjz/kdNQ/7Z/+i1rnKAPDalt5Ejmy+7aVZTtGTypH9aioqoTcJKS6CaurHS+HvFEnh7fHFNNNbOdxgdMKG4yw+bg4AH4D0rpf+Fn2v/QNm/7+D/CvNaK76WZ1aUFCCSXz/wAzKVGMndneap8QzfWzwW8MlqrjDNgM355HFcVM8XkRxRM7bWZiWUL1A9z6VBRUYjH1K8bTS/Hun38io0lHYKKKK4TQKKKKACiiigAooooAKKKKAPcq0vD3/Iy6V/1+Q/8AoYrNrS8Pf8jLpX/X5D/6GKANHx5/yOmof9s//Ra1zldH48/5HTUP+2f/AKLWucoA8NooooAKKKKACiiigAooooAKKKKACiiigAooooAKKKKAPcq0vD3/ACMulf8AX5D/AOhis2tLw9/yMulf9fkP/oYoA0fHn/I6ah/2z/8ARa1zldH48/5HTUP+2f8A6LWucoA8NooooAKKKKACiiigAooooAKKKKACiiigAooooAKKKKAPcq0vD3/Iy6V/1+Q/+his2tLw9/yMulf9fkP/AKGKANHx5/yOmof9s/8A0Wtc5XR+PP8AkdNQ/wC2f/ota5ygDw2iiigAooooAKu3dpctezstvKQZGIIQ881SoranUgoOMle9uttr+T7ktO90dBoes61oLbYIrh4NxYwMG2FiACcevA59hXpVj4qsblFE4e3k25bcp259jXitFejhczjh4cnK2umq0/8AJTKdFzd7/wBfee+/2nYf8/tt/wB/V/xo/tOw/wCf22/7+r/jXgVFdX9uR/59/wDk3/2pn9Wff8P+Ce1X3iqxtkYQB7iTbldqnbn3Nea65rOta822eK4SDcGEChtgYAgHHryefc1z9FcuKzOOIhycrS66rX/yU0hRcHe/9feXbS0uVvYGa3lAEikkoeOapUUV51SpBwUIq1r9b728l2NUne7CiiisSj3KtLw9/wAjLpX/AF+Q/wDoYrNrS8Pf8jLpX/X5D/6GKANHx5/yOmof9s//AEWtc5XR+PP+R01D/tn/AOi1rnKAPDaKKKACiiigAooooAKKKKACiiigAooooAKKKKACiiigD3KtLw9/yMulf9fkP/oYrNrS8Pf8jLpX/X5D/wChigDR8ef8jpqH/bP/ANFrXOV0fjz/AJHTUP8Atn/6LWucoA8NooooAKKKKACiiigAooooAKKKKACiiigAooooAKKKKAPcq0vD3/Iy6V/1+Q/+his2tLw9/wAjLpX/AF+Q/wDoYoA0fHn/ACOmof8AbP8A9FrXOV0fjz/kdNQ/7Z/+i1rnKAPDaKKKACiiigAooooAKKKKACiiigAooooAKKKKACiiigD3KtLw9/yMulf9fkP/AKGKza0vD3/Iy6V/1+Q/+higDR8ef8jpqH/bP/0Wtc5XR+PP+R01D/tn/wCi1rnKAPDaKKKACiiigAooooAKKKKACiiigAooooAKKKKACiiigD3KtLw9/wAjLpX/AF+Q/wDoYrNrS8Pf8jLpX/X5D/6GKANHx5/yOmof9s//AEWtc5XR+PP+R01D/tn/AOi1rnKAPDaKKKACiiigAooooAKKKKACiiigAooooAKKKKACiiigD3KtLw9/yMulf9fkP/oYrNrS8Pf8jLpX/X5D/wChigDR8ef8jpqH/bP/ANFrXOV0fjz/AJHTUP8Atn/6LWucoA8NooooAKKKKACiiigAooooAKKKKACiiigAooooAKKKKAPcq0vD3/Iy6V/1+Q/+his2tLw9/wAjLpX/AF+Q/wDoYoA0fHn/ACOmof8AbP8A9FrXOV0fjz/kdNQ/7Z/+i1rnKAPDaKKKACiiigAooooAKKKKACiiigAooooAKKKKACiiigD3KtLw9/yMulf9fkP/AKGKza0vD3/Iy6V/1+Q/+higDR8ef8jpqH/bP/0Wtc5XR+PP+R01D/tn/wCi1rnKAPDaKKKACiiigAooooAKKKKACiiigAooooAKKKKACiiigD3KtLw9/wAjLpX/AF+Q/wDoYrNrS8Pf8jLpX/X5D/6GKANHx5/yOmof9s//AEWtc5XR+PP+R01D/tn/AOi1rnKAPDaKKKACiiigAooooAKKKKACiiigAooooAKKKKACiiigD3KtLw9/yMulf9fkP/oYrNrS8Pf8jLpX/X5D/wChigDR8ef8jpqH/bP/ANFrXOV0fjz/AJHTUP8Atn/6LWucoA8NooooAKKKKACiiigAooooAKKKKACiiigAooooAKKKKAPcq0vD3/Iy6V/1+Q/+his2tLw9/wAjLpX/AF+Q/wDoYoA0fHn/ACOmof8AbP8A9FrXOV0fjz/kdNQ/7Z/+i1rnKAPDaKKKACiiigAooooAKKKKACiiigAooooAKKKKACiiigD3KtLw9/yMulf9fkP/AKGKza0vD3/Iy6V/1+Q/+higDR8ef8jpqH/bP/0Wtc5XR+PP+R01D/tn/wCi1rnKAPDaKKKACiiigAooooAKKKKACiiigAooooAKKKKACiiigD3KtLw9/wAjLpX/AF+Q/wDoYrNrS8Pf8jLpX/X5D/6GKANHx5/yOmof9s//AEWtc5XR+PP+R01D/tn/AOi1rnKAPDaKKKACiiigAooooAKKKKACiiigAooooAKKKKACiiigD3KtLw9/yMulf9fkP/oYrNrS8Pf8jLpX/X5D/wChigDR8ef8jpqH/bP/ANFrXOV2HjXR9UuvF19Nb6beTRN5e144GZTiNRwQPWsH/hHta/6A+of+Az/4UAZtFaX/AAj2tf8AQH1D/wABn/wo/wCEe1r/AKA+of8AgM/+FAGbRWl/wj2tf9AfUP8AwGf/AAo/4R7Wv+gPqH/gM/8AhQBm0Vpf8I9rX/QH1D/wGf8Awo/4R7Wv+gPqH/gM/wDhQBm0Vpf8I9rX/QH1D/wGf/Cj/hHta/6A+of+Az/4UAZtFaX/AAj2tf8AQH1D/wABn/wo/wCEe1r/AKA+of8AgM/+FAGbRWl/wj2tf9AfUP8AwGf/AAo/4R7Wv+gPqH/gM/8AhQBm0Vpf8I9rX/QH1D/wGf8Awo/4R7Wv+gPqH/gM/wDhQBm0Vpf8I9rX/QH1D/wGf/Cj/hHta/6A+of+Az/4UAZtaXh7/kZdK/6/If8A0MUf8I9rX/QH1D/wGf8Awq/oWhavD4g02WXSr5I0uomZmt3AUBxkk44FADvHn/I6ah/2z/8ARa1zldh410fVLrxdfTW+m3k0TeXteOBmU4jUcED1rB/4R7Wv+gPqH/gM/wDhQBm0Vpf8I9rX/QH1D/wGf/Cj/hHta/6A+of+Az/4UAZtFaX/AAj2tf8AQH1D/wABn/wo/wCEe1r/AKA+of8AgM/+FAGbRWl/wj2tf9AfUP8AwGf/AAo/4R7Wv+gPqH/gM/8AhQBm0Vpf8I9rX/QH1D/wGf8Awo/4R7Wv+gPqH/gM/wDhQBm0Vpf8I9rX/QH1D/wGf/Cj/hHta/6A+of+Az/4UAZtFaX/AAj2tf8AQH1D/wABn/wo/wCEe1r/AKA+of8AgM/+FAGbRWl/wj2tf9AfUP8AwGf/AAo/4R7Wv+gPqH/gM/8AhQBm0Vpf8I9rX/QH1D/wGf8Awo/4R7Wv+gPqH/gM/wDhQBm1peHv+Rl0r/r8h/8AQxR/wj2tf9AfUP8AwGf/AAq/oWhavD4g02WXSr5I0uomZmt3AUBxkk44FADvHn/I6ah/2z/9FrXOV2HjXR9UuvF19Nb6beTRN5e144GZTiNRwQPWsH/hHta/6A+of+Az/wCFAGbRWl/wj2tf9AfUP/AZ/wDCj/hHta/6A+of+Az/AOFAGbRWl/wj2tf9AfUP/AZ/8KP+Ee1r/oD6h/4DP/hQBm0Vpf8ACPa1/wBAfUP/AAGf/Cj/AIR7Wv8AoD6h/wCAz/4UAZtFaX/CPa1/0B9Q/wDAZ/8ACj/hHta/6A+of+Az/wCFAGbRWl/wj2tf9AfUP/AZ/wDCj/hHta/6A+of+Az/AOFAGbRWl/wj2tf9AfUP/AZ/8KP+Ee1r/oD6h/4DP/hQBm0Vpf8ACPa1/wBAfUP/AAGf/Cj/AIR7Wv8AoD6h/wCAz/4UAZtFaX/CPa1/0B9Q/wDAZ/8ACj/hHta/6A+of+Az/wCFAGbWl4e/5GXSv+vyH/0MUf8ACPa1/wBAfUP/AAGf/Cr+haFq8PiDTZZdKvkjS6iZma3cBQHGSTjgUAO8ef8AI6ah/wBs/wD0Wtc5XYeNdH1S68XX01vpt5NE3l7XjgZlOI1HBA9awf8AhHta/wCgPqH/AIDP/hQBm0Vpf8I9rX/QH1D/AMBn/wAKP+Ee1r/oD6h/4DP/AIUAZtFaX/CPa1/0B9Q/8Bn/AMKP+Ee1r/oD6h/4DP8A4UAZtFaX/CPa1/0B9Q/8Bn/wo/4R7Wv+gPqH/gM/+FAGbRWl/wAI9rX/AEB9Q/8AAZ/8KP8AhHta/wCgPqH/AIDP/hQBm0Vpf8I9rX/QH1D/AMBn/wAKP+Ee1r/oD6h/4DP/AIUAZtFaX/CPa1/0B9Q/8Bn/AMKP+Ee1r/oD6h/4DP8A4UAZtFaX/CPa1/0B9Q/8Bn/wo/4R7Wv+gPqH/gM/+FAGbRWl/wAI9rX/AEB9Q/8AAZ/8KP8AhHta/wCgPqH/AIDP/hQBm1peHv8AkZdK/wCvyH/0MUf8I9rX/QH1D/wGf/Cr+haFq8PiDTZZdKvkjS6iZma3cBQHGSTjgUAb3ivxVr+n+KL2ysLtlgiCsqCFG2jy1YnJUnuTWH/wnniX/oJf+QI//iau+KkSTx3qwdVYC3LAEZwRACDVCeSOGG52WlrmCKBkJhUnLKNxPHOc9+KAHf8ACeeJf+gl/wCQI/8A4mj/AITzxL/0Ev8AyBH/APE1Zis411JY7eyglgN263G+MNsGRtGT90Y6evTmuXgKC4jMn3A43fTPNAHSS+M/FkKI8t5JGjjKM9qgDD2+Xmov+E88S/8AQS/8gR//ABNM1mF5FmIhdHkuwIQsjN9oBDfMBnBPTkcfNilW2xp0HmWkS2xtJGkmMY3CQF9vzdQchRjvQA7/AITzxL/0Ev8AyBH/APE0f8J54l/6CX/kCP8A+JqSGO1mu5LeW2t1iiigdSECksQmct1wS3NZ2qxSJYWbXFrHb3DSShgkYQkDbjIH4/z70AXf+E88S/8AQS/8gR//ABNH/CeeJf8AoJf+QI//AImucooA6P8A4TzxL/0Ev/IEf/xNH/CeeJf+gl/5Aj/+JrnKKAOj/wCE88S/9BL/AMgR/wDxNH/CeeJf+gl/5Aj/APia5yigDo/+E88S/wDQS/8AIEf/AMTR/wAJ54l/6CX/AJAj/wDia5yigDo/+E88S/8AQS/8gR//ABNH/CeeJf8AoJf+QI//AImucooA6P8A4TzxL/0Ev/IEf/xNXdH8a+IbrXNPt5tQ3RS3MaOvkxjKlgCOF9K4+tLw9/yMulf9fkP/AKGKAOt8V+Ktf0/xRe2VhdssEQVlQQo20eWrE5Kk9yaw/wDhPPEv/QS/8gR//E1d8VIknjvVg6qwFuWAIzgiAEGqE8kcMNzstLXMEUDITCpOWUbieOc578UAO/4TzxL/ANBL/wAgR/8AxNH/AAnniX/oJf8AkCP/AOJqzFZxrqSx29lBLAbt1uN8YbYMjaMn7ox09enNcoudwwcHPBzigDqJPGXi6ExiW7lQyfc3WqDd9Pl5pJ/Gniy2cJPeSRMRkLJbRqcfitVntr37FDCEnjvWugVLyZaViD8ynsBgZPOc9aq6nbXMEEFqba58uAO5lkiZQxJG4jI+6Pl/P3oAvf8ACeeJf+gl/wCQI/8A4mj/AITzxL/0Ev8AyBH/APE1ZgtEN3Ek9jbra7bcxN5YG9zs3DPfILZHtVG3WO6itpzbQG4InWNFjAV2UKVBXoTyfrx1oAl/4TzxL/0Ev/IEf/xNH/CeeJf+gl/5Aj/+JrP1mMxvZ74I4ZWtw0iooX5tzdQOh6VmUAdH/wAJ54l/6CX/AJAj/wDiaP8AhPPEv/QS/wDIEf8A8TXOUUAdH/wnniX/AKCX/kCP/wCJo/4TzxL/ANBL/wAgR/8AxNc5RQB0f/CeeJf+gl/5Aj/+Jo/4TzxL/wBBL/yBH/8AE1zlFAHR/wDCeeJf+gl/5Aj/APiaP+E88S/9BL/yBH/8TXOUUAdH/wAJ54l/6CX/AJAj/wDiau6P418Q3WuafbzahuiluY0dfJjGVLAEcL6Vx9aXh7/kZdK/6/If/QxQB1vivxVr+n+KL2ysLtlgiCsqCFG2jy1YnJUnuTWH/wAJ54l/6CX/AJAj/wDiau+KkSTx3qwdVYC3LAEZwRACDVCeSOGG52WlrmCKBkJhUnLKNxPHOc9+KAHf8J54l/6CX/kCP/4mj/hPPEv/AEEv/IEf/wATVmKzjXUljt7KCWA3brcb4w2wZG0ZP3Rjp69Oa5OgDpf+E48U4Q/b2w/3T9nj+b6fLT5fGniy3kEc15JG55CvbRg/kVqot3Kz6NOwDurMFUEIPvYAHYVaMdraW9ustw0N1E8jxC7Rgw3bcEhQ2MYYjPfmgBr+OfFEbsj6gVdThla3jBB9D8tN/wCE88S/9BL/AMgR/wDxNQtbCTxhKCqzQ/bcOdp2/Mx+U5H1H4GpViC+XJd2cCXIiuG8rygAVVMoSv1zz3xQAv8AwnniX/oJf+QI/wD4mj/hPPEv/QS/8gR//E0xYhKgngtYXvHtVdYxECCd5ViExjOAO3qaztZjWLVHRY0jASMlI/ug7Fzj8aANT/hPPEv/AEEv/IEf/wATR/wnniX/AKCX/kCP/wCJrnKKAOj/AOE88S/9BL/yBH/8TR/wnniX/oJf+QI//ia5yigDo/8AhPPEv/QS/wDIEf8A8TR/wnniX/oJf+QI/wD4mucooA6P/hPPEv8A0Ev/ACBH/wDE0f8ACeeJf+gl/wCQI/8A4mucooA6P/hPPEv/AEEv/IEf/wATV3R/GviG61zT7ebUN0UtzGjr5MYypYAjhfSuPrS8Pf8AIy6V/wBfkP8A6GKAOt8V+Ktf0/xRe2VhdssEQVlQQo20eWrE5Kk9yaw/+E88S/8AQS/8gR//ABNXfFSJJ471YOqsBblgCM4IgBBqhPJHDDc7LS1zBFAyEwqTllG4njnOe/FADv8AhPPEv/QS/wDIEf8A8TR/wnniX/oJf+QI/wD4mrMVnGupLHb2UEsBu3W43xhtgyNoyfujHT16c1ydAHSnxz4oCqxv2Ab7p+zx8/T5amPi3xiJlhM84lYZCfZE3EeuNtVILkS3Giy3TgKGYZ4ULhuPYY4qcQyNam3e2uIZZlcNDExdlUMhDBWbJ3HIODztzQAxvHXidGKtqJVgcEG3jBB/75pP+E88S/8AQS/8gR//ABNRNElx4ohxEZYVeGOXd8w3bQCGPTOQfyNSLEF8uS7s4EuRFcN5XlAAqqZQlfrnnvigBf8AhPPEv/QS/wDIEf8A8TR/wnniX/oJf+QI/wD4mmLEJUE8FrC949qrrGIgQTvKsQmMZwB29TWdrMaxao6LGkYCRkpH90HYucfjQBqf8J54l/6CX/kCP/4mj/hPPEv/AEEv/IEf/wATXOUUAdH/AMJ54l/6CX/kCP8A+Jo/4TzxL/0Ev/IEf/xNc5RQB0f/AAnniX/oJf8AkCP/AOJo/wCE88S/9BL/AMgR/wDxNc5RQB0f/CeeJf8AoJf+QI//AImj/hPPEv8A0Ev/ACBH/wDE1zlFAHR/8J54l/6CX/kCP/4mruj+NfEN1rmn282obopbmNHXyYxlSwBHC+lcfWl4e/5GXSv+vyH/ANDFAGj48/5HTUP+2f8A6LWucro/Hn/I6ah/2z/9FrXOUAePWGuX2mQPFZtbx7s/vfssTSrkYO2QqXXj0IqafxLfXNvJA8GlBJFKkx6TaowB9GWMEH3BzWRRQAVPcXlxdx26TybltovJiGANqbi2OOvLMefWoKKAHwytBMkqBCyEMA6B1/FSCCPYirWo6teaqYvtTx7YgVjjhhSFEBOThEAUZ7nHNVYozLKka4Bdgoz71qxeGr+dmWIJIVUuQm44UDJPToACSa6sPgsRiIuVKDaREqkIaSZj0Vq/2Bdf89IfzP8AhT28NX6wpMwQROSqOd21iMZAOOcZH5iuj+x8d/z6ZH1il3Meirt5pk1lEJJGjILbflJ/w9qpVx18PVoT5KsbM0jJSV4hRRRWJQUUUUAFFFFAHuVaXh7/AJGXSv8Ar8h/9DFZtaXh7/kZdK/6/If/AEMUAaPjz/kdNQ/7Z/8Aota5yuj8ef8AI6ah/wBs/wD0Wtc5QB49Ya5faZA8Vm1vHuz+9+yxNKuRg7ZCpdePQipp/Et9c28kDwaUEkUqTHpNqjAH0ZYwQfcHNZFFABRRRQBPeXlxf3Hn3MnmS7ETdgD5VUKo49AoFFpdSWVys8Sws69BNCkq/irgg/iKgooAtahqN1qlz9ou5A7hQihUVFVR0CqoAUewAqrRRQAUUUUAFFFFABRRRQAUUUUAe5VpeHv+Rl0r/r8h/wDQxWbWl4e/5GXSv+vyH/0MUAaPjz/kdNQ/7Z/+i1rnK6Px5/yOmof9s/8A0Wtc5QB49Ya5faZA8Vm1vHuz+9+yxNKuRg7ZCpdePQipp/Et9c28kDwaUEkUqTHpNqjAH0ZYwQfcHNZFFABRRRQBPZXlxp17DeWsnl3EDh43wDtYdDg8VBRRQB0ngrThqeszRPMIII7aSeaXZuKomCcDuewGRyRXd2Phuy1IRx2WoJJHPf29stxJbsjx+YshIK7tvBXkDOeMMOQfO/DGsPoWpTXyosiiBo5InXcsiMQpUjI4IPqD6c10sXxIFtLG1tptvbxxXEVwkUcJChowwAPz5Od5ySSenPFfW5Tjo0MJyOoovVrbv6X/AEOGvTcql7XNZtE0tLNbqTWZI4p2dbUvZn59gGS4DHYNxwMbjxkgVvSfD2W+lieyjukjuFiSBYbV5kDmGNmaV8/u1LMeee/AArkNA8Sy30C6Zb6XBemNmeE3MW4wlgAxHzbSOBwwIz2rrd2s3UUZu7LSJmjC+StwrsYCEVOADtOQikhtwz25r23ip1Ep0at1rrp3000+d/OxzciWkkeReIARfoCMERj+ZrKr06b4ei/cS3d95cgG0CJdwx+OPU1Xm+GUaqPJv3ds8hwFH6A181mWW1a+LnVg1Zv+uh2Ua0YwSZ5zRW7rOgS6GY/tdpOFk6MJVIz6ZCkVk77X/njN/wB/R/8AE141XC+ym4Tmk16/5HQp8yukQUVYdIWtmkjSRSrqvzOGzkH2HpVesalPktre5Sdz3KtLw9/yMulf9fkP/oYrNrS8Pf8AIy6V/wBfkP8A6GKzGaPjz/kdNQ/7Z/8Aota5yuj8ef8AI6ah/wBs/wD0Wtc5QB49Ya5faZA8Vm1vHuz+9+yxNKuRg7ZCpdePQipp/Et9c28kDwaUEkUqTHpNqjAH0ZYwQfcHNZFFABRRRQBPZXlxp17DeWsnl3EDh43wDtYdDg8VBRRQBasNQm06czQJbMxGMXFtHOv5OpGfemXl5cX93JdXUplnlOXc9/8AD6VBRQAUUUUAFFFFABRRRQAUUUUAe5VpeHv+Rl0r/r8h/wDQxWbWl4e/5GXSv+vyH/0MUAaPjz/kdNQ/7Z/+i1rnK6Px5/yOmof9s/8A0Wtc5QB4bRRRQAUUUUAXNJWJtZsVnYrCbiMSEdl3DP6V7Vd2E/8AaF8l3olhb2McF6bKVIEUuqwuUKkf6wDAIcgnOPm5rxCy/wCP63/66r/Op/7Yv/8Anv8A+OL/AIV7uV46lhKTdS+reyv0Xmu/mc1anKpLQ9okRZL67ttP0uxlvLXT7Z7SAWiOXZ0iMjFcfvG5Jwc4BJArQsLKKbSMXdjHHqMctyYbW1tUugrEwbtsTOFYgE/Lk4yeOOPB/wC17/8A57/+OL/hXZaL4X1jUAJru8a3g9PKAZuOoyOlevSzGjiFakpaW6R7W6z2ert5vuc8qMofFb8f8iH4jQ20GpSx2sDwRiSPdGyqpV/L+b5VZgvzZ+XJ29DyK4Wvb7Xw1p9vGokQzyDGXc9T9BxV7+zLD/nytv8Av0v+FY4/L4YuqqnO1olt2+ZVKq6cbWPAqK99/syw/wCfK2/79L/hVW58Pabcqw8jyy38UR2kfTtXF/Ycf+fn/kv/ANsafWX2/H/gHhlFegax4G1G1iM2n6jcXCqOY2J3k+2O3SuIluL6GV4pZrhJEYqys5BUjqCK8yvhFQt7RtX8l/8AJG8anNt/X4Faip/tt1/z8zf9/DS3jFrgMxJJjjJJ7/IKwlThyOcW3ZpbW3v5vsUm72Z7VWl4e/5GXSv+vyH/ANDFZtaXh7/kZdK/6/If/QxWBRo+PP8AkdNQ/wC2f/ota5yuj8ef8jpqH/bP/wBFrXOUAeG0UUUAPijMsqRrgF2CjPvWrF4av52ZYgkhVS5CbjhQMk9OgAJJqnpKxNrNis7FYTcRiQjsu4Z/Svaruwn/ALQvku9EsLexjgvTZSpAil1WFyhUj/WAYBDkE5x83Ne9lGCw2IhJ1lqvO3/DnLXqTg1ynj39gXX/AD0h/M/4U9vDV+sKTMEETkqjndtYjGQDjnGR+Yr16RFkvru20/S7GW8tdPtntIBaI5dnSIyMVx+8bknBzgEkCtCwsoptIxd2Mceoxy3JhtbW1S6CsTBu2xM4ViAT8uTjJ4449WWV5fFJuL1/vd1f7trv1MVXqvr+B4NeaZNZRCSRoyC235Sf8PaqVd18RobaDUpY7WB4IxJHujZVUq/l/N8qswX5s/Lk7eh5FcLXz+a4alh66jRVotJ6+Z1UJynG8twooorzDYKKKKACiiigAooooA9yrS8Pf8jLpX/X5D/6GKza0vD3/Iy6V/1+Q/8AoYoA0fHn/I6ah/2z/wDRa1zldH48/wCR01D/ALZ/+i1rnKAPDaKKKACiiigAooooAng/1N1/1yH/AKGtbXhTwzJ4gvcyFksomHnOpAYj+6vXBx3wfxrM0u1e+uDaRkK8+yNS3QFpEHP517XpOlw6RYJaw4O37zhdu4+uK9jBYSOIcXPZLbvrI56lRwvb+tiSw0610y2FvaQiOMHOB3/GrVFFfSHIFFFFAiO4t4rqB4J41kicbWVhkEV53448Dx2MNzrmh2rw6TE6LNA8vmGAtwpDHkgkY55Bx1zx6RUdxbxXUDwTxrJE42srDIIrjxmDhiYWejWzNKdRwZ4Gn/HjL/11T+TVBW5r+j/2HcXVn5wkUSoVPQ4KsRn8DWHXzOJpyp8kJqzS/VnbBp3aPcq0vD3/ACMulf8AX5D/AOhis2tLw9/yMulf9fkP/oYrlLNHx5/yOmof9s//AEWtc5XR+PP+R01D/tn/AOi1rnKAPDaKKKACiiigAooooAKKKKACiiigAooooAKKKKACiiigD3KtLw9/yMulf9fkP/oYrNrS8Pf8jLpX/X5D/wChigDR8ef8jpqH/bP/ANFrXOV0fjz/AJHTUP8Atn/6LWucoA8NooooAKKKKAJ7L/j+t/8Arqv86gqey/4/rf8A66r/ADrtPh/4ce6Y6vcxf6KrlIt8ZxIwHOD04yM/hXbQo+3UKd7XcvyRnKXLd+hseEvBttZ2kd9fL5t1Jh1U/dQY4GPX1z7ccc9pRRX1dKlCjBQgrJHDKTk7sKKKK0JCiiigArnPEvhGw1qznlih8vVCVMc4fCnGcqy45zkc9Rjv0ro6Kzq0oVoOE1dMqMnF3R89yxSQyvFKjJIhKsrDBBHUEVJd/wCuX/rlH/6AK9E8feHFuEGqwbUKDEwC9f8AaJrzu7/1y/8AXKP/ANAFfMYrCTw0JRequrPvozthUU2me11peHv+Rl0r/r8h/wDQxWbWl4e/5GXSv+vyH/0MV5xqaPjz/kdNQ/7Z/wDota5yuj8ef8jpqH/bP/0Wtc5QB4bRRRQBPZf8f1v/ANdV/nXSeHNP1jxFLJ5d2IYI+GlMann0xXN2X/H9b/8AXVf517npekrotkll5eyWPiUFNrbh1BHbHSveymNSUPdm4pN3SbV9F2a2OWu0nqrlWLw1piRqrwtIwGCzOwJ9+DT/APhHdK/59f8AyI3+NalFfR+3q/zP7zk5Y9jJk8NaW8bKLdkJH3lkbI/WvOPE/h7VPD+Lhbueayd9iy7yCrHJCnnrgHn2PSvXaqalp8Op2EtrMoKupAJGdp9a5MXSniI252n0d3/maU5KD2PC7xi1wGYkkxxkk9/kFV60NYs3sb4wSEeYihGHoVAB/lWfXyWMjKOImpb3Z3U2nBWCiiiuYsKKKKACiiigD3KtLw9/yMulf9fkP/oYrNrS8Pf8jLpX/X5D/wChigDR8ef8jpqH/bP/ANFrXOV0fjz/AJHTUP8Atn/6LWucoA8NooooAKKKKACiiigDqfAKCTxNEDj7pPvwM/lx/KvXq8j+Hv8AyNEf3fuN9fun/P5V65X12Wf7pD5/mzgrfGwoooruMgooooAKKKKAOD+J9tGmnaddAS+ZJK8bEj5MKARg+vznPttrzSvUvil/yAdJ/wBf/wAfU33v9X91Pu/7Xr7ba8tr5bNv4/y/VndQ+E9yrS8Pf8jLpX/X5D/6GKza0vD3/Iy6V/1+Q/8AoYrzDY0fHn/I6ah/2z/9FrXOV0fjz/kdNQ/7Z/8Aota5ygDw2iiigAooooAKKKKACiiigAooooAKKKKACiiigAooooA9yrS8Pf8AIy6V/wBfkP8A6GKza0vD3/Iy6V/1+Q/+higDR8ef8jpqH/bP/wBFrXOV0fjz/kdNQ/7Z/wDota5ygDw2iiigAooooAnsv+P63/66r/OvbtB09dM0eC3Xrt3McY5Pt2+leI2X/H9b/wDXVf519DXiql7cKqzKokYATDEgGf4v9r196+jyb+G/V/ocmI3IaKKK9k5gooooAKKKKACiiigCG6tIL+2ktLnPkSja+0ZOK8N1m1Njq09oXDmAiIsBjO0AZ/SveK8W8XADxDdABQBK/Tr1/l/9evLzelzYfnvs1+pvQladj1StLw9/yMulf9fkP/oYrNrS8Pf8jLpX/X5D/wChivlztNHx5/yOmof9s/8A0Wtc5XR+PP8AkdNQ/wC2f/ota5ygDw2iiigCey/4/rf/AK6r/Ovoi+/5CFz/AK//AFrf8fH+s6n7/wDtevvXzvZf8f1v/wBdV/nXvkF/HqkQvond458yBnbcxye57n3r6PJv4b9X+hyYjckooor2TmCiio7ieO1tpbiZtsUSl3b0AGTQM8a8X/8AIw3f3f8AWv8AXr/n9awa0tdvv7Q1OS4MYTzMSYBz94BsZ9s1m18hmU4zxdSUdrnfRTUEmFFFFcRoFFFFABRRRQB7lWl4e/5GXSv+vyH/ANDFZtaXh7/kZdK/6/If/QxQBo+PP+R01D/tn/6LWucro/Hn/I6ah/2z/wDRa1zlAHhtFFFABRRRQAUUUUAdL4HuFtvEMcrlAoG0k9eeP6/yr2KvArKaS3M08TFJI1V0YdiHUg17R4X1aHXfDkN2ssj3UTeVdqYSqo2MqQ2SDuG70PymvpctxUFThQlvbTz1Zx1oO7katFFFeuc4UUUUAFFFVdRv4dMsJbu4JEcYycd/SgZwvxLv/OS2sRJkW77yufus49PcKv8AkV55WtqmqzawJ7qcDzGlTJH0bj6Csmvk8yqRqVVODumv1Z3UU1GzPcq0vD3/ACMulf8AX5D/AOhis2tLw9/yMulf9fkP/oYrzzU0fHn/ACOmof8AbP8A9FrXOV0fjz/kdNQ/7Z/+i1rnKAPDaKKKACiiigAooooAKKKKACiiigAooooAKKKKACiiigD3KtLw9/yMulf9fkP/AKGKza0vD3/Iy6V/1+Q/+higDR8ef8jpqH/bP/0Wtc5XR+PP+R01D/tn/wCi1rnKAPDaKKKACiiigCey/wCP63/66r/Ovoi+/wCQhc/6/wD1rf8AHx/rOp+//tevvXzvZf8AH9b/APXVf5175Bdi/gS7EvnecN5kLbixPJJPc19Hk38N+r/Q5MRuSUUUV7JzBRRRQAUUUUAFFFFABXi3i/8A5GG7+7/rX+vX/P617STgZNeIeJp1n166KMki+YSJE6ODzke1edms4rCuLeraNqCfPc9arS8Pf8jLpX/X5D/6GKza0vD3/Iy6V/1+Q/8AoYr5Q7jR8ef8jpqH/bP/ANFrXOV0fjz/AJHTUP8Atn/6LWucoA8NooooAnsv+P63/wCuq/zrr/BPittLgk0+7aR7MMZIwGJ8tiOcL05wM/hXFo7RyK6HDKQQfepftcn92H/vyn+Fd2ExFOk4ylf3W3p5pLuZzg5XSPe4LiG6iEsEiyIRkFTmpa8MsdevrAEQytGp5xFiPn14Ht+lXP8AhMNV/wCfq5/7/Gvfp5rhJRvKTT7WOV0KieiPZJZo4IzJK6og6ljivO/G3jP7bpR0awMi200qy3DbyPM2Z2rtHbJJ5zyB0xzyl74h1G+Ty5rh3j4JWU7wSOnWqP2uT+7D/wB+U/wrhx2Y4etB0ot272/S6NKdKUXzMLv/AFy/9co//QBUFPkkaVy7kE4A4AHQYHApleJWmp1JSWzbOmKskgooorMYUUUUAFFFFAHuVaXh7/kZdK/6/If/AEMVm1peHv8AkZdK/wCvyH/0MUAaPjz/AJHTUP8Atn/6LWucro/Hn/I6ah/2z/8ARa1zlAHhtFFFABRRRQAUUUUATwf6m6/65D/0NauaJrdzoV59ot+ScBlJ4YehqhDN5W/5FcOu0hs+oPYj0p/nx/8APpD+b/8AxVdlOduScZpOK637vyfcza3TW57TovifSNcs4Tb3JS+ZnElpIuCgGMEHPzA59sYrXrwKG9NvMssEKRSKcq6O6kfQhq3LbxzqtrGqRvwBjBO7+ea9rC5lT5bV5q/ez1/8lOedF391f1957DRXkv8AwsLWf76/98r/AIUyTx/rMi48wD0wAP5Cur+0sJ/z8/CX+RHsanb8j07U9Xs9JgMlzKFO0lU7tivKPE3iu58QSiMb4rJCGWDdwW5G4+p5P5n1rMutUmvpBJdr9ocDAaWWRiB6ctUHnx/8+kP5v/8AFV5GMxv1iPIpJLru7/8AkpvTp8jvb+vvBP8Ajxl/66p/JqgqZ5w0RjWGOMFgx27ucZ9SfU1DXmVXG0Yp3sv1b/U2jfVnuVaXh7/kZdK/6/If/QxWbWl4e/5GXSv+vyH/ANDFYlGj48/5HTUP+2f/AKLWucro/Hn/ACOmof8AbP8A9FrXOUAeG0UUUAFFFFABRRRQAUUUUAFFFFABXc+DtJtbjQri/wBQv2s7ZboQKyQeazOVz0yMKAOT15GAa4au18F6tPbWT6alhb6glxceYsE6kgOqgBhhlIwGOeceor2MjlKOLunbR9v10OfEq8DqR4cs2tFuZ79YbeKwF08kFuztJm4aIYDOOeh/hGO2cky6f4c0yPXtOsLy/M1080IuLTyWVSrgEqsgPJAIzwvfBNWJ7TWri0ktnOnKj2wtjsDLhRMZuABgHcccDGO1SSS6zZCG/Wx0ue8tjGxmVHaaUR4Cg5IHQDJUAnHJNfaSrVHFr2m97bfLp6+e1jz+VX2KGo+CL3TtFlv3F1ugijmm32jJDtcqAElJw7AsuRgd8E4rya9/4/rj/rq3867S/wDHEd1ZLHPp1v58saK12IczMqHaASW2g/KMlQCe5OTXEXEgluZZFyA7lhn3NfNZ5i41qEIualJO+nZpf0jrw1Nxk3ayPbq0vD3/ACMulf8AX5D/AOhis2tLw9/yMulf9fkP/oYr5g7TR8ef8jpqH/bP/wBFrXOV0fjz/kdNQ/7Z/wDota5ygDw2iiigAooooAnsv+P63/66r/OvT/AGsxXmltYu+24hY7UJ6px93268V5hZf8f1v/11X+dWNJ1WbR71bq3AMi9Cf5fQ16mBxPsFFt2i27/cjCrDmv3PeKKo6TqcOrafFdQspLAb1U52t3FXq+oOMKKKKBBRRRQAUUVDd3cFjayXNzIscUYyzNQMyPFeqDT9GlWOXZcyjEeGwR7/AErxy7/1y/8AXKP/ANAFX9f16fX777RMoQKCqIDnaPSqF3/rl/65R/8AoAr5vMMXDEQfJsmte+jOulTcHqe11peHv+Rl0r/r8h/9DFZtaXh7/kZdK/6/If8A0MV450Gj48/5HTUP+2f/AKLWucro/Hn/ACOmof8AbP8A9FrXOUAeG0UUUAFFFFABRRRQAUUUUAFFFFABRRRQAUUUUAFFFFAHuVaXh7/kZdK/6/If/QxWbWl4e/5GXSv+vyH/ANDFAGj48/5HTUP+2f8A6LWucro/Hn/I6ah/2z/9FrXOUAeG0UUUAFFFFABRRRQAUUUUAFFFFABRRRQAUUUUAFFFFAHuVaXh7/kZdK/6/If/AEMVm1peHv8AkZdK/wCvyH/0MUAaPjz/AJHTUP8Atn/6LWucro/Hn/I6ah/2z/8ARa1zlAHhtFFFABRRRQAUUUUAFFFFABRRRQAV6b8L7eJtL1K5aOUzRzxxo4HyBWViwPuSq4+jV5lXoXw31SG0hubCWQobuYMmXwpZRjGO5+fg/h3r1Mp/jv0/VGNf4T0WiimSyxwxPLK6pGgLMzHAAHUk19QcR5F49iSHxLKkYUAgN15yeT+GSf1rmK6HxnqFvqfiGa5tHElsSRFLtKmRFYqGweRkKDjtmuer5DMZxniZSjs7fkjvpJqCTPcq0vD3/Iy6V/1+Q/8AoYrNrS8Pf8jLpX/X5D/6GK4jQ0fHn/I6ah/2z/8ARa1zldH48/5HTUP+2f8A6LWucoA8NooooAKKKKAJ7L/j+t/+uq/zqCnxSGKVJFwSjBhn2qTz4/8An0h/N/8A4qt48sqai5Wab3v1t2T7Eu6d7FvR9bu9EuDLbOw3Y3KGwGx6+vU16tofi/StZtkHneRe5IeCQADAAwQ2ee/pjHvXj3nx/wDPpD+b/wDxVHnx/wDPpD+b/wDxVd2Fxc6Fo+0Tiumv58plOmpa21/rzPf1YMoZSCpGQR3pa8YsvGWrWNqlrFO32eM5SMuxCnAHG4nAwo49qu/8LC1n++v/AHyv+FexTzPDON5zSf8A28/0MHRnfRHrVFeS/wDCwtZ/vr/3yv8AhUU3j/X5Lae2W7eOCfaZURyu4qcjlSMUVMzwyjeE03/28v0BUZ31R6RqniKw0uAu0qyyYyI0bqPr2ryrX/E19r0rCWR0td25YAx2gjIBx0zgnn3NZfnx/wDPpD+b/wDxVHnx/wDPpD+b/wDxVeXjMb9YjyKSS67u/wD5KbU6fI72/r7yCp7v/XL/ANco/wD0AUefH/z6Q/m//wAVUc0pmk3lVXgABc4AAwOv0rzpcsaTipJttbX6X7pdzXVu9j2+tLw9/wAjLpX/AF+Q/wDoYrNrS8Pf8jLpX/X5D/6GK5yzR8ef8jpqH/bP/wBFrXOV0fjz/kdNQ/7Z/wDota5ygDw2iiigAooooAKKKKACiiigAooooAKKKKACiiigAooooA9yrS8Pf8jLpX/X5D/6GKza0vD3/Iy6V/1+Q/8AoYoA0fHn/I6ah/2z/wDRa1zldH48/wCR01D/ALZ/+i1rnKAPDaKKKACiiigAooooAKKKKACiiigAooooAKKKKACiiigD3KtLw9/yMulf9fkP/oYrNrS8Pf8AIy6V/wBfkP8A6GKANHx5/wAjpqH/AGz/APRa1zldH48/5HTUP+2f/ota5ygDw2iiigAooooAKKKKACiiigAooooAKmjuNkQjaGNwGLAsWBBOPQj0FQ0VcJyg7oTSZ1MPj3WIIljEmQO7YY/mQTVfUfGer6navaTzMbWTHmQh2VJMHI3BSA2D0znFc9RXXPMsTUjyTkmvRf5GaowTukSTTebs+RUCLtAXPqT3J9ajoorjlJzd2aJWPcq0vD3/ACMulf8AX5D/AOhis2tLw9/yMulf9fkP/oYqRmj48/5HTUP+2f8A6LWucro/Hn/I6ah/2z/9FrXOUAeG0UUUAFFFFABRRRQAUUUUAFFFFABRRRQAUUUUAFFFFAHuVaXh7/kZdK/6/If/AEMVm1peHv8AkZdK/wCvyH/0MUAaPjz/AJHTUP8Atn/6LWucro/Hn/I6ah/2z/8ARa1zlAHhtFFFABRRRQAUUUUAFFFFABRRRQAUUUUAFFFFABRRRQB7lWl4e/5GXSv+vyH/ANDFZtaXh7/kZdK/6/If/QxQBo+PP+R01D/tn/6LWucro/Hn/I6ah/2z/wDRa1zlAHhtFFFABRRRQAUUUUAFFFFABRRRQAUUUUAFFFFABRRRQB7lWl4e/wCRl0r/AK/If/QxWbWl4e/5GXSv+vyH/wBDFAGj48/5HTUP+2f/AKLWucro/Hn/ACOmof8AbP8A9FrXOUAeG0UUUAFFFFABRRRQAUUUUAFFFFABRRRQAUUUUAFFFFAHuVaXh7/kZdK/6/If/QxWbWl4e/5GXSv+vyH/ANDFAGj48/5HTUP+2f8A6LWucrsPGuj6pdeLr6a3028miby9rxwMynEajggetYP/AAj2tf8AQH1D/wABn/woAzaK0v8AhHta/wCgPqH/AIDP/hR/wj2tf9AfUP8AwGf/AAoAzaK0v+Ee1r/oD6h/4DP/AIUf8I9rX/QH1D/wGf8AwoAzaK0v+Ee1r/oD6h/4DP8A4Uf8I9rX/QH1D/wGf/CgDNorS/4R7Wv+gPqH/gM/+FH/AAj2tf8AQH1D/wABn/woAzaK0v8AhHta/wCgPqH/AIDP/hR/wj2tf9AfUP8AwGf/AAoAzaK0v+Ee1r/oD6h/4DP/AIUf8I9rX/QH1D/wGf8AwoAzaK0v+Ee1r/oD6h/4DP8A4Uf8I9rX/QH1D/wGf/CgDNorS/4R7Wv+gPqH/gM/+FH/AAj2tf8AQH1D/wABn/woAza0vD3/ACMulf8AX5D/AOhij/hHta/6A+of+Az/AOFX9C0LV4fEGmyy6VfJGl1EzM1u4CgOMknHAoAd48/5HTUP+2f/AKLWucrsPGuj6pdeLr6a3028miby9rxwMynEajggetYP/CPa1/0B9Q/8Bn/woAzaK0v+Ee1r/oD6h/4DP/hR/wAI9rX/AEB9Q/8AAZ/8KAM2itL/AIR7Wv8AoD6h/wCAz/4Uf8I9rX/QH1D/AMBn/wAKAM2itL/hHta/6A+of+Az/wCFH/CPa1/0B9Q/8Bn/AMKAM2itL/hHta/6A+of+Az/AOFH/CPa1/0B9Q/8Bn/woAzaK0v+Ee1r/oD6h/4DP/hR/wAI9rX/AEB9Q/8AAZ/8KAM2itL/AIR7Wv8AoD6h/wCAz/4Uf8I9rX/QH1D/AMBn/wAKAM2itL/hHta/6A+of+Az/wCFH/CPa1/0B9Q/8Bn/AMKAM2itL/hHta/6A+of+Az/AOFH/CPa1/0B9Q/8Bn/woAza0vD3/Iy6V/1+Q/8AoYo/4R7Wv+gPqH/gM/8AhV/QtC1eHxBpssulXyRpdRMzNbuAoDjJJxwKAHePP+R01D/tn/6LWucrsPGuj6pdeLr6a3028miby9rxwMynEajggetYP/CPa1/0B9Q/8Bn/AMKAM2itL/hHta/6A+of+Az/AOFH/CPa1/0B9Q/8Bn/woAzaK0v+Ee1r/oD6h/4DP/hR/wAI9rX/AEB9Q/8AAZ/8KAM2itL/AIR7Wv8AoD6h/wCAz/4Uf8I9rX/QH1D/AMBn/wAKAM2itL/hHta/6A+of+Az/wCFH/CPa1/0B9Q/8Bn/AMKAM2itL/hHta/6A+of+Az/AOFH/CPa1/0B9Q/8Bn/woAzaK0v+Ee1r/oD6h/4DP/hR/wAI9rX/AEB9Q/8AAZ/8KAM2itL/AIR7Wv8AoD6h/wCAz/4Uf8I9rX/QH1D/AMBn/wAKAM2itL/hHta/6A+of+Az/wCFH/CPa1/0B9Q/8Bn/AMKAM2tLw9/yMulf9fkP/oYo/wCEe1r/AKA+of8AgM/+FX9C0LV4fEGmyy6VfJGl1EzM1u4CgOMknHAoAd48/wCR01D/ALZ/+i1rnK7Dxro+qXXi6+mt9NvJom8va8cDMpxGo4IHrWD/AMI9rX/QH1D/AMBn/wAKAM2itL/hHta/6A+of+Az/wCFH/CPa1/0B9Q/8Bn/AMKAM2itL/hHta/6A+of+Az/AOFH/CPa1/0B9Q/8Bn/woAzaK0v+Ee1r/oD6h/4DP/hR/wAI9rX/AEB9Q/8AAZ/8KAM2itL/AIR7Wv8AoD6h/wCAz/4Uf8I9rX/QH1D/AMBn/wAKAM2itL/hHta/6A+of+Az/wCFH/CPa1/0B9Q/8Bn/AMKAM2itL/hHta/6A+of+Az/AOFH/CPa1/0B9Q/8Bn/woAzaK0v+Ee1r/oD6h/4DP/hR/wAI9rX/AEB9Q/8AAZ/8KAM2itL/AIR7Wv8AoD6h/wCAz/4Uf8I9rX/QH1D/AMBn/wAKAM2tLw9/yMulf9fkP/oYo/4R7Wv+gPqH/gM/+FX9C0LV4fEGmyy6VfJGl1EzM1u4CgOMknHAoA//2Q==\n",
                  "text/plain": "<IPython.core.display.Image object>"
                },
                "metadata": {},
                "output_type": "display_data"
              }
            ]
          }
        },
        "1b3a2c16205d40f390fbfd592225991e": {
          "model_module": "@jupyter-widgets/controls",
          "model_module_version": "1.5.0",
          "model_name": "FloatProgressModel",
          "state": {
            "_dom_classes": [],
            "_model_module": "@jupyter-widgets/controls",
            "_model_module_version": "1.5.0",
            "_model_name": "FloatProgressModel",
            "_view_count": null,
            "_view_module": "@jupyter-widgets/controls",
            "_view_module_version": "1.5.0",
            "_view_name": "ProgressView",
            "bar_style": "success",
            "description": "",
            "description_tooltip": null,
            "layout": "IPY_MODEL_cc071342f0df404ba09045c7134e2821",
            "max": 30,
            "min": 0,
            "orientation": "horizontal",
            "style": "IPY_MODEL_7afb538fa282472ba493a5e84cc1b1ca",
            "value": 30
          }
        },
        "1cb82e807e1d4fc98348bc8e03e49dd8": {
          "model_module": "@jupyter-widgets/base",
          "model_module_version": "1.2.0",
          "model_name": "LayoutModel",
          "state": {
            "_model_module": "@jupyter-widgets/base",
            "_model_module_version": "1.2.0",
            "_model_name": "LayoutModel",
            "_view_count": null,
            "_view_module": "@jupyter-widgets/base",
            "_view_module_version": "1.2.0",
            "_view_name": "LayoutView",
            "align_content": null,
            "align_items": null,
            "align_self": null,
            "border": null,
            "bottom": null,
            "display": null,
            "flex": null,
            "flex_flow": null,
            "grid_area": null,
            "grid_auto_columns": null,
            "grid_auto_flow": null,
            "grid_auto_rows": null,
            "grid_column": null,
            "grid_gap": null,
            "grid_row": null,
            "grid_template_areas": null,
            "grid_template_columns": null,
            "grid_template_rows": null,
            "height": null,
            "justify_content": null,
            "justify_items": null,
            "left": null,
            "margin": null,
            "max_height": null,
            "max_width": null,
            "min_height": null,
            "min_width": null,
            "object_fit": null,
            "object_position": null,
            "order": null,
            "overflow": null,
            "overflow_x": null,
            "overflow_y": null,
            "padding": null,
            "right": null,
            "top": null,
            "visibility": null,
            "width": null
          }
        },
        "217b2c6627a341ac89ea894d33831960": {
          "model_module": "@jupyter-widgets/controls",
          "model_module_version": "1.5.0",
          "model_name": "HBoxModel",
          "state": {
            "_dom_classes": [],
            "_model_module": "@jupyter-widgets/controls",
            "_model_module_version": "1.5.0",
            "_model_name": "HBoxModel",
            "_view_count": null,
            "_view_module": "@jupyter-widgets/controls",
            "_view_module_version": "1.5.0",
            "_view_name": "HBoxView",
            "box_style": "",
            "children": [
              "IPY_MODEL_12ce5ed859d04c129eec58f8ea4a1c0f",
              "IPY_MODEL_1b3a2c16205d40f390fbfd592225991e",
              "IPY_MODEL_f45ac43e50804c66b110e43c7ae82697"
            ],
            "layout": "IPY_MODEL_5c46cb2e2e10455c92e35ad27d27f069"
          }
        },
        "2481cc0966614c43af1be307c317669b": {
          "model_module": "@jupyter-widgets/base",
          "model_module_version": "1.2.0",
          "model_name": "LayoutModel",
          "state": {
            "_model_module": "@jupyter-widgets/base",
            "_model_module_version": "1.2.0",
            "_model_name": "LayoutModel",
            "_view_count": null,
            "_view_module": "@jupyter-widgets/base",
            "_view_module_version": "1.2.0",
            "_view_name": "LayoutView",
            "align_content": null,
            "align_items": null,
            "align_self": null,
            "border": null,
            "bottom": null,
            "display": null,
            "flex": null,
            "flex_flow": null,
            "grid_area": null,
            "grid_auto_columns": null,
            "grid_auto_flow": null,
            "grid_auto_rows": null,
            "grid_column": null,
            "grid_gap": null,
            "grid_row": null,
            "grid_template_areas": null,
            "grid_template_columns": null,
            "grid_template_rows": null,
            "height": null,
            "justify_content": null,
            "justify_items": null,
            "left": null,
            "margin": null,
            "max_height": null,
            "max_width": null,
            "min_height": null,
            "min_width": null,
            "object_fit": null,
            "object_position": null,
            "order": null,
            "overflow": null,
            "overflow_x": null,
            "overflow_y": null,
            "padding": null,
            "right": null,
            "top": null,
            "visibility": null,
            "width": null
          }
        },
        "254c44777abc4f35b8fde9d8c295c03b": {
          "model_module": "@jupyter-widgets/controls",
          "model_module_version": "1.5.0",
          "model_name": "ProgressStyleModel",
          "state": {
            "_model_module": "@jupyter-widgets/controls",
            "_model_module_version": "1.5.0",
            "_model_name": "ProgressStyleModel",
            "_view_count": null,
            "_view_module": "@jupyter-widgets/base",
            "_view_module_version": "1.2.0",
            "_view_name": "StyleView",
            "bar_color": null,
            "description_width": ""
          }
        },
        "255988c2134d4f95a150678e74b2ee3f": {
          "model_module": "@jupyter-widgets/controls",
          "model_module_version": "1.5.0",
          "model_name": "DescriptionStyleModel",
          "state": {
            "_model_module": "@jupyter-widgets/controls",
            "_model_module_version": "1.5.0",
            "_model_name": "DescriptionStyleModel",
            "_view_count": null,
            "_view_module": "@jupyter-widgets/base",
            "_view_module_version": "1.2.0",
            "_view_name": "StyleView",
            "description_width": ""
          }
        },
        "25eaefde854a4063a27b371e488cf2a6": {
          "model_module": "@jupyter-widgets/controls",
          "model_module_version": "1.5.0",
          "model_name": "DescriptionStyleModel",
          "state": {
            "_model_module": "@jupyter-widgets/controls",
            "_model_module_version": "1.5.0",
            "_model_name": "DescriptionStyleModel",
            "_view_count": null,
            "_view_module": "@jupyter-widgets/base",
            "_view_module_version": "1.2.0",
            "_view_name": "StyleView",
            "description_width": ""
          }
        },
        "2e4a90d0af424312a54a6fe56a554791": {
          "model_module": "@jupyter-widgets/controls",
          "model_module_version": "1.5.0",
          "model_name": "DescriptionStyleModel",
          "state": {
            "_model_module": "@jupyter-widgets/controls",
            "_model_module_version": "1.5.0",
            "_model_name": "DescriptionStyleModel",
            "_view_count": null,
            "_view_module": "@jupyter-widgets/base",
            "_view_module_version": "1.2.0",
            "_view_name": "StyleView",
            "description_width": ""
          }
        },
        "31eb7f56b1194ab19463fec9fda475ee": {
          "model_module": "@jupyter-widgets/base",
          "model_module_version": "1.2.0",
          "model_name": "LayoutModel",
          "state": {
            "_model_module": "@jupyter-widgets/base",
            "_model_module_version": "1.2.0",
            "_model_name": "LayoutModel",
            "_view_count": null,
            "_view_module": "@jupyter-widgets/base",
            "_view_module_version": "1.2.0",
            "_view_name": "LayoutView",
            "align_content": null,
            "align_items": null,
            "align_self": null,
            "border": null,
            "bottom": null,
            "display": null,
            "flex": null,
            "flex_flow": null,
            "grid_area": null,
            "grid_auto_columns": null,
            "grid_auto_flow": null,
            "grid_auto_rows": null,
            "grid_column": null,
            "grid_gap": null,
            "grid_row": null,
            "grid_template_areas": null,
            "grid_template_columns": null,
            "grid_template_rows": null,
            "height": null,
            "justify_content": null,
            "justify_items": null,
            "left": null,
            "margin": null,
            "max_height": null,
            "max_width": null,
            "min_height": null,
            "min_width": null,
            "object_fit": null,
            "object_position": null,
            "order": null,
            "overflow": null,
            "overflow_x": null,
            "overflow_y": null,
            "padding": null,
            "right": null,
            "top": null,
            "visibility": null,
            "width": null
          }
        },
        "45735799812449028a7e0adc2c0a5695": {
          "model_module": "@jupyter-widgets/base",
          "model_module_version": "1.2.0",
          "model_name": "LayoutModel",
          "state": {
            "_model_module": "@jupyter-widgets/base",
            "_model_module_version": "1.2.0",
            "_model_name": "LayoutModel",
            "_view_count": null,
            "_view_module": "@jupyter-widgets/base",
            "_view_module_version": "1.2.0",
            "_view_name": "LayoutView",
            "align_content": null,
            "align_items": null,
            "align_self": null,
            "border": null,
            "bottom": null,
            "display": null,
            "flex": null,
            "flex_flow": null,
            "grid_area": null,
            "grid_auto_columns": null,
            "grid_auto_flow": null,
            "grid_auto_rows": null,
            "grid_column": null,
            "grid_gap": null,
            "grid_row": null,
            "grid_template_areas": null,
            "grid_template_columns": null,
            "grid_template_rows": null,
            "height": null,
            "justify_content": null,
            "justify_items": null,
            "left": null,
            "margin": null,
            "max_height": null,
            "max_width": null,
            "min_height": null,
            "min_width": null,
            "object_fit": null,
            "object_position": null,
            "order": null,
            "overflow": null,
            "overflow_x": null,
            "overflow_y": null,
            "padding": null,
            "right": null,
            "top": null,
            "visibility": null,
            "width": null
          }
        },
        "4b231be1f14947af83a62d06671dd847": {
          "model_module": "@jupyter-widgets/base",
          "model_module_version": "1.2.0",
          "model_name": "LayoutModel",
          "state": {
            "_model_module": "@jupyter-widgets/base",
            "_model_module_version": "1.2.0",
            "_model_name": "LayoutModel",
            "_view_count": null,
            "_view_module": "@jupyter-widgets/base",
            "_view_module_version": "1.2.0",
            "_view_name": "LayoutView",
            "align_content": null,
            "align_items": null,
            "align_self": null,
            "border": null,
            "bottom": null,
            "display": null,
            "flex": null,
            "flex_flow": null,
            "grid_area": null,
            "grid_auto_columns": null,
            "grid_auto_flow": null,
            "grid_auto_rows": null,
            "grid_column": null,
            "grid_gap": null,
            "grid_row": null,
            "grid_template_areas": null,
            "grid_template_columns": null,
            "grid_template_rows": null,
            "height": null,
            "justify_content": null,
            "justify_items": null,
            "left": null,
            "margin": null,
            "max_height": null,
            "max_width": null,
            "min_height": null,
            "min_width": null,
            "object_fit": null,
            "object_position": null,
            "order": null,
            "overflow": null,
            "overflow_x": null,
            "overflow_y": null,
            "padding": null,
            "right": null,
            "top": null,
            "visibility": null,
            "width": null
          }
        },
        "4b79d192fe8440be8a99def6bb4d3dfc": {
          "model_module": "@jupyter-widgets/controls",
          "model_module_version": "1.5.0",
          "model_name": "HTMLModel",
          "state": {
            "_dom_classes": [],
            "_model_module": "@jupyter-widgets/controls",
            "_model_module_version": "1.5.0",
            "_model_name": "HTMLModel",
            "_view_count": null,
            "_view_module": "@jupyter-widgets/controls",
            "_view_module_version": "1.5.0",
            "_view_name": "HTMLView",
            "description": "",
            "description_tooltip": null,
            "layout": "IPY_MODEL_02edd14b8e27479ba01b843b825a3069",
            "placeholder": "​",
            "style": "IPY_MODEL_255988c2134d4f95a150678e74b2ee3f",
            "value": "100%"
          }
        },
        "550dc2c1682040569d384b887071953e": {
          "model_module": "@jupyter-widgets/controls",
          "model_module_version": "1.5.0",
          "model_name": "DescriptionStyleModel",
          "state": {
            "_model_module": "@jupyter-widgets/controls",
            "_model_module_version": "1.5.0",
            "_model_name": "DescriptionStyleModel",
            "_view_count": null,
            "_view_module": "@jupyter-widgets/base",
            "_view_module_version": "1.2.0",
            "_view_name": "StyleView",
            "description_width": ""
          }
        },
        "56b596090a7f4367b3bf043888e3c3cb": {
          "model_module": "@jupyter-widgets/base",
          "model_module_version": "1.2.0",
          "model_name": "LayoutModel",
          "state": {
            "_model_module": "@jupyter-widgets/base",
            "_model_module_version": "1.2.0",
            "_model_name": "LayoutModel",
            "_view_count": null,
            "_view_module": "@jupyter-widgets/base",
            "_view_module_version": "1.2.0",
            "_view_name": "LayoutView",
            "align_content": null,
            "align_items": null,
            "align_self": null,
            "border": null,
            "bottom": null,
            "display": null,
            "flex": null,
            "flex_flow": null,
            "grid_area": null,
            "grid_auto_columns": null,
            "grid_auto_flow": null,
            "grid_auto_rows": null,
            "grid_column": null,
            "grid_gap": null,
            "grid_row": null,
            "grid_template_areas": null,
            "grid_template_columns": null,
            "grid_template_rows": null,
            "height": null,
            "justify_content": null,
            "justify_items": null,
            "left": null,
            "margin": null,
            "max_height": null,
            "max_width": null,
            "min_height": null,
            "min_width": null,
            "object_fit": null,
            "object_position": null,
            "order": null,
            "overflow": null,
            "overflow_x": null,
            "overflow_y": null,
            "padding": null,
            "right": null,
            "top": null,
            "visibility": null,
            "width": null
          }
        },
        "5c46cb2e2e10455c92e35ad27d27f069": {
          "model_module": "@jupyter-widgets/base",
          "model_module_version": "1.2.0",
          "model_name": "LayoutModel",
          "state": {
            "_model_module": "@jupyter-widgets/base",
            "_model_module_version": "1.2.0",
            "_model_name": "LayoutModel",
            "_view_count": null,
            "_view_module": "@jupyter-widgets/base",
            "_view_module_version": "1.2.0",
            "_view_name": "LayoutView",
            "align_content": null,
            "align_items": null,
            "align_self": null,
            "border": null,
            "bottom": null,
            "display": null,
            "flex": null,
            "flex_flow": null,
            "grid_area": null,
            "grid_auto_columns": null,
            "grid_auto_flow": null,
            "grid_auto_rows": null,
            "grid_column": null,
            "grid_gap": null,
            "grid_row": null,
            "grid_template_areas": null,
            "grid_template_columns": null,
            "grid_template_rows": null,
            "height": null,
            "justify_content": null,
            "justify_items": null,
            "left": null,
            "margin": null,
            "max_height": null,
            "max_width": null,
            "min_height": null,
            "min_width": null,
            "object_fit": null,
            "object_position": null,
            "order": null,
            "overflow": null,
            "overflow_x": null,
            "overflow_y": null,
            "padding": null,
            "right": null,
            "top": null,
            "visibility": null,
            "width": null
          }
        },
        "5c7c4f35482e4aa5a020337c40b7c3ad": {
          "model_module": "@jupyter-widgets/base",
          "model_module_version": "1.2.0",
          "model_name": "LayoutModel",
          "state": {
            "_model_module": "@jupyter-widgets/base",
            "_model_module_version": "1.2.0",
            "_model_name": "LayoutModel",
            "_view_count": null,
            "_view_module": "@jupyter-widgets/base",
            "_view_module_version": "1.2.0",
            "_view_name": "LayoutView",
            "align_content": null,
            "align_items": null,
            "align_self": null,
            "border": null,
            "bottom": null,
            "display": null,
            "flex": null,
            "flex_flow": null,
            "grid_area": null,
            "grid_auto_columns": null,
            "grid_auto_flow": null,
            "grid_auto_rows": null,
            "grid_column": null,
            "grid_gap": null,
            "grid_row": null,
            "grid_template_areas": null,
            "grid_template_columns": null,
            "grid_template_rows": null,
            "height": null,
            "justify_content": null,
            "justify_items": null,
            "left": null,
            "margin": null,
            "max_height": null,
            "max_width": null,
            "min_height": null,
            "min_width": null,
            "object_fit": null,
            "object_position": null,
            "order": null,
            "overflow": null,
            "overflow_x": null,
            "overflow_y": null,
            "padding": null,
            "right": null,
            "top": null,
            "visibility": null,
            "width": null
          }
        },
        "5f5088bd815e4524b036ceead39c657d": {
          "model_module": "@jupyter-widgets/controls",
          "model_module_version": "1.5.0",
          "model_name": "VBoxModel",
          "state": {
            "_dom_classes": [],
            "_model_module": "@jupyter-widgets/controls",
            "_model_module_version": "1.5.0",
            "_model_name": "VBoxModel",
            "_view_count": null,
            "_view_module": "@jupyter-widgets/controls",
            "_view_module_version": "1.5.0",
            "_view_name": "VBoxView",
            "box_style": "",
            "children": [
              "IPY_MODEL_c880bffe269841bea013b699d6496b72",
              "IPY_MODEL_b198c3cacaef4f588985ed558dd2acc1",
              "IPY_MODEL_c3bdb8f88db445c4bf8aa30a4e25bc54",
              "IPY_MODEL_d42765b38862495c9f7f0ab295156983",
              "IPY_MODEL_ed639b2077d2464c9e6b9b58ba6caa29",
              "IPY_MODEL_eb2d449bb0864913b3a68cc6f7e29d94"
            ],
            "layout": "IPY_MODEL_a6656b6cf6304a63b1693a38afe54948"
          }
        },
        "6bd55796f6ae402d959ae110f91a42e4": {
          "model_module": "@jupyter-widgets/base",
          "model_module_version": "1.2.0",
          "model_name": "LayoutModel",
          "state": {
            "_model_module": "@jupyter-widgets/base",
            "_model_module_version": "1.2.0",
            "_model_name": "LayoutModel",
            "_view_count": null,
            "_view_module": "@jupyter-widgets/base",
            "_view_module_version": "1.2.0",
            "_view_name": "LayoutView",
            "align_content": null,
            "align_items": null,
            "align_self": null,
            "border": null,
            "bottom": null,
            "display": null,
            "flex": null,
            "flex_flow": null,
            "grid_area": null,
            "grid_auto_columns": null,
            "grid_auto_flow": null,
            "grid_auto_rows": null,
            "grid_column": null,
            "grid_gap": null,
            "grid_row": null,
            "grid_template_areas": null,
            "grid_template_columns": null,
            "grid_template_rows": null,
            "height": null,
            "justify_content": null,
            "justify_items": null,
            "left": null,
            "margin": null,
            "max_height": null,
            "max_width": null,
            "min_height": null,
            "min_width": null,
            "object_fit": null,
            "object_position": null,
            "order": null,
            "overflow": null,
            "overflow_x": null,
            "overflow_y": null,
            "padding": null,
            "right": null,
            "top": null,
            "visibility": null,
            "width": null
          }
        },
        "6f284d6270a54efcb9b11415fc73a5d7": {
          "model_module": "@jupyter-widgets/base",
          "model_module_version": "1.2.0",
          "model_name": "LayoutModel",
          "state": {
            "_model_module": "@jupyter-widgets/base",
            "_model_module_version": "1.2.0",
            "_model_name": "LayoutModel",
            "_view_count": null,
            "_view_module": "@jupyter-widgets/base",
            "_view_module_version": "1.2.0",
            "_view_name": "LayoutView",
            "align_content": null,
            "align_items": null,
            "align_self": null,
            "border": null,
            "bottom": null,
            "display": null,
            "flex": null,
            "flex_flow": null,
            "grid_area": null,
            "grid_auto_columns": null,
            "grid_auto_flow": null,
            "grid_auto_rows": null,
            "grid_column": null,
            "grid_gap": null,
            "grid_row": null,
            "grid_template_areas": null,
            "grid_template_columns": null,
            "grid_template_rows": null,
            "height": null,
            "justify_content": null,
            "justify_items": null,
            "left": null,
            "margin": null,
            "max_height": null,
            "max_width": null,
            "min_height": null,
            "min_width": null,
            "object_fit": null,
            "object_position": null,
            "order": null,
            "overflow": null,
            "overflow_x": null,
            "overflow_y": null,
            "padding": null,
            "right": null,
            "top": null,
            "visibility": null,
            "width": null
          }
        },
        "6f6efed3c703407c8c12dc41d0f78439": {
          "model_module": "@jupyter-widgets/base",
          "model_module_version": "1.2.0",
          "model_name": "LayoutModel",
          "state": {
            "_model_module": "@jupyter-widgets/base",
            "_model_module_version": "1.2.0",
            "_model_name": "LayoutModel",
            "_view_count": null,
            "_view_module": "@jupyter-widgets/base",
            "_view_module_version": "1.2.0",
            "_view_name": "LayoutView",
            "align_content": null,
            "align_items": null,
            "align_self": null,
            "border": "1px solid black",
            "bottom": null,
            "display": null,
            "flex": null,
            "flex_flow": null,
            "grid_area": null,
            "grid_auto_columns": null,
            "grid_auto_flow": null,
            "grid_auto_rows": null,
            "grid_column": null,
            "grid_gap": null,
            "grid_row": null,
            "grid_template_areas": null,
            "grid_template_columns": null,
            "grid_template_rows": null,
            "height": "360px",
            "justify_content": null,
            "justify_items": null,
            "left": null,
            "margin": null,
            "max_height": null,
            "max_width": null,
            "min_height": null,
            "min_width": null,
            "object_fit": null,
            "object_position": null,
            "order": null,
            "overflow": "auto",
            "overflow_x": null,
            "overflow_y": null,
            "padding": null,
            "right": null,
            "top": null,
            "visibility": null,
            "width": "50%"
          }
        },
        "7a75b05bd6104cdea5f204630d3415f4": {
          "model_module": "@jupyter-widgets/controls",
          "model_module_version": "1.5.0",
          "model_name": "HTMLModel",
          "state": {
            "_dom_classes": [],
            "_model_module": "@jupyter-widgets/controls",
            "_model_module_version": "1.5.0",
            "_model_name": "HTMLModel",
            "_view_count": null,
            "_view_module": "@jupyter-widgets/controls",
            "_view_module_version": "1.5.0",
            "_view_name": "HTMLView",
            "description": "",
            "description_tooltip": null,
            "layout": "IPY_MODEL_fbdb11a45a504e69b2b792b894325771",
            "placeholder": "​",
            "style": "IPY_MODEL_dfaa48b28e19494087f7838d97471e69",
            "value": " 140/140 [00:02&lt;00:00, 65.31it/s]"
          }
        },
        "7afb538fa282472ba493a5e84cc1b1ca": {
          "model_module": "@jupyter-widgets/controls",
          "model_module_version": "1.5.0",
          "model_name": "ProgressStyleModel",
          "state": {
            "_model_module": "@jupyter-widgets/controls",
            "_model_module_version": "1.5.0",
            "_model_name": "ProgressStyleModel",
            "_view_count": null,
            "_view_module": "@jupyter-widgets/base",
            "_view_module_version": "1.2.0",
            "_view_name": "StyleView",
            "bar_color": null,
            "description_width": ""
          }
        },
        "8386c6100ac04e29b43d859236200c05": {
          "model_module": "@jupyter-widgets/controls",
          "model_module_version": "1.5.0",
          "model_name": "DescriptionStyleModel",
          "state": {
            "_model_module": "@jupyter-widgets/controls",
            "_model_module_version": "1.5.0",
            "_model_name": "DescriptionStyleModel",
            "_view_count": null,
            "_view_module": "@jupyter-widgets/base",
            "_view_module_version": "1.2.0",
            "_view_name": "StyleView",
            "description_width": ""
          }
        },
        "84ecc9715d5843f099d96f8688168f27": {
          "model_module": "@jupyter-widgets/controls",
          "model_module_version": "1.5.0",
          "model_name": "DescriptionStyleModel",
          "state": {
            "_model_module": "@jupyter-widgets/controls",
            "_model_module_version": "1.5.0",
            "_model_name": "DescriptionStyleModel",
            "_view_count": null,
            "_view_module": "@jupyter-widgets/base",
            "_view_module_version": "1.2.0",
            "_view_name": "StyleView",
            "description_width": ""
          }
        },
        "850351fa02a44c4ba19b78f9ad8cbc36": {
          "model_module": "@jupyter-widgets/controls",
          "model_module_version": "1.5.0",
          "model_name": "DescriptionStyleModel",
          "state": {
            "_model_module": "@jupyter-widgets/controls",
            "_model_module_version": "1.5.0",
            "_model_name": "DescriptionStyleModel",
            "_view_count": null,
            "_view_module": "@jupyter-widgets/base",
            "_view_module_version": "1.2.0",
            "_view_name": "StyleView",
            "description_width": ""
          }
        },
        "8f70bbb541fe4c8a83d48c478976ba39": {
          "model_module": "@jupyter-widgets/output",
          "model_module_version": "1.0.0",
          "model_name": "OutputModel",
          "state": {
            "_dom_classes": [],
            "_model_module": "@jupyter-widgets/output",
            "_model_module_version": "1.0.0",
            "_model_name": "OutputModel",
            "_view_count": null,
            "_view_module": "@jupyter-widgets/output",
            "_view_module_version": "1.0.0",
            "_view_name": "OutputView",
            "layout": "IPY_MODEL_45735799812449028a7e0adc2c0a5695",
            "msg_id": "",
            "outputs": [
              {
                "data": {
                  "image/jpeg": "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\n",
                  "text/plain": "<IPython.core.display.Image object>"
                },
                "metadata": {},
                "output_type": "display_data"
              }
            ]
          }
        },
        "92f1460e266c42d3bc393e9ef7a1fc01": {
          "model_module": "@jupyter-widgets/controls",
          "model_module_version": "1.5.0",
          "model_name": "DescriptionStyleModel",
          "state": {
            "_model_module": "@jupyter-widgets/controls",
            "_model_module_version": "1.5.0",
            "_model_name": "DescriptionStyleModel",
            "_view_count": null,
            "_view_module": "@jupyter-widgets/base",
            "_view_module_version": "1.2.0",
            "_view_name": "StyleView",
            "description_width": ""
          }
        },
        "9be35863efb241bbac7f0f09b240ec4a": {
          "model_module": "@jupyter-widgets/controls",
          "model_module_version": "1.5.0",
          "model_name": "HTMLModel",
          "state": {
            "_dom_classes": [],
            "_model_module": "@jupyter-widgets/controls",
            "_model_module_version": "1.5.0",
            "_model_name": "HTMLModel",
            "_view_count": null,
            "_view_module": "@jupyter-widgets/controls",
            "_view_module_version": "1.5.0",
            "_view_name": "HTMLView",
            "description": "",
            "description_tooltip": null,
            "layout": "IPY_MODEL_5c7c4f35482e4aa5a020337c40b7c3ad",
            "placeholder": "​",
            "style": "IPY_MODEL_25eaefde854a4063a27b371e488cf2a6",
            "value": "100%"
          }
        },
        "a6656b6cf6304a63b1693a38afe54948": {
          "model_module": "@jupyter-widgets/base",
          "model_module_version": "1.2.0",
          "model_name": "LayoutModel",
          "state": {
            "_model_module": "@jupyter-widgets/base",
            "_model_module_version": "1.2.0",
            "_model_name": "LayoutModel",
            "_view_count": null,
            "_view_module": "@jupyter-widgets/base",
            "_view_module_version": "1.2.0",
            "_view_name": "LayoutView",
            "align_content": null,
            "align_items": null,
            "align_self": null,
            "border": null,
            "bottom": null,
            "display": null,
            "flex": null,
            "flex_flow": null,
            "grid_area": null,
            "grid_auto_columns": null,
            "grid_auto_flow": null,
            "grid_auto_rows": null,
            "grid_column": null,
            "grid_gap": null,
            "grid_row": null,
            "grid_template_areas": null,
            "grid_template_columns": null,
            "grid_template_rows": null,
            "height": null,
            "justify_content": null,
            "justify_items": null,
            "left": null,
            "margin": null,
            "max_height": null,
            "max_width": null,
            "min_height": null,
            "min_width": null,
            "object_fit": null,
            "object_position": null,
            "order": null,
            "overflow": null,
            "overflow_x": null,
            "overflow_y": null,
            "padding": null,
            "right": null,
            "top": null,
            "visibility": null,
            "width": null
          }
        },
        "b198c3cacaef4f588985ed558dd2acc1": {
          "model_module": "@jupyter-widgets/controls",
          "model_module_version": "1.5.0",
          "model_name": "TextModel",
          "state": {
            "_dom_classes": [],
            "_model_module": "@jupyter-widgets/controls",
            "_model_module_version": "1.5.0",
            "_model_name": "TextModel",
            "_view_count": null,
            "_view_module": "@jupyter-widgets/controls",
            "_view_module_version": "1.5.0",
            "_view_name": "TextView",
            "continuous_update": true,
            "description": "Classes",
            "description_tooltip": null,
            "disabled": false,
            "layout": "IPY_MODEL_56b596090a7f4367b3bf043888e3c3cb",
            "placeholder": "​",
            "style": "IPY_MODEL_84ecc9715d5843f099d96f8688168f27",
            "value": "['circle']"
          }
        },
        "b76c8b07ecd44fd3a49bef60e01897f0": {
          "model_module": "@jupyter-widgets/controls",
          "model_module_version": "1.5.0",
          "model_name": "ProgressStyleModel",
          "state": {
            "_model_module": "@jupyter-widgets/controls",
            "_model_module_version": "1.5.0",
            "_model_name": "ProgressStyleModel",
            "_view_count": null,
            "_view_module": "@jupyter-widgets/base",
            "_view_module_version": "1.2.0",
            "_view_name": "StyleView",
            "bar_color": null,
            "description_width": ""
          }
        },
        "baa7e41aca0b4a4c96d801b9d9694c4d": {
          "model_module": "@jupyter-widgets/base",
          "model_module_version": "1.2.0",
          "model_name": "LayoutModel",
          "state": {
            "_model_module": "@jupyter-widgets/base",
            "_model_module_version": "1.2.0",
            "_model_name": "LayoutModel",
            "_view_count": null,
            "_view_module": "@jupyter-widgets/base",
            "_view_module_version": "1.2.0",
            "_view_name": "LayoutView",
            "align_content": null,
            "align_items": null,
            "align_self": null,
            "border": null,
            "bottom": null,
            "display": null,
            "flex": null,
            "flex_flow": null,
            "grid_area": null,
            "grid_auto_columns": null,
            "grid_auto_flow": null,
            "grid_auto_rows": null,
            "grid_column": null,
            "grid_gap": null,
            "grid_row": null,
            "grid_template_areas": null,
            "grid_template_columns": null,
            "grid_template_rows": null,
            "height": null,
            "justify_content": null,
            "justify_items": null,
            "left": null,
            "margin": null,
            "max_height": null,
            "max_width": null,
            "min_height": null,
            "min_width": null,
            "object_fit": null,
            "object_position": null,
            "order": null,
            "overflow": null,
            "overflow_x": null,
            "overflow_y": null,
            "padding": null,
            "right": null,
            "top": null,
            "visibility": null,
            "width": null
          }
        },
        "c1e8b1c83bc84246b3557658cf963e55": {
          "model_module": "@jupyter-widgets/base",
          "model_module_version": "1.2.0",
          "model_name": "LayoutModel",
          "state": {
            "_model_module": "@jupyter-widgets/base",
            "_model_module_version": "1.2.0",
            "_model_name": "LayoutModel",
            "_view_count": null,
            "_view_module": "@jupyter-widgets/base",
            "_view_module_version": "1.2.0",
            "_view_name": "LayoutView",
            "align_content": null,
            "align_items": null,
            "align_self": null,
            "border": null,
            "bottom": null,
            "display": null,
            "flex": null,
            "flex_flow": null,
            "grid_area": null,
            "grid_auto_columns": null,
            "grid_auto_flow": null,
            "grid_auto_rows": null,
            "grid_column": null,
            "grid_gap": null,
            "grid_row": null,
            "grid_template_areas": null,
            "grid_template_columns": null,
            "grid_template_rows": null,
            "height": null,
            "justify_content": null,
            "justify_items": null,
            "left": null,
            "margin": null,
            "max_height": null,
            "max_width": null,
            "min_height": null,
            "min_width": null,
            "object_fit": null,
            "object_position": null,
            "order": null,
            "overflow": null,
            "overflow_x": null,
            "overflow_y": null,
            "padding": null,
            "right": null,
            "top": null,
            "visibility": null,
            "width": null
          }
        },
        "c2f7d7daf158467fb6f4f7f41c668a21": {
          "model_module": "@jupyter-widgets/base",
          "model_module_version": "1.2.0",
          "model_name": "LayoutModel",
          "state": {
            "_model_module": "@jupyter-widgets/base",
            "_model_module_version": "1.2.0",
            "_model_name": "LayoutModel",
            "_view_count": null,
            "_view_module": "@jupyter-widgets/base",
            "_view_module_version": "1.2.0",
            "_view_name": "LayoutView",
            "align_content": null,
            "align_items": null,
            "align_self": null,
            "border": null,
            "bottom": null,
            "display": null,
            "flex": null,
            "flex_flow": null,
            "grid_area": null,
            "grid_auto_columns": null,
            "grid_auto_flow": null,
            "grid_auto_rows": null,
            "grid_column": null,
            "grid_gap": null,
            "grid_row": null,
            "grid_template_areas": null,
            "grid_template_columns": null,
            "grid_template_rows": null,
            "height": null,
            "justify_content": null,
            "justify_items": null,
            "left": null,
            "margin": null,
            "max_height": null,
            "max_width": null,
            "min_height": null,
            "min_width": null,
            "object_fit": null,
            "object_position": null,
            "order": null,
            "overflow": null,
            "overflow_x": null,
            "overflow_y": null,
            "padding": null,
            "right": null,
            "top": null,
            "visibility": null,
            "width": null
          }
        },
        "c3bdb8f88db445c4bf8aa30a4e25bc54": {
          "model_module": "@jupyter-widgets/controls",
          "model_module_version": "1.5.0",
          "model_name": "TextModel",
          "state": {
            "_dom_classes": [],
            "_model_module": "@jupyter-widgets/controls",
            "_model_module_version": "1.5.0",
            "_model_name": "TextModel",
            "_view_count": null,
            "_view_module": "@jupyter-widgets/controls",
            "_view_module_version": "1.5.0",
            "_view_name": "TextView",
            "continuous_update": true,
            "description": "Task",
            "description_tooltip": null,
            "disabled": false,
            "layout": "IPY_MODEL_baa7e41aca0b4a4c96d801b9d9694c4d",
            "placeholder": "​",
            "style": "IPY_MODEL_550dc2c1682040569d384b887071953e",
            "value": "segment"
          }
        },
        "c3eb4187087742ba82bef40f98fc4b60": {
          "model_module": "@jupyter-widgets/base",
          "model_module_version": "1.2.0",
          "model_name": "LayoutModel",
          "state": {
            "_model_module": "@jupyter-widgets/base",
            "_model_module_version": "1.2.0",
            "_model_name": "LayoutModel",
            "_view_count": null,
            "_view_module": "@jupyter-widgets/base",
            "_view_module_version": "1.2.0",
            "_view_name": "LayoutView",
            "align_content": null,
            "align_items": null,
            "align_self": null,
            "border": null,
            "bottom": null,
            "display": null,
            "flex": null,
            "flex_flow": null,
            "grid_area": null,
            "grid_auto_columns": null,
            "grid_auto_flow": null,
            "grid_auto_rows": null,
            "grid_column": null,
            "grid_gap": null,
            "grid_row": null,
            "grid_template_areas": null,
            "grid_template_columns": null,
            "grid_template_rows": null,
            "height": null,
            "justify_content": null,
            "justify_items": null,
            "left": null,
            "margin": null,
            "max_height": null,
            "max_width": null,
            "min_height": null,
            "min_width": null,
            "object_fit": null,
            "object_position": null,
            "order": null,
            "overflow": null,
            "overflow_x": null,
            "overflow_y": null,
            "padding": null,
            "right": null,
            "top": null,
            "visibility": null,
            "width": null
          }
        },
        "c60313b8bd374d69bf22015e9d8d902f": {
          "model_module": "@jupyter-widgets/base",
          "model_module_version": "1.2.0",
          "model_name": "LayoutModel",
          "state": {
            "_model_module": "@jupyter-widgets/base",
            "_model_module_version": "1.2.0",
            "_model_name": "LayoutModel",
            "_view_count": null,
            "_view_module": "@jupyter-widgets/base",
            "_view_module_version": "1.2.0",
            "_view_name": "LayoutView",
            "align_content": null,
            "align_items": null,
            "align_self": null,
            "border": null,
            "bottom": null,
            "display": null,
            "flex": null,
            "flex_flow": null,
            "grid_area": null,
            "grid_auto_columns": null,
            "grid_auto_flow": null,
            "grid_auto_rows": null,
            "grid_column": null,
            "grid_gap": null,
            "grid_row": null,
            "grid_template_areas": null,
            "grid_template_columns": null,
            "grid_template_rows": null,
            "height": null,
            "justify_content": null,
            "justify_items": null,
            "left": null,
            "margin": null,
            "max_height": null,
            "max_width": null,
            "min_height": null,
            "min_width": null,
            "object_fit": null,
            "object_position": null,
            "order": null,
            "overflow": null,
            "overflow_x": null,
            "overflow_y": null,
            "padding": null,
            "right": null,
            "top": null,
            "visibility": null,
            "width": null
          }
        },
        "c872a77305c5458c94cd1500308533cc": {
          "model_module": "@jupyter-widgets/controls",
          "model_module_version": "1.5.0",
          "model_name": "ButtonStyleModel",
          "state": {
            "_model_module": "@jupyter-widgets/controls",
            "_model_module_version": "1.5.0",
            "_model_name": "ButtonStyleModel",
            "_view_count": null,
            "_view_module": "@jupyter-widgets/base",
            "_view_module_version": "1.2.0",
            "_view_name": "StyleView",
            "button_color": null,
            "font_weight": ""
          }
        },
        "c880bffe269841bea013b699d6496b72": {
          "model_module": "@jupyter-widgets/controls",
          "model_module_version": "1.5.0",
          "model_name": "DropdownModel",
          "state": {
            "_dom_classes": [],
            "_model_module": "@jupyter-widgets/controls",
            "_model_module_version": "1.5.0",
            "_model_name": "DropdownModel",
            "_options_labels": [
              "camera",
              "circles",
              "edge",
              "final-demo",
              "hymenoptera_data",
              "jotis_AIMEN_22",
              "jotis_AIMEN_22_8bits",
              "screws"
            ],
            "_view_count": null,
            "_view_module": "@jupyter-widgets/controls",
            "_view_module_version": "1.5.0",
            "_view_name": "DropdownView",
            "description": "Project",
            "description_tooltip": null,
            "disabled": false,
            "index": 1,
            "layout": "IPY_MODEL_31eb7f56b1194ab19463fec9fda475ee",
            "style": "IPY_MODEL_850351fa02a44c4ba19b78f9ad8cbc36"
          }
        },
        "c887c46ab1ad483bbc0d602a7c05978d": {
          "model_module": "@jupyter-widgets/base",
          "model_module_version": "1.2.0",
          "model_name": "LayoutModel",
          "state": {
            "_model_module": "@jupyter-widgets/base",
            "_model_module_version": "1.2.0",
            "_model_name": "LayoutModel",
            "_view_count": null,
            "_view_module": "@jupyter-widgets/base",
            "_view_module_version": "1.2.0",
            "_view_name": "LayoutView",
            "align_content": null,
            "align_items": null,
            "align_self": null,
            "border": null,
            "bottom": null,
            "display": null,
            "flex": null,
            "flex_flow": null,
            "grid_area": null,
            "grid_auto_columns": null,
            "grid_auto_flow": null,
            "grid_auto_rows": null,
            "grid_column": null,
            "grid_gap": null,
            "grid_row": null,
            "grid_template_areas": null,
            "grid_template_columns": null,
            "grid_template_rows": null,
            "height": null,
            "justify_content": null,
            "justify_items": null,
            "left": null,
            "margin": null,
            "max_height": null,
            "max_width": null,
            "min_height": null,
            "min_width": null,
            "object_fit": null,
            "object_position": null,
            "order": null,
            "overflow": null,
            "overflow_x": null,
            "overflow_y": null,
            "padding": null,
            "right": null,
            "top": null,
            "visibility": null,
            "width": null
          }
        },
        "cc071342f0df404ba09045c7134e2821": {
          "model_module": "@jupyter-widgets/base",
          "model_module_version": "1.2.0",
          "model_name": "LayoutModel",
          "state": {
            "_model_module": "@jupyter-widgets/base",
            "_model_module_version": "1.2.0",
            "_model_name": "LayoutModel",
            "_view_count": null,
            "_view_module": "@jupyter-widgets/base",
            "_view_module_version": "1.2.0",
            "_view_name": "LayoutView",
            "align_content": null,
            "align_items": null,
            "align_self": null,
            "border": null,
            "bottom": null,
            "display": null,
            "flex": null,
            "flex_flow": null,
            "grid_area": null,
            "grid_auto_columns": null,
            "grid_auto_flow": null,
            "grid_auto_rows": null,
            "grid_column": null,
            "grid_gap": null,
            "grid_row": null,
            "grid_template_areas": null,
            "grid_template_columns": null,
            "grid_template_rows": null,
            "height": null,
            "justify_content": null,
            "justify_items": null,
            "left": null,
            "margin": null,
            "max_height": null,
            "max_width": null,
            "min_height": null,
            "min_width": null,
            "object_fit": null,
            "object_position": null,
            "order": null,
            "overflow": null,
            "overflow_x": null,
            "overflow_y": null,
            "padding": null,
            "right": null,
            "top": null,
            "visibility": null,
            "width": null
          }
        },
        "d42765b38862495c9f7f0ab295156983": {
          "model_module": "@jupyter-widgets/controls",
          "model_module_version": "1.5.0",
          "model_name": "ButtonModel",
          "state": {
            "_dom_classes": [],
            "_model_module": "@jupyter-widgets/controls",
            "_model_module_version": "1.5.0",
            "_model_name": "ButtonModel",
            "_view_count": null,
            "_view_module": "@jupyter-widgets/controls",
            "_view_module_version": "1.5.0",
            "_view_name": "ButtonView",
            "button_style": "",
            "description": "Train",
            "disabled": false,
            "icon": "",
            "layout": "IPY_MODEL_c2f7d7daf158467fb6f4f7f41c668a21",
            "style": "IPY_MODEL_c872a77305c5458c94cd1500308533cc",
            "tooltip": ""
          }
        },
        "dfaa48b28e19494087f7838d97471e69": {
          "model_module": "@jupyter-widgets/controls",
          "model_module_version": "1.5.0",
          "model_name": "DescriptionStyleModel",
          "state": {
            "_model_module": "@jupyter-widgets/controls",
            "_model_module_version": "1.5.0",
            "_model_name": "DescriptionStyleModel",
            "_view_count": null,
            "_view_module": "@jupyter-widgets/base",
            "_view_module_version": "1.2.0",
            "_view_name": "StyleView",
            "description_width": ""
          }
        },
        "e328189777e044b1bf0c3865a99ca43e": {
          "model_module": "@jupyter-widgets/output",
          "model_module_version": "1.0.0",
          "model_name": "OutputModel",
          "state": {
            "_dom_classes": [],
            "_model_module": "@jupyter-widgets/output",
            "_model_module_version": "1.0.0",
            "_model_name": "OutputModel",
            "_view_count": null,
            "_view_module": "@jupyter-widgets/output",
            "_view_module_version": "1.0.0",
            "_view_name": "OutputView",
            "layout": "IPY_MODEL_6f6efed3c703407c8c12dc41d0f78439",
            "msg_id": "",
            "outputs": [
              {
                "name": "stderr",
                "output_type": "stream",
                "text": [
                  "/usr/lib/python3.10/multiprocessing/popen_fork.py:66: RuntimeWarning: os.fork() was called. os.fork() is incompatible with multithreaded code, and JAX is multithreaded, so this will likely lead to a deadlock.\n",
                  "  self.pid = os.fork()\n"
                ]
              },
              {
                "data": {
                  "application/vnd.jupyter.widget-view+json": {
                    "model_id": "ecef26d3982743c39a990b3ed01217a1",
                    "version_major": 2,
                    "version_minor": 0
                  },
                  "text/plain": "  0%|          | 0/140 [00:00<?, ?it/s]"
                },
                "metadata": {},
                "output_type": "display_data"
              },
              {
                "data": {
                  "application/vnd.jupyter.widget-view+json": {
                    "model_id": "217b2c6627a341ac89ea894d33831960",
                    "version_major": 2,
                    "version_minor": 0
                  },
                  "text/plain": "  0%|          | 0/30 [00:00<?, ?it/s]"
                },
                "metadata": {},
                "output_type": "display_data"
              },
              {
                "data": {
                  "application/vnd.jupyter.widget-view+json": {
                    "model_id": "0511487b04c34693a8247b5fe2ce575a",
                    "version_major": 2,
                    "version_minor": 0
                  },
                  "text/plain": "  0%|          | 0/30 [00:00<?, ?it/s]"
                },
                "metadata": {},
                "output_type": "display_data"
              },
              {
                "name": "stdout",
                "output_type": "stream",
                "text": [
                  "Ultralytics YOLOv8.2.84 🚀 Python-3.10.12 torch-2.4.0+cu121 CPU (Intel Xeon 2.20GHz)\n"
                ]
              },
              {
                "name": "stdout",
                "output_type": "stream",
                "text": [
                  "\u001b[34m\u001b[1mengine/trainer: \u001b[0mtask=segment, mode=train, model=yolov8n-seg.pt, data=circles/data.yaml, epochs=7, time=None, patience=100, batch=8, imgsz=128, save=True, save_period=-1, cache=False, device=cpu, workers=8, project=None, name=train4, exist_ok=False, pretrained=True, optimizer=auto, verbose=True, seed=0, deterministic=True, single_cls=False, rect=False, cos_lr=False, close_mosaic=10, resume=False, amp=True, fraction=1.0, profile=False, freeze=None, multi_scale=False, overlap_mask=True, mask_ratio=4, dropout=0.0, val=True, split=val, save_json=False, save_hybrid=False, conf=None, iou=0.7, max_det=300, half=False, dnn=False, plots=True, source=None, vid_stride=1, stream_buffer=False, visualize=False, augment=False, agnostic_nms=False, classes=None, retina_masks=False, embed=None, show=False, save_frames=False, save_txt=False, save_conf=False, save_crop=False, show_labels=True, show_conf=True, show_boxes=True, line_width=None, format=torchscript, keras=False, optimize=False, int8=False, dynamic=False, simplify=False, opset=None, workspace=4, nms=False, lr0=0.01, lrf=0.01, momentum=0.937, weight_decay=0.0005, warmup_epochs=3.0, warmup_momentum=0.8, warmup_bias_lr=0.1, box=7.5, cls=0.5, dfl=1.5, pose=12.0, kobj=1.0, label_smoothing=0.0, nbs=64, hsv_h=0.015, hsv_s=0.7, hsv_v=0.4, degrees=0.0, translate=0.1, scale=0.5, shear=0.0, perspective=0.0, flipud=0.0, fliplr=0.5, bgr=0.0, mosaic=1.0, mixup=0.0, copy_paste=0.0, auto_augment=randaugment, erasing=0.4, crop_fraction=1.0, cfg=None, tracker=botsort.yaml, save_dir=runs/segment/train4\n"
                ]
              },
              {
                "name": "stdout",
                "output_type": "stream",
                "text": [
                  "Overriding model.yaml nc=80 with nc=1\n"
                ]
              },
              {
                "name": "stdout",
                "output_type": "stream",
                "text": [
                  "\n",
                  "                   from  n    params  module                                       arguments                     \n"
                ]
              },
              {
                "name": "stdout",
                "output_type": "stream",
                "text": [
                  "  0                  -1  1       464  ultralytics.nn.modules.conv.Conv             [3, 16, 3, 2]                 \n"
                ]
              },
              {
                "name": "stdout",
                "output_type": "stream",
                "text": [
                  "  1                  -1  1      4672  ultralytics.nn.modules.conv.Conv             [16, 32, 3, 2]                \n"
                ]
              },
              {
                "name": "stdout",
                "output_type": "stream",
                "text": [
                  "  2                  -1  1      7360  ultralytics.nn.modules.block.C2f             [32, 32, 1, True]             \n"
                ]
              },
              {
                "name": "stdout",
                "output_type": "stream",
                "text": [
                  "  3                  -1  1     18560  ultralytics.nn.modules.conv.Conv             [32, 64, 3, 2]                \n"
                ]
              },
              {
                "name": "stdout",
                "output_type": "stream",
                "text": [
                  "  4                  -1  2     49664  ultralytics.nn.modules.block.C2f             [64, 64, 2, True]             \n"
                ]
              },
              {
                "name": "stdout",
                "output_type": "stream",
                "text": [
                  "  5                  -1  1     73984  ultralytics.nn.modules.conv.Conv             [64, 128, 3, 2]               \n"
                ]
              },
              {
                "name": "stdout",
                "output_type": "stream",
                "text": [
                  "  6                  -1  2    197632  ultralytics.nn.modules.block.C2f             [128, 128, 2, True]           \n"
                ]
              },
              {
                "name": "stdout",
                "output_type": "stream",
                "text": [
                  "  7                  -1  1    295424  ultralytics.nn.modules.conv.Conv             [128, 256, 3, 2]              \n"
                ]
              },
              {
                "name": "stdout",
                "output_type": "stream",
                "text": [
                  "  8                  -1  1    460288  ultralytics.nn.modules.block.C2f             [256, 256, 1, True]           \n"
                ]
              },
              {
                "name": "stdout",
                "output_type": "stream",
                "text": [
                  "  9                  -1  1    164608  ultralytics.nn.modules.block.SPPF            [256, 256, 5]                 \n"
                ]
              },
              {
                "name": "stdout",
                "output_type": "stream",
                "text": [
                  " 10                  -1  1         0  torch.nn.modules.upsampling.Upsample         [None, 2, 'nearest']          \n"
                ]
              },
              {
                "name": "stdout",
                "output_type": "stream",
                "text": [
                  " 11             [-1, 6]  1         0  ultralytics.nn.modules.conv.Concat           [1]                           \n"
                ]
              },
              {
                "name": "stdout",
                "output_type": "stream",
                "text": [
                  " 12                  -1  1    148224  ultralytics.nn.modules.block.C2f             [384, 128, 1]                 \n"
                ]
              },
              {
                "name": "stdout",
                "output_type": "stream",
                "text": [
                  " 13                  -1  1         0  torch.nn.modules.upsampling.Upsample         [None, 2, 'nearest']          \n"
                ]
              },
              {
                "name": "stdout",
                "output_type": "stream",
                "text": [
                  " 14             [-1, 4]  1         0  ultralytics.nn.modules.conv.Concat           [1]                           \n"
                ]
              },
              {
                "name": "stdout",
                "output_type": "stream",
                "text": [
                  " 15                  -1  1     37248  ultralytics.nn.modules.block.C2f             [192, 64, 1]                  \n"
                ]
              },
              {
                "name": "stdout",
                "output_type": "stream",
                "text": [
                  " 16                  -1  1     36992  ultralytics.nn.modules.conv.Conv             [64, 64, 3, 2]                \n"
                ]
              },
              {
                "name": "stdout",
                "output_type": "stream",
                "text": [
                  " 17            [-1, 12]  1         0  ultralytics.nn.modules.conv.Concat           [1]                           \n"
                ]
              },
              {
                "name": "stdout",
                "output_type": "stream",
                "text": [
                  " 18                  -1  1    123648  ultralytics.nn.modules.block.C2f             [192, 128, 1]                 \n"
                ]
              },
              {
                "name": "stdout",
                "output_type": "stream",
                "text": [
                  " 19                  -1  1    147712  ultralytics.nn.modules.conv.Conv             [128, 128, 3, 2]              \n"
                ]
              },
              {
                "name": "stdout",
                "output_type": "stream",
                "text": [
                  " 20             [-1, 9]  1         0  ultralytics.nn.modules.conv.Concat           [1]                           \n"
                ]
              },
              {
                "name": "stdout",
                "output_type": "stream",
                "text": [
                  " 21                  -1  1    493056  ultralytics.nn.modules.block.C2f             [384, 256, 1]                 \n"
                ]
              },
              {
                "name": "stdout",
                "output_type": "stream",
                "text": [
                  " 22        [15, 18, 21]  1   1004275  ultralytics.nn.modules.head.Segment          [1, 32, 64, [64, 128, 256]]   \n"
                ]
              },
              {
                "name": "stdout",
                "output_type": "stream",
                "text": [
                  "YOLOv8n-seg summary: 261 layers, 3,263,811 parameters, 3,263,795 gradients, 12.1 GFLOPs\n"
                ]
              },
              {
                "name": "stdout",
                "output_type": "stream",
                "text": [
                  "\n"
                ]
              },
              {
                "name": "stdout",
                "output_type": "stream",
                "text": [
                  "Transferred 381/417 items from pretrained weights\n"
                ]
              },
              {
                "name": "stdout",
                "output_type": "stream",
                "text": [
                  "\u001b[34m\u001b[1mTensorBoard: \u001b[0mStart with 'tensorboard --logdir runs/segment/train4', view at http://localhost:6006/\n"
                ]
              },
              {
                "name": "stdout",
                "output_type": "stream",
                "text": [
                  "Freezing layer 'model.22.dfl.conv.weight'\n"
                ]
              },
              {
                "name": "stderr",
                "output_type": "stream",
                "text": [
                  "\r\u001b[34m\u001b[1mtrain: \u001b[0mScanning /content/circles/train/labels...:   0%|          | 0/197 [00:00<?, ?it/s]"
                ]
              },
              {
                "name": "stderr",
                "output_type": "stream",
                "text": [
                  "\r\u001b[34m\u001b[1mtrain: \u001b[0mScanning /content/circles/train/labels... 164 images, 1 backgrounds, 0 corrupt:  83%|████████▎ | 164/197 [00:00<00:00, 1632.87it/s]"
                ]
              },
              {
                "name": "stderr",
                "output_type": "stream",
                "text": [
                  "\r\u001b[34m\u001b[1mtrain: \u001b[0mScanning /content/circles/train/labels... 197 images, 1 backgrounds, 0 corrupt: 100%|██████████| 197/197 [00:00<00:00, 1559.25it/s]"
                ]
              },
              {
                "name": "stdout",
                "output_type": "stream",
                "text": [
                  "\u001b[34m\u001b[1mtrain: \u001b[0mNew cache created: /content/circles/train/labels.cache\n"
                ]
              },
              {
                "name": "stdout",
                "output_type": "stream",
                "text": [
                  "\u001b[34m\u001b[1malbumentations: \u001b[0mBlur(p=0.01, blur_limit=(3, 7)), MedianBlur(p=0.01, blur_limit=(3, 7)), ToGray(p=0.01), CLAHE(p=0.01, clip_limit=(1, 4.0), tile_grid_size=(8, 8))\n"
                ]
              },
              {
                "name": "stderr",
                "output_type": "stream",
                "text": [
                  "\n"
                ]
              },
              {
                "name": "stderr",
                "output_type": "stream",
                "text": [
                  "\r\u001b[34m\u001b[1mval: \u001b[0mScanning /content/circles/val/labels...:   0%|          | 0/80 [00:00<?, ?it/s]"
                ]
              },
              {
                "name": "stderr",
                "output_type": "stream",
                "text": [
                  "\r\u001b[34m\u001b[1mval: \u001b[0mScanning /content/circles/val/labels... 80 images, 0 backgrounds, 0 corrupt: 100%|██████████| 80/80 [00:00<00:00, 1757.15it/s]"
                ]
              },
              {
                "name": "stdout",
                "output_type": "stream",
                "text": [
                  "\u001b[34m\u001b[1mval: \u001b[0mNew cache created: /content/circles/val/labels.cache\n"
                ]
              },
              {
                "name": "stdout",
                "output_type": "stream",
                "text": [
                  "Plotting labels to runs/segment/train4/labels.jpg... \n"
                ]
              },
              {
                "name": "stderr",
                "output_type": "stream",
                "text": [
                  "\n"
                ]
              },
              {
                "name": "stdout",
                "output_type": "stream",
                "text": [
                  "\u001b[34m\u001b[1moptimizer:\u001b[0m 'optimizer=auto' found, ignoring 'lr0=0.01' and 'momentum=0.937' and determining best 'optimizer', 'lr0' and 'momentum' automatically... \n"
                ]
              },
              {
                "name": "stdout",
                "output_type": "stream",
                "text": [
                  "\u001b[34m\u001b[1moptimizer:\u001b[0m AdamW(lr=0.002, momentum=0.9) with parameter groups 66 weight(decay=0.0), 77 weight(decay=0.0005), 76 bias(decay=0.0)\n"
                ]
              },
              {
                "name": "stdout",
                "output_type": "stream",
                "text": [
                  "\u001b[34m\u001b[1mTensorBoard: \u001b[0mmodel graph visualization added ✅\n"
                ]
              },
              {
                "name": "stdout",
                "output_type": "stream",
                "text": [
                  "Image sizes 128 train, 128 val\n",
                  "Using 0 dataloader workers\n",
                  "Logging results to \u001b[1mruns/segment/train4\u001b[0m\n",
                  "Starting training for 7 epochs...\n"
                ]
              },
              {
                "name": "stdout",
                "output_type": "stream",
                "text": [
                  "\n",
                  "      Epoch    GPU_mem   box_loss   seg_loss   cls_loss   dfl_loss  Instances       Size\n"
                ]
              },
              {
                "name": "stderr",
                "output_type": "stream",
                "text": [
                  "\r  0%|          | 0/25 [00:00<?, ?it/s]"
                ]
              },
              {
                "name": "stderr",
                "output_type": "stream",
                "text": [
                  "\r        1/7         0G      1.579      2.151      3.705       1.02         11        128:   0%|          | 0/25 [00:00<?, ?it/s]"
                ]
              },
              {
                "name": "stderr",
                "output_type": "stream",
                "text": [
                  "\r        1/7         0G      1.579      2.151      3.705       1.02         11        128:   4%|▍         | 1/25 [00:00<00:12,  1.87it/s]"
                ]
              },
              {
                "name": "stderr",
                "output_type": "stream",
                "text": [
                  "\r        1/7         0G      1.749      1.999      3.599      1.076         22        128:   4%|▍         | 1/25 [00:01<00:12,  1.87it/s]"
                ]
              },
              {
                "name": "stderr",
                "output_type": "stream",
                "text": [
                  "\r        1/7         0G      1.749      1.999      3.599      1.076         22        128:   8%|▊         | 2/25 [00:01<00:14,  1.63it/s]"
                ]
              },
              {
                "name": "stderr",
                "output_type": "stream",
                "text": [
                  "\r        1/7         0G      1.503      1.721      3.563      1.031          7        128:   8%|▊         | 2/25 [00:01<00:14,  1.63it/s]"
                ]
              },
              {
                "name": "stderr",
                "output_type": "stream",
                "text": [
                  "\r        1/7         0G      1.503      1.721      3.563      1.031          7        128:  12%|█▏        | 3/25 [00:01<00:14,  1.50it/s]"
                ]
              },
              {
                "name": "stderr",
                "output_type": "stream",
                "text": [
                  "\r        1/7         0G      1.402      1.613      3.539      1.029         12        128:  12%|█▏        | 3/25 [00:02<00:14,  1.50it/s]"
                ]
              },
              {
                "name": "stderr",
                "output_type": "stream",
                "text": [
                  "\r        1/7         0G      1.402      1.613      3.539      1.029         12        128:  16%|█▌        | 4/25 [00:02<00:13,  1.55it/s]"
                ]
              },
              {
                "name": "stderr",
                "output_type": "stream",
                "text": [
                  "\r        1/7         0G      1.375       1.46      3.524      1.016         15        128:  16%|█▌        | 4/25 [00:03<00:13,  1.55it/s]"
                ]
              },
              {
                "name": "stderr",
                "output_type": "stream",
                "text": [
                  "\r        1/7         0G      1.375       1.46      3.524      1.016         15        128:  20%|██        | 5/25 [00:03<00:12,  1.66it/s]"
                ]
              },
              {
                "name": "stderr",
                "output_type": "stream",
                "text": [
                  "\r        1/7         0G      1.337      1.379      3.489      1.013         14        128:  20%|██        | 5/25 [00:03<00:12,  1.66it/s]"
                ]
              },
              {
                "name": "stderr",
                "output_type": "stream",
                "text": [
                  "\r        1/7         0G      1.337      1.379      3.489      1.013         14        128:  24%|██▍       | 6/25 [00:03<00:10,  1.75it/s]"
                ]
              },
              {
                "name": "stderr",
                "output_type": "stream",
                "text": [
                  "\r        1/7         0G      1.261      1.278      3.446     0.9984         12        128:  24%|██▍       | 6/25 [00:04<00:10,  1.75it/s]"
                ]
              },
              {
                "name": "stderr",
                "output_type": "stream",
                "text": [
                  "\r        1/7         0G      1.261      1.278      3.446     0.9984         12        128:  28%|██▊       | 7/25 [00:04<00:09,  1.81it/s]"
                ]
              },
              {
                "name": "stderr",
                "output_type": "stream",
                "text": [
                  "\r        1/7         0G      1.187      1.205      3.396     0.9794         14        128:  28%|██▊       | 7/25 [00:04<00:09,  1.81it/s]"
                ]
              },
              {
                "name": "stderr",
                "output_type": "stream",
                "text": [
                  "\r        1/7         0G      1.187      1.205      3.396     0.9794         14        128:  32%|███▏      | 8/25 [00:04<00:09,  1.86it/s]"
                ]
              },
              {
                "name": "stderr",
                "output_type": "stream",
                "text": [
                  "\r        1/7         0G      1.146       1.14      3.342     0.9682         14        128:  32%|███▏      | 8/25 [00:05<00:09,  1.86it/s]"
                ]
              },
              {
                "name": "stderr",
                "output_type": "stream",
                "text": [
                  "\r        1/7         0G      1.146       1.14      3.342     0.9682         14        128:  36%|███▌      | 9/25 [00:05<00:08,  1.99it/s]"
                ]
              },
              {
                "name": "stderr",
                "output_type": "stream",
                "text": [
                  "\r        1/7         0G      1.103      1.092      3.296     0.9618         13        128:  36%|███▌      | 9/25 [00:05<00:08,  1.99it/s]"
                ]
              },
              {
                "name": "stderr",
                "output_type": "stream",
                "text": [
                  "\r        1/7         0G      1.103      1.092      3.296     0.9618         13        128:  40%|████      | 10/25 [00:05<00:07,  1.99it/s]"
                ]
              },
              {
                "name": "stderr",
                "output_type": "stream",
                "text": [
                  "\r        1/7         0G      1.069      1.045      3.238     0.9486         13        128:  40%|████      | 10/25 [00:05<00:07,  1.99it/s]"
                ]
              },
              {
                "name": "stderr",
                "output_type": "stream",
                "text": [
                  "\r        1/7         0G      1.069      1.045      3.238     0.9486         13        128:  44%|████▍     | 11/25 [00:05<00:06,  2.06it/s]"
                ]
              },
              {
                "name": "stderr",
                "output_type": "stream",
                "text": [
                  "\r        1/7         0G      1.043      1.004      3.196      0.939         16        128:  44%|████▍     | 11/25 [00:06<00:06,  2.06it/s]"
                ]
              },
              {
                "name": "stderr",
                "output_type": "stream",
                "text": [
                  "\r        1/7         0G      1.043      1.004      3.196      0.939         16        128:  48%|████▊     | 12/25 [00:06<00:06,  2.03it/s]"
                ]
              },
              {
                "name": "stderr",
                "output_type": "stream",
                "text": [
                  "\r        1/7         0G      1.017     0.9701      3.145     0.9314         17        128:  48%|████▊     | 12/25 [00:06<00:06,  2.03it/s]"
                ]
              },
              {
                "name": "stderr",
                "output_type": "stream",
                "text": [
                  "\r        1/7         0G      1.017     0.9701      3.145     0.9314         17        128:  52%|█████▏    | 13/25 [00:06<00:05,  2.05it/s]"
                ]
              },
              {
                "name": "stderr",
                "output_type": "stream",
                "text": [
                  "\r        1/7         0G      1.014       0.93      3.092      0.933         11        128:  52%|█████▏    | 13/25 [00:07<00:05,  2.05it/s]"
                ]
              },
              {
                "name": "stderr",
                "output_type": "stream",
                "text": [
                  "\r        1/7         0G      1.014       0.93      3.092      0.933         11        128:  56%|█████▌    | 14/25 [00:07<00:05,  2.02it/s]"
                ]
              },
              {
                "name": "stderr",
                "output_type": "stream",
                "text": [
                  "\r        1/7         0G     0.9906     0.9035      3.036     0.9276         17        128:  56%|█████▌    | 14/25 [00:07<00:05,  2.02it/s]"
                ]
              },
              {
                "name": "stderr",
                "output_type": "stream",
                "text": [
                  "\r        1/7         0G     0.9906     0.9035      3.036     0.9276         17        128:  60%|██████    | 15/25 [00:07<00:04,  2.07it/s]"
                ]
              },
              {
                "name": "stderr",
                "output_type": "stream",
                "text": [
                  "\r        1/7         0G     0.9727     0.8728      2.982     0.9224         15        128:  60%|██████    | 15/25 [00:08<00:04,  2.07it/s]"
                ]
              },
              {
                "name": "stderr",
                "output_type": "stream",
                "text": [
                  "\r        1/7         0G     0.9727     0.8728      2.982     0.9224         15        128:  64%|██████▍   | 16/25 [00:08<00:04,  2.03it/s]"
                ]
              },
              {
                "name": "stderr",
                "output_type": "stream",
                "text": [
                  "\r        1/7         0G     0.9525     0.8425      2.928     0.9197         17        128:  64%|██████▍   | 16/25 [00:09<00:04,  2.03it/s]"
                ]
              },
              {
                "name": "stderr",
                "output_type": "stream",
                "text": [
                  "\r        1/7         0G     0.9525     0.8425      2.928     0.9197         17        128:  68%|██████▊   | 17/25 [00:09<00:04,  1.91it/s]"
                ]
              },
              {
                "name": "stderr",
                "output_type": "stream",
                "text": [
                  "\r        1/7         0G      0.936     0.8136      2.858     0.9167         13        128:  68%|██████▊   | 17/25 [00:09<00:04,  1.91it/s]"
                ]
              },
              {
                "name": "stderr",
                "output_type": "stream",
                "text": [
                  "\r        1/7         0G      0.936     0.8136      2.858     0.9167         13        128:  72%|███████▏  | 18/25 [00:09<00:04,  1.69it/s]"
                ]
              },
              {
                "name": "stderr",
                "output_type": "stream",
                "text": [
                  "\r        1/7         0G     0.9183     0.7957      2.792     0.9151         12        128:  72%|███████▏  | 18/25 [00:10<00:04,  1.69it/s]"
                ]
              },
              {
                "name": "stderr",
                "output_type": "stream",
                "text": [
                  "\r        1/7         0G     0.9183     0.7957      2.792     0.9151         12        128:  76%|███████▌  | 19/25 [00:10<00:03,  1.65it/s]"
                ]
              },
              {
                "name": "stderr",
                "output_type": "stream",
                "text": [
                  "\r        1/7         0G     0.9055       0.79      2.733     0.9131         12        128:  76%|███████▌  | 19/25 [00:11<00:03,  1.65it/s]"
                ]
              },
              {
                "name": "stderr",
                "output_type": "stream",
                "text": [
                  "\r        1/7         0G     0.9055       0.79      2.733     0.9131         12        128:  80%|████████  | 20/25 [00:11<00:03,  1.52it/s]"
                ]
              },
              {
                "name": "stderr",
                "output_type": "stream",
                "text": [
                  "\r        1/7         0G     0.9007     0.7683      2.668     0.9118         17        128:  80%|████████  | 20/25 [00:11<00:03,  1.52it/s]"
                ]
              },
              {
                "name": "stderr",
                "output_type": "stream",
                "text": [
                  "\r        1/7         0G     0.9007     0.7683      2.668     0.9118         17        128:  84%|████████▍ | 21/25 [00:11<00:02,  1.48it/s]"
                ]
              },
              {
                "name": "stderr",
                "output_type": "stream",
                "text": [
                  "\r        1/7         0G     0.9073     0.7621      2.612     0.9114         20        128:  84%|████████▍ | 21/25 [00:12<00:02,  1.48it/s]"
                ]
              },
              {
                "name": "stderr",
                "output_type": "stream",
                "text": [
                  "\r        1/7         0G     0.9073     0.7621      2.612     0.9114         20        128:  88%|████████▊ | 22/25 [00:12<00:02,  1.40it/s]"
                ]
              },
              {
                "name": "stderr",
                "output_type": "stream",
                "text": [
                  "\r        1/7         0G     0.8963     0.7537       2.54      0.908         18        128:  88%|████████▊ | 22/25 [00:13<00:02,  1.40it/s]"
                ]
              },
              {
                "name": "stderr",
                "output_type": "stream",
                "text": [
                  "\r        1/7         0G     0.8963     0.7537       2.54      0.908         18        128:  92%|█████████▏| 23/25 [00:13<00:01,  1.43it/s]"
                ]
              },
              {
                "name": "stderr",
                "output_type": "stream",
                "text": [
                  "\r        1/7         0G     0.8921     0.7449      2.484      0.907         18        128:  92%|█████████▏| 23/25 [00:13<00:01,  1.43it/s]"
                ]
              },
              {
                "name": "stderr",
                "output_type": "stream",
                "text": [
                  "\r        1/7         0G     0.8921     0.7449      2.484      0.907         18        128:  96%|█████████▌| 24/25 [00:13<00:00,  1.58it/s]"
                ]
              },
              {
                "name": "stderr",
                "output_type": "stream",
                "text": [
                  "\r        1/7         0G     0.8939     0.7402      2.443     0.9059         15        128:  96%|█████████▌| 24/25 [00:14<00:00,  1.58it/s]"
                ]
              },
              {
                "name": "stderr",
                "output_type": "stream",
                "text": [
                  "\r        1/7         0G     0.8939     0.7402      2.443     0.9059         15        128: 100%|██████████| 25/25 [00:14<00:00,  1.75it/s]"
                ]
              },
              {
                "name": "stderr",
                "output_type": "stream",
                "text": [
                  "\r        1/7         0G     0.8939     0.7402      2.443     0.9059         15        128: 100%|██████████| 25/25 [00:14<00:00,  1.75it/s]"
                ]
              },
              {
                "name": "stderr",
                "output_type": "stream",
                "text": [
                  "\n"
                ]
              },
              {
                "name": "stderr",
                "output_type": "stream",
                "text": [
                  "\r                 Class     Images  Instances      Box(P          R      mAP50  mAP50-95)     Mask(P          R      mAP50  mAP50-95):   0%|          | 0/5 [00:00<?, ?it/s]"
                ]
              },
              {
                "name": "stderr",
                "output_type": "stream",
                "text": [
                  "\r                 Class     Images  Instances      Box(P          R      mAP50  mAP50-95)     Mask(P          R      mAP50  mAP50-95):  20%|██        | 1/5 [00:00<00:02,  1.97it/s]"
                ]
              },
              {
                "name": "stderr",
                "output_type": "stream",
                "text": [
                  "\r                 Class     Images  Instances      Box(P          R      mAP50  mAP50-95)     Mask(P          R      mAP50  mAP50-95):  40%|████      | 2/5 [00:00<00:01,  2.10it/s]"
                ]
              },
              {
                "name": "stderr",
                "output_type": "stream",
                "text": [
                  "\r                 Class     Images  Instances      Box(P          R      mAP50  mAP50-95)     Mask(P          R      mAP50  mAP50-95):  60%|██████    | 3/5 [00:01<00:00,  2.11it/s]"
                ]
              },
              {
                "name": "stderr",
                "output_type": "stream",
                "text": [
                  "\r                 Class     Images  Instances      Box(P          R      mAP50  mAP50-95)     Mask(P          R      mAP50  mAP50-95):  80%|████████  | 4/5 [00:01<00:00,  2.15it/s]"
                ]
              },
              {
                "name": "stderr",
                "output_type": "stream",
                "text": [
                  "\r                 Class     Images  Instances      Box(P          R      mAP50  mAP50-95)     Mask(P          R      mAP50  mAP50-95): 100%|██████████| 5/5 [00:02<00:00,  2.12it/s]"
                ]
              },
              {
                "name": "stderr",
                "output_type": "stream",
                "text": [
                  "\r                 Class     Images  Instances      Box(P          R      mAP50  mAP50-95)     Mask(P          R      mAP50  mAP50-95): 100%|██████████| 5/5 [00:02<00:00,  2.11it/s]"
                ]
              },
              {
                "name": "stdout",
                "output_type": "stream",
                "text": [
                  "                   all         80         80     0.0957      0.974      0.732      0.513     0.0957      0.974      0.736      0.488\n"
                ]
              },
              {
                "name": "stderr",
                "output_type": "stream",
                "text": [
                  "\n"
                ]
              },
              {
                "name": "stdout",
                "output_type": "stream",
                "text": [
                  "\n",
                  "      Epoch    GPU_mem   box_loss   seg_loss   cls_loss   dfl_loss  Instances       Size\n"
                ]
              },
              {
                "name": "stderr",
                "output_type": "stream",
                "text": [
                  "\r  0%|          | 0/25 [00:00<?, ?it/s]"
                ]
              },
              {
                "name": "stderr",
                "output_type": "stream",
                "text": [
                  "\r        2/7         0G     0.5968     0.5051      1.031     0.8298         19        128:   0%|          | 0/25 [00:00<?, ?it/s]"
                ]
              },
              {
                "name": "stderr",
                "output_type": "stream",
                "text": [
                  "\r        2/7         0G     0.5968     0.5051      1.031     0.8298         19        128:   4%|▍         | 1/25 [00:00<00:11,  2.13it/s]"
                ]
              },
              {
                "name": "stderr",
                "output_type": "stream",
                "text": [
                  "\r        2/7         0G     0.6126     0.4545      1.002     0.8183         15        128:   4%|▍         | 1/25 [00:00<00:11,  2.13it/s]"
                ]
              },
              {
                "name": "stderr",
                "output_type": "stream",
                "text": [
                  "\r        2/7         0G     0.6126     0.4545      1.002     0.8183         15        128:   8%|▊         | 2/25 [00:00<00:10,  2.19it/s]"
                ]
              },
              {
                "name": "stderr",
                "output_type": "stream",
                "text": [
                  "\r        2/7         0G     0.5862     0.3782     0.9872     0.8358         14        128:   8%|▊         | 2/25 [00:01<00:10,  2.19it/s]"
                ]
              },
              {
                "name": "stderr",
                "output_type": "stream",
                "text": [
                  "\r        2/7         0G     0.5862     0.3782     0.9872     0.8358         14        128:  12%|█▏        | 3/25 [00:01<00:11,  2.00it/s]"
                ]
              },
              {
                "name": "stderr",
                "output_type": "stream",
                "text": [
                  "\r        2/7         0G     0.6128     0.4442     0.9746     0.8389         17        128:  12%|█▏        | 3/25 [00:01<00:11,  2.00it/s]"
                ]
              },
              {
                "name": "stderr",
                "output_type": "stream",
                "text": [
                  "\r        2/7         0G     0.6128     0.4442     0.9746     0.8389         17        128:  16%|█▌        | 4/25 [00:01<00:10,  2.10it/s]"
                ]
              },
              {
                "name": "stderr",
                "output_type": "stream",
                "text": [
                  "\r        2/7         0G     0.6279     0.4911     0.9322     0.8324         11        128:  16%|█▌        | 4/25 [00:02<00:10,  2.10it/s]"
                ]
              },
              {
                "name": "stderr",
                "output_type": "stream",
                "text": [
                  "\r        2/7         0G     0.6279     0.4911     0.9322     0.8324         11        128:  20%|██        | 5/25 [00:02<00:09,  2.13it/s]"
                ]
              },
              {
                "name": "stderr",
                "output_type": "stream",
                "text": [
                  "\r        2/7         0G     0.6321     0.5066     0.9445     0.8306         14        128:  20%|██        | 5/25 [00:02<00:09,  2.13it/s]"
                ]
              },
              {
                "name": "stderr",
                "output_type": "stream",
                "text": [
                  "\r        2/7         0G     0.6321     0.5066     0.9445     0.8306         14        128:  24%|██▍       | 6/25 [00:02<00:09,  2.09it/s]"
                ]
              },
              {
                "name": "stderr",
                "output_type": "stream",
                "text": [
                  "\r        2/7         0G     0.6413      0.535     0.9215     0.8394         16        128:  24%|██▍       | 6/25 [00:03<00:09,  2.09it/s]"
                ]
              },
              {
                "name": "stderr",
                "output_type": "stream",
                "text": [
                  "\r        2/7         0G     0.6413      0.535     0.9215     0.8394         16        128:  28%|██▊       | 7/25 [00:03<00:08,  2.11it/s]"
                ]
              },
              {
                "name": "stderr",
                "output_type": "stream",
                "text": [
                  "\r        2/7         0G     0.6794     0.5704     0.9258     0.8443         18        128:  28%|██▊       | 7/25 [00:03<00:08,  2.11it/s]"
                ]
              },
              {
                "name": "stderr",
                "output_type": "stream",
                "text": [
                  "\r        2/7         0G     0.6794     0.5704     0.9258     0.8443         18        128:  32%|███▏      | 8/25 [00:03<00:07,  2.18it/s]"
                ]
              },
              {
                "name": "stderr",
                "output_type": "stream",
                "text": [
                  "\r        2/7         0G     0.6906     0.5504     0.9288     0.8452         18        128:  32%|███▏      | 8/25 [00:04<00:07,  2.18it/s]"
                ]
              },
              {
                "name": "stderr",
                "output_type": "stream",
                "text": [
                  "\r        2/7         0G     0.6906     0.5504     0.9288     0.8452         18        128:  36%|███▌      | 9/25 [00:04<00:07,  2.07it/s]"
                ]
              },
              {
                "name": "stderr",
                "output_type": "stream",
                "text": [
                  "\r        2/7         0G     0.6844     0.5334     0.9242     0.8462         14        128:  36%|███▌      | 9/25 [00:04<00:07,  2.07it/s]"
                ]
              },
              {
                "name": "stderr",
                "output_type": "stream",
                "text": [
                  "\r        2/7         0G     0.6844     0.5334     0.9242     0.8462         14        128:  40%|████      | 10/25 [00:04<00:06,  2.14it/s]"
                ]
              },
              {
                "name": "stderr",
                "output_type": "stream",
                "text": [
                  "\r        2/7         0G     0.6876      0.535      0.915     0.8494         12        128:  40%|████      | 10/25 [00:05<00:06,  2.14it/s]"
                ]
              },
              {
                "name": "stderr",
                "output_type": "stream",
                "text": [
                  "\r        2/7         0G     0.6876      0.535      0.915     0.8494         12        128:  44%|████▍     | 11/25 [00:05<00:06,  2.17it/s]"
                ]
              },
              {
                "name": "stderr",
                "output_type": "stream",
                "text": [
                  "\r        2/7         0G       0.69     0.5072     0.9001     0.8527         12        128:  44%|████▍     | 11/25 [00:05<00:06,  2.17it/s]"
                ]
              },
              {
                "name": "stderr",
                "output_type": "stream",
                "text": [
                  "\r        2/7         0G       0.69     0.5072     0.9001     0.8527         12        128:  48%|████▊     | 12/25 [00:05<00:05,  2.18it/s]"
                ]
              },
              {
                "name": "stderr",
                "output_type": "stream",
                "text": [
                  "\r        2/7         0G     0.6944     0.4879     0.8865     0.8508         12        128:  48%|████▊     | 12/25 [00:06<00:05,  2.18it/s]"
                ]
              },
              {
                "name": "stderr",
                "output_type": "stream",
                "text": [
                  "\r        2/7         0G     0.6944     0.4879     0.8865     0.8508         12        128:  52%|█████▏    | 13/25 [00:06<00:06,  1.94it/s]"
                ]
              },
              {
                "name": "stderr",
                "output_type": "stream",
                "text": [
                  "\r        2/7         0G     0.6881     0.4861     0.8761     0.8506         14        128:  52%|█████▏    | 13/25 [00:06<00:06,  1.94it/s]"
                ]
              },
              {
                "name": "stderr",
                "output_type": "stream",
                "text": [
                  "\r        2/7         0G     0.6881     0.4861     0.8761     0.8506         14        128:  56%|█████▌    | 14/25 [00:06<00:06,  1.80it/s]"
                ]
              },
              {
                "name": "stderr",
                "output_type": "stream",
                "text": [
                  "\r        2/7         0G     0.6813     0.5014     0.8712     0.8463         16        128:  56%|█████▌    | 14/25 [00:07<00:06,  1.80it/s]"
                ]
              },
              {
                "name": "stderr",
                "output_type": "stream",
                "text": [
                  "\r        2/7         0G     0.6813     0.5014     0.8712     0.8463         16        128:  60%|██████    | 15/25 [00:07<00:05,  1.71it/s]"
                ]
              },
              {
                "name": "stderr",
                "output_type": "stream",
                "text": [
                  "\r        2/7         0G      0.681      0.526     0.8655     0.8481         13        128:  60%|██████    | 15/25 [00:08<00:05,  1.71it/s]"
                ]
              },
              {
                "name": "stderr",
                "output_type": "stream",
                "text": [
                  "\r        2/7         0G      0.681      0.526     0.8655     0.8481         13        128:  64%|██████▍   | 16/25 [00:08<00:05,  1.64it/s]"
                ]
              },
              {
                "name": "stderr",
                "output_type": "stream",
                "text": [
                  "\r        2/7         0G     0.6748     0.5266     0.8539     0.8474         14        128:  64%|██████▍   | 16/25 [00:09<00:05,  1.64it/s]"
                ]
              },
              {
                "name": "stderr",
                "output_type": "stream",
                "text": [
                  "\r        2/7         0G     0.6748     0.5266     0.8539     0.8474         14        128:  68%|██████▊   | 17/25 [00:09<00:05,  1.48it/s]"
                ]
              },
              {
                "name": "stderr",
                "output_type": "stream",
                "text": [
                  "\r        2/7         0G     0.6673     0.5305     0.8432     0.8467         16        128:  68%|██████▊   | 17/25 [00:09<00:05,  1.48it/s]"
                ]
              },
              {
                "name": "stderr",
                "output_type": "stream",
                "text": [
                  "\r        2/7         0G     0.6673     0.5305     0.8432     0.8467         16        128:  72%|███████▏  | 18/25 [00:09<00:04,  1.45it/s]"
                ]
              },
              {
                "name": "stderr",
                "output_type": "stream",
                "text": [
                  "\r        2/7         0G      0.663     0.5438      0.837      0.849         16        128:  72%|███████▏  | 18/25 [00:10<00:04,  1.45it/s]"
                ]
              },
              {
                "name": "stderr",
                "output_type": "stream",
                "text": [
                  "\r        2/7         0G      0.663     0.5438      0.837      0.849         16        128:  76%|███████▌  | 19/25 [00:10<00:04,  1.44it/s]"
                ]
              },
              {
                "name": "stderr",
                "output_type": "stream",
                "text": [
                  "\r        2/7         0G     0.6626     0.5352     0.8355     0.8498         13        128:  76%|███████▌  | 19/25 [00:11<00:04,  1.44it/s]"
                ]
              },
              {
                "name": "stderr",
                "output_type": "stream",
                "text": [
                  "\r        2/7         0G     0.6626     0.5352     0.8355     0.8498         13        128:  80%|████████  | 20/25 [00:11<00:03,  1.54it/s]"
                ]
              },
              {
                "name": "stderr",
                "output_type": "stream",
                "text": [
                  "\r        2/7         0G     0.6672     0.5372     0.8348     0.8507         22        128:  80%|████████  | 20/25 [00:11<00:03,  1.54it/s]"
                ]
              },
              {
                "name": "stderr",
                "output_type": "stream",
                "text": [
                  "\r        2/7         0G     0.6672     0.5372     0.8348     0.8507         22        128:  84%|████████▍ | 21/25 [00:11<00:02,  1.64it/s]"
                ]
              },
              {
                "name": "stderr",
                "output_type": "stream",
                "text": [
                  "\r        2/7         0G     0.6699     0.5304     0.8363     0.8536          8        128:  84%|████████▍ | 21/25 [00:11<00:02,  1.64it/s]"
                ]
              },
              {
                "name": "stderr",
                "output_type": "stream",
                "text": [
                  "\r        2/7         0G     0.6699     0.5304     0.8363     0.8536          8        128:  88%|████████▊ | 22/25 [00:11<00:01,  1.79it/s]"
                ]
              },
              {
                "name": "stderr",
                "output_type": "stream",
                "text": [
                  "\r        2/7         0G     0.6672     0.5337     0.8302      0.854         18        128:  88%|████████▊ | 22/25 [00:12<00:01,  1.79it/s]"
                ]
              },
              {
                "name": "stderr",
                "output_type": "stream",
                "text": [
                  "\r        2/7         0G     0.6672     0.5337     0.8302      0.854         18        128:  92%|█████████▏| 23/25 [00:12<00:01,  1.90it/s]"
                ]
              },
              {
                "name": "stderr",
                "output_type": "stream",
                "text": [
                  "\r        2/7         0G     0.6664     0.5359     0.8262     0.8546         20        128:  92%|█████████▏| 23/25 [00:12<00:01,  1.90it/s]"
                ]
              },
              {
                "name": "stderr",
                "output_type": "stream",
                "text": [
                  "\r        2/7         0G     0.6664     0.5359     0.8262     0.8546         20        128:  96%|█████████▌| 24/25 [00:12<00:00,  1.99it/s]"
                ]
              },
              {
                "name": "stderr",
                "output_type": "stream",
                "text": [
                  "\r        2/7         0G     0.6665      0.548     0.8288     0.8533          9        128:  96%|█████████▌| 24/25 [00:13<00:00,  1.99it/s]"
                ]
              },
              {
                "name": "stderr",
                "output_type": "stream",
                "text": [
                  "\r        2/7         0G     0.6665      0.548     0.8288     0.8533          9        128: 100%|██████████| 25/25 [00:13<00:00,  2.12it/s]"
                ]
              },
              {
                "name": "stderr",
                "output_type": "stream",
                "text": [
                  "\r        2/7         0G     0.6665      0.548     0.8288     0.8533          9        128: 100%|██████████| 25/25 [00:13<00:00,  1.88it/s]"
                ]
              },
              {
                "name": "stderr",
                "output_type": "stream",
                "text": [
                  "\n"
                ]
              },
              {
                "name": "stderr",
                "output_type": "stream",
                "text": [
                  "\r                 Class     Images  Instances      Box(P          R      mAP50  mAP50-95)     Mask(P          R      mAP50  mAP50-95):   0%|          | 0/5 [00:00<?, ?it/s]"
                ]
              },
              {
                "name": "stderr",
                "output_type": "stream",
                "text": [
                  "\r                 Class     Images  Instances      Box(P          R      mAP50  mAP50-95)     Mask(P          R      mAP50  mAP50-95):  20%|██        | 1/5 [00:00<00:01,  2.02it/s]"
                ]
              },
              {
                "name": "stderr",
                "output_type": "stream",
                "text": [
                  "\r                 Class     Images  Instances      Box(P          R      mAP50  mAP50-95)     Mask(P          R      mAP50  mAP50-95):  40%|████      | 2/5 [00:00<00:01,  2.05it/s]"
                ]
              },
              {
                "name": "stderr",
                "output_type": "stream",
                "text": [
                  "\r                 Class     Images  Instances      Box(P          R      mAP50  mAP50-95)     Mask(P          R      mAP50  mAP50-95):  60%|██████    | 3/5 [00:01<00:00,  2.10it/s]"
                ]
              },
              {
                "name": "stderr",
                "output_type": "stream",
                "text": [
                  "\r                 Class     Images  Instances      Box(P          R      mAP50  mAP50-95)     Mask(P          R      mAP50  mAP50-95):  80%|████████  | 4/5 [00:01<00:00,  2.11it/s]"
                ]
              },
              {
                "name": "stderr",
                "output_type": "stream",
                "text": [
                  "\r                 Class     Images  Instances      Box(P          R      mAP50  mAP50-95)     Mask(P          R      mAP50  mAP50-95): 100%|██████████| 5/5 [00:02<00:00,  2.16it/s]"
                ]
              },
              {
                "name": "stderr",
                "output_type": "stream",
                "text": [
                  "\r                 Class     Images  Instances      Box(P          R      mAP50  mAP50-95)     Mask(P          R      mAP50  mAP50-95): 100%|██████████| 5/5 [00:02<00:00,  2.12it/s]"
                ]
              },
              {
                "name": "stdout",
                "output_type": "stream",
                "text": [
                  "                   all         80         80          1      0.927      0.995      0.876          1      0.927      0.995      0.686\n"
                ]
              },
              {
                "name": "stderr",
                "output_type": "stream",
                "text": [
                  "\n"
                ]
              },
              {
                "name": "stdout",
                "output_type": "stream",
                "text": [
                  "\n",
                  "      Epoch    GPU_mem   box_loss   seg_loss   cls_loss   dfl_loss  Instances       Size\n"
                ]
              },
              {
                "name": "stderr",
                "output_type": "stream",
                "text": [
                  "\r  0%|          | 0/25 [00:00<?, ?it/s]"
                ]
              },
              {
                "name": "stderr",
                "output_type": "stream",
                "text": [
                  "\r        3/7         0G     0.6243     0.5033     0.8314     0.8801         17        128:   0%|          | 0/25 [00:00<?, ?it/s]"
                ]
              },
              {
                "name": "stderr",
                "output_type": "stream",
                "text": [
                  "\r        3/7         0G     0.6243     0.5033     0.8314     0.8801         17        128:   4%|▍         | 1/25 [00:00<00:10,  2.21it/s]"
                ]
              },
              {
                "name": "stderr",
                "output_type": "stream",
                "text": [
                  "\r        3/7         0G     0.6233     0.5099     0.7223      0.884         11        128:   4%|▍         | 1/25 [00:00<00:10,  2.21it/s]"
                ]
              },
              {
                "name": "stderr",
                "output_type": "stream",
                "text": [
                  "\r        3/7         0G     0.6233     0.5099     0.7223      0.884         11        128:   8%|▊         | 2/25 [00:00<00:10,  2.25it/s]"
                ]
              },
              {
                "name": "stderr",
                "output_type": "stream",
                "text": [
                  "\r        3/7         0G     0.6231     0.5009     0.7249     0.8839         14        128:   8%|▊         | 2/25 [00:01<00:10,  2.25it/s]"
                ]
              },
              {
                "name": "stderr",
                "output_type": "stream",
                "text": [
                  "\r        3/7         0G     0.6231     0.5009     0.7249     0.8839         14        128:  12%|█▏        | 3/25 [00:01<00:09,  2.25it/s]"
                ]
              },
              {
                "name": "stderr",
                "output_type": "stream",
                "text": [
                  "\r        3/7         0G     0.6151     0.5575     0.7031     0.8745         15        128:  12%|█▏        | 3/25 [00:01<00:09,  2.25it/s]"
                ]
              },
              {
                "name": "stderr",
                "output_type": "stream",
                "text": [
                  "\r        3/7         0G     0.6151     0.5575     0.7031     0.8745         15        128:  16%|█▌        | 4/25 [00:01<00:09,  2.22it/s]"
                ]
              },
              {
                "name": "stderr",
                "output_type": "stream",
                "text": [
                  "\r        3/7         0G     0.6316     0.6345     0.6956     0.8718         18        128:  16%|█▌        | 4/25 [00:02<00:09,  2.22it/s]"
                ]
              },
              {
                "name": "stderr",
                "output_type": "stream",
                "text": [
                  "\r        3/7         0G     0.6316     0.6345     0.6956     0.8718         18        128:  20%|██        | 5/25 [00:02<00:09,  2.13it/s]"
                ]
              },
              {
                "name": "stderr",
                "output_type": "stream",
                "text": [
                  "\r        3/7         0G     0.6407     0.5957     0.6921     0.8741         20        128:  20%|██        | 5/25 [00:02<00:09,  2.13it/s]"
                ]
              },
              {
                "name": "stderr",
                "output_type": "stream",
                "text": [
                  "\r        3/7         0G     0.6407     0.5957     0.6921     0.8741         20        128:  24%|██▍       | 6/25 [00:02<00:08,  2.13it/s]"
                ]
              },
              {
                "name": "stderr",
                "output_type": "stream",
                "text": [
                  "\r        3/7         0G     0.6342      0.557     0.7048     0.8825         18        128:  24%|██▍       | 6/25 [00:03<00:08,  2.13it/s]"
                ]
              },
              {
                "name": "stderr",
                "output_type": "stream",
                "text": [
                  "\r        3/7         0G     0.6342      0.557     0.7048     0.8825         18        128:  28%|██▊       | 7/25 [00:03<00:08,  2.11it/s]"
                ]
              },
              {
                "name": "stderr",
                "output_type": "stream",
                "text": [
                  "\r        3/7         0G      0.625     0.5466     0.7066     0.8781         16        128:  28%|██▊       | 7/25 [00:03<00:08,  2.11it/s]"
                ]
              },
              {
                "name": "stderr",
                "output_type": "stream",
                "text": [
                  "\r        3/7         0G      0.625     0.5466     0.7066     0.8781         16        128:  32%|███▏      | 8/25 [00:03<00:07,  2.13it/s]"
                ]
              },
              {
                "name": "stderr",
                "output_type": "stream",
                "text": [
                  "\r        3/7         0G     0.6366     0.5226     0.7097     0.8806         12        128:  32%|███▏      | 8/25 [00:04<00:07,  2.13it/s]"
                ]
              },
              {
                "name": "stderr",
                "output_type": "stream",
                "text": [
                  "\r        3/7         0G     0.6366     0.5226     0.7097     0.8806         12        128:  36%|███▌      | 9/25 [00:04<00:07,  2.16it/s]"
                ]
              },
              {
                "name": "stderr",
                "output_type": "stream",
                "text": [
                  "\r        3/7         0G     0.6308     0.4969     0.7034     0.8771         11        128:  36%|███▌      | 9/25 [00:04<00:07,  2.16it/s]"
                ]
              },
              {
                "name": "stderr",
                "output_type": "stream",
                "text": [
                  "\r        3/7         0G     0.6308     0.4969     0.7034     0.8771         11        128:  40%|████      | 10/25 [00:04<00:08,  1.87it/s]"
                ]
              },
              {
                "name": "stderr",
                "output_type": "stream",
                "text": [
                  "\r        3/7         0G     0.6461     0.4855     0.7082     0.8837         12        128:  40%|████      | 10/25 [00:05<00:08,  1.87it/s]"
                ]
              },
              {
                "name": "stderr",
                "output_type": "stream",
                "text": [
                  "\r        3/7         0G     0.6461     0.4855     0.7082     0.8837         12        128:  44%|████▍     | 11/25 [00:05<00:08,  1.73it/s]"
                ]
              },
              {
                "name": "stderr",
                "output_type": "stream",
                "text": [
                  "\r        3/7         0G     0.6442     0.4617      0.711     0.8801         14        128:  44%|████▍     | 11/25 [00:06<00:08,  1.73it/s]"
                ]
              },
              {
                "name": "stderr",
                "output_type": "stream",
                "text": [
                  "\r        3/7         0G     0.6442     0.4617      0.711     0.8801         14        128:  48%|████▊     | 12/25 [00:06<00:07,  1.67it/s]"
                ]
              },
              {
                "name": "stderr",
                "output_type": "stream",
                "text": [
                  "\r        3/7         0G     0.6422     0.4576     0.7111     0.8821         15        128:  48%|████▊     | 12/25 [00:06<00:07,  1.67it/s]"
                ]
              },
              {
                "name": "stderr",
                "output_type": "stream",
                "text": [
                  "\r        3/7         0G     0.6422     0.4576     0.7111     0.8821         15        128:  52%|█████▏    | 13/25 [00:06<00:07,  1.59it/s]"
                ]
              },
              {
                "name": "stderr",
                "output_type": "stream",
                "text": [
                  "\r        3/7         0G     0.6435     0.4745     0.7036     0.8859         14        128:  52%|█████▏    | 13/25 [00:07<00:07,  1.59it/s]"
                ]
              },
              {
                "name": "stderr",
                "output_type": "stream",
                "text": [
                  "\r        3/7         0G     0.6435     0.4745     0.7036     0.8859         14        128:  56%|█████▌    | 14/25 [00:07<00:07,  1.53it/s]"
                ]
              },
              {
                "name": "stderr",
                "output_type": "stream",
                "text": [
                  "\r        3/7         0G     0.6454      0.472      0.701     0.8829         15        128:  56%|█████▌    | 14/25 [00:08<00:07,  1.53it/s]"
                ]
              },
              {
                "name": "stderr",
                "output_type": "stream",
                "text": [
                  "\r        3/7         0G     0.6454      0.472      0.701     0.8829         15        128:  60%|██████    | 15/25 [00:08<00:07,  1.41it/s]"
                ]
              },
              {
                "name": "stderr",
                "output_type": "stream",
                "text": [
                  "\r        3/7         0G     0.6389     0.4645     0.7011     0.8845          9        128:  60%|██████    | 15/25 [00:09<00:07,  1.41it/s]"
                ]
              },
              {
                "name": "stderr",
                "output_type": "stream",
                "text": [
                  "\r        3/7         0G     0.6389     0.4645     0.7011     0.8845          9        128:  64%|██████▍   | 16/25 [00:09<00:06,  1.44it/s]"
                ]
              },
              {
                "name": "stderr",
                "output_type": "stream",
                "text": [
                  "\r        3/7         0G      0.637     0.4587     0.7075      0.881         12        128:  64%|██████▍   | 16/25 [00:09<00:06,  1.44it/s]"
                ]
              },
              {
                "name": "stderr",
                "output_type": "stream",
                "text": [
                  "\r        3/7         0G      0.637     0.4587     0.7075      0.881         12        128:  68%|██████▊   | 17/25 [00:09<00:04,  1.62it/s]"
                ]
              },
              {
                "name": "stderr",
                "output_type": "stream",
                "text": [
                  "\r        3/7         0G     0.6335     0.4549     0.7099     0.8797         16        128:  68%|██████▊   | 17/25 [00:09<00:04,  1.62it/s]"
                ]
              },
              {
                "name": "stderr",
                "output_type": "stream",
                "text": [
                  "\r        3/7         0G     0.6335     0.4549     0.7099     0.8797         16        128:  72%|███████▏  | 18/25 [00:09<00:03,  1.76it/s]"
                ]
              },
              {
                "name": "stderr",
                "output_type": "stream",
                "text": [
                  "\r        3/7         0G      0.625     0.4458     0.7034     0.8778         11        128:  72%|███████▏  | 18/25 [00:10<00:03,  1.76it/s]"
                ]
              },
              {
                "name": "stderr",
                "output_type": "stream",
                "text": [
                  "\r        3/7         0G      0.625     0.4458     0.7034     0.8778         11        128:  76%|███████▌  | 19/25 [00:10<00:03,  1.89it/s]"
                ]
              },
              {
                "name": "stderr",
                "output_type": "stream",
                "text": [
                  "\r        3/7         0G     0.6303     0.4459     0.7097     0.8793         10        128:  76%|███████▌  | 19/25 [00:11<00:03,  1.89it/s]"
                ]
              },
              {
                "name": "stderr",
                "output_type": "stream",
                "text": [
                  "\r        3/7         0G     0.6303     0.4459     0.7097     0.8793         10        128:  80%|████████  | 20/25 [00:11<00:03,  1.44it/s]"
                ]
              },
              {
                "name": "stderr",
                "output_type": "stream",
                "text": [
                  "\r        3/7         0G     0.6406     0.4607     0.7155     0.8788         17        128:  80%|████████  | 20/25 [00:12<00:03,  1.44it/s]"
                ]
              },
              {
                "name": "stderr",
                "output_type": "stream",
                "text": [
                  "\r        3/7         0G     0.6406     0.4607     0.7155     0.8788         17        128:  84%|████████▍ | 21/25 [00:12<00:03,  1.19it/s]"
                ]
              },
              {
                "name": "stderr",
                "output_type": "stream",
                "text": [
                  "\r        3/7         0G     0.6422     0.4534     0.7185     0.8747         12        128:  84%|████████▍ | 21/25 [00:13<00:03,  1.19it/s]"
                ]
              },
              {
                "name": "stderr",
                "output_type": "stream",
                "text": [
                  "\r        3/7         0G     0.6422     0.4534     0.7185     0.8747         12        128:  88%|████████▊ | 22/25 [00:13<00:02,  1.21it/s]"
                ]
              },
              {
                "name": "stderr",
                "output_type": "stream",
                "text": [
                  "\r        3/7         0G     0.6408     0.4501     0.7148     0.8738         17        128:  88%|████████▊ | 22/25 [00:14<00:02,  1.21it/s]"
                ]
              },
              {
                "name": "stderr",
                "output_type": "stream",
                "text": [
                  "\r        3/7         0G     0.6408     0.4501     0.7148     0.8738         17        128:  92%|█████████▏| 23/25 [00:14<00:01,  1.26it/s]"
                ]
              },
              {
                "name": "stderr",
                "output_type": "stream",
                "text": [
                  "\r        3/7         0G     0.6364     0.4443     0.7105     0.8721         13        128:  92%|█████████▏| 23/25 [00:14<00:01,  1.26it/s]"
                ]
              },
              {
                "name": "stderr",
                "output_type": "stream",
                "text": [
                  "\r        3/7         0G     0.6364     0.4443     0.7105     0.8721         13        128:  96%|█████████▌| 24/25 [00:14<00:00,  1.44it/s]"
                ]
              },
              {
                "name": "stderr",
                "output_type": "stream",
                "text": [
                  "\r        3/7         0G     0.6373     0.4459     0.7134     0.8712         15        128:  96%|█████████▌| 24/25 [00:14<00:00,  1.44it/s]"
                ]
              },
              {
                "name": "stderr",
                "output_type": "stream",
                "text": [
                  "\r        3/7         0G     0.6373     0.4459     0.7134     0.8712         15        128: 100%|██████████| 25/25 [00:14<00:00,  1.70it/s]"
                ]
              },
              {
                "name": "stderr",
                "output_type": "stream",
                "text": [
                  "\r        3/7         0G     0.6373     0.4459     0.7134     0.8712         15        128: 100%|██████████| 25/25 [00:14<00:00,  1.67it/s]"
                ]
              },
              {
                "name": "stderr",
                "output_type": "stream",
                "text": [
                  "\n"
                ]
              },
              {
                "name": "stderr",
                "output_type": "stream",
                "text": [
                  "\r                 Class     Images  Instances      Box(P          R      mAP50  mAP50-95)     Mask(P          R      mAP50  mAP50-95):   0%|          | 0/5 [00:00<?, ?it/s]"
                ]
              },
              {
                "name": "stderr",
                "output_type": "stream",
                "text": [
                  "\r                 Class     Images  Instances      Box(P          R      mAP50  mAP50-95)     Mask(P          R      mAP50  mAP50-95):  20%|██        | 1/5 [00:00<00:01,  2.13it/s]"
                ]
              },
              {
                "name": "stderr",
                "output_type": "stream",
                "text": [
                  "\r                 Class     Images  Instances      Box(P          R      mAP50  mAP50-95)     Mask(P          R      mAP50  mAP50-95):  40%|████      | 2/5 [00:00<00:01,  2.12it/s]"
                ]
              },
              {
                "name": "stderr",
                "output_type": "stream",
                "text": [
                  "\r                 Class     Images  Instances      Box(P          R      mAP50  mAP50-95)     Mask(P          R      mAP50  mAP50-95):  60%|██████    | 3/5 [00:01<00:00,  2.12it/s]"
                ]
              },
              {
                "name": "stderr",
                "output_type": "stream",
                "text": [
                  "\r                 Class     Images  Instances      Box(P          R      mAP50  mAP50-95)     Mask(P          R      mAP50  mAP50-95):  80%|████████  | 4/5 [00:01<00:00,  2.14it/s]"
                ]
              },
              {
                "name": "stderr",
                "output_type": "stream",
                "text": [
                  "\r                 Class     Images  Instances      Box(P          R      mAP50  mAP50-95)     Mask(P          R      mAP50  mAP50-95): 100%|██████████| 5/5 [00:02<00:00,  2.13it/s]"
                ]
              },
              {
                "name": "stderr",
                "output_type": "stream",
                "text": [
                  "\r                 Class     Images  Instances      Box(P          R      mAP50  mAP50-95)     Mask(P          R      mAP50  mAP50-95): 100%|██████████| 5/5 [00:02<00:00,  2.13it/s]"
                ]
              },
              {
                "name": "stdout",
                "output_type": "stream",
                "text": [
                  "                   all         80         80      0.995          1      0.995      0.903      0.995          1      0.995      0.755\n"
                ]
              },
              {
                "name": "stderr",
                "output_type": "stream",
                "text": [
                  "\n"
                ]
              },
              {
                "name": "stdout",
                "output_type": "stream",
                "text": [
                  "\n",
                  "      Epoch    GPU_mem   box_loss   seg_loss   cls_loss   dfl_loss  Instances       Size\n"
                ]
              },
              {
                "name": "stderr",
                "output_type": "stream",
                "text": [
                  "\r  0%|          | 0/25 [00:00<?, ?it/s]"
                ]
              },
              {
                "name": "stderr",
                "output_type": "stream",
                "text": [
                  "\r        4/7         0G     0.6207     0.3128     0.6282     0.8961         19        128:   0%|          | 0/25 [00:00<?, ?it/s]"
                ]
              },
              {
                "name": "stderr",
                "output_type": "stream",
                "text": [
                  "\r        4/7         0G     0.6207     0.3128     0.6282     0.8961         19        128:   4%|▍         | 1/25 [00:00<00:10,  2.22it/s]"
                ]
              },
              {
                "name": "stderr",
                "output_type": "stream",
                "text": [
                  "\r        4/7         0G     0.6295     0.3687     0.6672     0.8764          9        128:   4%|▍         | 1/25 [00:01<00:10,  2.22it/s]"
                ]
              },
              {
                "name": "stderr",
                "output_type": "stream",
                "text": [
                  "\r        4/7         0G     0.6295     0.3687     0.6672     0.8764          9        128:   8%|▊         | 2/25 [00:01<00:12,  1.88it/s]"
                ]
              },
              {
                "name": "stderr",
                "output_type": "stream",
                "text": [
                  "\r        4/7         0G     0.6365     0.3588     0.6656     0.8707         19        128:   8%|▊         | 2/25 [00:01<00:12,  1.88it/s]"
                ]
              },
              {
                "name": "stderr",
                "output_type": "stream",
                "text": [
                  "\r        4/7         0G     0.6365     0.3588     0.6656     0.8707         19        128:  12%|█▏        | 3/25 [00:01<00:13,  1.67it/s]"
                ]
              },
              {
                "name": "stderr",
                "output_type": "stream",
                "text": [
                  "\r        4/7         0G     0.6009     0.3189     0.6576     0.8811         13        128:  12%|█▏        | 3/25 [00:02<00:13,  1.67it/s]"
                ]
              },
              {
                "name": "stderr",
                "output_type": "stream",
                "text": [
                  "\r        4/7         0G     0.6009     0.3189     0.6576     0.8811         13        128:  16%|█▌        | 4/25 [00:02<00:13,  1.59it/s]"
                ]
              },
              {
                "name": "stderr",
                "output_type": "stream",
                "text": [
                  "\r        4/7         0G     0.6056     0.3366     0.6523     0.8697         17        128:  16%|█▌        | 4/25 [00:03<00:13,  1.59it/s]"
                ]
              },
              {
                "name": "stderr",
                "output_type": "stream",
                "text": [
                  "\r        4/7         0G     0.6056     0.3366     0.6523     0.8697         17        128:  20%|██        | 5/25 [00:03<00:13,  1.53it/s]"
                ]
              },
              {
                "name": "stderr",
                "output_type": "stream",
                "text": [
                  "\r        4/7         0G       0.61     0.3914     0.6428     0.8608         19        128:  20%|██        | 5/25 [00:03<00:13,  1.53it/s]"
                ]
              },
              {
                "name": "stderr",
                "output_type": "stream",
                "text": [
                  "\r        4/7         0G       0.61     0.3914     0.6428     0.8608         19        128:  24%|██▍       | 6/25 [00:03<00:12,  1.48it/s]"
                ]
              },
              {
                "name": "stderr",
                "output_type": "stream",
                "text": [
                  "\r        4/7         0G     0.6079     0.3743     0.6497     0.8658         10        128:  24%|██▍       | 6/25 [00:04<00:12,  1.48it/s]"
                ]
              },
              {
                "name": "stderr",
                "output_type": "stream",
                "text": [
                  "\r        4/7         0G     0.6079     0.3743     0.6497     0.8658         10        128:  28%|██▊       | 7/25 [00:04<00:12,  1.44it/s]"
                ]
              },
              {
                "name": "stderr",
                "output_type": "stream",
                "text": [
                  "\r        4/7         0G     0.5946     0.3678     0.6748     0.8528          9        128:  28%|██▊       | 7/25 [00:05<00:12,  1.44it/s]"
                ]
              },
              {
                "name": "stderr",
                "output_type": "stream",
                "text": [
                  "\r        4/7         0G     0.5946     0.3678     0.6748     0.8528          9        128:  32%|███▏      | 8/25 [00:05<00:11,  1.43it/s]"
                ]
              },
              {
                "name": "stderr",
                "output_type": "stream",
                "text": [
                  "\r        4/7         0G     0.6048     0.3628     0.6852     0.8536         19        128:  32%|███▏      | 8/25 [00:05<00:11,  1.43it/s]"
                ]
              },
              {
                "name": "stderr",
                "output_type": "stream",
                "text": [
                  "\r        4/7         0G     0.6048     0.3628     0.6852     0.8536         19        128:  36%|███▌      | 9/25 [00:05<00:10,  1.48it/s]"
                ]
              },
              {
                "name": "stderr",
                "output_type": "stream",
                "text": [
                  "\r        4/7         0G     0.5947      0.371     0.6737     0.8502         15        128:  36%|███▌      | 9/25 [00:06<00:10,  1.48it/s]"
                ]
              },
              {
                "name": "stderr",
                "output_type": "stream",
                "text": [
                  "\r        4/7         0G     0.5947      0.371     0.6737     0.8502         15        128:  40%|████      | 10/25 [00:06<00:09,  1.65it/s]"
                ]
              },
              {
                "name": "stderr",
                "output_type": "stream",
                "text": [
                  "\r        4/7         0G     0.5846     0.3767     0.6664      0.848         14        128:  40%|████      | 10/25 [00:06<00:09,  1.65it/s]"
                ]
              },
              {
                "name": "stderr",
                "output_type": "stream",
                "text": [
                  "\r        4/7         0G     0.5846     0.3767     0.6664      0.848         14        128:  44%|████▍     | 11/25 [00:06<00:07,  1.79it/s]"
                ]
              },
              {
                "name": "stderr",
                "output_type": "stream",
                "text": [
                  "\r        4/7         0G     0.5841     0.3991     0.6644     0.8493         10        128:  44%|████▍     | 11/25 [00:07<00:07,  1.79it/s]"
                ]
              },
              {
                "name": "stderr",
                "output_type": "stream",
                "text": [
                  "\r        4/7         0G     0.5841     0.3991     0.6644     0.8493         10        128:  48%|████▊     | 12/25 [00:07<00:06,  1.89it/s]"
                ]
              },
              {
                "name": "stderr",
                "output_type": "stream",
                "text": [
                  "\r        4/7         0G     0.5876      0.388     0.6606     0.8514         14        128:  48%|████▊     | 12/25 [00:07<00:06,  1.89it/s]"
                ]
              },
              {
                "name": "stderr",
                "output_type": "stream",
                "text": [
                  "\r        4/7         0G     0.5876      0.388     0.6606     0.8514         14        128:  52%|█████▏    | 13/25 [00:07<00:06,  1.93it/s]"
                ]
              },
              {
                "name": "stderr",
                "output_type": "stream",
                "text": [
                  "\r        4/7         0G     0.5857     0.3979     0.6637     0.8525          9        128:  52%|█████▏    | 13/25 [00:08<00:06,  1.93it/s]"
                ]
              },
              {
                "name": "stderr",
                "output_type": "stream",
                "text": [
                  "\r        4/7         0G     0.5857     0.3979     0.6637     0.8525          9        128:  56%|█████▌    | 14/25 [00:08<00:05,  2.01it/s]"
                ]
              },
              {
                "name": "stderr",
                "output_type": "stream",
                "text": [
                  "\r        4/7         0G      0.578     0.3983     0.6606     0.8519         15        128:  56%|█████▌    | 14/25 [00:08<00:05,  2.01it/s]"
                ]
              },
              {
                "name": "stderr",
                "output_type": "stream",
                "text": [
                  "\r        4/7         0G      0.578     0.3983     0.6606     0.8519         15        128:  60%|██████    | 15/25 [00:08<00:04,  2.04it/s]"
                ]
              },
              {
                "name": "stderr",
                "output_type": "stream",
                "text": [
                  "\r        4/7         0G     0.5832     0.4255     0.6612      0.854         18        128:  60%|██████    | 15/25 [00:09<00:04,  2.04it/s]"
                ]
              },
              {
                "name": "stderr",
                "output_type": "stream",
                "text": [
                  "\r        4/7         0G     0.5832     0.4255     0.6612      0.854         18        128:  64%|██████▍   | 16/25 [00:09<00:04,  1.99it/s]"
                ]
              },
              {
                "name": "stderr",
                "output_type": "stream",
                "text": [
                  "\r        4/7         0G     0.5801     0.4204     0.6563     0.8493         11        128:  64%|██████▍   | 16/25 [00:09<00:04,  1.99it/s]"
                ]
              },
              {
                "name": "stderr",
                "output_type": "stream",
                "text": [
                  "\r        4/7         0G     0.5801     0.4204     0.6563     0.8493         11        128:  68%|██████▊   | 17/25 [00:09<00:03,  2.02it/s]"
                ]
              },
              {
                "name": "stderr",
                "output_type": "stream",
                "text": [
                  "\r        4/7         0G     0.5792     0.4192     0.6535     0.8507         18        128:  68%|██████▊   | 17/25 [00:10<00:03,  2.02it/s]"
                ]
              },
              {
                "name": "stderr",
                "output_type": "stream",
                "text": [
                  "\r        4/7         0G     0.5792     0.4192     0.6535     0.8507         18        128:  72%|███████▏  | 18/25 [00:10<00:03,  2.05it/s]"
                ]
              },
              {
                "name": "stderr",
                "output_type": "stream",
                "text": [
                  "\r        4/7         0G     0.5769      0.426     0.6505     0.8542         12        128:  72%|███████▏  | 18/25 [00:10<00:03,  2.05it/s]"
                ]
              },
              {
                "name": "stderr",
                "output_type": "stream",
                "text": [
                  "\r        4/7         0G     0.5769      0.426     0.6505     0.8542         12        128:  76%|███████▌  | 19/25 [00:10<00:03,  1.92it/s]"
                ]
              },
              {
                "name": "stderr",
                "output_type": "stream",
                "text": [
                  "\r        4/7         0G     0.5781     0.4148      0.648     0.8544         13        128:  76%|███████▌  | 19/25 [00:11<00:03,  1.92it/s]"
                ]
              },
              {
                "name": "stderr",
                "output_type": "stream",
                "text": [
                  "\r        4/7         0G     0.5781     0.4148      0.648     0.8544         13        128:  80%|████████  | 20/25 [00:11<00:02,  1.76it/s]"
                ]
              },
              {
                "name": "stderr",
                "output_type": "stream",
                "text": [
                  "\r        4/7         0G      0.578     0.4141     0.6489     0.8537         18        128:  80%|████████  | 20/25 [00:12<00:02,  1.76it/s]"
                ]
              },
              {
                "name": "stderr",
                "output_type": "stream",
                "text": [
                  "\r        4/7         0G      0.578     0.4141     0.6489     0.8537         18        128:  84%|████████▍ | 21/25 [00:12<00:02,  1.66it/s]"
                ]
              },
              {
                "name": "stderr",
                "output_type": "stream",
                "text": [
                  "\r        4/7         0G     0.5779     0.4143     0.6477     0.8554         12        128:  84%|████████▍ | 21/25 [00:12<00:02,  1.66it/s]"
                ]
              },
              {
                "name": "stderr",
                "output_type": "stream",
                "text": [
                  "\r        4/7         0G     0.5779     0.4143     0.6477     0.8554         12        128:  88%|████████▊ | 22/25 [00:12<00:01,  1.57it/s]"
                ]
              },
              {
                "name": "stderr",
                "output_type": "stream",
                "text": [
                  "\r        4/7         0G     0.5852      0.423     0.6494     0.8572         21        128:  88%|████████▊ | 22/25 [00:13<00:01,  1.57it/s]"
                ]
              },
              {
                "name": "stderr",
                "output_type": "stream",
                "text": [
                  "\r        4/7         0G     0.5852      0.423     0.6494     0.8572         21        128:  92%|█████████▏| 23/25 [00:13<00:01,  1.52it/s]"
                ]
              },
              {
                "name": "stderr",
                "output_type": "stream",
                "text": [
                  "\r        4/7         0G      0.587     0.4159     0.6531      0.861         19        128:  92%|█████████▏| 23/25 [00:14<00:01,  1.52it/s]"
                ]
              },
              {
                "name": "stderr",
                "output_type": "stream",
                "text": [
                  "\r        4/7         0G      0.587     0.4159     0.6531      0.861         19        128:  96%|█████████▌| 24/25 [00:14<00:00,  1.42it/s]"
                ]
              },
              {
                "name": "stderr",
                "output_type": "stream",
                "text": [
                  "\r        4/7         0G     0.5914     0.4179     0.6596     0.8648          9        128:  96%|█████████▌| 24/25 [00:14<00:00,  1.42it/s]"
                ]
              },
              {
                "name": "stderr",
                "output_type": "stream",
                "text": [
                  "\r        4/7         0G     0.5914     0.4179     0.6596     0.8648          9        128: 100%|██████████| 25/25 [00:14<00:00,  1.54it/s]"
                ]
              },
              {
                "name": "stderr",
                "output_type": "stream",
                "text": [
                  "\r        4/7         0G     0.5914     0.4179     0.6596     0.8648          9        128: 100%|██████████| 25/25 [00:14<00:00,  1.68it/s]"
                ]
              },
              {
                "name": "stderr",
                "output_type": "stream",
                "text": [
                  "\n"
                ]
              },
              {
                "name": "stderr",
                "output_type": "stream",
                "text": [
                  "\r                 Class     Images  Instances      Box(P          R      mAP50  mAP50-95)     Mask(P          R      mAP50  mAP50-95):   0%|          | 0/5 [00:00<?, ?it/s]"
                ]
              },
              {
                "name": "stderr",
                "output_type": "stream",
                "text": [
                  "\r                 Class     Images  Instances      Box(P          R      mAP50  mAP50-95)     Mask(P          R      mAP50  mAP50-95):  20%|██        | 1/5 [00:00<00:02,  1.83it/s]"
                ]
              },
              {
                "name": "stderr",
                "output_type": "stream",
                "text": [
                  "\r                 Class     Images  Instances      Box(P          R      mAP50  mAP50-95)     Mask(P          R      mAP50  mAP50-95):  40%|████      | 2/5 [00:01<00:01,  1.65it/s]"
                ]
              },
              {
                "name": "stderr",
                "output_type": "stream",
                "text": [
                  "\r                 Class     Images  Instances      Box(P          R      mAP50  mAP50-95)     Mask(P          R      mAP50  mAP50-95):  60%|██████    | 3/5 [00:01<00:01,  1.56it/s]"
                ]
              },
              {
                "name": "stderr",
                "output_type": "stream",
                "text": [
                  "\r                 Class     Images  Instances      Box(P          R      mAP50  mAP50-95)     Mask(P          R      mAP50  mAP50-95):  80%|████████  | 4/5 [00:02<00:00,  1.51it/s]"
                ]
              },
              {
                "name": "stderr",
                "output_type": "stream",
                "text": [
                  "\r                 Class     Images  Instances      Box(P          R      mAP50  mAP50-95)     Mask(P          R      mAP50  mAP50-95): 100%|██████████| 5/5 [00:03<00:00,  1.46it/s]"
                ]
              },
              {
                "name": "stderr",
                "output_type": "stream",
                "text": [
                  "\r                 Class     Images  Instances      Box(P          R      mAP50  mAP50-95)     Mask(P          R      mAP50  mAP50-95): 100%|██████████| 5/5 [00:03<00:00,  1.52it/s]"
                ]
              },
              {
                "name": "stdout",
                "output_type": "stream",
                "text": [
                  "                   all         80         80      0.991      0.975      0.995      0.864      0.991      0.975      0.995      0.742\n"
                ]
              },
              {
                "name": "stderr",
                "output_type": "stream",
                "text": [
                  "\n"
                ]
              },
              {
                "name": "stdout",
                "output_type": "stream",
                "text": [
                  "\n",
                  "      Epoch    GPU_mem   box_loss   seg_loss   cls_loss   dfl_loss  Instances       Size\n"
                ]
              },
              {
                "name": "stderr",
                "output_type": "stream",
                "text": [
                  "\r  0%|          | 0/25 [00:00<?, ?it/s]"
                ]
              },
              {
                "name": "stderr",
                "output_type": "stream",
                "text": [
                  "\r        5/7         0G     0.6929     0.4037     0.6201     0.9085         18        128:   0%|          | 0/25 [00:00<?, ?it/s]"
                ]
              },
              {
                "name": "stderr",
                "output_type": "stream",
                "text": [
                  "\r        5/7         0G     0.6929     0.4037     0.6201     0.9085         18        128:   4%|▍         | 1/25 [00:00<00:15,  1.59it/s]"
                ]
              },
              {
                "name": "stderr",
                "output_type": "stream",
                "text": [
                  "\r        5/7         0G      0.617     0.3651     0.6183     0.8815         13        128:   4%|▍         | 1/25 [00:01<00:15,  1.59it/s]"
                ]
              },
              {
                "name": "stderr",
                "output_type": "stream",
                "text": [
                  "\r        5/7         0G      0.617     0.3651     0.6183     0.8815         13        128:   8%|▊         | 2/25 [00:01<00:12,  1.88it/s]"
                ]
              },
              {
                "name": "stderr",
                "output_type": "stream",
                "text": [
                  "\r        5/7         0G     0.6225     0.3409     0.6366     0.9116         13        128:   8%|▊         | 2/25 [00:01<00:12,  1.88it/s]"
                ]
              },
              {
                "name": "stderr",
                "output_type": "stream",
                "text": [
                  "\r        5/7         0G     0.6225     0.3409     0.6366     0.9116         13        128:  12%|█▏        | 3/25 [00:01<00:10,  2.02it/s]"
                ]
              },
              {
                "name": "stderr",
                "output_type": "stream",
                "text": [
                  "\r        5/7         0G     0.6289     0.3798     0.6635     0.9127         13        128:  12%|█▏        | 3/25 [00:01<00:10,  2.02it/s]"
                ]
              },
              {
                "name": "stderr",
                "output_type": "stream",
                "text": [
                  "\r        5/7         0G     0.6289     0.3798     0.6635     0.9127         13        128:  16%|█▌        | 4/25 [00:01<00:10,  2.09it/s]"
                ]
              },
              {
                "name": "stderr",
                "output_type": "stream",
                "text": [
                  "\r        5/7         0G     0.6086     0.3801     0.6555     0.8976         19        128:  16%|█▌        | 4/25 [00:02<00:10,  2.09it/s]"
                ]
              },
              {
                "name": "stderr",
                "output_type": "stream",
                "text": [
                  "\r        5/7         0G     0.6086     0.3801     0.6555     0.8976         19        128:  20%|██        | 5/25 [00:02<00:09,  2.13it/s]"
                ]
              },
              {
                "name": "stderr",
                "output_type": "stream",
                "text": [
                  "\r        5/7         0G     0.5971     0.3715     0.6461     0.8912         13        128:  20%|██        | 5/25 [00:02<00:09,  2.13it/s]"
                ]
              },
              {
                "name": "stderr",
                "output_type": "stream",
                "text": [
                  "\r        5/7         0G     0.5971     0.3715     0.6461     0.8912         13        128:  24%|██▍       | 6/25 [00:02<00:08,  2.16it/s]"
                ]
              },
              {
                "name": "stderr",
                "output_type": "stream",
                "text": [
                  "\r        5/7         0G     0.6144     0.3555     0.6575     0.9047         10        128:  24%|██▍       | 6/25 [00:03<00:08,  2.16it/s]"
                ]
              },
              {
                "name": "stderr",
                "output_type": "stream",
                "text": [
                  "\r        5/7         0G     0.6144     0.3555     0.6575     0.9047         10        128:  28%|██▊       | 7/25 [00:03<00:08,  2.08it/s]"
                ]
              },
              {
                "name": "stderr",
                "output_type": "stream",
                "text": [
                  "\r        5/7         0G     0.6147     0.3677     0.6505     0.9023         12        128:  28%|██▊       | 7/25 [00:03<00:08,  2.08it/s]"
                ]
              },
              {
                "name": "stderr",
                "output_type": "stream",
                "text": [
                  "\r        5/7         0G     0.6147     0.3677     0.6505     0.9023         12        128:  32%|███▏      | 8/25 [00:03<00:07,  2.13it/s]"
                ]
              },
              {
                "name": "stderr",
                "output_type": "stream",
                "text": [
                  "\r        5/7         0G     0.6034     0.3819     0.6497     0.8957         17        128:  32%|███▏      | 8/25 [00:04<00:07,  2.13it/s]"
                ]
              },
              {
                "name": "stderr",
                "output_type": "stream",
                "text": [
                  "\r        5/7         0G     0.6034     0.3819     0.6497     0.8957         17        128:  36%|███▌      | 9/25 [00:04<00:07,  2.14it/s]"
                ]
              },
              {
                "name": "stderr",
                "output_type": "stream",
                "text": [
                  "\r        5/7         0G     0.5979     0.3645     0.6493     0.8995         14        128:  36%|███▌      | 9/25 [00:04<00:07,  2.14it/s]"
                ]
              },
              {
                "name": "stderr",
                "output_type": "stream",
                "text": [
                  "\r        5/7         0G     0.5979     0.3645     0.6493     0.8995         14        128:  40%|████      | 10/25 [00:04<00:06,  2.16it/s]"
                ]
              },
              {
                "name": "stderr",
                "output_type": "stream",
                "text": [
                  "\r        5/7         0G      0.592     0.3548     0.6379     0.8946         14        128:  40%|████      | 10/25 [00:05<00:06,  2.16it/s]"
                ]
              },
              {
                "name": "stderr",
                "output_type": "stream",
                "text": [
                  "\r        5/7         0G      0.592     0.3548     0.6379     0.8946         14        128:  44%|████▍     | 11/25 [00:05<00:06,  2.17it/s]"
                ]
              },
              {
                "name": "stderr",
                "output_type": "stream",
                "text": [
                  "\r        5/7         0G     0.5886     0.3619     0.6361     0.8922         12        128:  44%|████▍     | 11/25 [00:05<00:06,  2.17it/s]"
                ]
              },
              {
                "name": "stderr",
                "output_type": "stream",
                "text": [
                  "\r        5/7         0G     0.5886     0.3619     0.6361     0.8922         12        128:  48%|████▊     | 12/25 [00:05<00:05,  2.19it/s]"
                ]
              },
              {
                "name": "stderr",
                "output_type": "stream",
                "text": [
                  "\r        5/7         0G     0.5943     0.3678     0.6449     0.8916          8        128:  48%|████▊     | 12/25 [00:06<00:05,  2.19it/s]"
                ]
              },
              {
                "name": "stderr",
                "output_type": "stream",
                "text": [
                  "\r        5/7         0G     0.5943     0.3678     0.6449     0.8916          8        128:  52%|█████▏    | 13/25 [00:06<00:05,  2.19it/s]"
                ]
              },
              {
                "name": "stderr",
                "output_type": "stream",
                "text": [
                  "\r        5/7         0G     0.5901     0.3689     0.6357     0.8842         11        128:  52%|█████▏    | 13/25 [00:06<00:05,  2.19it/s]"
                ]
              },
              {
                "name": "stderr",
                "output_type": "stream",
                "text": [
                  "\r        5/7         0G     0.5901     0.3689     0.6357     0.8842         11        128:  56%|█████▌    | 14/25 [00:06<00:05,  2.20it/s]"
                ]
              },
              {
                "name": "stderr",
                "output_type": "stream",
                "text": [
                  "\r        5/7         0G     0.5908     0.3626      0.627     0.8857         14        128:  56%|█████▌    | 14/25 [00:07<00:05,  2.20it/s]"
                ]
              },
              {
                "name": "stderr",
                "output_type": "stream",
                "text": [
                  "\r        5/7         0G     0.5908     0.3626      0.627     0.8857         14        128:  60%|██████    | 15/25 [00:07<00:04,  2.11it/s]"
                ]
              },
              {
                "name": "stderr",
                "output_type": "stream",
                "text": [
                  "\r        5/7         0G     0.5855     0.3643     0.6228     0.8852         13        128:  60%|██████    | 15/25 [00:07<00:04,  2.11it/s]"
                ]
              },
              {
                "name": "stderr",
                "output_type": "stream",
                "text": [
                  "\r        5/7         0G     0.5855     0.3643     0.6228     0.8852         13        128:  64%|██████▍   | 16/25 [00:07<00:04,  2.15it/s]"
                ]
              },
              {
                "name": "stderr",
                "output_type": "stream",
                "text": [
                  "\r        5/7         0G     0.5832     0.3591     0.6225     0.8829         10        128:  64%|██████▍   | 16/25 [00:07<00:04,  2.15it/s]"
                ]
              },
              {
                "name": "stderr",
                "output_type": "stream",
                "text": [
                  "\r        5/7         0G     0.5832     0.3591     0.6225     0.8829         10        128:  68%|██████▊   | 17/25 [00:07<00:03,  2.20it/s]"
                ]
              },
              {
                "name": "stderr",
                "output_type": "stream",
                "text": [
                  "\r        5/7         0G     0.5809     0.3648     0.6254     0.8792         25        128:  68%|██████▊   | 17/25 [00:08<00:03,  2.20it/s]"
                ]
              },
              {
                "name": "stderr",
                "output_type": "stream",
                "text": [
                  "\r        5/7         0G     0.5809     0.3648     0.6254     0.8792         25        128:  72%|███████▏  | 18/25 [00:08<00:03,  2.19it/s]"
                ]
              },
              {
                "name": "stderr",
                "output_type": "stream",
                "text": [
                  "\r        5/7         0G     0.5865     0.3705     0.6295     0.8776         13        128:  72%|███████▏  | 18/25 [00:08<00:03,  2.19it/s]"
                ]
              },
              {
                "name": "stderr",
                "output_type": "stream",
                "text": [
                  "\r        5/7         0G     0.5865     0.3705     0.6295     0.8776         13        128:  76%|███████▌  | 19/25 [00:08<00:02,  2.23it/s]"
                ]
              },
              {
                "name": "stderr",
                "output_type": "stream",
                "text": [
                  "\r        5/7         0G     0.5896     0.3672     0.6284     0.8767         15        128:  76%|███████▌  | 19/25 [00:09<00:02,  2.23it/s]"
                ]
              },
              {
                "name": "stderr",
                "output_type": "stream",
                "text": [
                  "\r        5/7         0G     0.5896     0.3672     0.6284     0.8767         15        128:  80%|████████  | 20/25 [00:09<00:02,  2.22it/s]"
                ]
              },
              {
                "name": "stderr",
                "output_type": "stream",
                "text": [
                  "\r        5/7         0G     0.5884     0.3717      0.627     0.8751         18        128:  80%|████████  | 20/25 [00:09<00:02,  2.22it/s]"
                ]
              },
              {
                "name": "stderr",
                "output_type": "stream",
                "text": [
                  "\r        5/7         0G     0.5884     0.3717      0.627     0.8751         18        128:  84%|████████▍ | 21/25 [00:09<00:01,  2.22it/s]"
                ]
              },
              {
                "name": "stderr",
                "output_type": "stream",
                "text": [
                  "\r        5/7         0G     0.5889     0.3742     0.6244     0.8726         15        128:  84%|████████▍ | 21/25 [00:10<00:01,  2.22it/s]"
                ]
              },
              {
                "name": "stderr",
                "output_type": "stream",
                "text": [
                  "\r        5/7         0G     0.5889     0.3742     0.6244     0.8726         15        128:  88%|████████▊ | 22/25 [00:10<00:01,  2.22it/s]"
                ]
              },
              {
                "name": "stderr",
                "output_type": "stream",
                "text": [
                  "\r        5/7         0G     0.5862     0.3772     0.6241     0.8724         14        128:  88%|████████▊ | 22/25 [00:10<00:01,  2.22it/s]"
                ]
              },
              {
                "name": "stderr",
                "output_type": "stream",
                "text": [
                  "\r        5/7         0G     0.5862     0.3772     0.6241     0.8724         14        128:  92%|█████████▏| 23/25 [00:10<00:01,  1.96it/s]"
                ]
              },
              {
                "name": "stderr",
                "output_type": "stream",
                "text": [
                  "\r        5/7         0G     0.5853     0.3761     0.6227     0.8693         18        128:  92%|█████████▏| 23/25 [00:11<00:01,  1.96it/s]"
                ]
              },
              {
                "name": "stderr",
                "output_type": "stream",
                "text": [
                  "\r        5/7         0G     0.5853     0.3761     0.6227     0.8693         18        128:  96%|█████████▌| 24/25 [00:11<00:00,  1.78it/s]"
                ]
              },
              {
                "name": "stderr",
                "output_type": "stream",
                "text": [
                  "\r        5/7         0G     0.5834     0.3707     0.6241     0.8694         10        128:  96%|█████████▌| 24/25 [00:12<00:00,  1.78it/s]"
                ]
              },
              {
                "name": "stderr",
                "output_type": "stream",
                "text": [
                  "\r        5/7         0G     0.5834     0.3707     0.6241     0.8694         10        128: 100%|██████████| 25/25 [00:12<00:00,  1.90it/s]"
                ]
              },
              {
                "name": "stderr",
                "output_type": "stream",
                "text": [
                  "\r        5/7         0G     0.5834     0.3707     0.6241     0.8694         10        128: 100%|██████████| 25/25 [00:12<00:00,  2.08it/s]"
                ]
              },
              {
                "name": "stderr",
                "output_type": "stream",
                "text": [
                  "\n"
                ]
              },
              {
                "name": "stderr",
                "output_type": "stream",
                "text": [
                  "\r                 Class     Images  Instances      Box(P          R      mAP50  mAP50-95)     Mask(P          R      mAP50  mAP50-95):   0%|          | 0/5 [00:00<?, ?it/s]"
                ]
              },
              {
                "name": "stderr",
                "output_type": "stream",
                "text": [
                  "\r                 Class     Images  Instances      Box(P          R      mAP50  mAP50-95)     Mask(P          R      mAP50  mAP50-95):  20%|██        | 1/5 [00:00<00:02,  1.39it/s]"
                ]
              },
              {
                "name": "stderr",
                "output_type": "stream",
                "text": [
                  "\r                 Class     Images  Instances      Box(P          R      mAP50  mAP50-95)     Mask(P          R      mAP50  mAP50-95):  40%|████      | 2/5 [00:01<00:02,  1.37it/s]"
                ]
              },
              {
                "name": "stderr",
                "output_type": "stream",
                "text": [
                  "\r                 Class     Images  Instances      Box(P          R      mAP50  mAP50-95)     Mask(P          R      mAP50  mAP50-95):  60%|██████    | 3/5 [00:02<00:01,  1.36it/s]"
                ]
              },
              {
                "name": "stderr",
                "output_type": "stream",
                "text": [
                  "\r                 Class     Images  Instances      Box(P          R      mAP50  mAP50-95)     Mask(P          R      mAP50  mAP50-95):  80%|████████  | 4/5 [00:02<00:00,  1.46it/s]"
                ]
              },
              {
                "name": "stderr",
                "output_type": "stream",
                "text": [
                  "\r                 Class     Images  Instances      Box(P          R      mAP50  mAP50-95)     Mask(P          R      mAP50  mAP50-95): 100%|██████████| 5/5 [00:03<00:00,  1.65it/s]"
                ]
              },
              {
                "name": "stderr",
                "output_type": "stream",
                "text": [
                  "\r                 Class     Images  Instances      Box(P          R      mAP50  mAP50-95)     Mask(P          R      mAP50  mAP50-95): 100%|██████████| 5/5 [00:03<00:00,  1.53it/s]"
                ]
              },
              {
                "name": "stdout",
                "output_type": "stream",
                "text": [
                  "                   all         80         80      0.998          1      0.995      0.892      0.998          1      0.995      0.772\n"
                ]
              },
              {
                "name": "stderr",
                "output_type": "stream",
                "text": [
                  "\n"
                ]
              },
              {
                "name": "stdout",
                "output_type": "stream",
                "text": [
                  "\n",
                  "      Epoch    GPU_mem   box_loss   seg_loss   cls_loss   dfl_loss  Instances       Size\n"
                ]
              },
              {
                "name": "stderr",
                "output_type": "stream",
                "text": [
                  "\r  0%|          | 0/25 [00:00<?, ?it/s]"
                ]
              },
              {
                "name": "stderr",
                "output_type": "stream",
                "text": [
                  "\r        6/7         0G     0.5783      0.352     0.7041     0.8207         17        128:   0%|          | 0/25 [00:00<?, ?it/s]"
                ]
              },
              {
                "name": "stderr",
                "output_type": "stream",
                "text": [
                  "\r        6/7         0G     0.5783      0.352     0.7041     0.8207         17        128:   4%|▍         | 1/25 [00:00<00:11,  2.16it/s]"
                ]
              },
              {
                "name": "stderr",
                "output_type": "stream",
                "text": [
                  "\r        6/7         0G     0.5624     0.5032     0.6484     0.8352         11        128:   4%|▍         | 1/25 [00:00<00:11,  2.16it/s]"
                ]
              },
              {
                "name": "stderr",
                "output_type": "stream",
                "text": [
                  "\r        6/7         0G     0.5624     0.5032     0.6484     0.8352         11        128:   8%|▊         | 2/25 [00:00<00:10,  2.22it/s]"
                ]
              },
              {
                "name": "stderr",
                "output_type": "stream",
                "text": [
                  "\r        6/7         0G     0.5809     0.4821     0.6405     0.8586         10        128:   8%|▊         | 2/25 [00:01<00:10,  2.22it/s]"
                ]
              },
              {
                "name": "stderr",
                "output_type": "stream",
                "text": [
                  "\r        6/7         0G     0.5809     0.4821     0.6405     0.8586         10        128:  12%|█▏        | 3/25 [00:01<00:09,  2.21it/s]"
                ]
              },
              {
                "name": "stderr",
                "output_type": "stream",
                "text": [
                  "\r        6/7         0G     0.5901     0.4892     0.6377     0.8624         12        128:  12%|█▏        | 3/25 [00:01<00:09,  2.21it/s]"
                ]
              },
              {
                "name": "stderr",
                "output_type": "stream",
                "text": [
                  "\r        6/7         0G     0.5901     0.4892     0.6377     0.8624         12        128:  16%|█▌        | 4/25 [00:01<00:09,  2.25it/s]"
                ]
              },
              {
                "name": "stderr",
                "output_type": "stream",
                "text": [
                  "\r        6/7         0G     0.5866     0.4485     0.6286     0.8629         19        128:  16%|█▌        | 4/25 [00:02<00:09,  2.25it/s]"
                ]
              },
              {
                "name": "stderr",
                "output_type": "stream",
                "text": [
                  "\r        6/7         0G     0.5866     0.4485     0.6286     0.8629         19        128:  20%|██        | 5/25 [00:02<00:09,  2.22it/s]"
                ]
              },
              {
                "name": "stderr",
                "output_type": "stream",
                "text": [
                  "\r        6/7         0G     0.5893     0.4193     0.6328     0.8636         15        128:  20%|██        | 5/25 [00:02<00:09,  2.22it/s]"
                ]
              },
              {
                "name": "stderr",
                "output_type": "stream",
                "text": [
                  "\r        6/7         0G     0.5893     0.4193     0.6328     0.8636         15        128:  24%|██▍       | 6/25 [00:02<00:09,  2.10it/s]"
                ]
              },
              {
                "name": "stderr",
                "output_type": "stream",
                "text": [
                  "\r        6/7         0G      0.585     0.4066     0.6388      0.875          9        128:  24%|██▍       | 6/25 [00:03<00:09,  2.10it/s]"
                ]
              },
              {
                "name": "stderr",
                "output_type": "stream",
                "text": [
                  "\r        6/7         0G      0.585     0.4066     0.6388      0.875          9        128:  28%|██▊       | 7/25 [00:03<00:08,  2.17it/s]"
                ]
              },
              {
                "name": "stderr",
                "output_type": "stream",
                "text": [
                  "\r        6/7         0G     0.5743     0.3805     0.6296     0.8739          9        128:  28%|██▊       | 7/25 [00:03<00:08,  2.17it/s]"
                ]
              },
              {
                "name": "stderr",
                "output_type": "stream",
                "text": [
                  "\r        6/7         0G     0.5743     0.3805     0.6296     0.8739          9        128:  32%|███▏      | 8/25 [00:03<00:07,  2.17it/s]"
                ]
              },
              {
                "name": "stderr",
                "output_type": "stream",
                "text": [
                  "\r        6/7         0G     0.5677      0.381     0.6173     0.8723         17        128:  32%|███▏      | 8/25 [00:04<00:07,  2.17it/s]"
                ]
              },
              {
                "name": "stderr",
                "output_type": "stream",
                "text": [
                  "\r        6/7         0G     0.5677      0.381     0.6173     0.8723         17        128:  36%|███▌      | 9/25 [00:04<00:07,  2.16it/s]"
                ]
              },
              {
                "name": "stderr",
                "output_type": "stream",
                "text": [
                  "\r        6/7         0G      0.557     0.3846     0.6104     0.8689         15        128:  36%|███▌      | 9/25 [00:04<00:07,  2.16it/s]"
                ]
              },
              {
                "name": "stderr",
                "output_type": "stream",
                "text": [
                  "\r        6/7         0G      0.557     0.3846     0.6104     0.8689         15        128:  40%|████      | 10/25 [00:04<00:06,  2.16it/s]"
                ]
              },
              {
                "name": "stderr",
                "output_type": "stream",
                "text": [
                  "\r        6/7         0G     0.5516     0.3832     0.6148     0.8698         18        128:  40%|████      | 10/25 [00:05<00:06,  2.16it/s]"
                ]
              },
              {
                "name": "stderr",
                "output_type": "stream",
                "text": [
                  "\r        6/7         0G     0.5516     0.3832     0.6148     0.8698         18        128:  44%|████▍     | 11/25 [00:05<00:06,  2.19it/s]"
                ]
              },
              {
                "name": "stderr",
                "output_type": "stream",
                "text": [
                  "\r        6/7         0G     0.5433     0.3682     0.6115     0.8691         13        128:  44%|████▍     | 11/25 [00:05<00:06,  2.19it/s]"
                ]
              },
              {
                "name": "stderr",
                "output_type": "stream",
                "text": [
                  "\r        6/7         0G     0.5433     0.3682     0.6115     0.8691         13        128:  48%|████▊     | 12/25 [00:05<00:06,  2.16it/s]"
                ]
              },
              {
                "name": "stderr",
                "output_type": "stream",
                "text": [
                  "\r        6/7         0G     0.5459     0.3631     0.6091     0.8707         16        128:  48%|████▊     | 12/25 [00:05<00:06,  2.16it/s]"
                ]
              },
              {
                "name": "stderr",
                "output_type": "stream",
                "text": [
                  "\r        6/7         0G     0.5459     0.3631     0.6091     0.8707         16        128:  52%|█████▏    | 13/25 [00:05<00:05,  2.20it/s]"
                ]
              },
              {
                "name": "stderr",
                "output_type": "stream",
                "text": [
                  "\r        6/7         0G     0.5413     0.3647     0.6148     0.8647         10        128:  52%|█████▏    | 13/25 [00:06<00:05,  2.20it/s]"
                ]
              },
              {
                "name": "stderr",
                "output_type": "stream",
                "text": [
                  "\r        6/7         0G     0.5413     0.3647     0.6148     0.8647         10        128:  56%|█████▌    | 14/25 [00:06<00:05,  2.11it/s]"
                ]
              },
              {
                "name": "stderr",
                "output_type": "stream",
                "text": [
                  "\r        6/7         0G     0.5452     0.3622     0.6106     0.8603         16        128:  56%|█████▌    | 14/25 [00:06<00:05,  2.11it/s]"
                ]
              },
              {
                "name": "stderr",
                "output_type": "stream",
                "text": [
                  "\r        6/7         0G     0.5452     0.3622     0.6106     0.8603         16        128:  60%|██████    | 15/25 [00:06<00:04,  2.13it/s]"
                ]
              },
              {
                "name": "stderr",
                "output_type": "stream",
                "text": [
                  "\r        6/7         0G     0.5472     0.3718     0.6064     0.8638         17        128:  60%|██████    | 15/25 [00:07<00:04,  2.13it/s]"
                ]
              },
              {
                "name": "stderr",
                "output_type": "stream",
                "text": [
                  "\r        6/7         0G     0.5472     0.3718     0.6064     0.8638         17        128:  64%|██████▍   | 16/25 [00:07<00:04,  2.14it/s]"
                ]
              },
              {
                "name": "stderr",
                "output_type": "stream",
                "text": [
                  "\r        6/7         0G     0.5481     0.3601     0.6039     0.8636         11        128:  64%|██████▍   | 16/25 [00:07<00:04,  2.14it/s]"
                ]
              },
              {
                "name": "stderr",
                "output_type": "stream",
                "text": [
                  "\r        6/7         0G     0.5481     0.3601     0.6039     0.8636         11        128:  68%|██████▊   | 17/25 [00:07<00:03,  2.16it/s]"
                ]
              },
              {
                "name": "stderr",
                "output_type": "stream",
                "text": [
                  "\r        6/7         0G     0.5457     0.3569     0.5995     0.8632         13        128:  68%|██████▊   | 17/25 [00:08<00:03,  2.16it/s]"
                ]
              },
              {
                "name": "stderr",
                "output_type": "stream",
                "text": [
                  "\r        6/7         0G     0.5457     0.3569     0.5995     0.8632         13        128:  72%|███████▏  | 18/25 [00:08<00:03,  2.18it/s]"
                ]
              },
              {
                "name": "stderr",
                "output_type": "stream",
                "text": [
                  "\r        6/7         0G      0.543     0.3549     0.6001     0.8615         20        128:  72%|███████▏  | 18/25 [00:08<00:03,  2.18it/s]"
                ]
              },
              {
                "name": "stderr",
                "output_type": "stream",
                "text": [
                  "\r        6/7         0G      0.543     0.3549     0.6001     0.8615         20        128:  76%|███████▌  | 19/25 [00:08<00:02,  2.02it/s]"
                ]
              },
              {
                "name": "stderr",
                "output_type": "stream",
                "text": [
                  "\r        6/7         0G      0.545     0.3598      0.602     0.8629         12        128:  76%|███████▌  | 19/25 [00:09<00:02,  2.02it/s]"
                ]
              },
              {
                "name": "stderr",
                "output_type": "stream",
                "text": [
                  "\r        6/7         0G      0.545     0.3598      0.602     0.8629         12        128:  80%|████████  | 20/25 [00:09<00:02,  1.83it/s]"
                ]
              },
              {
                "name": "stderr",
                "output_type": "stream",
                "text": [
                  "\r        6/7         0G     0.5507     0.4474     0.6005     0.8623         13        128:  80%|████████  | 20/25 [00:10<00:02,  1.83it/s]"
                ]
              },
              {
                "name": "stderr",
                "output_type": "stream",
                "text": [
                  "\r        6/7         0G     0.5507     0.4474     0.6005     0.8623         13        128:  84%|████████▍ | 21/25 [00:10<00:02,  1.72it/s]"
                ]
              },
              {
                "name": "stderr",
                "output_type": "stream",
                "text": [
                  "\r        6/7         0G      0.547     0.4426     0.5949     0.8614         10        128:  84%|████████▍ | 21/25 [00:11<00:02,  1.72it/s]"
                ]
              },
              {
                "name": "stderr",
                "output_type": "stream",
                "text": [
                  "\r        6/7         0G      0.547     0.4426     0.5949     0.8614         10        128:  88%|████████▊ | 22/25 [00:11<00:01,  1.55it/s]"
                ]
              },
              {
                "name": "stderr",
                "output_type": "stream",
                "text": [
                  "\r        6/7         0G     0.5463     0.4532     0.5905     0.8625         15        128:  88%|████████▊ | 22/25 [00:11<00:01,  1.55it/s]"
                ]
              },
              {
                "name": "stderr",
                "output_type": "stream",
                "text": [
                  "\r        6/7         0G     0.5463     0.4532     0.5905     0.8625         15        128:  92%|█████████▏| 23/25 [00:11<00:01,  1.49it/s]"
                ]
              },
              {
                "name": "stderr",
                "output_type": "stream",
                "text": [
                  "\r        6/7         0G      0.544       0.44     0.5887     0.8603         13        128:  92%|█████████▏| 23/25 [00:12<00:01,  1.49it/s]"
                ]
              },
              {
                "name": "stderr",
                "output_type": "stream",
                "text": [
                  "\r        6/7         0G      0.544       0.44     0.5887     0.8603         13        128:  96%|█████████▌| 24/25 [00:12<00:00,  1.44it/s]"
                ]
              },
              {
                "name": "stderr",
                "output_type": "stream",
                "text": [
                  "\r        6/7         0G       0.54     0.4326     0.5895     0.8576         10        128:  96%|█████████▌| 24/25 [00:12<00:00,  1.44it/s]"
                ]
              },
              {
                "name": "stderr",
                "output_type": "stream",
                "text": [
                  "\r        6/7         0G       0.54     0.4326     0.5895     0.8576         10        128: 100%|██████████| 25/25 [00:12<00:00,  1.61it/s]"
                ]
              },
              {
                "name": "stderr",
                "output_type": "stream",
                "text": [
                  "\r        6/7         0G       0.54     0.4326     0.5895     0.8576         10        128: 100%|██████████| 25/25 [00:12<00:00,  1.93it/s]"
                ]
              },
              {
                "name": "stderr",
                "output_type": "stream",
                "text": [
                  "\n"
                ]
              },
              {
                "name": "stderr",
                "output_type": "stream",
                "text": [
                  "\r                 Class     Images  Instances      Box(P          R      mAP50  mAP50-95)     Mask(P          R      mAP50  mAP50-95):   0%|          | 0/5 [00:00<?, ?it/s]"
                ]
              },
              {
                "name": "stderr",
                "output_type": "stream",
                "text": [
                  "\r                 Class     Images  Instances      Box(P          R      mAP50  mAP50-95)     Mask(P          R      mAP50  mAP50-95):  20%|██        | 1/5 [00:00<00:01,  2.08it/s]"
                ]
              },
              {
                "name": "stderr",
                "output_type": "stream",
                "text": [
                  "\r                 Class     Images  Instances      Box(P          R      mAP50  mAP50-95)     Mask(P          R      mAP50  mAP50-95):  40%|████      | 2/5 [00:00<00:01,  2.07it/s]"
                ]
              },
              {
                "name": "stderr",
                "output_type": "stream",
                "text": [
                  "\r                 Class     Images  Instances      Box(P          R      mAP50  mAP50-95)     Mask(P          R      mAP50  mAP50-95):  60%|██████    | 3/5 [00:01<00:00,  2.11it/s]"
                ]
              },
              {
                "name": "stderr",
                "output_type": "stream",
                "text": [
                  "\r                 Class     Images  Instances      Box(P          R      mAP50  mAP50-95)     Mask(P          R      mAP50  mAP50-95):  80%|████████  | 4/5 [00:01<00:00,  2.12it/s]"
                ]
              },
              {
                "name": "stderr",
                "output_type": "stream",
                "text": [
                  "\r                 Class     Images  Instances      Box(P          R      mAP50  mAP50-95)     Mask(P          R      mAP50  mAP50-95): 100%|██████████| 5/5 [00:02<00:00,  2.10it/s]"
                ]
              },
              {
                "name": "stderr",
                "output_type": "stream",
                "text": [
                  "\r                 Class     Images  Instances      Box(P          R      mAP50  mAP50-95)     Mask(P          R      mAP50  mAP50-95): 100%|██████████| 5/5 [00:02<00:00,  2.10it/s]"
                ]
              },
              {
                "name": "stdout",
                "output_type": "stream",
                "text": [
                  "                   all         80         80      0.999          1      0.995      0.911      0.999          1      0.995      0.786\n"
                ]
              },
              {
                "name": "stderr",
                "output_type": "stream",
                "text": [
                  "\n"
                ]
              },
              {
                "name": "stdout",
                "output_type": "stream",
                "text": [
                  "\n",
                  "      Epoch    GPU_mem   box_loss   seg_loss   cls_loss   dfl_loss  Instances       Size\n"
                ]
              },
              {
                "name": "stderr",
                "output_type": "stream",
                "text": [
                  "\r  0%|          | 0/25 [00:00<?, ?it/s]"
                ]
              },
              {
                "name": "stderr",
                "output_type": "stream",
                "text": [
                  "\r        7/7         0G     0.4521     0.1946     0.5847     0.8732         15        128:   0%|          | 0/25 [00:00<?, ?it/s]"
                ]
              },
              {
                "name": "stderr",
                "output_type": "stream",
                "text": [
                  "\r        7/7         0G     0.4521     0.1946     0.5847     0.8732         15        128:   4%|▍         | 1/25 [00:00<00:11,  2.11it/s]"
                ]
              },
              {
                "name": "stderr",
                "output_type": "stream",
                "text": [
                  "\r        7/7         0G     0.4688     0.2565     0.5753     0.8725         11        128:   4%|▍         | 1/25 [00:00<00:11,  2.11it/s]"
                ]
              },
              {
                "name": "stderr",
                "output_type": "stream",
                "text": [
                  "\r        7/7         0G     0.4688     0.2565     0.5753     0.8725         11        128:   8%|▊         | 2/25 [00:00<00:10,  2.14it/s]"
                ]
              },
              {
                "name": "stderr",
                "output_type": "stream",
                "text": [
                  "\r        7/7         0G     0.4781     0.2603     0.5823     0.8512         18        128:   8%|▊         | 2/25 [00:01<00:10,  2.14it/s]"
                ]
              },
              {
                "name": "stderr",
                "output_type": "stream",
                "text": [
                  "\r        7/7         0G     0.4781     0.2603     0.5823     0.8512         18        128:  12%|█▏        | 3/25 [00:01<00:10,  2.14it/s]"
                ]
              },
              {
                "name": "stderr",
                "output_type": "stream",
                "text": [
                  "\r        7/7         0G     0.4828     0.2726     0.5753     0.8449         13        128:  12%|█▏        | 3/25 [00:01<00:10,  2.14it/s]"
                ]
              },
              {
                "name": "stderr",
                "output_type": "stream",
                "text": [
                  "\r        7/7         0G     0.4828     0.2726     0.5753     0.8449         13        128:  16%|█▌        | 4/25 [00:01<00:09,  2.17it/s]"
                ]
              },
              {
                "name": "stderr",
                "output_type": "stream",
                "text": [
                  "\r        7/7         0G     0.4764     0.2469     0.5598     0.8391          9        128:  16%|█▌        | 4/25 [00:02<00:09,  2.17it/s]"
                ]
              },
              {
                "name": "stderr",
                "output_type": "stream",
                "text": [
                  "\r        7/7         0G     0.4764     0.2469     0.5598     0.8391          9        128:  20%|██        | 5/25 [00:02<00:09,  2.06it/s]"
                ]
              },
              {
                "name": "stderr",
                "output_type": "stream",
                "text": [
                  "\r        7/7         0G      0.477     0.2802     0.5598     0.8495         17        128:  20%|██        | 5/25 [00:02<00:09,  2.06it/s]"
                ]
              },
              {
                "name": "stderr",
                "output_type": "stream",
                "text": [
                  "\r        7/7         0G      0.477     0.2802     0.5598     0.8495         17        128:  24%|██▍       | 6/25 [00:02<00:08,  2.11it/s]"
                ]
              },
              {
                "name": "stderr",
                "output_type": "stream",
                "text": [
                  "\r        7/7         0G     0.4748     0.2843     0.5623     0.8525         13        128:  24%|██▍       | 6/25 [00:03<00:08,  2.11it/s]"
                ]
              },
              {
                "name": "stderr",
                "output_type": "stream",
                "text": [
                  "\r        7/7         0G     0.4748     0.2843     0.5623     0.8525         13        128:  28%|██▊       | 7/25 [00:03<00:08,  2.13it/s]"
                ]
              },
              {
                "name": "stderr",
                "output_type": "stream",
                "text": [
                  "\r        7/7         0G     0.4712     0.2741     0.5608     0.8471          9        128:  28%|██▊       | 7/25 [00:03<00:08,  2.13it/s]"
                ]
              },
              {
                "name": "stderr",
                "output_type": "stream",
                "text": [
                  "\r        7/7         0G     0.4712     0.2741     0.5608     0.8471          9        128:  32%|███▏      | 8/25 [00:03<00:07,  2.15it/s]"
                ]
              },
              {
                "name": "stderr",
                "output_type": "stream",
                "text": [
                  "\r        7/7         0G     0.4845       0.29     0.5662     0.8479         19        128:  32%|███▏      | 8/25 [00:04<00:07,  2.15it/s]"
                ]
              },
              {
                "name": "stderr",
                "output_type": "stream",
                "text": [
                  "\r        7/7         0G     0.4845       0.29     0.5662     0.8479         19        128:  36%|███▌      | 9/25 [00:04<00:07,  2.13it/s]"
                ]
              },
              {
                "name": "stderr",
                "output_type": "stream",
                "text": [
                  "\r        7/7         0G     0.4937     0.3144     0.5827     0.8611          7        128:  36%|███▌      | 9/25 [00:04<00:07,  2.13it/s]"
                ]
              },
              {
                "name": "stderr",
                "output_type": "stream",
                "text": [
                  "\r        7/7         0G     0.4937     0.3144     0.5827     0.8611          7        128:  40%|████      | 10/25 [00:04<00:07,  2.13it/s]"
                ]
              },
              {
                "name": "stderr",
                "output_type": "stream",
                "text": [
                  "\r        7/7         0G     0.4918     0.3073     0.5808     0.8678         11        128:  40%|████      | 10/25 [00:05<00:07,  2.13it/s]"
                ]
              },
              {
                "name": "stderr",
                "output_type": "stream",
                "text": [
                  "\r        7/7         0G     0.4918     0.3073     0.5808     0.8678         11        128:  44%|████▍     | 11/25 [00:05<00:06,  2.12it/s]"
                ]
              },
              {
                "name": "stderr",
                "output_type": "stream",
                "text": [
                  "\r        7/7         0G     0.4884     0.3141     0.5856     0.8641         19        128:  44%|████▍     | 11/25 [00:05<00:06,  2.12it/s]"
                ]
              },
              {
                "name": "stderr",
                "output_type": "stream",
                "text": [
                  "\r        7/7         0G     0.4884     0.3141     0.5856     0.8641         19        128:  48%|████▊     | 12/25 [00:05<00:06,  2.14it/s]"
                ]
              },
              {
                "name": "stderr",
                "output_type": "stream",
                "text": [
                  "\r        7/7         0G     0.4862     0.3132     0.5897     0.8636         18        128:  48%|████▊     | 12/25 [00:06<00:06,  2.14it/s]"
                ]
              },
              {
                "name": "stderr",
                "output_type": "stream",
                "text": [
                  "\r        7/7         0G     0.4862     0.3132     0.5897     0.8636         18        128:  52%|█████▏    | 13/25 [00:06<00:05,  2.04it/s]"
                ]
              },
              {
                "name": "stderr",
                "output_type": "stream",
                "text": [
                  "\r        7/7         0G     0.4836     0.3111      0.586     0.8669         13        128:  52%|█████▏    | 13/25 [00:06<00:05,  2.04it/s]"
                ]
              },
              {
                "name": "stderr",
                "output_type": "stream",
                "text": [
                  "\r        7/7         0G     0.4836     0.3111      0.586     0.8669         13        128:  56%|█████▌    | 14/25 [00:06<00:05,  2.09it/s]"
                ]
              },
              {
                "name": "stderr",
                "output_type": "stream",
                "text": [
                  "\r        7/7         0G     0.5084     0.3376     0.6054     0.8645         11        128:  56%|█████▌    | 14/25 [00:07<00:05,  2.09it/s]"
                ]
              },
              {
                "name": "stderr",
                "output_type": "stream",
                "text": [
                  "\r        7/7         0G     0.5084     0.3376     0.6054     0.8645         11        128:  60%|██████    | 15/25 [00:07<00:05,  1.88it/s]"
                ]
              },
              {
                "name": "stderr",
                "output_type": "stream",
                "text": [
                  "\r        7/7         0G     0.4999     0.3723     0.5973     0.8598         12        128:  60%|██████    | 15/25 [00:07<00:05,  1.88it/s]"
                ]
              },
              {
                "name": "stderr",
                "output_type": "stream",
                "text": [
                  "\r        7/7         0G     0.4999     0.3723     0.5973     0.8598         12        128:  64%|██████▍   | 16/25 [00:07<00:05,  1.74it/s]"
                ]
              },
              {
                "name": "stderr",
                "output_type": "stream",
                "text": [
                  "\r        7/7         0G     0.5022     0.3881     0.5921     0.8596         16        128:  64%|██████▍   | 16/25 [00:08<00:05,  1.74it/s]"
                ]
              },
              {
                "name": "stderr",
                "output_type": "stream",
                "text": [
                  "\r        7/7         0G     0.5022     0.3881     0.5921     0.8596         16        128:  68%|██████▊   | 17/25 [00:08<00:04,  1.64it/s]"
                ]
              },
              {
                "name": "stderr",
                "output_type": "stream",
                "text": [
                  "\r        7/7         0G     0.5018     0.3774     0.5947     0.8665          8        128:  68%|██████▊   | 17/25 [00:09<00:04,  1.64it/s]"
                ]
              },
              {
                "name": "stderr",
                "output_type": "stream",
                "text": [
                  "\r        7/7         0G     0.5018     0.3774     0.5947     0.8665          8        128:  72%|███████▏  | 18/25 [00:09<00:04,  1.56it/s]"
                ]
              },
              {
                "name": "stderr",
                "output_type": "stream",
                "text": [
                  "\r        7/7         0G     0.4988     0.3674     0.5942     0.8618         17        128:  72%|███████▏  | 18/25 [00:10<00:04,  1.56it/s]"
                ]
              },
              {
                "name": "stderr",
                "output_type": "stream",
                "text": [
                  "\r        7/7         0G     0.4988     0.3674     0.5942     0.8618         17        128:  76%|███████▌  | 19/25 [00:10<00:03,  1.51it/s]"
                ]
              },
              {
                "name": "stderr",
                "output_type": "stream",
                "text": [
                  "\r        7/7         0G     0.5003     0.3586     0.5906     0.8625         16        128:  76%|███████▌  | 19/25 [00:10<00:03,  1.51it/s]"
                ]
              },
              {
                "name": "stderr",
                "output_type": "stream",
                "text": [
                  "\r        7/7         0G     0.5003     0.3586     0.5906     0.8625         16        128:  80%|████████  | 20/25 [00:10<00:03,  1.45it/s]"
                ]
              },
              {
                "name": "stderr",
                "output_type": "stream",
                "text": [
                  "\r        7/7         0G     0.4957     0.3586     0.5866     0.8626         17        128:  80%|████████  | 20/25 [00:11<00:03,  1.45it/s]"
                ]
              },
              {
                "name": "stderr",
                "output_type": "stream",
                "text": [
                  "\r        7/7         0G     0.4957     0.3586     0.5866     0.8626         17        128:  84%|████████▍ | 21/25 [00:11<00:02,  1.42it/s]"
                ]
              },
              {
                "name": "stderr",
                "output_type": "stream",
                "text": [
                  "\r        7/7         0G     0.4941     0.3546     0.5825     0.8609         15        128:  84%|████████▍ | 21/25 [00:12<00:02,  1.42it/s]"
                ]
              },
              {
                "name": "stderr",
                "output_type": "stream",
                "text": [
                  "\r        7/7         0G     0.4941     0.3546     0.5825     0.8609         15        128:  88%|████████▊ | 22/25 [00:12<00:01,  1.59it/s]"
                ]
              },
              {
                "name": "stderr",
                "output_type": "stream",
                "text": [
                  "\r        7/7         0G     0.4932     0.3498     0.5803     0.8623         14        128:  88%|████████▊ | 22/25 [00:12<00:01,  1.59it/s]"
                ]
              },
              {
                "name": "stderr",
                "output_type": "stream",
                "text": [
                  "\r        7/7         0G     0.4932     0.3498     0.5803     0.8623         14        128:  92%|█████████▏| 23/25 [00:12<00:01,  1.71it/s]"
                ]
              },
              {
                "name": "stderr",
                "output_type": "stream",
                "text": [
                  "\r        7/7         0G     0.4943     0.3512     0.5844     0.8609         10        128:  92%|█████████▏| 23/25 [00:12<00:01,  1.71it/s]"
                ]
              },
              {
                "name": "stderr",
                "output_type": "stream",
                "text": [
                  "\r        7/7         0G     0.4943     0.3512     0.5844     0.8609         10        128:  96%|█████████▌| 24/25 [00:12<00:00,  1.85it/s]"
                ]
              },
              {
                "name": "stderr",
                "output_type": "stream",
                "text": [
                  "\r        7/7         0G     0.4965     0.3458     0.5823     0.8565          5        128:  96%|█████████▌| 24/25 [00:13<00:00,  1.85it/s]"
                ]
              },
              {
                "name": "stderr",
                "output_type": "stream",
                "text": [
                  "\r        7/7         0G     0.4965     0.3458     0.5823     0.8565          5        128: 100%|██████████| 25/25 [00:13<00:00,  2.11it/s]"
                ]
              },
              {
                "name": "stderr",
                "output_type": "stream",
                "text": [
                  "\r        7/7         0G     0.4965     0.3458     0.5823     0.8565          5        128: 100%|██████████| 25/25 [00:13<00:00,  1.88it/s]"
                ]
              },
              {
                "name": "stderr",
                "output_type": "stream",
                "text": [
                  "\n"
                ]
              },
              {
                "name": "stderr",
                "output_type": "stream",
                "text": [
                  "\r                 Class     Images  Instances      Box(P          R      mAP50  mAP50-95)     Mask(P          R      mAP50  mAP50-95):   0%|          | 0/5 [00:00<?, ?it/s]"
                ]
              },
              {
                "name": "stderr",
                "output_type": "stream",
                "text": [
                  "\r                 Class     Images  Instances      Box(P          R      mAP50  mAP50-95)     Mask(P          R      mAP50  mAP50-95):  20%|██        | 1/5 [00:00<00:01,  2.08it/s]"
                ]
              },
              {
                "name": "stderr",
                "output_type": "stream",
                "text": [
                  "\r                 Class     Images  Instances      Box(P          R      mAP50  mAP50-95)     Mask(P          R      mAP50  mAP50-95):  40%|████      | 2/5 [00:00<00:01,  2.08it/s]"
                ]
              },
              {
                "name": "stderr",
                "output_type": "stream",
                "text": [
                  "\r                 Class     Images  Instances      Box(P          R      mAP50  mAP50-95)     Mask(P          R      mAP50  mAP50-95):  60%|██████    | 3/5 [00:01<00:00,  2.06it/s]"
                ]
              },
              {
                "name": "stderr",
                "output_type": "stream",
                "text": [
                  "\r                 Class     Images  Instances      Box(P          R      mAP50  mAP50-95)     Mask(P          R      mAP50  mAP50-95):  80%|████████  | 4/5 [00:01<00:00,  2.04it/s]"
                ]
              },
              {
                "name": "stderr",
                "output_type": "stream",
                "text": [
                  "\r                 Class     Images  Instances      Box(P          R      mAP50  mAP50-95)     Mask(P          R      mAP50  mAP50-95): 100%|██████████| 5/5 [00:02<00:00,  2.04it/s]"
                ]
              },
              {
                "name": "stderr",
                "output_type": "stream",
                "text": [
                  "\r                 Class     Images  Instances      Box(P          R      mAP50  mAP50-95)     Mask(P          R      mAP50  mAP50-95): 100%|██████████| 5/5 [00:02<00:00,  2.05it/s]"
                ]
              },
              {
                "name": "stdout",
                "output_type": "stream",
                "text": [
                  "                   all         80         80      0.999          1      0.995      0.947      0.999          1      0.995      0.755\n"
                ]
              },
              {
                "name": "stderr",
                "output_type": "stream",
                "text": [
                  "\n"
                ]
              },
              {
                "name": "stdout",
                "output_type": "stream",
                "text": [
                  "\n",
                  "7 epochs completed in 0.036 hours.\n"
                ]
              },
              {
                "name": "stdout",
                "output_type": "stream",
                "text": [
                  "Optimizer stripped from runs/segment/train4/weights/last.pt, 6.7MB\n"
                ]
              },
              {
                "name": "stdout",
                "output_type": "stream",
                "text": [
                  "Optimizer stripped from runs/segment/train4/weights/best.pt, 6.7MB\n"
                ]
              },
              {
                "name": "stdout",
                "output_type": "stream",
                "text": [
                  "\n",
                  "Validating runs/segment/train4/weights/best.pt...\n"
                ]
              },
              {
                "name": "stdout",
                "output_type": "stream",
                "text": [
                  "Ultralytics YOLOv8.2.84 🚀 Python-3.10.12 torch-2.4.0+cu121 CPU (Intel Xeon 2.20GHz)\n"
                ]
              },
              {
                "name": "stdout",
                "output_type": "stream",
                "text": [
                  "YOLOv8n-seg summary (fused): 195 layers, 3,258,259 parameters, 0 gradients, 12.0 GFLOPs\n"
                ]
              },
              {
                "name": "stderr",
                "output_type": "stream",
                "text": [
                  "\r                 Class     Images  Instances      Box(P          R      mAP50  mAP50-95)     Mask(P          R      mAP50  mAP50-95):   0%|          | 0/5 [00:00<?, ?it/s]"
                ]
              },
              {
                "name": "stderr",
                "output_type": "stream",
                "text": [
                  "\r                 Class     Images  Instances      Box(P          R      mAP50  mAP50-95)     Mask(P          R      mAP50  mAP50-95):  20%|██        | 1/5 [00:00<00:01,  2.14it/s]"
                ]
              },
              {
                "name": "stderr",
                "output_type": "stream",
                "text": [
                  "\r                 Class     Images  Instances      Box(P          R      mAP50  mAP50-95)     Mask(P          R      mAP50  mAP50-95):  40%|████      | 2/5 [00:01<00:02,  1.39it/s]"
                ]
              },
              {
                "name": "stderr",
                "output_type": "stream",
                "text": [
                  "\r                 Class     Images  Instances      Box(P          R      mAP50  mAP50-95)     Mask(P          R      mAP50  mAP50-95):  60%|██████    | 3/5 [00:02<00:01,  1.25it/s]"
                ]
              },
              {
                "name": "stderr",
                "output_type": "stream",
                "text": [
                  "\r                 Class     Images  Instances      Box(P          R      mAP50  mAP50-95)     Mask(P          R      mAP50  mAP50-95):  80%|████████  | 4/5 [00:03<00:00,  1.17it/s]"
                ]
              },
              {
                "name": "stderr",
                "output_type": "stream",
                "text": [
                  "\r                 Class     Images  Instances      Box(P          R      mAP50  mAP50-95)     Mask(P          R      mAP50  mAP50-95): 100%|██████████| 5/5 [00:03<00:00,  1.28it/s]"
                ]
              },
              {
                "name": "stderr",
                "output_type": "stream",
                "text": [
                  "\r                 Class     Images  Instances      Box(P          R      mAP50  mAP50-95)     Mask(P          R      mAP50  mAP50-95): 100%|██████████| 5/5 [00:03<00:00,  1.29it/s]"
                ]
              },
              {
                "name": "stderr",
                "output_type": "stream",
                "text": [
                  "\n"
                ]
              },
              {
                "name": "stdout",
                "output_type": "stream",
                "text": [
                  "                   all         80         80      0.999          1      0.995      0.947      0.999          1      0.995      0.755\n"
                ]
              },
              {
                "name": "stdout",
                "output_type": "stream",
                "text": [
                  "Speed: 1.1ms preprocess, 30.7ms inference, 0.0ms loss, 0.6ms postprocess per image\n"
                ]
              },
              {
                "name": "stdout",
                "output_type": "stream",
                "text": [
                  "Results saved to \u001b[1mruns/segment/train4\u001b[0m\n"
                ]
              },
              {
                "name": "stdout",
                "output_type": "stream",
                "text": [
                  "YOLOv8n-seg summary (fused): 195 layers, 3,258,259 parameters, 0 gradients, 12.0 GFLOPs\n"
                ]
              },
              {
                "name": "stdout",
                "output_type": "stream",
                "text": [
                  "\n",
                  "\u001b[34m\u001b[1mPyTorch:\u001b[0m starting from 'runs/segment/train4/weights/best.pt' with input shape (1, 3, 128, 128) BCHW and output shape(s) ((1, 37, 336), (1, 32, 32, 32)) (6.4 MB)\n"
                ]
              },
              {
                "name": "stdout",
                "output_type": "stream",
                "text": [
                  "\n",
                  "\u001b[34m\u001b[1mONNX:\u001b[0m starting export with onnx 1.16.2 opset 19...\n"
                ]
              },
              {
                "name": "stdout",
                "output_type": "stream",
                "text": [
                  "\u001b[34m\u001b[1mONNX:\u001b[0m export success ✅ 1.2s, saved as 'runs/segment/train4/weights/best.onnx' (12.5 MB)\n"
                ]
              },
              {
                "name": "stdout",
                "output_type": "stream",
                "text": [
                  "\n",
                  "Export complete (2.9s)\n",
                  "Results saved to \u001b[1m/content/runs/segment/train4/weights\u001b[0m\n",
                  "Predict:         yolo predict task=segment model=runs/segment/train4/weights/best.onnx imgsz=128  \n",
                  "Validate:        yolo val task=segment model=runs/segment/train4/weights/best.onnx imgsz=128 data=circles/data.yaml  \n",
                  "Visualize:       https://netron.app\n"
                ]
              },
              {
                "name": "stdout",
                "output_type": "stream",
                "text": [
                  "\n"
                ]
              },
              {
                "name": "stdout",
                "output_type": "stream",
                "text": [
                  "image 1/1 /content/circles/test/images/img_36.png: 128x128 1 circle, 31.0ms\n"
                ]
              },
              {
                "name": "stdout",
                "output_type": "stream",
                "text": [
                  "Speed: 0.6ms preprocess, 31.0ms inference, 1.5ms postprocess per image at shape (1, 3, 128, 128)\n"
                ]
              },
              {
                "name": "stdout",
                "output_type": "stream",
                "text": [
                  "mask ultralytics.engine.results.Masks object with attributes:\n",
                  "\n",
                  "data: tensor([[[0., 0., 0.,  ..., 0., 0., 0.],\n",
                  "         [0., 0., 0.,  ..., 0., 0., 0.],\n",
                  "         [0., 0., 0.,  ..., 0., 0., 0.],\n",
                  "         ...,\n",
                  "         [0., 0., 0.,  ..., 0., 0., 0.],\n",
                  "         [0., 0., 0.,  ..., 0., 0., 0.],\n",
                  "         [0., 0., 0.,  ..., 0., 0., 0.]]])\n",
                  "orig_shape: (120, 120)\n",
                  "shape: torch.Size([1, 128, 128])\n",
                  "xy: [array([[      33.75,      28.125],\n",
                  "       [      33.75,      30.937],\n",
                  "       [     30.937,       33.75],\n",
                  "       [         30,       33.75],\n",
                  "       [         30,      34.688],\n",
                  "       [     28.125,      36.562],\n",
                  "       [     24.375,      36.562],\n",
                  "       [     24.375,      69.375],\n",
                  "       [     28.125,      69.375],\n",
                  "       [     31.875,      73.125],\n",
                  "       [     32.812,      73.125],\n",
                  "       [     34.688,          75],\n",
                  "       [       37.5,          75],\n",
                  "       [     38.437,      75.937],\n",
                  "       [         45,      75.937],\n",
                  "       [     45.937,      76.875],\n",
                  "       [     45.937,      79.687],\n",
                  "       [     45.937,      76.875],\n",
                  "       [     46.875,      75.937],\n",
                  "       [     50.625,      75.937],\n",
                  "       [     51.562,          75],\n",
                  "       [     54.375,          75],\n",
                  "       [     55.312,      74.062],\n",
                  "       [      56.25,      74.062],\n",
                  "       [     59.062,       71.25],\n",
                  "       [         60,       71.25],\n",
                  "       [      63.75,        67.5],\n",
                  "       [      63.75,      66.562],\n",
                  "       [     64.688,      65.625],\n",
                  "       [     68.438,      65.625],\n",
                  "       [     68.438,       41.25],\n",
                  "       [     65.625,       41.25],\n",
                  "       [     62.812,      38.437],\n",
                  "       [     62.812,        37.5],\n",
                  "       [     61.875,        37.5],\n",
                  "       [         60,      35.625],\n",
                  "       [         60,      34.688],\n",
                  "       [     58.125,      32.812],\n",
                  "       [     57.187,      32.812],\n",
                  "       [     55.312,      30.937],\n",
                  "       [     55.312,      28.125]], dtype=float32)]\n",
                  "xyn: [array([[    0.28125,     0.23437],\n",
                  "       [    0.28125,     0.25781],\n",
                  "       [    0.25781,     0.28125],\n",
                  "       [       0.25,     0.28125],\n",
                  "       [       0.25,     0.28906],\n",
                  "       [    0.23437,     0.30469],\n",
                  "       [    0.20312,     0.30469],\n",
                  "       [    0.20312,     0.57812],\n",
                  "       [    0.23437,     0.57812],\n",
                  "       [    0.26562,     0.60938],\n",
                  "       [    0.27344,     0.60938],\n",
                  "       [    0.28906,       0.625],\n",
                  "       [     0.3125,       0.625],\n",
                  "       [    0.32031,     0.63281],\n",
                  "       [      0.375,     0.63281],\n",
                  "       [    0.38281,     0.64062],\n",
                  "       [    0.38281,     0.66406],\n",
                  "       [    0.38281,     0.64062],\n",
                  "       [    0.39062,     0.63281],\n",
                  "       [    0.42187,     0.63281],\n",
                  "       [    0.42969,       0.625],\n",
                  "       [    0.45312,       0.625],\n",
                  "       [    0.46094,     0.61719],\n",
                  "       [    0.46875,     0.61719],\n",
                  "       [    0.49219,     0.59375],\n",
                  "       [        0.5,     0.59375],\n",
                  "       [    0.53125,      0.5625],\n",
                  "       [    0.53125,     0.55469],\n",
                  "       [    0.53906,     0.54688],\n",
                  "       [    0.57031,     0.54688],\n",
                  "       [    0.57031,     0.34375],\n",
                  "       [    0.54688,     0.34375],\n",
                  "       [    0.52344,     0.32031],\n",
                  "       [    0.52344,      0.3125],\n",
                  "       [    0.51562,      0.3125],\n",
                  "       [        0.5,     0.29688],\n",
                  "       [        0.5,     0.28906],\n",
                  "       [    0.48437,     0.27344],\n",
                  "       [    0.47656,     0.27344],\n",
                  "       [    0.46094,     0.25781],\n",
                  "       [    0.46094,     0.23437]], dtype=float32)]\n"
                ]
              },
              {
                "data": {
                  "image/png": "iVBORw0KGgoAAAANSUhEUgAAAHgAAAB4CAIAAAC2BqGFAAABkUlEQVR4nO3b207DMBBAQRvx/79sHpJeUkUVlPXipTOPIDnpqVlayWkNAAAAAAAAAAAA+ImecI0xAhbpGXc6UdDtR6QMsPCb8fHXN/AuhE7yGbze8Y/3Op23CTten9a3dU+G9SKD66no0Bf3SXv/TeJ9vaUH8DdMHx0RlTdj27oxi6WbGLr31toIqlxe8Me7cfrTSPsNHyb1ePjliubt6EkbeV92jGIzJDh07/vEiF32qFTgi/gdnTKUb/u6irpfWIq1Dg6d+xnj8VorR6+7ozcLpz2qHrpVaf0PQtcgdBKhkwidROgkQicROonQSYROInQSoZMInUToJEInETqJ0EmETiJ0EqGTCJ1k1rHdLAuftjsqvaPLVG4Tzt5lv/j7C6785FbdHb1w1DPBM3qMdpdg3tGWs1PSa5u6oydlqFe5he/o64ufdt6wZOU2b0dfQsT2qFq5pfwzjKpSuHKb+oWl9+sAeeEZzPOcRSs3D92nqfs5uhih38zKj5+EsKOTCA0AAAAAAAAAAAAAAAAAMNkXbWBCbfOxUdgAAAAASUVORK5CYII=\n",
                  "text/plain": "<PIL.Image.Image image mode=RGB size=120x120>"
                },
                "metadata": {},
                "output_type": "display_data"
              }
            ]
          }
        },
        "ea673f95f4c54105894b29bf407062d0": {
          "model_module": "@jupyter-widgets/controls",
          "model_module_version": "1.5.0",
          "model_name": "HTMLModel",
          "state": {
            "_dom_classes": [],
            "_model_module": "@jupyter-widgets/controls",
            "_model_module_version": "1.5.0",
            "_model_name": "HTMLModel",
            "_view_count": null,
            "_view_module": "@jupyter-widgets/controls",
            "_view_module_version": "1.5.0",
            "_view_name": "HTMLView",
            "description": "",
            "description_tooltip": null,
            "layout": "IPY_MODEL_c1e8b1c83bc84246b3557658cf963e55",
            "placeholder": "​",
            "style": "IPY_MODEL_8386c6100ac04e29b43d859236200c05",
            "value": " 30/30 [00:03&lt;00:00,  7.77it/s]"
          }
        },
        "eb2d449bb0864913b3a68cc6f7e29d94": {
          "model_module": "@jupyter-widgets/controls",
          "model_module_version": "1.5.0",
          "model_name": "HBoxModel",
          "state": {
            "_dom_classes": [],
            "_model_module": "@jupyter-widgets/controls",
            "_model_module_version": "1.5.0",
            "_model_name": "HBoxModel",
            "_view_count": null,
            "_view_module": "@jupyter-widgets/controls",
            "_view_module_version": "1.5.0",
            "_view_name": "HBoxView",
            "box_style": "",
            "children": [
              "IPY_MODEL_e328189777e044b1bf0c3865a99ca43e",
              "IPY_MODEL_17b9df8f825e4d6e92da34426a202f26",
              "IPY_MODEL_8f70bbb541fe4c8a83d48c478976ba39"
            ],
            "layout": "IPY_MODEL_2481cc0966614c43af1be307c317669b"
          }
        },
        "ecef26d3982743c39a990b3ed01217a1": {
          "model_module": "@jupyter-widgets/controls",
          "model_module_version": "1.5.0",
          "model_name": "HBoxModel",
          "state": {
            "_dom_classes": [],
            "_model_module": "@jupyter-widgets/controls",
            "_model_module_version": "1.5.0",
            "_model_name": "HBoxModel",
            "_view_count": null,
            "_view_module": "@jupyter-widgets/controls",
            "_view_module_version": "1.5.0",
            "_view_name": "HBoxView",
            "box_style": "",
            "children": [
              "IPY_MODEL_4b79d192fe8440be8a99def6bb4d3dfc",
              "IPY_MODEL_0448a70cab7846ad8a99ef12aa812409",
              "IPY_MODEL_7a75b05bd6104cdea5f204630d3415f4"
            ],
            "layout": "IPY_MODEL_c60313b8bd374d69bf22015e9d8d902f"
          }
        },
        "ed639b2077d2464c9e6b9b58ba6caa29": {
          "model_module": "@jupyter-widgets/controls",
          "model_module_version": "1.5.0",
          "model_name": "LabelModel",
          "state": {
            "_dom_classes": [],
            "_model_module": "@jupyter-widgets/controls",
            "_model_module_version": "1.5.0",
            "_model_name": "LabelModel",
            "_view_count": null,
            "_view_module": "@jupyter-widgets/controls",
            "_view_module_version": "1.5.0",
            "_view_name": "LabelView",
            "description": "",
            "description_tooltip": null,
            "layout": "IPY_MODEL_104931c6f3d64067b21d03606361060f",
            "placeholder": "​",
            "style": "IPY_MODEL_92f1460e266c42d3bc393e9ef7a1fc01",
            "value": "Model saved"
          }
        },
        "f45ac43e50804c66b110e43c7ae82697": {
          "model_module": "@jupyter-widgets/controls",
          "model_module_version": "1.5.0",
          "model_name": "HTMLModel",
          "state": {
            "_dom_classes": [],
            "_model_module": "@jupyter-widgets/controls",
            "_model_module_version": "1.5.0",
            "_model_name": "HTMLModel",
            "_view_count": null,
            "_view_module": "@jupyter-widgets/controls",
            "_view_module_version": "1.5.0",
            "_view_name": "HTMLView",
            "description": "",
            "description_tooltip": null,
            "layout": "IPY_MODEL_c3eb4187087742ba82bef40f98fc4b60",
            "placeholder": "​",
            "style": "IPY_MODEL_2e4a90d0af424312a54a6fe56a554791",
            "value": " 30/30 [00:03&lt;00:00,  7.18it/s]"
          }
        },
        "fbdb11a45a504e69b2b792b894325771": {
          "model_module": "@jupyter-widgets/base",
          "model_module_version": "1.2.0",
          "model_name": "LayoutModel",
          "state": {
            "_model_module": "@jupyter-widgets/base",
            "_model_module_version": "1.2.0",
            "_model_name": "LayoutModel",
            "_view_count": null,
            "_view_module": "@jupyter-widgets/base",
            "_view_module_version": "1.2.0",
            "_view_name": "LayoutView",
            "align_content": null,
            "align_items": null,
            "align_self": null,
            "border": null,
            "bottom": null,
            "display": null,
            "flex": null,
            "flex_flow": null,
            "grid_area": null,
            "grid_auto_columns": null,
            "grid_auto_flow": null,
            "grid_auto_rows": null,
            "grid_column": null,
            "grid_gap": null,
            "grid_row": null,
            "grid_template_areas": null,
            "grid_template_columns": null,
            "grid_template_rows": null,
            "height": null,
            "justify_content": null,
            "justify_items": null,
            "left": null,
            "margin": null,
            "max_height": null,
            "max_width": null,
            "min_height": null,
            "min_width": null,
            "object_fit": null,
            "object_position": null,
            "order": null,
            "overflow": null,
            "overflow_x": null,
            "overflow_y": null,
            "padding": null,
            "right": null,
            "top": null,
            "visibility": null,
            "width": null
          }
        },
        "ffaf128fbd4f4d6caeb22c871ada12af": {
          "model_module": "@jupyter-widgets/controls",
          "model_module_version": "1.5.0",
          "model_name": "FloatProgressModel",
          "state": {
            "_dom_classes": [],
            "_model_module": "@jupyter-widgets/controls",
            "_model_module_version": "1.5.0",
            "_model_name": "FloatProgressModel",
            "_view_count": null,
            "_view_module": "@jupyter-widgets/controls",
            "_view_module_version": "1.5.0",
            "_view_name": "ProgressView",
            "bar_style": "success",
            "description": "",
            "description_tooltip": null,
            "layout": "IPY_MODEL_6bd55796f6ae402d959ae110f91a42e4",
            "max": 30,
            "min": 0,
            "orientation": "horizontal",
            "style": "IPY_MODEL_b76c8b07ecd44fd3a49bef60e01897f0",
            "value": 30
          }
        }
      }
    }
  },
  "nbformat": 4,
  "nbformat_minor": 0
}
