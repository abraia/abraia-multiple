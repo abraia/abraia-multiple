{
  "nbformat": 4,
  "nbformat_minor": 0,
  "metadata": {
    "accelerator": "GPU",
    "colab": {
      "name": "DeepHSIClassification.ipynb",
      "provenance": [],
      "collapsed_sections": [
        "tAxf4dEgakM1"
      ],
      "toc_visible": true
    },
    "kernelspec": {
      "display_name": "Python 3",
      "language": "python",
      "name": "python3"
    },
    "language_info": {
      "codemirror_mode": {
        "name": "ipython",
        "version": 3
      },
      "file_extension": ".py",
      "mimetype": "text/x-python",
      "name": "python",
      "nbconvert_exporter": "python",
      "pygments_lexer": "ipython3",
      "version": "3.6.8"
    }
  },
  "cells": [
    {
      "cell_type": "markdown",
      "metadata": {
        "id": "VNJ5YSjlipuZ"
      },
      "source": [
        "# MULTIPLE - Hybrid Spectral Net\n"
      ]
    },
    {
      "cell_type": "code",
      "metadata": {
        "id": "U3pgl9pajiZZ"
      },
      "source": [
        "%%capture\n",
        "!python -m pip install --upgrade git+git://github.com/abraia/abraia-multiple.git\n",
        "\n",
        "import os\n",
        "\n",
        "#if not os.getenv('ABRAIA_KEY'):\n",
        "#    #@markdown <a href=\"https://abraia.me/console/settings\" target=\"_blank\">Get your ABRAIA_KEY</a>\n",
        "#    abraia_key = ''  #@param {type: \"string\"}\n",
        "#    %env ABRAIA_KEY=$abraia_key\n",
        "\n",
        "from multiple import *\n",
        " \n",
        "#multiple = Multiple()"
      ],
      "execution_count": 2,
      "outputs": []
    },
    {
      "cell_type": "markdown",
      "metadata": {
        "id": "qz4Fyz4QakMl"
      },
      "source": [
        "# Data Loading"
      ]
    },
    {
      "cell_type": "code",
      "metadata": {
        "id": "31OtP1E0akMZ"
      },
      "source": [
        "import spectral\n",
        "import scipy.io as sio\n",
        "import matplotlib.pyplot as plt\n",
        "\n",
        "\n",
        "from sklearn.decomposition import PCA\n",
        "from sklearn.model_selection import train_test_split\n",
        "from sklearn.metrics import confusion_matrix, accuracy_score, classification_report, cohen_kappa_score\n",
        " \n",
        "from operator import truediv "
      ],
      "execution_count": 2,
      "outputs": []
    },
    {
      "cell_type": "code",
      "metadata": {
        "id": "dZXbSukVakMm"
      },
      "source": [
        "## GLOBAL VARIABLES\n",
        "dataset = 'IP'\n",
        "test_ratio = 0.7\n",
        "windowSize = 25"
      ],
      "execution_count": 3,
      "outputs": []
    },
    {
      "cell_type": "code",
      "metadata": {
        "id": "AtSQyyR3akMm"
      },
      "source": [
        "def loadData(name):\n",
        "    data_path = 'datasets'\n",
        "    if not os.path.exists(data_path):\n",
        "        os.mkdir('datasets')\n",
        "    _data, _labels = data.load_dataset(name)[:2]\n",
        "    if name == 'IP':\n",
        "        _data = sio.loadmat(os.path.join(data_path, 'Indian_pines_corrected.mat'))['indian_pines_corrected']\n",
        "        _labels = sio.loadmat(os.path.join(data_path, 'Indian_pines_gt.mat'))['indian_pines_gt']\n",
        "    elif name == 'SA':\n",
        "        _data = sio.loadmat(os.path.join(data_path, 'Salinas_corrected.mat'))['salinas_corrected']\n",
        "        _labels = sio.loadmat(os.path.join(data_path, 'Salinas_gt.mat'))['salinas_gt']\n",
        "    elif name == 'PU':\n",
        "        _data = sio.loadmat(os.path.join(data_path, 'PaviaU.mat'))['paviaU']\n",
        "        _labels = sio.loadmat(os.path.join(data_path, 'PaviaU_gt.mat'))['paviaU_gt']\n",
        "    \n",
        "    return _data, _labels"
      ],
      "execution_count": 4,
      "outputs": []
    },
    {
      "cell_type": "code",
      "metadata": {
        "id": "QZqIOG4nakMn"
      },
      "source": [
        "def splitTrainTestSet(X, y, testRatio, randomState=345):\n",
        "    X_train, X_test, y_train, y_test = train_test_split(X, y, test_size=testRatio, random_state=randomState, stratify=y)\n",
        "    return X_train, X_test, y_train, y_test"
      ],
      "execution_count": 5,
      "outputs": []
    },
    {
      "cell_type": "code",
      "metadata": {
        "id": "x7zWFg0ZakMo"
      },
      "source": [
        "def applyPCA(X, numComponents=75):\n",
        "    newX = np.reshape(X, (-1, X.shape[2]))\n",
        "    pca = PCA(n_components=numComponents, whiten=True)\n",
        "    newX = pca.fit_transform(newX)\n",
        "    newX = np.reshape(newX, (X.shape[0],X.shape[1], numComponents))\n",
        "    return newX, pca"
      ],
      "execution_count": 6,
      "outputs": []
    },
    {
      "cell_type": "code",
      "metadata": {
        "id": "3kaOFW2_akMp"
      },
      "source": [
        "def padWithZeros(X, margin=2):\n",
        "    newX = np.zeros((X.shape[0] + 2 * margin, X.shape[1] + 2* margin, X.shape[2]))\n",
        "    x_offset = margin\n",
        "    y_offset = margin\n",
        "    newX[x_offset:X.shape[0] + x_offset, y_offset:X.shape[1] + y_offset, :] = X\n",
        "    return newX"
      ],
      "execution_count": 7,
      "outputs": []
    },
    {
      "cell_type": "code",
      "metadata": {
        "id": "1OajF09gakMq"
      },
      "source": [
        "def createImageCubes(X, y, windowSize=5, removeZeroLabels = True):\n",
        "    margin = int((windowSize - 1) / 2)\n",
        "    zeroPaddedX = padWithZeros(X, margin=margin)\n",
        "    # split patches\n",
        "    patchesData = np.zeros((X.shape[0] * X.shape[1], windowSize, windowSize, X.shape[2]))\n",
        "    patchesLabels = np.zeros((X.shape[0] * X.shape[1]))\n",
        "    patchIndex = 0\n",
        "    for r in range(margin, zeroPaddedX.shape[0] - margin):\n",
        "        for c in range(margin, zeroPaddedX.shape[1] - margin):\n",
        "            patch = zeroPaddedX[r - margin:r + margin + 1, c - margin:c + margin + 1]   \n",
        "            patchesData[patchIndex, :, :, :] = patch\n",
        "            patchesLabels[patchIndex] = y[r-margin, c-margin]\n",
        "            patchIndex = patchIndex + 1\n",
        "    if removeZeroLabels:\n",
        "        patchesData = patchesData[patchesLabels>0,:,:,:]\n",
        "        patchesLabels = patchesLabels[patchesLabels>0]\n",
        "        patchesLabels -= 1\n",
        "    return patchesData, patchesLabels"
      ],
      "execution_count": 8,
      "outputs": []
    },
    {
      "cell_type": "code",
      "metadata": {
        "colab": {
          "base_uri": "https://localhost:8080/"
        },
        "id": "jobYf6j1akMq",
        "outputId": "fc5cd7be-b552-411b-9ac9-a522ed28a4b0"
      },
      "source": [
        "X, y = loadData(dataset)\n",
        "\n",
        "X.shape, y.shape"
      ],
      "execution_count": 9,
      "outputs": [
        {
          "output_type": "execute_result",
          "data": {
            "text/plain": [
              "((145, 145, 200), (145, 145))"
            ]
          },
          "metadata": {
            "tags": []
          },
          "execution_count": 9
        }
      ]
    },
    {
      "cell_type": "code",
      "metadata": {
        "id": "JBWq7kzPakMr"
      },
      "source": [
        "K = X.shape[2]"
      ],
      "execution_count": null,
      "outputs": []
    },
    {
      "cell_type": "code",
      "metadata": {
        "colab": {
          "base_uri": "https://localhost:8080/"
        },
        "id": "jYxRpY76akMs",
        "outputId": "356a64a8-df2a-4b76-86dc-8217c170f732"
      },
      "source": [
        "K = 30 if dataset == 'IP' else 15\n",
        "X,pca = applyPCA(X,numComponents=K)\n",
        "\n",
        "X.shape"
      ],
      "execution_count": null,
      "outputs": [
        {
          "output_type": "execute_result",
          "data": {
            "text/plain": [
              "(145, 145, 30)"
            ]
          },
          "metadata": {
            "tags": []
          },
          "execution_count": 11
        }
      ]
    },
    {
      "cell_type": "code",
      "metadata": {
        "colab": {
          "base_uri": "https://localhost:8080/"
        },
        "id": "DtU66W4PakMu",
        "outputId": "39b4de5c-3ede-4d98-b4d6-35b2a9930ee3"
      },
      "source": [
        "X, y = createImageCubes(X, y, windowSize=windowSize)\n",
        "\n",
        "X.shape, y.shape"
      ],
      "execution_count": null,
      "outputs": [
        {
          "output_type": "execute_result",
          "data": {
            "text/plain": [
              "((10249, 25, 25, 30), (10249,))"
            ]
          },
          "metadata": {
            "tags": []
          },
          "execution_count": 12
        }
      ]
    },
    {
      "cell_type": "code",
      "metadata": {
        "colab": {
          "base_uri": "https://localhost:8080/"
        },
        "id": "Z1V2RDJ_akMv",
        "outputId": "d063181d-2f06-4fe4-ac3d-7fefbf00b546"
      },
      "source": [
        "Xtrain, Xtest, ytrain, ytest = splitTrainTestSet(X, y, test_ratio)\n",
        "\n",
        "Xtrain.shape, Xtest.shape, ytrain.shape, ytest.shape"
      ],
      "execution_count": null,
      "outputs": [
        {
          "output_type": "execute_result",
          "data": {
            "text/plain": [
              "((3074, 25, 25, 30), (7175, 25, 25, 30), (3074,), (7175,))"
            ]
          },
          "metadata": {
            "tags": []
          },
          "execution_count": 34
        }
      ]
    },
    {
      "cell_type": "markdown",
      "metadata": {
        "id": "UgylPCysakMw"
      },
      "source": [
        "# Model and Training"
      ]
    },
    {
      "cell_type": "code",
      "metadata": {
        "id": "JBCYzB5R9vTW"
      },
      "source": [
        "from tensorflow import keras\n",
        "from keras.layers import Conv2D, Conv3D, Flatten, Dense, Reshape, BatchNormalization\n",
        "from keras.layers import Dropout, Input\n",
        "from keras.models import Model\n",
        "from keras.optimizers import Adam\n",
        "from keras.callbacks import ModelCheckpoint\n",
        "from keras.utils import np_utils"
      ],
      "execution_count": null,
      "outputs": []
    },
    {
      "cell_type": "code",
      "metadata": {
        "colab": {
          "base_uri": "https://localhost:8080/"
        },
        "id": "UFTAdwf5akMw",
        "outputId": "3addf519-b1c3-45bc-a72f-60c44775fe41"
      },
      "source": [
        "Xtrain = Xtrain.reshape(-1, windowSize, windowSize, K, 1)\n",
        "Xtrain.shape"
      ],
      "execution_count": null,
      "outputs": [
        {
          "output_type": "execute_result",
          "data": {
            "text/plain": [
              "(3074, 25, 25, 30, 1)"
            ]
          },
          "metadata": {
            "tags": []
          },
          "execution_count": 15
        }
      ]
    },
    {
      "cell_type": "code",
      "metadata": {
        "colab": {
          "base_uri": "https://localhost:8080/"
        },
        "id": "IjTNTe-cakMw",
        "outputId": "ca510343-6de3-475e-a020-8c697c033bfa"
      },
      "source": [
        "ytrain = np_utils.to_categorical(ytrain)\n",
        "ytrain.shape"
      ],
      "execution_count": null,
      "outputs": [
        {
          "output_type": "execute_result",
          "data": {
            "text/plain": [
              "(3074, 16)"
            ]
          },
          "metadata": {
            "tags": []
          },
          "execution_count": 16
        }
      ]
    },
    {
      "cell_type": "code",
      "metadata": {
        "id": "1JwQ96B9akMx"
      },
      "source": [
        "S = windowSize\n",
        "L = K\n",
        "output_units = 9 if (dataset == 'PU' or dataset == 'PC') else 16"
      ],
      "execution_count": null,
      "outputs": []
    },
    {
      "cell_type": "code",
      "metadata": {
        "colab": {
          "base_uri": "https://localhost:8080/"
        },
        "id": "aQrD4-NsakMy",
        "outputId": "28e55666-9677-48fd-af55-e03e3cc304f1"
      },
      "source": [
        "## input layer\n",
        "input_layer = Input((S, S, L, 1))\n",
        " \n",
        "## convolutional layers\n",
        "conv_layer1 = Conv3D(filters=8, kernel_size=(3, 3, 7), activation='relu')(input_layer)\n",
        "conv_layer2 = Conv3D(filters=16, kernel_size=(3, 3, 5), activation='relu')(conv_layer1)\n",
        "conv_layer3 = Conv3D(filters=32, kernel_size=(3, 3, 3), activation='relu')(conv_layer2)\n",
        "print(conv_layer3.shape)\n",
        "conv3d_shape = conv_layer3.shape\n",
        "conv_layer3 = Reshape((conv3d_shape[1], conv3d_shape[2], conv3d_shape[3]*conv3d_shape[4]))(conv_layer3)\n",
        "conv_layer4 = Conv2D(filters=64, kernel_size=(3,3), activation='relu')(conv_layer3)\n",
        " \n",
        "flatten_layer = Flatten()(conv_layer4)\n",
        " \n",
        "## fully connected layers\n",
        "dense_layer1 = Dense(units=256, activation='relu')(flatten_layer)\n",
        "dense_layer1 = Dropout(0.4)(dense_layer1)\n",
        "dense_layer2 = Dense(units=128, activation='relu')(dense_layer1)\n",
        "dense_layer2 = Dropout(0.4)(dense_layer2)\n",
        "output_layer = Dense(units=output_units, activation='softmax')(dense_layer2)\n",
        " \n",
        "# define the model with input layer and output layer\n",
        "model = Model(inputs=input_layer, outputs=output_layer)\n",
        "model.summary()"
      ],
      "execution_count": null,
      "outputs": [
        {
          "output_type": "stream",
          "text": [
            "(None, 19, 19, 18, 32)\n",
            "Model: \"model\"\n",
            "_________________________________________________________________\n",
            "Layer (type)                 Output Shape              Param #   \n",
            "=================================================================\n",
            "input_1 (InputLayer)         [(None, 25, 25, 30, 1)]   0         \n",
            "_________________________________________________________________\n",
            "conv3d (Conv3D)              (None, 23, 23, 24, 8)     512       \n",
            "_________________________________________________________________\n",
            "conv3d_1 (Conv3D)            (None, 21, 21, 20, 16)    5776      \n",
            "_________________________________________________________________\n",
            "conv3d_2 (Conv3D)            (None, 19, 19, 18, 32)    13856     \n",
            "_________________________________________________________________\n",
            "reshape (Reshape)            (None, 19, 19, 576)       0         \n",
            "_________________________________________________________________\n",
            "conv2d (Conv2D)              (None, 17, 17, 64)        331840    \n",
            "_________________________________________________________________\n",
            "flatten (Flatten)            (None, 18496)             0         \n",
            "_________________________________________________________________\n",
            "dense (Dense)                (None, 256)               4735232   \n",
            "_________________________________________________________________\n",
            "dropout (Dropout)            (None, 256)               0         \n",
            "_________________________________________________________________\n",
            "dense_1 (Dense)              (None, 128)               32896     \n",
            "_________________________________________________________________\n",
            "dropout_1 (Dropout)          (None, 128)               0         \n",
            "_________________________________________________________________\n",
            "dense_2 (Dense)              (None, 16)                2064      \n",
            "=================================================================\n",
            "Total params: 5,122,176\n",
            "Trainable params: 5,122,176\n",
            "Non-trainable params: 0\n",
            "_________________________________________________________________\n"
          ],
          "name": "stdout"
        }
      ]
    },
    {
      "cell_type": "code",
      "metadata": {
        "id": "ZZKCuBBwakMz"
      },
      "source": [
        "# compiling the model\n",
        "adam = Adam(lr=0.001, decay=1e-06)\n",
        "model.compile(loss='categorical_crossentropy', optimizer=adam, metrics=['accuracy'])"
      ],
      "execution_count": null,
      "outputs": []
    },
    {
      "cell_type": "code",
      "metadata": {
        "id": "NuVqAkJPakM0"
      },
      "source": [
        "# checkpoint\n",
        "filepath = \"best-model.hdf5\"\n",
        "checkpoint = ModelCheckpoint(filepath, monitor='acc', verbose=1, save_best_only=True, mode='max')\n",
        "callbacks_list = [checkpoint]"
      ],
      "execution_count": null,
      "outputs": []
    },
    {
      "cell_type": "code",
      "metadata": {
        "colab": {
          "base_uri": "https://localhost:8080/"
        },
        "id": "xXLbR7HAakM0",
        "outputId": "7d79dbdd-0d28-4309-81d6-88636b84ecf7"
      },
      "source": [
        "history = model.fit(x=Xtrain, y=ytrain, batch_size=256, epochs=100, callbacks=callbacks_list)"
      ],
      "execution_count": null,
      "outputs": [
        {
          "output_type": "stream",
          "text": [
            "Epoch 1/100\n",
            "13/13 [==============================] - 37s 221ms/step - loss: 2.7106 - accuracy: 0.1352\n",
            "WARNING:tensorflow:Can save best model only with acc available, skipping.\n",
            "Epoch 2/100\n",
            "13/13 [==============================] - 3s 211ms/step - loss: 2.5003 - accuracy: 0.2157\n",
            "WARNING:tensorflow:Can save best model only with acc available, skipping.\n",
            "Epoch 3/100\n",
            "13/13 [==============================] - 3s 212ms/step - loss: 2.2541 - accuracy: 0.2360\n",
            "WARNING:tensorflow:Can save best model only with acc available, skipping.\n",
            "Epoch 4/100\n",
            "13/13 [==============================] - 3s 212ms/step - loss: 2.0085 - accuracy: 0.2893\n",
            "WARNING:tensorflow:Can save best model only with acc available, skipping.\n",
            "Epoch 5/100\n",
            "13/13 [==============================] - 3s 212ms/step - loss: 1.6231 - accuracy: 0.4365\n",
            "WARNING:tensorflow:Can save best model only with acc available, skipping.\n",
            "Epoch 6/100\n",
            "13/13 [==============================] - 3s 212ms/step - loss: 1.3559 - accuracy: 0.5235\n",
            "WARNING:tensorflow:Can save best model only with acc available, skipping.\n",
            "Epoch 7/100\n",
            "13/13 [==============================] - 3s 214ms/step - loss: 1.1053 - accuracy: 0.6012\n",
            "WARNING:tensorflow:Can save best model only with acc available, skipping.\n",
            "Epoch 8/100\n",
            "13/13 [==============================] - 3s 217ms/step - loss: 0.9068 - accuracy: 0.6946\n",
            "WARNING:tensorflow:Can save best model only with acc available, skipping.\n",
            "Epoch 9/100\n",
            "13/13 [==============================] - 3s 215ms/step - loss: 0.4813 - accuracy: 0.8495\n",
            "WARNING:tensorflow:Can save best model only with acc available, skipping.\n",
            "Epoch 10/100\n",
            "13/13 [==============================] - 3s 216ms/step - loss: 0.2190 - accuracy: 0.9358\n",
            "WARNING:tensorflow:Can save best model only with acc available, skipping.\n",
            "Epoch 11/100\n",
            "13/13 [==============================] - 3s 218ms/step - loss: 0.1415 - accuracy: 0.9574\n",
            "WARNING:tensorflow:Can save best model only with acc available, skipping.\n",
            "Epoch 12/100\n",
            "13/13 [==============================] - 3s 217ms/step - loss: 0.0928 - accuracy: 0.9701\n",
            "WARNING:tensorflow:Can save best model only with acc available, skipping.\n",
            "Epoch 13/100\n",
            "13/13 [==============================] - 3s 218ms/step - loss: 0.0745 - accuracy: 0.9798\n",
            "WARNING:tensorflow:Can save best model only with acc available, skipping.\n",
            "Epoch 14/100\n",
            "13/13 [==============================] - 3s 218ms/step - loss: 0.0762 - accuracy: 0.9749\n",
            "WARNING:tensorflow:Can save best model only with acc available, skipping.\n",
            "Epoch 15/100\n",
            "13/13 [==============================] - 3s 219ms/step - loss: 0.0479 - accuracy: 0.9853\n",
            "WARNING:tensorflow:Can save best model only with acc available, skipping.\n",
            "Epoch 16/100\n",
            "13/13 [==============================] - 3s 219ms/step - loss: 0.0423 - accuracy: 0.9902\n",
            "WARNING:tensorflow:Can save best model only with acc available, skipping.\n",
            "Epoch 17/100\n",
            "13/13 [==============================] - 3s 217ms/step - loss: 0.0439 - accuracy: 0.9886\n",
            "WARNING:tensorflow:Can save best model only with acc available, skipping.\n",
            "Epoch 18/100\n",
            "13/13 [==============================] - 3s 219ms/step - loss: 0.0346 - accuracy: 0.9893\n",
            "WARNING:tensorflow:Can save best model only with acc available, skipping.\n",
            "Epoch 19/100\n",
            "13/13 [==============================] - 3s 219ms/step - loss: 0.0278 - accuracy: 0.9929\n",
            "WARNING:tensorflow:Can save best model only with acc available, skipping.\n",
            "Epoch 20/100\n",
            "13/13 [==============================] - 3s 219ms/step - loss: 0.0237 - accuracy: 0.9943\n",
            "WARNING:tensorflow:Can save best model only with acc available, skipping.\n",
            "Epoch 21/100\n",
            "13/13 [==============================] - 3s 221ms/step - loss: 0.0446 - accuracy: 0.9914\n",
            "WARNING:tensorflow:Can save best model only with acc available, skipping.\n",
            "Epoch 22/100\n",
            "13/13 [==============================] - 3s 220ms/step - loss: 0.4249 - accuracy: 0.9181\n",
            "WARNING:tensorflow:Can save best model only with acc available, skipping.\n",
            "Epoch 23/100\n",
            "13/13 [==============================] - 3s 219ms/step - loss: 0.2477 - accuracy: 0.9264\n",
            "WARNING:tensorflow:Can save best model only with acc available, skipping.\n",
            "Epoch 24/100\n",
            "13/13 [==============================] - 3s 219ms/step - loss: 0.0788 - accuracy: 0.9811\n",
            "WARNING:tensorflow:Can save best model only with acc available, skipping.\n",
            "Epoch 25/100\n",
            "13/13 [==============================] - 3s 220ms/step - loss: 0.0518 - accuracy: 0.9798\n",
            "WARNING:tensorflow:Can save best model only with acc available, skipping.\n",
            "Epoch 26/100\n",
            "13/13 [==============================] - 3s 220ms/step - loss: 0.0293 - accuracy: 0.9905\n",
            "WARNING:tensorflow:Can save best model only with acc available, skipping.\n",
            "Epoch 27/100\n",
            "13/13 [==============================] - 3s 221ms/step - loss: 0.0403 - accuracy: 0.9877\n",
            "WARNING:tensorflow:Can save best model only with acc available, skipping.\n",
            "Epoch 28/100\n",
            "13/13 [==============================] - 3s 221ms/step - loss: 0.0381 - accuracy: 0.9893\n",
            "WARNING:tensorflow:Can save best model only with acc available, skipping.\n",
            "Epoch 29/100\n",
            "13/13 [==============================] - 3s 222ms/step - loss: 0.0193 - accuracy: 0.9921\n",
            "WARNING:tensorflow:Can save best model only with acc available, skipping.\n",
            "Epoch 30/100\n",
            "13/13 [==============================] - 3s 222ms/step - loss: 0.0199 - accuracy: 0.9939\n",
            "WARNING:tensorflow:Can save best model only with acc available, skipping.\n",
            "Epoch 31/100\n",
            "13/13 [==============================] - 3s 221ms/step - loss: 0.0127 - accuracy: 0.9972\n",
            "WARNING:tensorflow:Can save best model only with acc available, skipping.\n",
            "Epoch 32/100\n",
            "13/13 [==============================] - 3s 223ms/step - loss: 0.0148 - accuracy: 0.9956\n",
            "WARNING:tensorflow:Can save best model only with acc available, skipping.\n",
            "Epoch 33/100\n",
            "13/13 [==============================] - 3s 222ms/step - loss: 0.0119 - accuracy: 0.9970\n",
            "WARNING:tensorflow:Can save best model only with acc available, skipping.\n",
            "Epoch 34/100\n",
            "13/13 [==============================] - 3s 222ms/step - loss: 0.0119 - accuracy: 0.9973\n",
            "WARNING:tensorflow:Can save best model only with acc available, skipping.\n",
            "Epoch 35/100\n",
            "13/13 [==============================] - 3s 222ms/step - loss: 0.0050 - accuracy: 0.9987\n",
            "WARNING:tensorflow:Can save best model only with acc available, skipping.\n",
            "Epoch 36/100\n",
            "13/13 [==============================] - 3s 223ms/step - loss: 0.0084 - accuracy: 0.9982\n",
            "WARNING:tensorflow:Can save best model only with acc available, skipping.\n",
            "Epoch 37/100\n",
            "13/13 [==============================] - 3s 223ms/step - loss: 0.0062 - accuracy: 0.9989\n",
            "WARNING:tensorflow:Can save best model only with acc available, skipping.\n",
            "Epoch 38/100\n",
            "13/13 [==============================] - 3s 223ms/step - loss: 0.0113 - accuracy: 0.9964\n",
            "WARNING:tensorflow:Can save best model only with acc available, skipping.\n",
            "Epoch 39/100\n",
            "13/13 [==============================] - 3s 225ms/step - loss: 0.0173 - accuracy: 0.9943\n",
            "WARNING:tensorflow:Can save best model only with acc available, skipping.\n",
            "Epoch 40/100\n",
            "13/13 [==============================] - 3s 225ms/step - loss: 0.0104 - accuracy: 0.9971\n",
            "WARNING:tensorflow:Can save best model only with acc available, skipping.\n",
            "Epoch 41/100\n",
            "13/13 [==============================] - 3s 225ms/step - loss: 0.0101 - accuracy: 0.9973\n",
            "WARNING:tensorflow:Can save best model only with acc available, skipping.\n",
            "Epoch 42/100\n",
            "13/13 [==============================] - 3s 225ms/step - loss: 0.0098 - accuracy: 0.9976\n",
            "WARNING:tensorflow:Can save best model only with acc available, skipping.\n",
            "Epoch 43/100\n",
            "13/13 [==============================] - 3s 225ms/step - loss: 0.0142 - accuracy: 0.9957\n",
            "WARNING:tensorflow:Can save best model only with acc available, skipping.\n",
            "Epoch 44/100\n",
            "13/13 [==============================] - 3s 222ms/step - loss: 0.0207 - accuracy: 0.9941\n",
            "WARNING:tensorflow:Can save best model only with acc available, skipping.\n",
            "Epoch 45/100\n",
            "13/13 [==============================] - 3s 224ms/step - loss: 0.0147 - accuracy: 0.9950\n",
            "WARNING:tensorflow:Can save best model only with acc available, skipping.\n",
            "Epoch 46/100\n",
            "13/13 [==============================] - 3s 225ms/step - loss: 0.0066 - accuracy: 0.9983\n",
            "WARNING:tensorflow:Can save best model only with acc available, skipping.\n",
            "Epoch 47/100\n",
            "13/13 [==============================] - 3s 224ms/step - loss: 0.0119 - accuracy: 0.9952\n",
            "WARNING:tensorflow:Can save best model only with acc available, skipping.\n",
            "Epoch 48/100\n",
            "13/13 [==============================] - 3s 224ms/step - loss: 0.0072 - accuracy: 0.9980\n",
            "WARNING:tensorflow:Can save best model only with acc available, skipping.\n",
            "Epoch 49/100\n",
            "13/13 [==============================] - 3s 225ms/step - loss: 0.0063 - accuracy: 0.9978\n",
            "WARNING:tensorflow:Can save best model only with acc available, skipping.\n",
            "Epoch 50/100\n",
            "13/13 [==============================] - 3s 225ms/step - loss: 0.0062 - accuracy: 0.9977\n",
            "WARNING:tensorflow:Can save best model only with acc available, skipping.\n",
            "Epoch 51/100\n",
            "13/13 [==============================] - 3s 225ms/step - loss: 0.0065 - accuracy: 0.9966\n",
            "WARNING:tensorflow:Can save best model only with acc available, skipping.\n",
            "Epoch 52/100\n",
            "13/13 [==============================] - 3s 225ms/step - loss: 0.0024 - accuracy: 0.9996\n",
            "WARNING:tensorflow:Can save best model only with acc available, skipping.\n",
            "Epoch 53/100\n",
            "13/13 [==============================] - 3s 226ms/step - loss: 0.0090 - accuracy: 0.9985\n",
            "WARNING:tensorflow:Can save best model only with acc available, skipping.\n",
            "Epoch 54/100\n",
            "13/13 [==============================] - 3s 225ms/step - loss: 0.0063 - accuracy: 0.9982\n",
            "WARNING:tensorflow:Can save best model only with acc available, skipping.\n",
            "Epoch 55/100\n",
            "13/13 [==============================] - 3s 225ms/step - loss: 0.0152 - accuracy: 0.9961\n",
            "WARNING:tensorflow:Can save best model only with acc available, skipping.\n",
            "Epoch 56/100\n",
            "13/13 [==============================] - 3s 226ms/step - loss: 0.0129 - accuracy: 0.9943\n",
            "WARNING:tensorflow:Can save best model only with acc available, skipping.\n",
            "Epoch 57/100\n",
            "13/13 [==============================] - 3s 227ms/step - loss: 0.0081 - accuracy: 0.9964\n",
            "WARNING:tensorflow:Can save best model only with acc available, skipping.\n",
            "Epoch 58/100\n",
            "13/13 [==============================] - 3s 225ms/step - loss: 0.0067 - accuracy: 0.9977\n",
            "WARNING:tensorflow:Can save best model only with acc available, skipping.\n",
            "Epoch 59/100\n",
            "13/13 [==============================] - 3s 225ms/step - loss: 0.0046 - accuracy: 0.9987\n",
            "WARNING:tensorflow:Can save best model only with acc available, skipping.\n",
            "Epoch 60/100\n",
            "13/13 [==============================] - 3s 226ms/step - loss: 0.0030 - accuracy: 0.9984\n",
            "WARNING:tensorflow:Can save best model only with acc available, skipping.\n",
            "Epoch 61/100\n",
            "13/13 [==============================] - 3s 225ms/step - loss: 0.0020 - accuracy: 0.9996\n",
            "WARNING:tensorflow:Can save best model only with acc available, skipping.\n",
            "Epoch 62/100\n",
            "13/13 [==============================] - 3s 225ms/step - loss: 0.0018 - accuracy: 0.9999\n",
            "WARNING:tensorflow:Can save best model only with acc available, skipping.\n",
            "Epoch 63/100\n",
            "13/13 [==============================] - 3s 225ms/step - loss: 0.0057 - accuracy: 0.9986\n",
            "WARNING:tensorflow:Can save best model only with acc available, skipping.\n",
            "Epoch 64/100\n",
            "13/13 [==============================] - 3s 225ms/step - loss: 0.0037 - accuracy: 0.9985\n",
            "WARNING:tensorflow:Can save best model only with acc available, skipping.\n",
            "Epoch 65/100\n",
            "13/13 [==============================] - 3s 225ms/step - loss: 0.0940 - accuracy: 0.9842\n",
            "WARNING:tensorflow:Can save best model only with acc available, skipping.\n",
            "Epoch 66/100\n",
            "13/13 [==============================] - 3s 225ms/step - loss: 0.0704 - accuracy: 0.9794\n",
            "WARNING:tensorflow:Can save best model only with acc available, skipping.\n",
            "Epoch 67/100\n",
            "13/13 [==============================] - 3s 225ms/step - loss: 0.0403 - accuracy: 0.9917\n",
            "WARNING:tensorflow:Can save best model only with acc available, skipping.\n",
            "Epoch 68/100\n",
            "13/13 [==============================] - 3s 226ms/step - loss: 0.0483 - accuracy: 0.9911\n",
            "WARNING:tensorflow:Can save best model only with acc available, skipping.\n",
            "Epoch 69/100\n",
            "13/13 [==============================] - 3s 225ms/step - loss: 0.0214 - accuracy: 0.9939\n",
            "WARNING:tensorflow:Can save best model only with acc available, skipping.\n",
            "Epoch 70/100\n",
            "13/13 [==============================] - 3s 225ms/step - loss: 0.0097 - accuracy: 0.9983\n",
            "WARNING:tensorflow:Can save best model only with acc available, skipping.\n",
            "Epoch 71/100\n",
            "13/13 [==============================] - 3s 225ms/step - loss: 0.0068 - accuracy: 0.9989\n",
            "WARNING:tensorflow:Can save best model only with acc available, skipping.\n",
            "Epoch 72/100\n",
            "13/13 [==============================] - 3s 224ms/step - loss: 0.0064 - accuracy: 0.9964\n",
            "WARNING:tensorflow:Can save best model only with acc available, skipping.\n",
            "Epoch 73/100\n",
            "13/13 [==============================] - 3s 226ms/step - loss: 0.0073 - accuracy: 0.9976\n",
            "WARNING:tensorflow:Can save best model only with acc available, skipping.\n",
            "Epoch 74/100\n",
            "13/13 [==============================] - 3s 225ms/step - loss: 0.0112 - accuracy: 0.9974\n",
            "WARNING:tensorflow:Can save best model only with acc available, skipping.\n",
            "Epoch 75/100\n",
            "13/13 [==============================] - 3s 226ms/step - loss: 0.0038 - accuracy: 0.9994\n",
            "WARNING:tensorflow:Can save best model only with acc available, skipping.\n",
            "Epoch 76/100\n",
            "13/13 [==============================] - 3s 225ms/step - loss: 0.0099 - accuracy: 0.9983\n",
            "WARNING:tensorflow:Can save best model only with acc available, skipping.\n",
            "Epoch 77/100\n",
            "13/13 [==============================] - 3s 225ms/step - loss: 0.0070 - accuracy: 0.9977\n",
            "WARNING:tensorflow:Can save best model only with acc available, skipping.\n",
            "Epoch 78/100\n",
            "13/13 [==============================] - 3s 226ms/step - loss: 0.0076 - accuracy: 0.9974\n",
            "WARNING:tensorflow:Can save best model only with acc available, skipping.\n",
            "Epoch 79/100\n",
            "13/13 [==============================] - 3s 226ms/step - loss: 0.0046 - accuracy: 0.9975\n",
            "WARNING:tensorflow:Can save best model only with acc available, skipping.\n",
            "Epoch 80/100\n",
            "13/13 [==============================] - 3s 226ms/step - loss: 0.0012 - accuracy: 1.0000\n",
            "WARNING:tensorflow:Can save best model only with acc available, skipping.\n",
            "Epoch 81/100\n",
            "13/13 [==============================] - 3s 225ms/step - loss: 0.0016 - accuracy: 0.9994\n",
            "WARNING:tensorflow:Can save best model only with acc available, skipping.\n",
            "Epoch 82/100\n",
            "13/13 [==============================] - 3s 227ms/step - loss: 0.0083 - accuracy: 0.9984\n",
            "WARNING:tensorflow:Can save best model only with acc available, skipping.\n",
            "Epoch 83/100\n",
            "13/13 [==============================] - 3s 225ms/step - loss: 0.0046 - accuracy: 0.9979\n",
            "WARNING:tensorflow:Can save best model only with acc available, skipping.\n",
            "Epoch 84/100\n",
            "13/13 [==============================] - 3s 225ms/step - loss: 0.0024 - accuracy: 0.9991\n",
            "WARNING:tensorflow:Can save best model only with acc available, skipping.\n",
            "Epoch 85/100\n",
            "13/13 [==============================] - 3s 226ms/step - loss: 0.0040 - accuracy: 0.9981\n",
            "WARNING:tensorflow:Can save best model only with acc available, skipping.\n",
            "Epoch 86/100\n",
            "13/13 [==============================] - 3s 227ms/step - loss: 0.0032 - accuracy: 0.9994\n",
            "WARNING:tensorflow:Can save best model only with acc available, skipping.\n",
            "Epoch 87/100\n",
            "13/13 [==============================] - 3s 224ms/step - loss: 0.0018 - accuracy: 0.9995\n",
            "WARNING:tensorflow:Can save best model only with acc available, skipping.\n",
            "Epoch 88/100\n",
            "13/13 [==============================] - 3s 226ms/step - loss: 0.0085 - accuracy: 0.9976\n",
            "WARNING:tensorflow:Can save best model only with acc available, skipping.\n",
            "Epoch 89/100\n",
            "13/13 [==============================] - 3s 226ms/step - loss: 0.0027 - accuracy: 0.9990\n",
            "WARNING:tensorflow:Can save best model only with acc available, skipping.\n",
            "Epoch 90/100\n",
            "13/13 [==============================] - 3s 226ms/step - loss: 0.0055 - accuracy: 0.9976\n",
            "WARNING:tensorflow:Can save best model only with acc available, skipping.\n",
            "Epoch 91/100\n",
            "13/13 [==============================] - 3s 227ms/step - loss: 9.9853e-04 - accuracy: 1.0000\n",
            "WARNING:tensorflow:Can save best model only with acc available, skipping.\n",
            "Epoch 92/100\n",
            "13/13 [==============================] - 3s 227ms/step - loss: 0.0015 - accuracy: 0.9997\n",
            "WARNING:tensorflow:Can save best model only with acc available, skipping.\n",
            "Epoch 93/100\n",
            "13/13 [==============================] - 3s 226ms/step - loss: 0.0029 - accuracy: 0.9986\n",
            "WARNING:tensorflow:Can save best model only with acc available, skipping.\n",
            "Epoch 94/100\n",
            "13/13 [==============================] - 3s 227ms/step - loss: 7.5570e-04 - accuracy: 0.9998\n",
            "WARNING:tensorflow:Can save best model only with acc available, skipping.\n",
            "Epoch 95/100\n",
            "13/13 [==============================] - 3s 225ms/step - loss: 0.0018 - accuracy: 0.9995\n",
            "WARNING:tensorflow:Can save best model only with acc available, skipping.\n",
            "Epoch 96/100\n",
            "13/13 [==============================] - 3s 225ms/step - loss: 0.0013 - accuracy: 0.9999\n",
            "WARNING:tensorflow:Can save best model only with acc available, skipping.\n",
            "Epoch 97/100\n",
            "13/13 [==============================] - 3s 225ms/step - loss: 0.0044 - accuracy: 0.9992\n",
            "WARNING:tensorflow:Can save best model only with acc available, skipping.\n",
            "Epoch 98/100\n",
            "13/13 [==============================] - 3s 228ms/step - loss: 7.1312e-04 - accuracy: 0.9999\n",
            "WARNING:tensorflow:Can save best model only with acc available, skipping.\n",
            "Epoch 99/100\n",
            "13/13 [==============================] - 3s 227ms/step - loss: 0.0030 - accuracy: 0.9989\n",
            "WARNING:tensorflow:Can save best model only with acc available, skipping.\n",
            "Epoch 100/100\n",
            "13/13 [==============================] - 3s 226ms/step - loss: 0.0014 - accuracy: 0.9998\n",
            "WARNING:tensorflow:Can save best model only with acc available, skipping.\n"
          ],
          "name": "stdout"
        }
      ]
    },
    {
      "cell_type": "code",
      "metadata": {
        "colab": {
          "base_uri": "https://localhost:8080/",
          "height": 335
        },
        "id": "koxoeyZS-GvB",
        "outputId": "f92562dc-5a4b-4f70-e5f4-81630c16b828"
      },
      "source": [
        "#import matplotlib as plt\n",
        "plt.figure(figsize=(7,5))\n",
        "plt.ylim(0, 1.01)\n",
        "plt.grid()\n",
        "plt.plot(history.history['loss'])\n",
        "plt.plot(history.history['accuracy'])\n",
        "plt.ylabel('Loss')\n",
        "plt.xlabel('Epochs')\n",
        "plt.legend(['Training loss','Test accuracy'], loc='upper right')\n",
        "plt.show()"
      ],
      "execution_count": null,
      "outputs": [
        {
          "output_type": "display_data",
          "data": {
            "image/png": "[encoded data removed]",
            "text/plain": [
              "<Figure size 504x360 with 1 Axes>"
            ]
          },
          "metadata": {
            "tags": [],
            "needs_background": "light"
          }
        }
      ]
    },
    {
      "cell_type": "markdown",
      "metadata": {
        "id": "tAxf4dEgakM1"
      },
      "source": [
        "# Validation"
      ]
    },
    {
      "cell_type": "code",
      "metadata": {
        "colab": {
          "base_uri": "https://localhost:8080/"
        },
        "id": "2BEe9c0HakM1",
        "outputId": "e2b97f50-374f-4f40-fc29-afa56609e55e"
      },
      "source": [
        "Xtest = Xtest.reshape(-1, windowSize, windowSize, K, 1)\n",
        "Xtest.shape"
      ],
      "execution_count": null,
      "outputs": [
        {
          "output_type": "execute_result",
          "data": {
            "text/plain": [
              "(7175, 25, 25, 30, 1)"
            ]
          },
          "metadata": {
            "tags": []
          },
          "execution_count": 35
        }
      ]
    },
    {
      "cell_type": "code",
      "metadata": {
        "colab": {
          "base_uri": "https://localhost:8080/"
        },
        "id": "bq0Kj8kXakM2",
        "outputId": "c15bd418-8c04-4651-cfce-b4733efcafa1"
      },
      "source": [
        "ytest = np_utils.to_categorical(ytest)\n",
        "ytest.shape"
      ],
      "execution_count": null,
      "outputs": [
        {
          "output_type": "execute_result",
          "data": {
            "text/plain": [
              "(7175, 16)"
            ]
          },
          "metadata": {
            "tags": []
          },
          "execution_count": 36
        }
      ]
    },
    {
      "cell_type": "code",
      "metadata": {
        "colab": {
          "base_uri": "https://localhost:8080/"
        },
        "id": "TrOZg0bYakM2",
        "outputId": "96b7b3ef-a4f0-4b35-a999-1b3b53be1af6"
      },
      "source": [
        "Y_pred_test = model.predict(Xtest)\n",
        "y_pred_test = np.argmax(Y_pred_test, axis=1)\n",
        "\n",
        "classification = classification_report(np.argmax(ytest, axis=1), y_pred_test)\n",
        "print(classification)"
      ],
      "execution_count": null,
      "outputs": [
        {
          "output_type": "stream",
          "text": [
            "              precision    recall  f1-score   support\n",
            "\n",
            "           0       1.00      0.97      0.98        32\n",
            "           1       1.00      1.00      1.00      1000\n",
            "           2       1.00      1.00      1.00       581\n",
            "           3       0.99      1.00      1.00       166\n",
            "           4       1.00      1.00      1.00       338\n",
            "           5       0.99      1.00      1.00       511\n",
            "           6       1.00      1.00      1.00        20\n",
            "           7       1.00      1.00      1.00       335\n",
            "           8       1.00      0.93      0.96        14\n",
            "           9       1.00      1.00      1.00       680\n",
            "          10       1.00      1.00      1.00      1719\n",
            "          11       0.99      1.00      0.99       415\n",
            "          12       1.00      1.00      1.00       143\n",
            "          13       1.00      1.00      1.00       886\n",
            "          14       0.99      0.99      0.99       270\n",
            "          15       0.97      0.94      0.95        65\n",
            "\n",
            "    accuracy                           1.00      7175\n",
            "   macro avg       1.00      0.99      0.99      7175\n",
            "weighted avg       1.00      1.00      1.00      7175\n",
            "\n"
          ],
          "name": "stdout"
        }
      ]
    },
    {
      "cell_type": "code",
      "metadata": {
        "id": "qVnZvJJyakM2"
      },
      "source": [
        "def AA_andEachClassAccuracy(confusion_matrix):\n",
        "    counter = confusion_matrix.shape[0]\n",
        "    list_diag = np.diag(confusion_matrix)\n",
        "    list_raw_sum = np.sum(confusion_matrix, axis=1)\n",
        "    each_acc = np.nan_to_num(truediv(list_diag, list_raw_sum))\n",
        "    average_acc = np.mean(each_acc)\n",
        "    return each_acc, average_acc"
      ],
      "execution_count": null,
      "outputs": []
    },
    {
      "cell_type": "code",
      "metadata": {
        "id": "E_Fj1BhXakM3"
      },
      "source": [
        "def reports (X_test,y_test,name):\n",
        "    #start = time.time()\n",
        "    Y_pred = model.predict(X_test)\n",
        "    y_pred = np.argmax(Y_pred, axis=1)\n",
        "    #end = time.time()\n",
        "    #print(end - start)\n",
        "    if name == 'IP':\n",
        "        target_names = ['Alfalfa', 'Corn-notill', 'Corn-mintill', 'Corn'\n",
        "                        ,'Grass-pasture', 'Grass-trees', 'Grass-pasture-mowed', \n",
        "                        'Hay-windrowed', 'Oats', 'Soybean-notill', 'Soybean-mintill',\n",
        "                        'Soybean-clean', 'Wheat', 'Woods', 'Buildings-Grass-Trees-Drives',\n",
        "                        'Stone-Steel-Towers']\n",
        "    elif name == 'SA':\n",
        "        target_names = ['Brocoli_green_weeds_1','Brocoli_green_weeds_2','Fallow','Fallow_rough_plow','Fallow_smooth',\n",
        "                        'Stubble','Celery','Grapes_untrained','Soil_vinyard_develop','Corn_senesced_green_weeds',\n",
        "                        'Lettuce_romaine_4wk','Lettuce_romaine_5wk','Lettuce_romaine_6wk','Lettuce_romaine_7wk',\n",
        "                        'Vinyard_untrained','Vinyard_vertical_trellis']\n",
        "    elif name == 'PU':\n",
        "        target_names = ['Asphalt','Meadows','Gravel','Trees', 'Painted metal sheets','Bare Soil','Bitumen',\n",
        "                        'Self-Blocking Bricks','Shadows']\n",
        "    \n",
        "    classification = classification_report(np.argmax(y_test, axis=1), y_pred, target_names=target_names)\n",
        "    oa = accuracy_score(np.argmax(y_test, axis=1), y_pred)\n",
        "    confusion = confusion_matrix(np.argmax(y_test, axis=1), y_pred)\n",
        "    each_acc, aa = AA_andEachClassAccuracy(confusion)\n",
        "    kappa = cohen_kappa_score(np.argmax(y_test, axis=1), y_pred)\n",
        "    score = model.evaluate(X_test, y_test, batch_size=32)\n",
        "    Test_Loss =  score[0]*100\n",
        "    Test_accuracy = score[1]*100\n",
        "    \n",
        "    return classification, confusion, Test_Loss, Test_accuracy, oa*100, each_acc*100, aa*100, kappa*100"
      ],
      "execution_count": null,
      "outputs": []
    },
    {
      "cell_type": "code",
      "metadata": {
        "colab": {
          "base_uri": "https://localhost:8080/"
        },
        "id": "O_-7gqTaakM3",
        "outputId": "f8b66dc2-3fea-485c-d9b5-feb72ccf6bbe"
      },
      "source": [
        "classification, confusion, Test_loss, Test_accuracy, oa, each_acc, aa, kappa = reports(Xtest,ytest,dataset)\n",
        "classification = str(classification)\n",
        "confusion = str(confusion)\n",
        "file_name = \"classification_report.txt\"\n",
        "\n",
        "with open(file_name, 'w') as x_file:\n",
        "    x_file.write('{} Test loss (%)'.format(Test_loss))\n",
        "    x_file.write('\\n')\n",
        "    x_file.write('{} Test accuracy (%)'.format(Test_accuracy))\n",
        "    x_file.write('\\n')\n",
        "    x_file.write('\\n')\n",
        "    x_file.write('{} Kappa accuracy (%)'.format(kappa))\n",
        "    x_file.write('\\n')\n",
        "    x_file.write('{} Overall accuracy (%)'.format(oa))\n",
        "    x_file.write('\\n')\n",
        "    x_file.write('{} Average accuracy (%)'.format(aa))\n",
        "    x_file.write('\\n')\n",
        "    x_file.write('\\n')\n",
        "    x_file.write('{}'.format(classification))\n",
        "    x_file.write('\\n')\n",
        "    x_file.write('{}'.format(confusion))"
      ],
      "execution_count": null,
      "outputs": [
        {
          "output_type": "stream",
          "text": [
            "225/225 [==============================] - 7s 30ms/step - loss: 0.0104 - accuracy: 0.9962\n"
          ],
          "name": "stdout"
        }
      ]
    },
    {
      "cell_type": "code",
      "metadata": {
        "id": "S-OX8FZMakM3"
      },
      "source": [
        "def Patch(data,height_index,width_index):\n",
        "    height_slice = slice(height_index, height_index+PATCH_SIZE)\n",
        "    width_slice = slice(width_index, width_index+PATCH_SIZE)\n",
        "    patch = data[height_slice, width_slice, :]\n",
        "    \n",
        "    return patch"
      ],
      "execution_count": null,
      "outputs": []
    },
    {
      "cell_type": "code",
      "metadata": {
        "id": "TTOAmZOqakM4"
      },
      "source": [
        "# load the original image\n",
        "X, y = loadData(dataset)"
      ],
      "execution_count": null,
      "outputs": []
    },
    {
      "cell_type": "code",
      "metadata": {
        "id": "hoHxOUpYakM4"
      },
      "source": [
        "height = y.shape[0]\n",
        "width = y.shape[1]\n",
        "PATCH_SIZE = windowSize\n",
        "numComponents = K"
      ],
      "execution_count": null,
      "outputs": []
    },
    {
      "cell_type": "code",
      "metadata": {
        "id": "fq_T0sQ7akM4"
      },
      "source": [
        "X,pca = applyPCA(X, numComponents=numComponents)"
      ],
      "execution_count": null,
      "outputs": []
    },
    {
      "cell_type": "code",
      "metadata": {
        "id": "wJZ9jB0ZakM4"
      },
      "source": [
        "X = padWithZeros(X, PATCH_SIZE//2)"
      ],
      "execution_count": null,
      "outputs": []
    },
    {
      "cell_type": "code",
      "metadata": {
        "id": "VTpCC5BQakM4"
      },
      "source": [
        "# calculate the predicted image\n",
        "outputs = np.zeros((height,width))\n",
        "for i in range(height):\n",
        "    for j in range(width):\n",
        "        target = int(y[i,j])\n",
        "        if target == 0 :\n",
        "            continue\n",
        "        else :\n",
        "            image_patch=Patch(X,i,j)\n",
        "            X_test_image = image_patch.reshape(1,image_patch.shape[0],image_patch.shape[1], image_patch.shape[2], 1).astype('float32')                                   \n",
        "            prediction = (model.predict(X_test_image))\n",
        "            prediction = np.argmax(prediction, axis=1)\n",
        "            outputs[i][j] = prediction+1"
      ],
      "execution_count": null,
      "outputs": []
    },
    {
      "cell_type": "code",
      "metadata": {
        "colab": {
          "base_uri": "https://localhost:8080/",
          "height": 431
        },
        "id": "69jjWgjQakM5",
        "outputId": "5d8d9b01-ae79-4a6b-dbdf-b55fa1b073e7"
      },
      "source": [
        "ground_truth = spectral.imshow(classes = y,figsize =(7,7))"
      ],
      "execution_count": null,
      "outputs": [
        {
          "output_type": "display_data",
          "data": {
            "image/png": "[encoded data removed]",
            "text/plain": [
              "<Figure size 504x504 with 1 Axes>"
            ]
          },
          "metadata": {
            "tags": [],
            "needs_background": "light"
          }
        }
      ]
    },
    {
      "cell_type": "code",
      "metadata": {
        "colab": {
          "base_uri": "https://localhost:8080/",
          "height": 431
        },
        "id": "DCiPQgjSakM5",
        "outputId": "2a0ac4f3-548d-4b46-c591-eb4be74e52ea"
      },
      "source": [
        "predict_image = spectral.imshow(classes = outputs.astype(int),figsize =(7,7))"
      ],
      "execution_count": null,
      "outputs": [
        {
          "output_type": "display_data",
          "data": {
            "image/png": "[encoded data removed]",
            "text/plain": [
              "<Figure size 504x504 with 1 Axes>"
            ]
          },
          "metadata": {
            "tags": [],
            "needs_background": "light"
          }
        }
      ]
    },
    {
      "cell_type": "code",
      "metadata": {
        "id": "dGBTejqcakM5"
      },
      "source": [
        "spectral.save_rgb(\"predictions.jpg\", outputs.astype(int), colors=spectral.spy_colors)"
      ],
      "execution_count": null,
      "outputs": []
    }
  ]
}
