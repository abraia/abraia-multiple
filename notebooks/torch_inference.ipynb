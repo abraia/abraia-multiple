{
  "cells": [
    {
      "cell_type": "code",
      "execution_count": null,
      "metadata": {
        "cellView": "form",
        "id": "vlu1ATx-bOzg"
      },
      "outputs": [],
      "source": [
        "%%capture\n",
        "!python -m pip install abraia\n",
        "\n",
        "import os\n",
        "if not os.getenv('ABRAIA_ID') and not os.getenv('ABRAIA_KEY'):\n",
        "    #@markdown <a href=\"https://abraia.me/console/gallery\" target=\"_blank\">Upload and manage your images</a>\n",
        "    abraia_id = ''  #@param {type: \"string\"}\n",
        "    abraia_key = ''  #@param {type: \"string\"}\n",
        "    %env ABRAIA_ID=$abraia_id\n",
        "    %env ABRAIA_KEY=$abraia_key"
      ]
    },
    {
      "cell_type": "code",
      "execution_count": null,
      "metadata": {
        "id": "eqXbL2a5fkSt"
      },
      "outputs": [],
      "source": [
        "from abraia.torch import load_classes, load_model\n",
        "\n",
        "dataset = 'hymenoptera_data'\n",
        "\n",
        "class_names = load_classes(os.path.join(dataset, 'model_ft.txt'))\n",
        "model = load_model(os.path.join(dataset, 'model_ft.pt'), class_names)\n",
        "# model.eval()"
      ]
    },
    {
      "cell_type": "code",
      "execution_count": null,
      "metadata": {
        "colab": {
          "base_uri": "https://localhost:8080/"
        },
        "id": "SsGmZXtlC7Jg",
        "outputId": "6291cc72-dc5c-4c8a-c10b-1372e03140a7"
      },
      "outputs": [
        {
          "name": "stdout",
          "output_type": "stream",
          "text": [
            "dogs 0.9997120499610901\n",
            "[('dogs', 0.9997120499610901), ('ants', 0.00015750189777463675), ('bees', 7.2314782300964e-05), ('cats', 5.8050783991348e-05)]\n"
          ]
        }
      ],
      "source": [
        "import torch\n",
        "from abraia.torch import read_image, transform\n",
        "\n",
        "img = read_image(os.path.join(dataset, 'dog.jpg'))\n",
        "\n",
        "batch = transform(img).unsqueeze(0)\n",
        "prediction = model(batch).squeeze(0).softmax(0)\n",
        "class_id = prediction.argmax().item()\n",
        "score = prediction[class_id].item()\n",
        "print(class_names[class_id], score)\n",
        "\n",
        "_, indices = torch.sort(prediction, descending=True)\n",
        "print([(class_names[idx], prediction[idx].item()) for idx in indices])"
      ]
    }
  ],
  "metadata": {
    "colab": {
      "collapsed_sections": [],
      "provenance": []
    },
    "kernelspec": {
      "display_name": "Python 3",
      "name": "python3"
    },
    "language_info": {
      "name": "python"
    }
  },
  "nbformat": 4,
  "nbformat_minor": 0
}
